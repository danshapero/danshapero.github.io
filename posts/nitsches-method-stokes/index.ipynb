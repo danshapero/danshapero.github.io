{
 "cells": [
  {
   "cell_type": "markdown",
   "metadata": {},
   "source": [
    "In a previous post, we saw how to enforce Dirichlet boundary conditions for the Poisson equation using Nitsche's method instead of the usual elimination-based approach.\n",
    "For other problems, elimination doesn't work because the Dirichlet boundary conditions involve, say, a linear combination \n",
    "of the solution degrees of freedom.\n",
    "In this post we'll look at enforcing *friction* boundary conditions for Stokes flow.\n",
    "Friction boundary conditions are a little exotic, and the elimination approach is no longer feasible.\n",
    "Consequently we have no choice but to use the penalty method or Nitsche's method.\n",
    "\n",
    "The [Stokes equations](https://en.wikipedia.org/wiki/Stokes_flow) are what you get when you assume a fluid flows so slowly that acceleration is negligible.\n",
    "The fields we are solving for are the velocity $u$ and presure $p$.\n",
    "In a previous post, I showed that the Stokes equations can be derived from a variational principle.\n",
    "The objective for the Stokes equations is the rate of decrease of the *Gibbs free energy*:\n",
    "\n",
    "$$\\dot{\\mathscr{G}}(u, p) = \\int_\\Omega\\left(\\frac{1}{2}\\tau : \\dot\\varepsilon - p\\nabla\\cdot u - f\\cdot u\\right)dx,$$\n",
    "\n",
    "where\n",
    "\n",
    "$$\\dot\\varepsilon(u) = \\frac{1}{2}(\\nabla u + \\nabla u^*)$$\n",
    "\n",
    "is the strain rate tensor and, for a Newtonian fluid,\n",
    "\n",
    "$$\\tau = 2\\mu\\dot\\varepsilon$$\n",
    "\n",
    "is the stress tensor.\n",
    "The fact that the Stokes equations have a variational principle at all can be viewed as a consequence of the [Onsager reciprocity relation](https://en.wikipedia.org/wiki/Onsager_reciprocal_relations), a fairly deep result in non-equilibrium statistical mechanics.\n",
    "\n",
    "The Stokes equations are a constrained optimization problem and this makes them much harder to solve than unconstrained ones, like the Poisson equation.\n",
    "In the previous post, we showed some approaches for how to solve the linear sytems we get from discretizing the Stokes equations.\n",
    "Here we'll use all of this knowledge to see how we can solve the Stokes equations with an unusual set of boundary conditions."
   ]
  },
  {
   "cell_type": "markdown",
   "metadata": {},
   "source": [
    "### Friction boundary conditions\n",
    "\n",
    "For most fluid flow problems we assume that the velocity is fixed to some value $u_\\Gamma$ around the boundary of the domain.\n",
    "I make a living modeling the flow of glaciers and this subject throws an interesting curveball in the form of ice sliding.\n",
    "The speed of glacier sliding over bedrock isn't fixed to some predetermined value; instead, the sliding speed is determined by frictional resistance, which is itself a function of the sliding speed.\n",
    "Deformable water-laden sediments offer very little resistance at all, while a hard crystalline bedrock has a lot of surface roughness and thus a high friction coefficient.\n",
    "How should we enforce this boundary condition in practical computations?\n",
    "\n",
    "The friction boundary condition for Stokes flow is\n",
    "\n",
    "$$(I - n\\otimes n)\\tau\\cdot n = -\\kappa(I - n\\otimes n)(u - u_\\Gamma),$$\n",
    "\n",
    "where $n$ is the unit outward normal vector, $I$ is the identity matrix, and $\\kappa$ is the drag coefficient.\n",
    "The extra factors of $I - n\\otimes n$ restrict everything to the plane tangential to the boundary.\n",
    "We're going to have to write it so often that it's worth introducing the shorthand\n",
    "\n",
    "$$\\Pi v = (I - n\\otimes n)v$$\n",
    "\n",
    "to denote the projection $\\Pi$ of a direction vector onto the tangent plane to the surface $\\Gamma$.\n",
    "\n",
    "In the perpendicular direction, the fluid velocity is 0:\n",
    "\n",
    "$$u\\cdot n = 0$$\n",
    "\n",
    "which represents the fact that material can't leave the domain.\n",
    "Collectively, these are a Robin boundary condition in the tangential direction and a Dirichlet condition in the normal direction.\n",
    "The action functional with friction boundary conditions is\n",
    "\n",
    "$$\\dot{\\mathscr{G}} = \\int_\\Omega\\left(\\frac{1}{2}\\tau:\\dot\\varepsilon - p\\nabla\\cdot u - f\\cdot u\\right)dx + \\frac{1}{2}\\int_{\\partial\\Omega}\\kappa(u - u_\\Gamma)\\cdot\\Pi(u - u_\\Gamma)ds.$$\n",
    "\n",
    "We haven't addressed the Dirichlet BC, which is difficult to enforce directly. \n",
    "The normal vector $n$ is defined on mesh faces, while for many common finite elements the velocities $u$ are defined on mesh vertices and other facets.\n",
    "\n",
    "One interesting thing to look at from a physics perspective is that the introduction of the friction coefficient now gives us more dimensionless numbers besides the Reynolds number $\\text{Re} = \\rho UL / \\mu$.\n",
    "The viscosity coefficient has units of stress $\\times$ time, while the friction coefficient has units of stress $\\times$ time $\\times$ length${}^{-1}$.\n",
    "From these two coefficients we can form a new length scale\n",
    "\n",
    "$$\\ell = \\mu / \\kappa$$\n",
    "\n",
    "which is completely independent of the domain size $L$.\n",
    "We can then define a new dimensionless number $\\ell / L$.\n",
    "You can think of $\\ell$ as a length scale over which the velocity in the interior adjusts to the velocity at the boundary.\n",
    "As $\\kappa \\to \\infty$, our friction boundary condition looks more and more like a Dirichlet boundary condition.\n",
    "For the following, we'll choose the friction coefficient so that this ratio is about equal to 1, but it's a fun experiment to see what happens as you make it larger or smaller."
   ]
  },
  {
   "cell_type": "markdown",
   "metadata": {},
   "source": [
    "### The Lagrange multiplier\n",
    "\n",
    "For the Poisson equation, introducing a Lagrange multiplier on the boundary did not give a feasible numerical method and the Stokes equations are no different.\n",
    "Nonetheless, we were able to explicitly describe the boundary Lagrange multiplier and this was necessary to figure out the correct form of the Nitsche functional.\n",
    "Let's try the same thing with the Stokes equations.\n",
    "The Lagrangian functional that incorporates the no-penetration constraint is\n",
    "\n",
    "$$\\mathscr{L}(u, p, \\lambda) = \\dot{\\mathscr{G}} - \\int_{\\partial\\Omega}\\lambda u\\cdot n\\; ds.$$\n",
    "\n",
    "The differential of the Lagrangian along a velocity $v$ is\n",
    "\n",
    "$$\\begin{align}\n",
    "\\left\\langle\\frac{\\partial\\mathscr{L}}{\\partial u}, v\\right\\rangle & = \\int_\\Omega\\left(2\\mu\\dot\\varepsilon(u):\\dot\\varepsilon(v) - p\\nabla\\cdot v - f\\cdot v\\right)dx \\\\\n",
    "& \\quad + \\int_{\\partial\\Omega}\\kappa(u - u_\\Gamma)\\cdot\\Pi v\\; ds - \\int_{\\partial\\Omega}\\lambda v\\cdot n\\; ds.\n",
    "\\end{align}$$\n",
    "\n",
    "We'll pursue the same strategy as before: push the derivatives of $v$ over onto $u$ assuming a strong solution exists, then collect boundary terms.\n",
    "This time we've got more than one direction to work with and that'll force us to be a bit more creative.\n",
    "\n",
    "First, using Green's theorem and assuming $u$ and $p$ are nice enough, the last equation is\n",
    "\n",
    "$$\\ldots = \\int_\\Omega\\left(-\\nabla\\cdot\\tau + \\nabla p - f\\right)\\cdot v\\; dx + \\int_{\\partial\\Omega}\\left\\{(\\tau - pI)\\cdot n + \\kappa\\Pi(u - u_\\Gamma) - \\lambda n\\right\\}\\cdot v\\; ds$$\n",
    "\n",
    "where we've used the definition of the deviatoric stress tensor.\n",
    "To continue, we'll decompose $v$ into a normal and a tangential component:\n",
    "\n",
    "$$v = (v\\cdot n)n + \\Pi v$$\n",
    "\n",
    "and use the fact that the inner product of a vector normal to the boundary with a tangential vector is zero.\n",
    "The boundary integral then becomes\n",
    "\n",
    "$$\\int_{\\partial\\Omega}\\cdots ds = \\int_{\\partial\\Omega}\\left\\{n\\cdot(\\tau - pI)n - \\lambda\\right\\}v\\cdot n\\; ds + \\int_{\\partial\\Omega}\\left(\\tau\\cdot n + \\kappa(u - u_\\Gamma)\\right)\\cdot\\Pi v\\; ds.$$\n",
    "\n",
    "In order for $u$, $p$, and $\\lambda$ to be a critical point of the Lagrangian, we need all of these terms to be zero.\n",
    "As expected, we recover the friction boundary condition\n",
    "\n",
    "$$\\Pi\\tau\\cdot n = -\\kappa\\Pi(u - u_\\Gamma),$$\n",
    "\n",
    "but we also get an exact expression for the Lagrange multiplier:\n",
    "\n",
    "$$\\lambda = n\\cdot(\\tau - pI)n.$$\n",
    "\n",
    "We can also recognize that the full (not deviatoric) stress tensor $\\sigma$ is defined as $\\sigma = \\tau - pI$, in which case the last expression can be rewritten as\n",
    "\n",
    "$$\\lambda = n\\cdot\\sigma n.$$\n",
    "\n",
    "In other words, the Lagrange multiplier is just the normal stress!"
   ]
  },
  {
   "cell_type": "markdown",
   "metadata": {},
   "source": [
    "### Nitsche's method\n",
    "\n",
    "The Nitsche functional for our problem is defined the same way as for the Poisson problem -- you substitute the expression for $\\lambda$ into the augmented Lagrangian:\n",
    "\n",
    "$$\\dot{\\mathscr{G}}_\\gamma(u, p) = \\dot{\\mathscr{G}} - \\int_{\\partial\\Omega}(n\\cdot\\sigma n)(u\\cdot n)ds + \\int_{\\partial\\Omega}\\frac{\\gamma\\kappa}{2h}(u\\cdot n)^2ds.$$\n",
    "\n",
    "From here the derivation for how big $\\gamma$ needs to be follows the exact same steps as for the Poisson equation.\n",
    "First, the middle term is broken up into the weighted mean square normal stress and the mean square normal velocity using the Peter-Paul inequality.\n",
    "Then we control the boundary stress in terms of the interior stress dissipation using the inverse inequality, only for tensors instead of vectors this time.\n",
    "From the explicit expression for the constant in the inverse inequality we can then determine just how big the penalty needs to be.\n",
    "The only difference is that, for the Poisson equation, there were $d$ vector components of the gradient, so we had to multiply the inverse inequality constant by $d$; in our case, there are $d^2$ components of the strain rate tensor.\n",
    "This argument gives\n",
    "\n",
    "$$\\gamma = 2\\alpha^{-2}\\cdot d\\cdot p\\cdot (d + p - 1)\\cdot\\sec\\theta\\cdot\\cot\\frac{\\theta}{2}.$$\n",
    "\n",
    "Let's see how well this works on a real example."
   ]
  },
  {
   "cell_type": "markdown",
   "metadata": {},
   "source": [
    "### Geometry\n",
    "\n",
    "We'll use the same domain as the previous example -- a circle of radius 1 with two circles of radius 1/8 removed from it."
   ]
  },
  {
   "cell_type": "code",
   "execution_count": 1,
   "metadata": {
    "execution": {
     "iopub.execute_input": "2022-02-22T22:25:59.470916Z",
     "iopub.status.busy": "2022-02-22T22:25:59.469892Z",
     "iopub.status.idle": "2022-02-22T22:25:59.544751Z",
     "shell.execute_reply": "2022-02-22T22:25:59.544081Z"
    }
   },
   "outputs": [],
   "source": [
    "import numpy as np\n",
    "from numpy import pi as π\n",
    "def add_ellipse(geometry, x, y, a, b, N, lcar):\n",
    "    θs = np.array([2 * π * n / N for n in range(N)])\n",
    "    xs, ys = x + a * np.cos(θs), y + b * np.sin(θs)\n",
    "    points = [geometry.add_point([x, y, 0], lcar=lcar) for x, y in zip(xs, ys)]\n",
    "    lines = [geometry.add_line(points[n], points[(n + 1) % N])\n",
    "             for n in range(N)]\n",
    "\n",
    "    geometry.add_physical(lines)\n",
    "    line_loop = geometry.add_line_loop(lines)\n",
    "    return line_loop"
   ]
  },
  {
   "cell_type": "code",
   "execution_count": 2,
   "metadata": {
    "execution": {
     "iopub.execute_input": "2022-02-22T22:25:59.550066Z",
     "iopub.status.busy": "2022-02-22T22:25:59.549704Z",
     "iopub.status.idle": "2022-02-22T22:26:00.147375Z",
     "shell.execute_reply": "2022-02-22T22:26:00.145826Z"
    }
   },
   "outputs": [],
   "source": [
    "import pygmsh\n",
    "geometry = pygmsh.built_in.Geometry()\n",
    "\n",
    "outer_line_loop = add_ellipse(geometry, x=0, y=0, a=1, b=1, N=128, lcar=1/4)\n",
    "inner_loops = [\n",
    "    add_ellipse(geometry, x=0, y=+1/2, a=1/8, b=1/8, N=64, lcar=1/4),\n",
    "    add_ellipse(geometry, x=0, y=-1/2, a=1/8, b=1/8, N=64, lcar=1/4)\n",
    "]\n",
    "\n",
    "plane_surface = geometry.add_plane_surface(outer_line_loop, inner_loops)\n",
    "geometry.add_physical(plane_surface)\n",
    "\n",
    "with open('mixer.geo', 'w') as geo_file:\n",
    "    geo_file.write(geometry.get_code())\n",
    "    \n",
    "!gmsh -2 -format msh2 -v 0 -o mixer.msh mixer.geo"
   ]
  },
  {
   "cell_type": "code",
   "execution_count": 3,
   "metadata": {
    "execution": {
     "iopub.execute_input": "2022-02-22T22:26:00.154112Z",
     "iopub.status.busy": "2022-02-22T22:26:00.153815Z",
     "iopub.status.idle": "2022-02-22T22:26:02.922145Z",
     "shell.execute_reply": "2022-02-22T22:26:02.921224Z"
    }
   },
   "outputs": [],
   "source": [
    "import firedrake\n",
    "mesh = firedrake.Mesh('mixer.msh')"
   ]
  },
  {
   "cell_type": "markdown",
   "metadata": {},
   "source": [
    "We have to do a bit of extra work to calculate the minimum angle of a mesh cell."
   ]
  },
  {
   "cell_type": "code",
   "execution_count": 4,
   "metadata": {
    "execution": {
     "iopub.execute_input": "2022-02-22T22:26:02.927853Z",
     "iopub.status.busy": "2022-02-22T22:26:02.927431Z",
     "iopub.status.idle": "2022-02-22T22:26:04.722459Z",
     "shell.execute_reply": "2022-02-22T22:26:04.721072Z"
    }
   },
   "outputs": [],
   "source": [
    "from numpy.linalg import norm\n",
    "\n",
    "def minimum_angle(mesh):\n",
    "    coords = mesh.coordinates.dat.data_ro\n",
    "    cells = mesh.coordinates.cell_node_map().values\n",
    "\n",
    "    if not ((mesh.cell_dimension() == 2) and\n",
    "            mesh.is_piecewise_linear_simplex_domain()):\n",
    "        raise ValueError(\"Only works on 2D triangular mesh!\")\n",
    "\n",
    "    min_angle = np.inf\n",
    "    for cell in cells:\n",
    "        for k in range(3):\n",
    "            x, y, z = coords[np.roll(cell, k)]\n",
    "            ζ, ξ = y - x, z - x\n",
    "            angle = np.arccos(np.inner(ζ, ξ) / (norm(ζ) * norm(ξ)))\n",
    "            min_angle = min(angle, min_angle)\n",
    "\n",
    "    return min_angle\n",
    "\n",
    "θ = minimum_angle(mesh)"
   ]
  },
  {
   "cell_type": "markdown",
   "metadata": {},
   "source": [
    "Just like in the previous example, we'll set the velocity on the outer boundary to be 0, while the inner two circles are rotating with a fixed speed of 1."
   ]
  },
  {
   "cell_type": "code",
   "execution_count": 5,
   "metadata": {
    "execution": {
     "iopub.execute_input": "2022-02-22T22:26:04.726629Z",
     "iopub.status.busy": "2022-02-22T22:26:04.726370Z",
     "iopub.status.idle": "2022-02-22T22:26:04.737666Z",
     "shell.execute_reply": "2022-02-22T22:26:04.736058Z"
    }
   },
   "outputs": [],
   "source": [
    "from firedrake import Constant, as_vector\n",
    "x = firedrake.SpatialCoordinate(mesh)\n",
    "\n",
    "x2 = Constant((0, +1/2))\n",
    "r2 = Constant(1/8)\n",
    "x3 = Constant((0, -1/2))\n",
    "r3 = Constant(1/8)\n",
    "\n",
    "q2 = (x - x2) / r2\n",
    "q3 = (x - x3) / r3\n",
    "\n",
    "u_Γ = (\n",
    "    as_vector((0., 0.)),\n",
    "    as_vector((-q2[1], q2[0])),\n",
    "    as_vector((-q3[1], q3[0]))\n",
    ")"
   ]
  },
  {
   "cell_type": "markdown",
   "metadata": {},
   "source": [
    "### Solution\n",
    "\n",
    "Now we can define our problem in much the same way as the last demo.\n",
    "We'll use the same function spaces, viscosity, and solver parameters."
   ]
  },
  {
   "cell_type": "code",
   "execution_count": 6,
   "metadata": {
    "execution": {
     "iopub.execute_input": "2022-02-22T22:26:04.742996Z",
     "iopub.status.busy": "2022-02-22T22:26:04.742201Z",
     "iopub.status.idle": "2022-02-22T22:26:04.874024Z",
     "shell.execute_reply": "2022-02-22T22:26:04.873310Z"
    }
   },
   "outputs": [],
   "source": [
    "Q = firedrake.FunctionSpace(mesh, family='CG', degree=1)\n",
    "V = firedrake.VectorFunctionSpace(mesh, family='CG', degree=2)\n",
    "Z = V * Q"
   ]
  },
  {
   "cell_type": "markdown",
   "metadata": {},
   "source": [
    "Knowing the minimum angle of the mesh, the spatial dimension, and the polynomial degree for the velocity space, we can calculate the penalty parameter for Nitsche's method with no manual tuning at all."
   ]
  },
  {
   "cell_type": "code",
   "execution_count": 7,
   "metadata": {
    "execution": {
     "iopub.execute_input": "2022-02-22T22:26:04.878596Z",
     "iopub.status.busy": "2022-02-22T22:26:04.878355Z",
     "iopub.status.idle": "2022-02-22T22:26:04.884500Z",
     "shell.execute_reply": "2022-02-22T22:26:04.883611Z"
    }
   },
   "outputs": [],
   "source": [
    "k, d = 2, 2\n",
    "η = 2 * d * k * (k + d - 1) / np.cos(θ) / np.tan(θ / 2)"
   ]
  },
  {
   "cell_type": "markdown",
   "metadata": {},
   "source": [
    "And here we'll set the physical parameters for the problem.\n",
    "For the Stokes equations to be reasonable, we need a much larger viscosity than the product of the domain size and the characteristic speed, so we're using $\\mu = 10^3$.\n",
    "We've also chosen a value of the friction coefficient $\\kappa$ so that the ratio of the frictional length scale to the domain size is roughly equal to 2."
   ]
  },
  {
   "cell_type": "code",
   "execution_count": 8,
   "metadata": {
    "execution": {
     "iopub.execute_input": "2022-02-22T22:26:04.888771Z",
     "iopub.status.busy": "2022-02-22T22:26:04.888328Z",
     "iopub.status.idle": "2022-02-22T22:26:04.907563Z",
     "shell.execute_reply": "2022-02-22T22:26:04.906921Z"
    }
   },
   "outputs": [],
   "source": [
    "from firedrake import (\n",
    "    inner, grad, dx, ds, sym, div, derivative,\n",
    "    MixedVectorSpaceBasis, VectorSpaceBasis, DirichletBC\n",
    ")\n",
    "\n",
    "def ε(u):\n",
    "    return sym(grad(u))\n",
    "\n",
    "h = firedrake.CellSize(mesh)\n",
    "n = firedrake.FacetNormal(mesh)\n",
    "\n",
    "μ = Constant(1e3)\n",
    "L = Constant(2.)\n",
    "κ = Constant(2. * μ / L)"
   ]
  },
  {
   "cell_type": "markdown",
   "metadata": {},
   "source": [
    "The objective functional has more parts than before, so to make the algebra more tractable we'll make separate variables for each summand."
   ]
  },
  {
   "cell_type": "code",
   "execution_count": 9,
   "metadata": {
    "execution": {
     "iopub.execute_input": "2022-02-22T22:26:04.911532Z",
     "iopub.status.busy": "2022-02-22T22:26:04.911313Z",
     "iopub.status.idle": "2022-02-22T22:26:04.931133Z",
     "shell.execute_reply": "2022-02-22T22:26:04.929990Z"
    }
   },
   "outputs": [],
   "source": [
    "z = firedrake.Function(Z)\n",
    "u, p = firedrake.split(z)\n",
    "\n",
    "u_n = inner(u, n)\n",
    "Πu = u - u_n * n\n",
    "\n",
    "I = firedrake.Identity(2)\n",
    "σ_n = inner(n, (2 * μ * ε(u) - p * I) * n)\n",
    "\n",
    "Ġ_viscous = μ * inner(ε(u), ε(u)) * dx\n",
    "Ġ_pressure = p * div(u) * dx\n",
    "\n",
    "Ġ_friction = 0.5 * κ * sum([inner(Πu - u_γ, Πu - u_γ) * ds(index)\n",
    "                            for u_γ, index in zip(u_Γ, [1, 2, 3])])\n",
    "Ġ_lagrange = σ_n * u_n * ds\n",
    "Ġ_penalty = 0.5 * η * μ / h * u_n**2 * ds\n",
    "Ġ = Ġ_viscous - Ġ_pressure + Ġ_friction - Ġ_lagrange + Ġ_penalty"
   ]
  },
  {
   "cell_type": "markdown",
   "metadata": {},
   "source": [
    "The solver parameters specify a direct factorization with MUMPS, which works well for 2D problems but less so for large 3D ones."
   ]
  },
  {
   "cell_type": "code",
   "execution_count": 10,
   "metadata": {
    "execution": {
     "iopub.execute_input": "2022-02-22T22:26:04.936872Z",
     "iopub.status.busy": "2022-02-22T22:26:04.936066Z",
     "iopub.status.idle": "2022-02-22T22:27:00.885510Z",
     "shell.execute_reply": "2022-02-22T22:27:00.884622Z"
    }
   },
   "outputs": [],
   "source": [
    "parameters = {\n",
    "    'mat_type': 'aij',\n",
    "    'ksp_type': 'preonly',\n",
    "    'pc_type': 'lu',\n",
    "    'pc_factor_mat_solver_type': 'mumps'\n",
    "}\n",
    "\n",
    "basis = VectorSpaceBasis(constant=True)\n",
    "nullspace = MixedVectorSpaceBasis(Z, [Z.sub(0), basis])\n",
    "\n",
    "firedrake.solve(\n",
    "    derivative(Ġ, z) == 0, z,\n",
    "    nullspace=nullspace,\n",
    "    solver_parameters=parameters\n",
    ")\n",
    "\n",
    "u, p = z.split()"
   ]
  },
  {
   "cell_type": "markdown",
   "metadata": {},
   "source": [
    "Finally we can plot the results.\n",
    "Compared to the outcome in the last demo where we fixed the velocity around the boundaries, the counter-rotating vortices to either side of the hyperbolic fixed point at the origin have vanished.\n",
    "If we increase the friction coefficient by a factor of 10 they reappear.\n",
    "It would be a fun exercise in bifurcation theory to see at what exact value of $\\kappa$ the vortices appear."
   ]
  },
  {
   "cell_type": "code",
   "execution_count": 11,
   "metadata": {
    "execution": {
     "iopub.execute_input": "2022-02-22T22:27:00.892082Z",
     "iopub.status.busy": "2022-02-22T22:27:00.891430Z",
     "iopub.status.idle": "2022-02-22T22:27:19.944844Z",
     "shell.execute_reply": "2022-02-22T22:27:19.943870Z"
    }
   },
   "outputs": [
    {
     "data": {
      "image/png": "[encoded data removed]",
      "text/plain": [
       "<Figure size 432x288 with 2 Axes>"
      ]
     },
     "metadata": {
      "needs_background": "light"
     },
     "output_type": "display_data"
    }
   ],
   "source": [
    "%matplotlib inline\n",
    "import matplotlib.pyplot as plt\n",
    "fig, axes = plt.subplots()\n",
    "axes.set_aspect('equal')\n",
    "kwargs = {'resolution': 1/30, 'seed': 0, 'cmap': 'winter'}\n",
    "streamlines = firedrake.streamplot(u, axes=axes, **kwargs)\n",
    "fig.colorbar(streamlines);"
   ]
  },
  {
   "cell_type": "markdown",
   "metadata": {},
   "source": [
    "As another experiment, you can re-run this notebook but reverse the direction of one of the mixer heads, which will remove the fixed point at the origin but will create two more on either side of it."
   ]
  },
  {
   "cell_type": "markdown",
   "metadata": {},
   "source": [
    "### Conclusion\n",
    "\n",
    "When we introduced Nitsche's method, we used it to enforce Dirichlet boundary conditions for the Poisson equation, but this was merely an alternative to the conventional approach.\n",
    "For the Stokes equations with friction boundary conditions there effectively is no workable conventional approach.\n",
    "Weird tricks like Nitsche's method are our only hope.\n",
    "In the next post, I'll try to apply Nitsche's method to nonlinear elliptic PDE, which is even more difficult."
   ]
  }
 ],
 "metadata": {
  "kernelspec": {
   "display_name": "firedrake",
   "language": "python",
   "name": "firedrake"
  },
  "language_info": {
   "codemirror_mode": {
    "name": "ipython",
    "version": 3
   },
   "file_extension": ".py",
   "mimetype": "text/x-python",
   "name": "python",
   "nbconvert_exporter": "python",
   "pygments_lexer": "ipython3",
   "version": "3.8.10"
  },
  "nikola": {
   "category": "",
   "date": "2019-10-22 17:37:30 UTC-07:00",
   "description": "",
   "link": "",
   "slug": "nitsches-method-stokes",
   "tags": "",
   "title": "Nitsche's method for the Stokes equations",
   "type": "text"
  }
 },
 "nbformat": 4,
 "nbformat_minor": 2
}
