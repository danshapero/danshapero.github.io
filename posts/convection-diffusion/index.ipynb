{
 "cells": [
  {
   "cell_type": "markdown",
   "metadata": {},
   "source": [
    "In a previous post, we looked at how to discretize conservation laws using the discontinuous Galerkin method.\n",
    "The DG method, with an appropriate choice of numerical flux and limiting scheme, can be a great way to solve purely hyperbolic problems.\n",
    "But many realistic problems aren't purely hyperbolic -- there's diffusive transport as well:\n",
    "\n",
    "$$\\frac{\\partial\\phi}{\\partial t} + \\nabla\\cdot \\phi u = \\nabla\\cdot k\\nabla \\phi.$$\n",
    "\n",
    "where $\\phi$ is the solution, $u$ is a velocity field, and $k$ is the conductivity.\n",
    "Depending on the ratio $UL / k$, where $L$ is a characteristic length scale, the problem is either advection- or diffusion-dominated.\n",
    "\n",
    "What basis functions should we use for a problem with mixed character like convection-diffusion?\n",
    "It might seem that we have only bad choices.\n",
    "We could use continuous basis functions, which makes the diffusive part of the equation easy, but we might then need to stabilize the advective part using, say, streamlined upwinding.\n",
    "DG methods work perfectly well for discretizing the advection operator, but it feels a little strange to use basis functions that don't even live in the same function space as the solution.\n",
    "Nonetheless, it is possible to use DG for elliptic problems and we've already seen how in the form of Nitsche's method."
   ]
  },
  {
   "cell_type": "markdown",
   "metadata": {},
   "source": [
    "### DG for elliptic problems\n",
    "\n",
    "Recall that Nitsche's method gave us a way to weakly impose Dirichlet boundary conditions for elliptic PDE by modifying the variational principle rather than the discretized linear system.\n",
    "In the post where I introduced Nitsche's method, the application was for Dirichlet conditions at the boundary $\\partial\\Omega$ of the domain $\\Omega$.\n",
    "To arrive at a DG discretization of elliptic problems, we'll instead imagine **using Nitsche's method on every cell of the mesh**.\n",
    "Rather than impose a set value on the boundary of each cell, we'll instead use Nitsche's method to penalize discontinuous solutions.\n",
    "For this reason the method that I'll describe is called the symmetric interior-penalty discontinuous Galerkin method.\n",
    "\n",
    "Let's suppose we were only interested in solving the variational problem to minimize\n",
    "\n",
    "$$J(\\phi) = \\frac{1}{2}\\int_\\Omega k|\\nabla\\phi|^2dx$$\n",
    "\n",
    "subject to the boundary condition $\\phi|_{\\partial\\Omega} = g$.\n",
    "This is another way of stating the weak form of the elliptic part of our problem above.\n",
    "Rather than enforce the Dirichlet boundary condition at the level of the discretized linear system, as is customary, we could instead use a different action functional:\n",
    "\n",
    "$$J(\\phi) = \\frac{1}{2}\\int_\\Omega k|\\nabla \\phi|^2dx - \\int_{\\partial\\Omega}k\\frac{\\partial \\phi}{\\partial n}(\\phi - g)\\,ds + \\sum_E\\int_E\\frac{\\gamma k}{2h}|\\phi - g|^2ds,$$\n",
    "\n",
    "where $E$ are all of the boundary faces of the mesh, $h$ the diameter of $E$, and $\\gamma$ a constant.\n",
    "Let $\\theta$ be the smallest angle between any two edges of the mesh, $d$ the spatial dimension, and $p$ the polynomial degree of the finite element basis.\n",
    "In the post on Nitsche's method, we showed that if\n",
    "\n",
    "$$\\gamma > 2 \\cdot p \\cdot (p + d - 1) \\cdot \\csc\\theta\\cdot\\cot\\theta / 2\\cdot\\frac{\\max k}{\\min k}$$\n",
    "\n",
    "the modified action functional is convex and we can be assured that there is a discrete solution.\n",
    "The advantage of Nitsche's method is that we don't have to modify the discretized linear system, which can be error-prone, and that we can compute a good value of $\\gamma$ just by examining the mesh and conductivity coefficient.\n",
    "\n",
    "The idea behind DG discretization of elliptic problems is that, instead of using Nitsche's method to enforce a Dirichlet condition at the boundary of the whole domain, **we use it to force the solution to be continuous across element boundaries**.\n",
    "Rather than match $q$ to some externally defined function $g$, we instead match the value $q_+$ on one side of a facet $E$ to the value $q_-$ on the other side; terms like $q - g$ instead become $[q] = q_+ - q_-$, where we've introduced the shorthand $[\\cdot]$ to denote the jump across an inter-element boundary.\n",
    "In that case, the action functional becomes\n",
    "\n",
    "$$J(\\phi) = \\frac{1}{2}\\sum_K\\int_K k|\\nabla\\phi|^2dx + \\sum_E\\int_Ek\\left[\\frac{\\partial\\phi}{\\partial n}\\right][\\phi]\\, dS + \\sum_E\\int_E\\frac{\\gamma k}{2h}[\\phi]^2dS + \\ldots$$\n",
    "\n",
    "where I've left off the remaining terms.\n",
    "The same considerations apply to picking $\\gamma$ and we can actually get away with using the exact same value as before.\n",
    "To illustrate, let's try this on a toy problem."
   ]
  },
  {
   "cell_type": "markdown",
   "metadata": {},
   "source": [
    "### Demonstration\n",
    "\n",
    "We'll use the unit square as our domain.\n",
    "Although we know ahead of time that the minimum triangle area is $\\pi / 4$, I've included some code here to calculate it.\n",
    "We'll need to know this value in order to get a good value of the penalty parameter."
   ]
  },
  {
   "cell_type": "code",
   "execution_count": 1,
   "metadata": {
    "execution": {
     "iopub.execute_input": "2025-06-06T18:44:41.838190Z",
     "iopub.status.busy": "2025-06-06T18:44:41.837359Z",
     "iopub.status.idle": "2025-06-06T18:44:45.069967Z",
     "shell.execute_reply": "2025-06-06T18:44:45.068980Z"
    }
   },
   "outputs": [],
   "source": [
    "import firedrake\n",
    "nx, ny = 32, 32\n",
    "mesh = firedrake.UnitSquareMesh(nx, ny)"
   ]
  },
  {
   "cell_type": "code",
   "execution_count": 2,
   "metadata": {
    "execution": {
     "iopub.execute_input": "2025-06-06T18:44:45.075531Z",
     "iopub.status.busy": "2025-06-06T18:44:45.074677Z",
     "iopub.status.idle": "2025-06-06T18:44:45.455548Z",
     "shell.execute_reply": "2025-06-06T18:44:45.454790Z"
    }
   },
   "outputs": [],
   "source": [
    "import numpy as np\n",
    "from numpy.linalg import norm\n",
    "\n",
    "coords = mesh.coordinates.dat.data_ro\n",
    "cells = mesh.coordinates.cell_node_map().values\n",
    "\n",
    "θ = np.inf\n",
    "for cell in cells:\n",
    "    for k in range(3):\n",
    "        x, y, z = coords[np.roll(cell, k)]\n",
    "        ζ, ξ = y - x, z - x\n",
    "        angle = np.arccos(np.inner(ζ, ξ) / (norm(ζ) * norm(ξ)))\n",
    "        θ = min(angle, θ)"
   ]
  },
  {
   "cell_type": "markdown",
   "metadata": {},
   "source": [
    "For boundary values, we'll use a random trigonometric polynomial."
   ]
  },
  {
   "cell_type": "code",
   "execution_count": 3,
   "metadata": {
    "execution": {
     "iopub.execute_input": "2025-06-06T18:44:45.459831Z",
     "iopub.status.busy": "2025-06-06T18:44:45.459173Z",
     "iopub.status.idle": "2025-06-06T18:44:45.465621Z",
     "shell.execute_reply": "2025-06-06T18:44:45.464945Z"
    }
   },
   "outputs": [],
   "source": [
    "from numpy import pi as π\n",
    "from numpy.random import default_rng\n",
    "x, y = firedrake.SpatialCoordinate(mesh)\n",
    "\n",
    "rng = default_rng(seed=1)\n",
    "def random_fourier_series(std_dev, num_modes, exponent):\n",
    "    from firedrake import sin, cos\n",
    "    A = std_dev * rng.standard_normal((num_modes, num_modes))\n",
    "    B = std_dev * rng.standard_normal((num_modes, num_modes))\n",
    "    expr = sum([(A[k, l] * sin(π * (k * x + l * y)) +\n",
    "                 B[k, l] * cos(π * (k * x + l * y)))\n",
    "                / (1 + (k**2 + l**2)**(exponent/2))\n",
    "                for k in range(num_modes)\n",
    "                for l in range(int(np.sqrt(num_modes**2 - k**2)))])\n",
    "    return expr"
   ]
  },
  {
   "cell_type": "code",
   "execution_count": 4,
   "metadata": {
    "execution": {
     "iopub.execute_input": "2025-06-06T18:44:45.468924Z",
     "iopub.status.busy": "2025-06-06T18:44:45.468472Z",
     "iopub.status.idle": "2025-06-06T18:44:45.475659Z",
     "shell.execute_reply": "2025-06-06T18:44:45.475047Z"
    }
   },
   "outputs": [],
   "source": [
    "g = random_fourier_series(std_dev=.25, num_modes=5, exponent=1)"
   ]
  },
  {
   "cell_type": "code",
   "execution_count": 5,
   "metadata": {
    "execution": {
     "iopub.execute_input": "2025-06-06T18:44:45.478922Z",
     "iopub.status.busy": "2025-06-06T18:44:45.478465Z",
     "iopub.status.idle": "2025-06-06T18:44:49.435235Z",
     "shell.execute_reply": "2025-06-06T18:44:49.434316Z"
    }
   },
   "outputs": [
    {
     "data": {
      "image/png": "[encoded data removed]",
      "text/plain": [
       "<Figure size 640x480 with 1 Axes>"
      ]
     },
     "metadata": {},
     "output_type": "display_data"
    }
   ],
   "source": [
    "import matplotlib.pyplot as plt\n",
    "from mpl_toolkits import mplot3d\n",
    "V = firedrake.FunctionSpace(mesh, family='CG', degree=2)\n",
    "fig = plt.figure()\n",
    "axes = fig.add_subplot(projection='3d')\n",
    "firedrake.trisurf(firedrake.Function(V).interpolate(g), axes=axes);"
   ]
  },
  {
   "cell_type": "markdown",
   "metadata": {},
   "source": [
    "For basis functions, we'll use polynomials of degree 1.\n",
    "As we saw in the previous post on hyperbolic conservation laws, these gave very good numerical solutions provided that we had a good timestepping scheme.\n",
    "Now that we know the polynomial degree and the mesh quality, we can calculate the penalty parameter for Nitsche's method.\n",
    "We've put in a fudge factor $\\alpha$ to make sure the penalty parameter is strictly greater than the minimum possible value."
   ]
  },
  {
   "cell_type": "code",
   "execution_count": 6,
   "metadata": {
    "execution": {
     "iopub.execute_input": "2025-06-06T18:44:49.496051Z",
     "iopub.status.busy": "2025-06-06T18:44:49.495625Z",
     "iopub.status.idle": "2025-06-06T18:44:49.500810Z",
     "shell.execute_reply": "2025-06-06T18:44:49.500138Z"
    }
   },
   "outputs": [],
   "source": [
    "from firedrake import Constant\n",
    "p = 1\n",
    "α = 1/2\n",
    "C = p * (p + 1)\n",
    "γ = Constant(2 * C / α**2 / (np.sin(θ) * np.tan(θ/2)))"
   ]
  },
  {
   "cell_type": "markdown",
   "metadata": {},
   "source": [
    "The action functional for the DG formulation of the problem consists of five parts: an internal cell flux; the across-cell flux; the across-cell penalty; the boundary flux; and the boundary penalty."
   ]
  },
  {
   "cell_type": "code",
   "execution_count": 7,
   "metadata": {
    "execution": {
     "iopub.execute_input": "2025-06-06T18:44:49.503222Z",
     "iopub.status.busy": "2025-06-06T18:44:49.503011Z",
     "iopub.status.idle": "2025-06-06T18:44:51.872752Z",
     "shell.execute_reply": "2025-06-06T18:44:51.871681Z"
    }
   },
   "outputs": [],
   "source": [
    "from firedrake import inner, grad, dx, ds, dS\n",
    "\n",
    "Q = firedrake.FunctionSpace(mesh, family='DG', degree=p)\n",
    "n = firedrake.FacetNormal(mesh)\n",
    "h = firedrake.CellSize(mesh)\n",
    "\n",
    "ϕ = firedrake.project(g, Q)\n",
    "dϕ_dn = inner(grad(ϕ), n)\n",
    "\n",
    "J_cells = 0.5 * inner(grad(ϕ), grad(ϕ)) * dx\n",
    "J_facet_flux = -(dϕ_dn('+') - dϕ_dn('-')) * (ϕ('+') - ϕ('-')) * dS\n",
    "J_facet_penalty = 0.5 * γ / (h('+') + h('-')) * (ϕ('+') - ϕ('-'))**2 * dS\n",
    "\n",
    "J_flux = -dϕ_dn * (ϕ - g) * ds\n",
    "J_penalty = 0.5 * γ * (ϕ - g)**2 / h * ds\n",
    "\n",
    "J = (\n",
    "    J_cells +\n",
    "    J_facet_flux +\n",
    "    J_facet_penalty +\n",
    "    J_flux +\n",
    "    J_penalty\n",
    ")"
   ]
  },
  {
   "cell_type": "markdown",
   "metadata": {},
   "source": [
    "Finally, we can solve the PDE just like we did before.\n",
    "Note that, since we're using discontinuous piecewise linear basis functions, there are three degrees of freedom for every triangle of the mesh.\n",
    "Had we used continuous piecewise linear basis functions, the solution would have one degree of freedom for every vertex, which is much fewer than for the DG basis.\n",
    "Consequently we can expect the solution process to take much longer when using DG."
   ]
  },
  {
   "cell_type": "code",
   "execution_count": 8,
   "metadata": {
    "execution": {
     "iopub.execute_input": "2025-06-06T18:44:51.876102Z",
     "iopub.status.busy": "2025-06-06T18:44:51.875875Z",
     "iopub.status.idle": "2025-06-06T18:45:01.639077Z",
     "shell.execute_reply": "2025-06-06T18:45:01.637770Z"
    }
   },
   "outputs": [],
   "source": [
    "F = firedrake.derivative(J, ϕ)\n",
    "parameters_lu = {\n",
    "    'solver_parameters': {\n",
    "        'ksp_type': 'preonly',\n",
    "        'pc_type': 'lu',\n",
    "        'pc_factor_mat_solver_type': 'mumps'\n",
    "    }\n",
    "}\n",
    "firedrake.solve(F == 0, ϕ, **parameters_lu)"
   ]
  },
  {
   "cell_type": "code",
   "execution_count": 9,
   "metadata": {
    "execution": {
     "iopub.execute_input": "2025-06-06T18:45:01.642744Z",
     "iopub.status.busy": "2025-06-06T18:45:01.642474Z",
     "iopub.status.idle": "2025-06-06T18:45:04.945961Z",
     "shell.execute_reply": "2025-06-06T18:45:04.944664Z"
    }
   },
   "outputs": [
    {
     "data": {
      "image/png": "[encoded data removed]",
      "text/plain": [
       "<Figure size 640x480 with 2 Axes>"
      ]
     },
     "metadata": {},
     "output_type": "display_data"
    }
   ],
   "source": [
    "fig = plt.figure()\n",
    "axes = fig.add_subplot(projection='3d')\n",
    "triangles = firedrake.trisurf(ϕ, axes=axes)\n",
    "fig.colorbar(triangles);"
   ]
  },
  {
   "cell_type": "markdown",
   "metadata": {},
   "source": [
    "For comparison, we can compute the solution using continuous basis functions."
   ]
  },
  {
   "cell_type": "code",
   "execution_count": 10,
   "metadata": {
    "execution": {
     "iopub.execute_input": "2025-06-06T18:45:04.950016Z",
     "iopub.status.busy": "2025-06-06T18:45:04.949760Z",
     "iopub.status.idle": "2025-06-06T18:45:07.964389Z",
     "shell.execute_reply": "2025-06-06T18:45:07.962912Z"
    }
   },
   "outputs": [],
   "source": [
    "CG = firedrake.FunctionSpace(mesh, family='CG', degree=p)\n",
    "ψ = firedrake.Function(CG)\n",
    "J = 0.5 * inner(grad(ψ), grad(ψ)) * dx\n",
    "\n",
    "F = firedrake.derivative(J, ψ)\n",
    "bc = firedrake.DirichletBC(CG, g, 'on_boundary')\n",
    "firedrake.solve(F == 0, ψ, bc, **parameters_lu)"
   ]
  },
  {
   "cell_type": "code",
   "execution_count": 11,
   "metadata": {
    "execution": {
     "iopub.execute_input": "2025-06-06T18:45:07.969103Z",
     "iopub.status.busy": "2025-06-06T18:45:07.968717Z",
     "iopub.status.idle": "2025-06-06T18:45:09.700754Z",
     "shell.execute_reply": "2025-06-06T18:45:09.699752Z"
    }
   },
   "outputs": [
    {
     "data": {
      "text/plain": [
       "np.float64(0.012794504299337386)"
      ]
     },
     "execution_count": 11,
     "metadata": {},
     "output_type": "execute_result"
    }
   ],
   "source": [
    "firedrake.norm(ϕ - ψ) / firedrake.norm(ψ)"
   ]
  },
  {
   "cell_type": "markdown",
   "metadata": {},
   "source": [
    "The relative error is quite small, which suggests that our approach isn't totally off base.\n",
    "We're now ready to introduce timestepping, which gets quite interesting for problems of mixed character like ours."
   ]
  },
  {
   "cell_type": "markdown",
   "metadata": {},
   "source": [
    "### IMEX methods\n",
    "\n",
    "The natural way to timestep the heat equation is to use an implicit scheme like backward Euler.\n",
    "If you did try to use an explicit method, the CFL condition becomes oppressive for parabolic problems because perturbations propagate with infinite speed.\n",
    "For the advection equation, on the other hand, the natural approach is to use an explicit scheme because perturbations travel with finite speed.\n",
    "In our case we'll simplify things considerably by assuming the velocity of the medium doesn't change in time, but for realistic problems it too obeys some PDE and we have to assume that it can change.\n",
    "The argument for using explicit schemes becomes much stronger when the velocity can change because it becomes much harder to reuse information from past implicit solves.\n",
    "\n",
    "We can reconcile the fact that different timestepping schemes work best for each part of the equation by using a *splitting method*.\n",
    "The idea of splitting methods is to separately integrate each part of the dynamics with a method that works best for it.\n",
    "To illustrate this it's helpful to imagine the problems as a linear system of ODE\n",
    "\n",
    "$$\\frac{\\partial\\phi}{\\partial t} = (A + B)\\phi$$\n",
    "\n",
    "where $A$ and $B$ are operators.\n",
    "The formal solution to this problem can be expressed using the matrix exponential:\n",
    "\n",
    "$$\\phi(t) = e^{t(A + B)}\\phi(0)$$\n",
    "\n",
    "but we're then faced with the challenge of simultaneously integrating both parts of the dynamics.\n",
    "If $A$ and $B$ commute, then the exponential factors into a product, but we have to get very lucky for that to happen.\n",
    "Instead, we can recognize that\n",
    "\n",
    "$$\\exp\\{t(A + B)\\} = \\exp(tA)\\exp(tB)\\exp\\left(-\\frac{t^2}{2}[A, B]\\right)\\cdot \\ldots$$\n",
    "\n",
    "In other words, to approximate integrating the problem forward by one timestep, we can first integrate the $A$ dynamics, then the $B$ dynamics.\n",
    "There is a cost in doing so: we incur a splitting error proportional to the commutator $[A, B]$ of the two operators.\n",
    "But this error is only of the order of $\\delta t^2$ for a single timestep and thus on the order of $\\delta t$ over all.\n",
    "We can derive higher-order splitting schemes that incur even less of a cost, often using the [Zassenhaus](https://en.wikipedia.org/wiki/Baker%E2%80%93Campbell%E2%80%93Hausdorff_formula#Zassenhaus_formula) formula.\n",
    "The equation I wrote above is the Zassenhous formula up to second order.\n",
    "\n",
    "In our particular case, we know that using implicit Euler will work well for the parabolic part of the problem and explicit Euler (with a CFL-stable timestep) will work well for the hyperbolic part.\n",
    "A first-order splitting scheme amounts to using each scheme in succession.\n",
    "This approach to mixed-type problems is often called an **implicit/explicit** or **IMEX** discretization in the literature."
   ]
  },
  {
   "cell_type": "markdown",
   "metadata": {},
   "source": [
    "### Demonstration\n",
    "\n",
    "We'll use a very similar setup to the post on conservation laws to examine a simple first-order IMEX scheme for the convection-diffusion equation.\n",
    "The velocity field will be uniform solid body rotation about the center of the domain.\n",
    "In order to keep the solution from being immediately smoothed over, we'll use a conductivity coefficient of 1/1000.\n",
    "This puts the problem well in the advection-dominated regime.\n",
    "Nonetheless, the diffusivity is large enough that we won't need to use a flux limiter; any spurious oscillations will naturally get smoothed out."
   ]
  },
  {
   "cell_type": "code",
   "execution_count": 12,
   "metadata": {
    "execution": {
     "iopub.execute_input": "2025-06-06T18:45:09.705354Z",
     "iopub.status.busy": "2025-06-06T18:45:09.704828Z",
     "iopub.status.idle": "2025-06-06T18:45:09.710250Z",
     "shell.execute_reply": "2025-06-06T18:45:09.709737Z"
    }
   },
   "outputs": [],
   "source": [
    "p = 1\n",
    "Q = firedrake.FunctionSpace(mesh, family='DG', degree=p)"
   ]
  },
  {
   "cell_type": "code",
   "execution_count": 13,
   "metadata": {
    "execution": {
     "iopub.execute_input": "2025-06-06T18:45:09.713599Z",
     "iopub.status.busy": "2025-06-06T18:45:09.713391Z",
     "iopub.status.idle": "2025-06-06T18:45:10.703329Z",
     "shell.execute_reply": "2025-06-06T18:45:10.702364Z"
    }
   },
   "outputs": [],
   "source": [
    "from firedrake import sqrt, as_vector, min_value, max_value\n",
    "\n",
    "x = firedrake.SpatialCoordinate(mesh)\n",
    "x_c = Constant((5/8, 5/8))\n",
    "R_c = Constant(1/8)\n",
    "\n",
    "x_b = Constant((3/8, 3/8))\n",
    "R_b = Constant(1/8)\n",
    "\n",
    "ϕ_expr = (\n",
    "    max_value(0, 1 - sqrt(inner(x - x_c, x - x_c) / R_c**2)) +\n",
    "    max_value(0, 1 - inner(x - x_b, x - x_b) / R_b**2)\n",
    ")\n",
    "ϕ_0 = firedrake.project(ϕ_expr, Q)\n",
    "ϕ = ϕ_0.copy(deepcopy=True)"
   ]
  },
  {
   "cell_type": "code",
   "execution_count": 14,
   "metadata": {
    "execution": {
     "iopub.execute_input": "2025-06-06T18:45:10.707339Z",
     "iopub.status.busy": "2025-06-06T18:45:10.707056Z",
     "iopub.status.idle": "2025-06-06T18:45:10.712526Z",
     "shell.execute_reply": "2025-06-06T18:45:10.711536Z"
    }
   },
   "outputs": [],
   "source": [
    "x = firedrake.SpatialCoordinate(mesh)\n",
    "y = Constant((.5, .5))\n",
    "r = x - y\n",
    "u = as_vector((-r[1], r[0]))"
   ]
  },
  {
   "cell_type": "code",
   "execution_count": 15,
   "metadata": {
    "execution": {
     "iopub.execute_input": "2025-06-06T18:45:10.715996Z",
     "iopub.status.busy": "2025-06-06T18:45:10.715678Z",
     "iopub.status.idle": "2025-06-06T18:45:11.468714Z",
     "shell.execute_reply": "2025-06-06T18:45:11.467537Z"
    }
   },
   "outputs": [],
   "source": [
    "speed = firedrake.Function(Q).interpolate(sqrt(inner(u, u)))\n",
    "max_speed = speed.dat.data_ro.max()\n",
    "\n",
    "Q0 = firedrake.FunctionSpace(mesh, family='DG', degree=0)\n",
    "diameters = firedrake.project(firedrake.CellDiameter(mesh), Q0)\n",
    "min_diameter = diameters.dat.data_ro.min()\n",
    "\n",
    "cfl_timestep = min_diameter / max_speed\n",
    "\n",
    "final_time = 2 * π\n",
    "num_steps = 4 * int(final_time / cfl_timestep)\n",
    "dt = firedrake.Constant(final_time / num_steps)"
   ]
  },
  {
   "cell_type": "markdown",
   "metadata": {},
   "source": [
    "First, we'll create a solver for the diffusive part of the problem.\n",
    "We can take advantage of the fact that the implicit Euler timestep for a parabolic PDE is itself a minimization problem to keep our description as succinct as possible."
   ]
  },
  {
   "cell_type": "code",
   "execution_count": 16,
   "metadata": {
    "execution": {
     "iopub.execute_input": "2025-06-06T18:45:11.472882Z",
     "iopub.status.busy": "2025-06-06T18:45:11.472565Z",
     "iopub.status.idle": "2025-06-06T18:45:12.231425Z",
     "shell.execute_reply": "2025-06-06T18:45:12.230366Z"
    }
   },
   "outputs": [],
   "source": [
    "J_mass = 0.5 * (ϕ - ϕ_0)**2 * dx\n",
    "\n",
    "k = Constant(1e-3)\n",
    "dϕ_dn = inner(grad(ϕ), n)\n",
    "J_cells = 0.5 * inner(grad(ϕ), grad(ϕ)) * dx\n",
    "J_facet_flux = -(dϕ_dn('+') - dϕ_dn('-')) * (ϕ('+') - ϕ('-')) * dS\n",
    "J_facet_penalty = 0.5 * γ / (h('+') + h('-')) * (ϕ('+') - ϕ('-'))**2 * dS\n",
    "\n",
    "J = J_mass + dt * k * (J_cells + J_facet_flux + J_facet_penalty)\n",
    "\n",
    "F = firedrake.derivative(J, ϕ)\n",
    "heat_problem = firedrake.NonlinearVariationalProblem(F, ϕ)\n",
    "heat_solver = firedrake.NonlinearVariationalSolver(heat_problem, **parameters_lu)"
   ]
  },
  {
   "cell_type": "markdown",
   "metadata": {},
   "source": [
    "Next we'll create a solver for the convective part of the problem."
   ]
  },
  {
   "cell_type": "code",
   "execution_count": 17,
   "metadata": {
    "execution": {
     "iopub.execute_input": "2025-06-06T18:45:12.235614Z",
     "iopub.status.busy": "2025-06-06T18:45:12.235375Z",
     "iopub.status.idle": "2025-06-06T18:45:12.245892Z",
     "shell.execute_reply": "2025-06-06T18:45:12.244940Z"
    }
   },
   "outputs": [],
   "source": [
    "from firedrake import min_value, max_value\n",
    "m = firedrake.TrialFunction(Q) * firedrake.TestFunction(Q) * dx\n",
    "\n",
    "ψ = firedrake.TestFunction(Q)\n",
    "cell_flux = -inner(grad(ψ), ϕ * u) * dx\n",
    "\n",
    "f = ϕ * max_value(0, inner(u, n))\n",
    "facet_flux = (f('+') - f('-')) * (ψ('+') - ψ('-')) * dS\n",
    "\n",
    "ϕ_in = firedrake.Constant(0)\n",
    "influx = ϕ_in * min_value(0, inner(u, n)) * ψ * ds\n",
    "outflux = ϕ * max_value(0, inner(u, n)) * ψ * ds\n",
    "\n",
    "dϕ_dt = -(cell_flux + facet_flux + influx + outflux)"
   ]
  },
  {
   "cell_type": "code",
   "execution_count": 18,
   "metadata": {
    "execution": {
     "iopub.execute_input": "2025-06-06T18:45:12.249233Z",
     "iopub.status.busy": "2025-06-06T18:45:12.249026Z",
     "iopub.status.idle": "2025-06-06T18:45:12.325463Z",
     "shell.execute_reply": "2025-06-06T18:45:12.324502Z"
    }
   },
   "outputs": [],
   "source": [
    "δϕ = firedrake.Function(Q)\n",
    "flow_problem = firedrake.LinearVariationalProblem(m, dt * dϕ_dt, δϕ)\n",
    "parameters_bjac = {\n",
    "    'solver_parameters': {\n",
    "        'ksp_type': 'preonly',\n",
    "        'pc_type': 'bjacobi',\n",
    "        'sub_pc_type': 'ilu'\n",
    "    }\n",
    "}\n",
    "flow_solver = firedrake.LinearVariationalSolver(flow_problem, **parameters_bjac)"
   ]
  },
  {
   "cell_type": "markdown",
   "metadata": {},
   "source": [
    "Now we can try the alternating scheme."
   ]
  },
  {
   "cell_type": "code",
   "execution_count": 19,
   "metadata": {
    "execution": {
     "iopub.execute_input": "2025-06-06T18:45:12.329475Z",
     "iopub.status.busy": "2025-06-06T18:45:12.329169Z",
     "iopub.status.idle": "2025-06-06T18:45:37.749365Z",
     "shell.execute_reply": "2025-06-06T18:45:37.748230Z"
    }
   },
   "outputs": [
    {
     "data": {
      "application/vnd.jupyter.widget-view+json": {
       "model_id": "e30ee438d90448e6a5e6a0f411d20a79",
       "version_major": 2,
       "version_minor": 0
      },
      "text/plain": [
       "  0%|          | 0/396 [00:00<?, ?timesteps/s]"
      ]
     },
     "metadata": {},
     "output_type": "display_data"
    }
   ],
   "source": [
    "from tqdm.notebook import trange\n",
    "\n",
    "output_freq = 4\n",
    "ϕs = []\n",
    "\n",
    "for step in trange(num_steps, unit='timesteps'):\n",
    "    flow_solver.solve()\n",
    "    ϕ += δϕ\n",
    "\n",
    "    ϕ_0.assign(ϕ)\n",
    "    heat_solver.solve()\n",
    "    \n",
    "    if step % output_freq == 0:\n",
    "        ϕs.append(ϕ.copy(deepcopy=True))"
   ]
  },
  {
   "cell_type": "code",
   "execution_count": 20,
   "metadata": {
    "execution": {
     "iopub.execute_input": "2025-06-06T18:45:37.752924Z",
     "iopub.status.busy": "2025-06-06T18:45:37.752678Z",
     "iopub.status.idle": "2025-06-06T18:45:37.842625Z",
     "shell.execute_reply": "2025-06-06T18:45:37.841543Z"
    }
   },
   "outputs": [],
   "source": [
    "%%capture\n",
    "fig, axes = plt.subplots()\n",
    "axes.set_aspect('equal')\n",
    "axes.get_xaxis().set_visible(False)\n",
    "axes.get_yaxis().set_visible(False)\n",
    "colors = firedrake.tripcolor(ϕ, num_sample_points=1, vmin=0., vmax=1., axes=axes)"
   ]
  },
  {
   "cell_type": "code",
   "execution_count": 21,
   "metadata": {
    "execution": {
     "iopub.execute_input": "2025-06-06T18:45:37.845449Z",
     "iopub.status.busy": "2025-06-06T18:45:37.845240Z",
     "iopub.status.idle": "2025-06-06T18:45:37.850570Z",
     "shell.execute_reply": "2025-06-06T18:45:37.849682Z"
    }
   },
   "outputs": [],
   "source": [
    "from firedrake.plot import FunctionPlotter\n",
    "fn_plotter = FunctionPlotter(mesh, num_sample_points=1)"
   ]
  },
  {
   "cell_type": "code",
   "execution_count": 22,
   "metadata": {
    "execution": {
     "iopub.execute_input": "2025-06-06T18:45:37.853002Z",
     "iopub.status.busy": "2025-06-06T18:45:37.852801Z",
     "iopub.status.idle": "2025-06-06T18:45:37.860532Z",
     "shell.execute_reply": "2025-06-06T18:45:37.859928Z"
    }
   },
   "outputs": [],
   "source": [
    "from matplotlib.animation import FuncAnimation\n",
    "def animate(ϕ):\n",
    "    colors.set_array(fn_plotter(ϕ))\n",
    "\n",
    "interval = 1e3 * output_freq * float(dt)\n",
    "animation = FuncAnimation(fig, animate, frames=ϕs, interval=interval)"
   ]
  },
  {
   "cell_type": "code",
   "execution_count": 23,
   "metadata": {
    "execution": {
     "iopub.execute_input": "2025-06-06T18:45:37.863284Z",
     "iopub.status.busy": "2025-06-06T18:45:37.862988Z",
     "iopub.status.idle": "2025-06-06T18:45:40.558326Z",
     "shell.execute_reply": "2025-06-06T18:45:40.556837Z"
    }
   },
   "outputs": [
    {
     "data": {
      "text/html": [
       "<video width=\"640\" height=\"480\" controls autoplay loop>\n",
       "  <source type=\"video/mp4\" src=\"data:video/mp4;base64,AAAAIGZ0eXBNNFYgAAACAE00ViBpc29taXNvMmF2YzEAAAAIZnJlZQAAZ6FtZGF0AAACrwYF//+r\n",
       "3EXpvebZSLeWLNgg2SPu73gyNjQgLSBjb3JlIDE2NCByMzEwOCAzMWUxOWY5IC0gSC4yNjQvTVBF\n",
       "Ry00IEFWQyBjb2RlYyAtIENvcHlsZWZ0IDIwMDMtMjAyMyAtIGh0dHA6Ly93d3cudmlkZW9sYW4u\n",
       "b3JnL3gyNjQuaHRtbCAtIG9wdGlvbnM6IGNhYmFjPTEgcmVmPTMgZGVibG9jaz0xOjA6MCBhbmFs\n",
       "eXNlPTB4MzoweDExMyBtZT1oZXggc3VibWU9NyBwc3k9MSBwc3lfcmQ9MS4wMDowLjAwIG1peGVk\n",
       "X3JlZj0xIG1lX3JhbmdlPTE2IGNocm9tYV9tZT0xIHRyZWxsaXM9MSA4eDhkY3Q9MSBjcW09MCBk\n",
       "ZWFkem9uZT0yMSwxMSBmYXN0X3Bza2lwPTEgY2hyb21hX3FwX29mZnNldD0tMiB0aHJlYWRzPTE1\n",
       "IGxvb2thaGVhZF90aHJlYWRzPTIgc2xpY2VkX3RocmVhZHM9MCBucj0wIGRlY2ltYXRlPTEgaW50\n",
       "ZXJsYWNlZD0wIGJsdXJheV9jb21wYXQ9MCBjb25zdHJhaW5lZF9pbnRyYT0wIGJmcmFtZXM9MyBi\n",
       "X3B5cmFtaWQ9MiBiX2FkYXB0PTEgYl9iaWFzPTAgZGlyZWN0PTEgd2VpZ2h0Yj0xIG9wZW5fZ29w\n",
       "PTAgd2VpZ2h0cD0yIGtleWludD0yNTAga2V5aW50X21pbj0xNSBzY2VuZWN1dD00MCBpbnRyYV9y\n",
       "ZWZyZXNoPTAgcmNfbG9va2FoZWFkPTQwIHJjPWNyZiBtYnRyZWU9MSBjcmY9MjMuMCBxY29tcD0w\n",
       "LjYwIHFwbWluPTAgcXBtYXg9NjkgcXBzdGVwPTQgaXBfcmF0aW89MS40MCBhcT0xOjEuMDAAgAAA\n",
       "B5hliIQAEP/+94G/MstfIrrJcfnnfSyszzzkPHJdia640AAAAwAAAwAAP8j+NuVUetgS4AAABOwA\n",
       "2KP/wZp/4AGeVBvwoWfhQYEr8QZ34wqtHGzZ47WfG0uKrvvGZgyLJkGKVHNL3L+vB/ygL2kRzj4K\n",
       "kOHY1hT1MTubD51Fgj1l/lBLjGS+ke6pZu0ch7Oyswze/zaRcWpWOzuQZPdzo91x2lq/48PA8Alc\n",
       "AttwMKETURBd5CoRXmwYDfOwAAFj8XCogfNLj1iaHv/WB+eb/qyxwYyK7jsWReFjO4UPdkDtKTYN\n",
       "PlevUcZ4+2tbKFmm6IfYGRgrkOcAD/p+sgmC/CZ+ejhVv/2+NzhyMLAz5oABK3jgY6huH7TC5qsV\n",
       "/T5lViopt874vVAwvOT4hjny6Kr67ueM/9h4Cje44DMIypfPTY6egLAHMC6QF1MYW2VJG/ke5LUW\n",
       "4cAbhtBUVGNltAa3XKzFBrZMgScbAAng7KJkEZZszG/QswNHhfldxdWuPXpOR/Y36K6rYrue4HRY\n",
       "Jdw8fFzTwngxhY2fLjzveOndMO6ZCNApEC1E6T0f9FXIBXG9AHaTTS/57hjCZCZy2pOSAMwt2f6E\n",
       "pHTCLQ2jhK5x40pB1G5Tu8R8Gssgk7TUEMwpm4k+P4LRbFJvS2cDsoVv4ABUDGyjO5KhJ/n3n/Ry\n",
       "aSAqj4A2pigOkncOLIx9/VmSdK19OjGxfQL2cpzLx/9iTCfejk0khkzbq3sW3GD5Bw6rb39xxd1j\n",
       "63XerHt2EIzOj3eYcNgc+c/DDcUUeZfu6CL/E9j8ATEbZm5/M3ESPUxB1fn/zW7ZAfIleo/mxEyk\n",
       "0nx/Sd0+t0oXj6cjS7zKDrLlajH9bmP+z2w+CFmTxVdfBj8TGwUYMSUs0mXkBHk8qXMWfzxdFyX9\n",
       "PrLKEr+Fdt6Wwm28LJe5NvKJxoMfw/AOyrxrZIv/EhteKils7mXroutI+DzU81Muf7AN+KG7kZrf\n",
       "ExEXITG8emqlxryhCf/XpJePYvN1RyAEOIqKayfwVmcEbNEVpnLdfkWUyhFrP56LJBg68JKxc2f/\n",
       "Vl98xyXU1g4QNYDfrjPZHB1Xsf8ynYdwUTYIHrIZkfuPhPLV6DB38S0pVgm/waSJopDk4RAz/S0f\n",
       "x3tkhqG/2tfMO4mF4DLKrkqnIwHwJBYTg/zBxyCBmR9rfnzxTVJaRP8kDR3i6ru4zk0f2/vj8WEN\n",
       "2Jl1GuNqw5h4sdeevtWwsCoPxG4NscNV6YMhvPUU0W/deWM8qhIhyihBTwV/JBOcjYfj98MFgDg/\n",
       "KWdsGh7ABBzUwOJezSVuFGavKylJM6s3dAwvDF0XGUfwfAv9+Oywe+23fwGXu2Fx3+BgtYEiSiqz\n",
       "mcZP2oeq5NzilCpIVXGkJ6P+0NWlCRzSrmzwrA3kz0V7Il/G8kDocaPgVtK1Riu0XAkJPCLQ1Htl\n",
       "P1Hkm0VDQgFamaf8eeE1M4oDkr+HbEzA9ZyoXtsunLRLQt7wDipPQGhHYuWyMiKvAf3v6mjH6zqr\n",
       "DGAUIKCskRMpHtZOGSB9I5ix9sZv2LEuqQV1Ni8cbi/wMwcbJiFigYcSKHTShcf8F8HnvrKbSWFx\n",
       "b/CAuR/lMXtY/VU6koNQ5we3lG3gs9oNW5alZlshtdpaAjl01qLkrqgCYAPulTc7daph16m7r7sK\n",
       "qPH1L2+IM5L0UuiVLPZpr8HrqzFWS6R9zd9ZjhVSLDoeUhbdQvzd3y/0yfKczkDfFsTV753XZVgl\n",
       "5RnhQuGXrA7a6rnYzDRJvK1jpsxEI2yPNbLDo3SZw6WmkbRnYoeNZXse6ZJ505enb2a04MW5H9H6\n",
       "t8y914eX7b8SCUP7qLYHKpwLDUMMmmrpfR03kkwM9msIOfbR0KeyjZxCFdKXYgo96xG80IE0PNo2\n",
       "BM0R1NxkNz+Z4ow1dHkB4lgQz00Q5DdE7P1GrUMHcvPNib2wBiOMFYS4HxRBzPwftToMKeMouHi3\n",
       "OU0fesdLhCzjmraMBRlqJDB58q/m/L2GmqB7VMy18ulLIFr1ggiKdPS/cz5y/9b+jnmGpwFFXgBe\n",
       "U6jGpC8fvJCttOg3XMDHHwsqjJTlYomv6ZaIThbnCjrkDWIlO5PibyVULzKfBbkKcGGOBB2rDeEi\n",
       "X4hDjwtwycfMeVLyzPiwvUrUyiYIRNquVd5rrJ2gxPT4Ucuj7qKAVFWftnHkUDImgDaDLG7TATM1\n",
       "lcue9e3I4xatVzLsrH67aE7IWBXgYKTVZPUG/71S1PDCwLhzZhoPMcTiH/qCeF0cdGbfJbzXLNkW\n",
       "XABW/SlUNF5k5ivpcFEav1CAFZPXxzGcMWQTB0L5Iz18r+hwC0hzFOBxCC5pjmvMUnuIcXqp8+Td\n",
       "yhAA1EVxbBYCnHVuGIAFLKWWcNe234FOX77nP/XpDStfzOISdedT+E3dTxgpQ2P/J//6Hf6QtCE8\n",
       "RWTrfFVkOfBUOSYOhUXfPXTk2y+iTnGu0nzKagp5eB6P8cCH+s+n3zMcV29XfHFbI01PlHyE8h34\n",
       "pcCsIgEmVhlXf1s6M9wEremV8Nas3PykdnlQ+4AAAiqD8snXcuWwuX0eC2Qw1OIVblyCgRPtaDXA\n",
       "AHUAAAMAWcEAAAMaQZokbEEP/qpVAAMZ6IeQOjwGQn8IlnBm8P7tnMmgchLCAmYH41h+D2TBI2hU\n",
       "Ech1bMmNgi5rxNfzgdzuWYR+n6kztsd3RIiNgo67aS6MbMkEc4Jp5ZHAKS8bpn5+TX3/8Y2q5JPW\n",
       "5MWUPvkLd8Q1HnnNpCxpFat3Xo9yje1Z514XOMifpoVH3yRAH3DDFSzfLI7mYJLcDTytOeBOvcQu\n",
       "+ZSQFBb1elB5gi4hsg+D9iUxN8ubYjYD1ssWsIThCRXbp+ac8JBOLB6HDEaC0OPUSok/g8RwbPAT\n",
       "WCFg8cp80PJp5NAZbK/VMFp8zoOHy+IKfnBR4tP0h8rg598iC5Ps3rTvPqZI8+SUxsFg/b5MCgrR\n",
       "A5m0niBi8RyiLvrfGiUxlCJExb7rbXEtIwLV65Uz/uw6y18O3wzN3baW8Z0tbi4fPVRXNOQCLaub\n",
       "eL+R5doingoK9KAg+thAyUmucN6bvqxYkSNoaFshvcuQoUbW/lbX/vGqhzuV6tpLv3Uh5xK7v/aQ\n",
       "zbjORBY2e0JbS2hRHHjiIBx8ww3rmyPymv9w04+gyZtuRekT99UYMIkFO423r8UCGb9rjzEaCU1R\n",
       "kIHPxiSLFod9HQbKx/DzVd0ItikStNHH93EA+q4UxXis4ImRXDBHkgq/YqRueACp5+wdbHGA2Gdj\n",
       "DKRQkLP/iW/alK8wmUPUx19zBMuntcB3vGjemhQY7G3sUz9O5AN9+/7H7nP1XUeuDz/P+v04sasa\n",
       "BTnoVbFOg3ugWH5SLQncP9KjefCc2IsOvxzDx4cQVZ5NiihYc6KAKE1KPM75zzVsvJW0fN/WYJGc\n",
       "0AotFPNy/B4SyNRODuEEfkHzg7i9JqJ0a5PnL+yKbvniBwQSnU3fyqzmmfUQhu1qGTM5Ind88RNB\n",
       "sHYKWGBvFcoUHo7+CTdagA8E69kljz60RJlWC6plqwgKZs9wQ2CAXVpSSsGTsmVqbKGfY8oQNCZh\n",
       "1N5pLr6TVqqqNCa5yuGNaEaJAOJc0J2S0vZifd2xLBvpeObrFT8/0JslNTunIdALd3sWs78EsZIA\n",
       "5sp0GGPg1IAAAAGpQZ5CeIZ/AAAiuMj8PDgAknlPNDIA/a1Y2FwYNDEK2dr8WXyxHJi0zpfI5YOH\n",
       "/dzgCod3ctvlfVp37p9jeYBAZp6c/JPzGvApgvi3zc5oraEfDfKabexLzqA89zs3KNf9S3r2r82C\n",
       "x3bx2SZlTmt0Io1q4v8byRkYjxI9XVOs0A54zEILiKJ/dTx89iUF4/W9uIJ/AQ5zuQzmh7h8mgxU\n",
       "DGjqUsT9qlsHbO5s/5A04hwGP6g+hUhJ6BVYbQZ7D5qJI6EGaD6w0a7Gf7fG4jUkAUPeTibqa+4u\n",
       "fIr6XCSUJZDegxnXzXvF7KI8K3vl9zgNureO5kat6effYF7UQy/RRFnvt3YU4XZUqw3xwRHJaOVS\n",
       "n5pWg4VJ2+XcgUt9s/gzLsX6Mm200BSD6zQeah+D4XyufQerVNzzBc918ywKOEQxhts9EIPFNNyL\n",
       "YUv6UQOOy01mMZm3BikNVOL5dJUaKhxUSREP/bW5WURvWhYP+Y1BZIvgoqFGbQVDesLvJcF47sy0\n",
       "2dRAJc5Np5Il/pzdw76NfK/nlNGjvNc1kvfWQDdmT0dComAsFxEAAABqAZ5hdEL/AAAQ3fAitEDp\n",
       "MpwnLyzV+fa9zAABC/oKT3P3/ebqBBQ9mqzmSfNe+UbNtLn4y+wl3E1NW2T+1gvuiZzXnZFvFExm\n",
       "a6XIE9yIYXbPw7y9xckBQ2kjY8glb/SWTPuyVzyRjkAJuAAAAE8BnmNqQv8AAC/KgZ3hyq9qDZET\n",
       "KjtXvcHuii4XsqgfwBRJv//RiAGyST/vewDU2LGx/vMjT8ieVBGcvFm+d/BnGcPtgyI4Sdjaw8fS\n",
       "AAspAAACr0GaaEmoQWiZTAgh//6qVQADKSq7EkH4gh7tv7c2j0cMTWCG2AAqBa8f438S0KElqnyZ\n",
       "Z/xgZXQJ8hmWvyko4yDI/WH9acgH83WpuzI8UyULGYxe3ReczyaNHwpU5C0ipIc+iu6T22RTez5Q\n",
       "icltMh2PoOtGxBtFBpqF7ZKdAHszSFjhSPzt1fyc8Fa0DQZI6WAKb9vV5KTwObmFvDmvs7duw3zP\n",
       "exZ8fPgyWNzYYMxVf14aEQnWLQR3KALnnQRdwYXkAdAOn2NLb5AA7Ml5yGylW3uIk4ZWSWwcjrlj\n",
       "q5J22W/HBji46I8JCSl/7k2lvkkvabHD6+ucaHlfjdMLCXe+Q6ZRJD7edbn/pSCNUfzCQ9ZSUkms\n",
       "YoBF6Xr0PrgUgV/6xltnOPHJhuTYWXOOLyQO3b/Sx9nh2EozkwVX9OXlMApLHLRRHoo62x6YVW2A\n",
       "UYcZLufmIFZqGj+H3exdyb0SEwhgEF6IY67/pzC2Q3ecwqeA96za1ni7/gjyLieKYxFuiuIb3/t1\n",
       "zMAGHrkei8rMf6dmfXW00xW6UIcHPgAzH4lDygEPKz4ALixy69pju7f5imx9EVUH/OoGo4IIx3E7\n",
       "hSeI2NcmBgho00CLahUciMgNJxwYaDVcqMxPhBvVT4vu1JTj8IeEd4E+YfLpbiWSN+dEKyFiewgg\n",
       "xiIR4wmJQ1ZDrUBrEkDcN0f+y8h7g0qdEWeaHw9bSH3CevRca2Fq8Z4pzEislVWXwH5KmrjNq6pq\n",
       "HF7W4BNcJ7KKTTke7NtnOtF4+L1EjG/he1i3/JXHcyNCsGYAQ7eFA4Yh7RopqN3cRJx/hfUnvvLZ\n",
       "F+vAH79M1fu6WMcmWxCGG9CI09+gkEdy4fEtEeU6MmMHNo+IZUwzodmEoV2kAWuDbO39Hl+u9rhG\n",
       "YtxQ5YE5eRkHHQAAASNBnoZFESwz/wAAI6+t5jLWVeIBjKiSME7IKGQBvTyiu4u4STBxczDIIX5I\n",
       "QEqgYFIt2mD0DYHxP7d7Q91EIJ3bdO1jJtkKysdDZTIr94scDqljUYje97XsPS51vHyVqc7Zn0Ff\n",
       "iaj6aNg7fOIZdT8cFamx5YFBtuKxfZeiiz7ueydlvKPaxSjQxIJxDhrGzqcWwa9HJ24Dr+JGbptS\n",
       "+EReAJGAtGr1rbvDoPjlUygrzvoDM8CQpnmcjkC+piXpHCh+JSIOT1/lOfVyqmIWy4ZrrgsUfhoq\n",
       "K5IdHZVKHcFFPKRMRovCDkGUjsM/1zBBFzfYKgy7T692Sr+sC5XcemLd4+DcML2S55YHIUE+yM/H\n",
       "Dd4C8Mmmt5snDlsvQDMpaE8hAdMAAAA/AZ6ldEL/AAAR3gDoODe3LvsZqYY6nxeUAie5fFvO1pxf\n",
       "9k4ADhqJQFCwslEU9IL8agqXA6lnB7h5dquOpANTAAAAVgGep2pC/wAAMQkaZMJSXuPQ02ajJG6m\n",
       "BZEABrWKHPFUwEC6pV247MRSn60VYt5OSFedsGFI2cFfe85Fp5EiuHkSfAZ8LxBnaHJjc+zsXWS9\n",
       "gljDPgiYAAACUEGarEmoQWyZTAgh//6qVQAAHU/K4gNg+0wHfKxLYWq4mc15gyeOR832jlP30ZZg\n",
       "YYxA+syO9DWTiMENI0MImwdUIMC3fdpEHOhbkZnt9vqWZL8ZVJfASBUk89FqmJftQ9V7p80ZHG/3\n",
       "CQcWVKFdJOFvDXVJt1hQz29UEYHMQ/6+rXdMkSP11kVXLbuGiPXNF1Tx3KVY/5dyz/uk+g2d9i0Z\n",
       "unltPODcBlpQADSXvjb3C/w6cyYBJ6defljdp9rvTGtKjdzP2e5MeiPgtDh73AaR6OoE1JCzViZE\n",
       "QUsHpIx+5YfwOoGKdo3gLf+E/qoG2kC/YamFB+xuwlyUR1besHy6c+fMykU7bfTe2Hp0C4VutKwe\n",
       "VjF9KUMmIEGYmidP8NYhHTAolg5OYk0FCnXIGt0iNzsOctfjGbFurAC/U7Mcr1kzeKmDRtcXNjhW\n",
       "VF/fDxmge2FrOrMT5W8YpqJy2b//lqskDrCRK1qUzBdtLHXzmhxZ0i/qfXtLFgRGKBpnkpJqpe6p\n",
       "3cQjs0YVzvRWrtbxfSXCGIqeAQUdRGsfUcc9sf9wesgxKzRDBlqHW/K/Mpky0PR9tX5MlpUWbpkb\n",
       "DD6mL8hKrlmfsWX+kt0PCvvESUjDKYQ8BT52WIyzfEmRUvCNTzcvxT4SI3b6MXH93ESL+tIGmO3c\n",
       "kBGbBWhbAKhGjWGYx4rknyrUeU7Pm/5BhE1gq2uutbaO/ZB6sBmeVNk9f7EFw9IbWIuEAz4fVQoH\n",
       "jWWityUhvYYNXKIi4SXibHPj5t1A0dTZZHQxoepjHyAAAAEXQZ7KRRUsM/8AAGSNjlZ3y5LDeRvx\n",
       "YM3lpRM4neaS7cUg40occjiGfRYRTjk6Dew+nzlHdrD8Ge6eBhVO2HunfFJVa8sjnoLx9GeTSZ0K\n",
       "unqyfED80XWhRgUI2uY02772vmjFIoZZWPnRmUNokJ1N0AoAypm+0ALPCVv/9DYnBoecwoWsv2iy\n",
       "qtTBqrNMGkaTP49mSgIiohELrEfxWEijmDKO7rcomUZQdNVdf4x/fpYJYSyRU7aqIBcoBMRZoQh5\n",
       "+e2pEai7o0FZPB4ozncClkr/geZHNIrCPLr+Jg+5NZsYW9KEk+qDohKgCmv5Y+qyiFcDWq8EgUHs\n",
       "groE2kUNBlwFqBLBeqyGtoPn3joczTzYZHLcop3pAAAAWAGe6XRC/wAAgvIFgll0659xzAcJAlQG\n",
       "hnYcYK0Bwh413BwEI4yGMrXvaW2wdLfRlWfHI8ftWSP/AJQKBCo498/7jBHi+JPeW3+PdmNTuTdf\n",
       "e/+tW4DxAW0AAAAvAZ7rakL/AACG4vFceg6dUrKkzB+8o0ixVhK/aAeTdtwgxwQw9dGzgDND6e3k\n",
       "Az4AAAIjQZrwSahBbJlMCCH//qpVAAAd0wLVKeARfIDbq84XWUnQAdkiERDwOOFRP0dskSCXPZqa\n",
       "iyhX88p9ljupK5Z7//15eI/6qEKMepGtjIzdrRo2pfwWfurpN85ncRki/MFuY444BGDhX/oAJyZ/\n",
       "BgU3N4r7F+gOp2p/r5k5ofZ7uTM4lFNn10yxJ0GKnLv8fhjWP+/rkPQYDs8Ik/2GcS5t9H+qMcq7\n",
       "dceGMYOpJ77qTSVIt2+12jwe6ihcXAKH2lusMKE4+EPTag2xCNnSVvuA7Rs+qrbNr+VllyJbnLQ7\n",
       "PfBogvhS2nLxqx8bPoqk9rU4e7JoEmny6R8+l85OZMw7Jes/GWKyz2sxVfZ3zWrJXnpujctLYIAC\n",
       "jDieEywf4lBHiXUpauODp6XFzlQgGk2U6j6HT+4T617i3UgxCHRAu4dbxw4aRLZTCkVGc/bgFjGQ\n",
       "6EnOg/WY+8txEsgHncq6/o/T7bTPmYkDMf4bfKH1CFDmmFHP1+CtDsyWhS4vu8NYoBqZE6sqkdNT\n",
       "7dDmEVRqazuZpqMJ4eQ8Nyi4CP2CHVZBOVoahQjdUOIYzJA9/Oao/BsaOJ7fqqgNIT/tOMLGjT98\n",
       "uX1uYOP8xpwa9n7WFXpYTGijkZhWdarmCOUCTvit47lvDgcNju20KzIqqDiqVMFywuoZYURRvhwx\n",
       "QS1sxeG/cnHujIp2eZ6AchG9ZBrAaFu9H2Yd8L9BBpYLi2lkXZeh3wAAALFBnw5FFSwz/wAAJrcd\n",
       "AFLJ/o8Gds7V5wSFORvPSIBIHHEQWEaJK9nNnyRxOCDzrffriNc7uMzJWBTn86QtVxItLmsvrVlP\n",
       "Gt40a8DmWwgKAMMlrr3lCll59IO/KbSx7mnRpRvm3g4D18QyuLds5r/Tob79QrwxHPYnuSCbd5YY\n",
       "UFlqEiUrxpuJY8Pm67u2vV2iA7/MSVFc6SxvaTTkq1gE03ZYlHknjo5i9ZmFCY6chH0AAABIAZ8t\n",
       "dEL/AACK8gWCA3HFNHoRdGwiDUEro6kTD/XHJqO9/5IEWMUsar6IyDZBCtASFYW1GqngBukbDyZ3\n",
       "9WEt/ZUVxvil4C7hAAAARQGfL2pC/wAAfv47yZhhvoBn4UfVt5IUthD1uya2QEPNwpcFpDinGZUk\n",
       "vivpHboFygDACc1L+zbSnrsvvSrDGNbeJEAEDAAAAdpBmzRJqEFsmUwIIf/+qlUAAB6fbXmmo031\n",
       "AP3xAU3H3YKO3otJfNZqlPcHiRoESrCv9Btwdfy1IeM/8mBulgHlV8NKKjyBaRrT+8ZK+KSDfFrK\n",
       "Wc0XFHkS6cGuUYW1MmtSDvBgbja+o9dw9GJBYjRVBBAwWgbTQGiPOlHYi7TFNpe54Q5xpWJLCnUR\n",
       "WvLuzfhM0pbzKquI0SIzP4SzTskUxOUfA3H4ubNwDdgRoW8Vl37IJlWcaUrLrQFPK8Epc4YohOR6\n",
       "gdOgUYp9xEhyOseKto6Prs8/4Kn7JZTUL9fx9UUevTYFOQquaCn+ZCTXIdb9/YkYmNsJgF3NDt1s\n",
       "OmQImbW/4Rwmp18PDNwElVBt0+k1L4MU0ic0ccHeOE7xh9sCmy+1WHikyZG8f1rwI9WHh9X4561K\n",
       "ooN5z2xAG1HnFZ9VZWET7Tp6ru6rQ3GFI22rNdEzTPT0oCkmPhmlUgp11NqPS+GT1bCMDVMVdZqf\n",
       "MuM9UuY9eLDYRjcKVwB8WndrmmZgrubpVJcD5fH7zPoEIHBh7co+BIZ4TK/jhmDKjSadrDyyIfbZ\n",
       "dMzNyofFAfUWDd0u9yll319htquo6jdaUVf1sMBeAni4aF6Un5rEOnGgegUZsfVdD9wAAADVQZ9S\n",
       "RRUsM/8AACfQJDNupRlfnPr3i2LCKgASbw8ZBoQCIK8U4dVkQfSbI5GwpY1Pg0Ov7ADuKG5JXw82\n",
       "7QpH6pUrUeDZXzmKGSDqcunea3/9JMGQyDJIZz4TgUubXnjCesj1TXWKLu25nLMneWSCCEmrHhbn\n",
       "Xh7DIEmVycTN1+laCnccTsJaAeW/NFfI+pR3pKJ3YxhmTuFWzdk2wAfspXem5E2bKUBltQ1H7uyz\n",
       "jlLQKNf6n+pcKHpTGuAWCDrU7UskzNdpe2YXoiJw1VawQkwgwB0xAAAAOQGfcXRC/wAAguhljzns\n",
       "TVMFLpaiQoKzHT41WkD3XF45xN95US/yCKOmqUQ3MRqJ0FoQseG6OIAtoAAAADABn3NqQv8AAILO\n",
       "vcEjzoJUvq3soBaJaZJeLqIAMWQMCmXBw+IYjEGUODiYjv1IDFgAAAIaQZt4SahBbJlMCCH//qpV\n",
       "AAAer3qVkr6/lqJjEOp03GNYNnSzVw8wD8VC3B5lTXt7PkDZAA7EtPqE0orSUpaYKViCJynkk/QJ\n",
       "ukG7XKIe5Ms0jT5zvrr/E0llHrxpO34j7+rFmrvbbKPaOLBW7I6CvXXMyZ1SPjcnB2eDznF5zEuF\n",
       "UDm4GlmSZtTHm1556GcVdprZJPKX7JNAuvwjBsQVx02tB1b73GxqcDInJXcsFtIk9w+sQ96lZqSw\n",
       "30MWO3krsz8kGURV4If6Ux//wK2WS6ePFqR3HXaBgFYDbzUeb4bwSxnw/cl8KtoG0Gbiw2JlQ/O1\n",
       "K0zlYCL0JBgeLqX5WqHzj1LT747hzDzYag1fxa3XpOPsnksrc7UGSUpQzdAQCs9Ynr1Www1mh62W\n",
       "u6i4zmAATTldyBDs8UC2N7si8KIRhf/w1q5hJ/OZWEtk+6MRs4FJuoMuFDY7fl5Fsyc9xpMiYkW5\n",
       "1IdWBI7WRRcq/XUt11L2SmpZwtQKataCcuWAeEEbFDBPPXgAMq1pfNtjGqdq1na8E2pkNc93B4cr\n",
       "PLPB+1ihNNyb5FY6vZyllFGLhE2zgBhc4Njp9LDo1kAmhz+CEV1wpcUjqALX536o7e9dbnwsCsYC\n",
       "cimLsOFO+S/GP8lC3bsNAEnc5DmcotdVhsFFMMerlYSTdLyc5s/2tGKLshZxXIppiBvOfjxRvsst\n",
       "76xSahPjggh6QQAAAQdBn5ZFFSwz/wAAZv4EGb3WbJo6tvahV/1jVxSgH5+/clJYtygDyauTS8PL\n",
       "BC3vC7lKIn9c+hXS2erZl0NiHE3pHe4tygP0L/oPwYohIA3gAWXiqS/zF9iNUgYXGMBBKJ3aaNnO\n",
       "GJ698RoUDnW6BX4CVcvdQQWm2HBhBMhUohryoEGIG/942SI5UCs1QcyGOUkwuYmBFyn4e5gHPK0J\n",
       "JzmCShU+kKMm+OUX2vhq0TL8zJy8/74loiU9Dk8U3mYMWrub+5WhwzXmKGSqz5K9YeVoC4tz44/h\n",
       "e3JFtMKltMohZ630wz1jaPNSro6UC+jzbetEb3w9Cbvo0KwoIr36TCVLh6AvN/gi4AAAADkBn7V0\n",
       "Qv8AABPj3baGcorFTieXi6H2Q2kAzTUJmfo+Q0/hL2XTrjxwSfrn9frPhhzx/XgMWY2gRsEAAAA0\n",
       "AZ+3akL/AACOzreNwA/AHcnodh3ygduxY/QEoFq8guq8FaA/Lz6g9mJKtg4bjYeOEAAV8QAAAeFB\n",
       "m7xJqEFsmUwIf//+qZYAAC27mGMHURzgMorsSuzBBXPtBo1ll7njSxdbFeZA+94kCITOHmu+HV54\n",
       "+yqyUUtMmcQCQwP2YypjbArHb3Mnf/7t142EAHWv3x9v58blqs754hDlZ/PMCNtH3MczvSMVZ/FY\n",
       "LPkXV7sb2kz7nNpxCwZDY5wrYkXc9OxcsO/3GpFHF/w77COzfRtfExjZMOK6oH0APm0cUTAolBv0\n",
       "IkMwwRLqLEIQQThnQVtYIvyxYyswyF7hamoC5N7GRfAxXK4hGIdRZnfTf38DzEiXXxwWFZ79yrUQ\n",
       "8+CNiHZ4JC0yszSzPUmP6oXoFQIn6C92fd09+H6vYoZ8R5b08Jkf9Da7JaHBfQRUMZBkMcXqeUfT\n",
       "2JvOn+AUBEaiJ9LH6qb/zX/07tN1DBRO5ZmDZ/meGsyFEhk4V/5Yb+6bgn4drqxARVA/7j62L44Y\n",
       "ZbnvkZmnz+gXTO3wpiiuXUrahJcX0SUxVm1nAkLXFYq3te1d/j6xU+xE5vUiT/RimTXLJeb3DN/R\n",
       "3k2X6JgbiFZVNCeH1WTzNYo45PkBApw3/qztkEtbxmDqQ/9L0KMnHsGJgdjhFw04ctbtq7HVcw/I\n",
       "O29G2Cl+kwOztgSliqFTXxnZbbo+hDLgAAAA90Gf2kUVLDP/AAAluo4e/qC+D2PRtw6YNdHnfRRP\n",
       "S3xQDvGDeVQFu6MCY0YO8Ssh8E8PVmtr2Jb7aNf8TZ47/yLm6oZYwteq6QZolF6VZSocbLiiv5MX\n",
       "+j4y8L4XcgforwhnWg999mLRXcRtfubiTidADycBKiSiPSOFJ1OULNCbdWC7vzdhIDEO2T6Tv3LR\n",
       "BBvRSGDLHoQKexmeYrfrMpxlK7p2Mg4EZdadmJXIQD07o2hLyRK/kqR1casb5Id1nNIRy3+9Dlv0\n",
       "DoD8nkjKipTnhj7w390PoRGAA1iTLX95IOHXPIaPiZgDm7modSaKu/2oMu3MAz8AAAA3AZ/5dEL/\n",
       "AAADAqFJUTE70FzPbu1sGoRvKdjZZfG2gCqWLia+Hfw12NwArSAnFm+mJ3EWJ0BvQAAAADYBn/tq\n",
       "Qv8AADYBg5P/gWAfnuQ7docweY1wJTRo9SWsxoeQKH7yuN8gXtH0chJogb93GPMAB80AAAHqQZvg\n",
       "SahBbJlMCH///qmWAAAt/wra8PUE2xZvQ7CJH7nmzFRVfGKpDI2WGbzASqVLCKk0fcA6L8dDgr6k\n",
       "udJAIJW4pqkTVxcNliVBztdDzf4KOc7xDdT0a4i9aU29rbK7DAbOkN/1aS0wWDf/uk7vENOC36Ak\n",
       "yo6qx5Rn81ltCYHlkVgqEMWX7Ow4raVrtqnfd8zY42YOtZiEMC9UxBhlaD4CLNiamH8lsML5UEfs\n",
       "HoJBreFsde0qAyIGYuBmpq/6xlpErDzSSE+UMaumUwcTwP+Mjj9avBPUeFlbl0xEcwsfwlP1G02G\n",
       "w3BZL2cmFt+1qLnm+qAy09Enu2ZUkqnkYAQz9jIAtkDrER/CJI5nCPMYjv7UPthYq6RRKJRrmZW1\n",
       "V+O1NDQ55qkZk2tzwAQdJg/m+2vPaO6PoEvIDqtjbda4PXqKCVup5KYguuy7PAYx/NzuXKWyEYaq\n",
       "oAO3aBhnEUFacHIgzbQwdYcH1n7fptit9VzYLPVhzPqfvxsStd5QLkm3xUkBgr130UxkMpV+22Fp\n",
       "gKJHic+vrwrEnCKE/rVs71lk8kPZFna2GzzvmgarkvHj7dJE+6ver72zKnYBTOHugZyNXI4q3vQ6\n",
       "+SZkeI+dMTCphGXwgSVEVkxdSlTkw68vJZgpczIKCQAAAQRBnh5FFSwz/wAAJ8oL6PuBQQxwvmMX\n",
       "wqn92Bc6gWStu7ce6H81lnd6ekPNjjVrLL6P/BMZ2PFxC4r/uuqMl9HXHPp6GmCH46b84N1TB1AP\n",
       "cyn+M8N1WocnbpH63gR9uFHFPaX/paoLRkmZFgSMt0xcK8O0vgVYxUaf8SaVJ7WnV5i0NTiuoy0C\n",
       "WvGAz/pjpVk/qR4C/dFNBh+u7u7zlaqA6CuYE+zwKQoCsCLOXGBlrzaLfjtUI7cdIMoh/iB1bouX\n",
       "ayGZs+wW5mKqwqqPCZKa4esNCMoneWFl8hAdF7pBEDaAoPEYPrMAYfHs9nKD9fKvnbtJu6UagWg6\n",
       "mi0qajP4SpAIuAAAAFUBnj10Qv8AADX+ERY3/4S8p7Sn0PGYodDXDvdJtqOiZP9Cp/LOxtlM7iZf\n",
       "jV4fGprQFI5WtDfAZaJARd6CfqRQFuWDPHivZmpgweGu/A8VMxLAAI2AAAAASAGeP2pC/wAAE+YT\n",
       "FXhC03PfmHBpmVZRvalfjlutAwa9zrAO5g1Anua6y/GX6m2qxPoBYxbTQEABmOCV2Nc8JeV2wPI8\n",
       "dPotoQAAAe9BmiRJqEFsmUwIf//+qZYAABAfmJcRzPKf4v0zJeAG/NYKDG9Dftf2C8QkBuwqt9OD\n",
       "RYjq58M8gfv/tRa/9AJ3VTsi+a1bw4oY0IaPqIPd0MbDkSVgQQnqJyrJG6qafbq5XGgYgjmwBcTy\n",
       "OPRfHYP4BvPk7nG2Rc3r9zS07NYOuJRQHOnJfx+GhO6qGB42y/g9h0SFErP3v/CnJsIsDJin+fW9\n",
       "2p/hPv/GCSdbEtWqfFq6v/xdQ9eHyUAtK31I6Oyhr8D4Ps/L7EKqhq4uR/xeR+pUMC6cRG+nRbyB\n",
       "6fciv0iPV/KgqbshhIu8Zmni/WPVQ8Dt9ev40pguZQEsbcaGHyRewagUF1dYMJ7nfnUB7gWgL64x\n",
       "dA39ldUWgdGMIiETbOEef/gCWHXtvyEyQrr51XKJzgxjDy1NdDPopk0XhfhdLtFDOA87J6YrzwLO\n",
       "0VNLAb09t22gcbBkys1691DZaZIlz/uEJjKxgBOG96xEpW6JZSaUIcZ334M+lGR2gC2SgAqrXOyA\n",
       "AW/0+pirQnEcjHUb19mq8kWAqNN04v67SRWRRDXEuq0t52ULgXlBoDbi6Ct/keP2quUfdb3ibjVF\n",
       "GvcJ6ipCNgMhTApVz3QPFN6ohpW+gB42Vu+OOj85J+34yK0Kcc+N/Hrl9wGhArYAAADdQZ5CRRUs\n",
       "M/8AAA4nGr3afHP6dIRTKHtpthWo7bh1qka4VlTCmKQuECKTCfxjlS5xXpI3Xn8UMTHcto22Jj/C\n",
       "/SLyJhM++P8f1oQtz9/g1jXZaZG0ZsSn1HFeKeQ1lVtEt4vyJpO4ROwfPxCy+hAJgUuuP/BpJxI9\n",
       "mrgAIPQLsxHJ6GEMCWm3CXckhtnwJjXAMl5ymYhDaFmLaxw2w+o34ZezjDKpguFqxJ8a/89qgmP8\n",
       "oKQ04pRGkZWy7MK2cDWPpe/LEmE73dul/x6Bz/y/X6hpyhkic5IvOiWAGXEAAABPAZ5hdEL/AAAT\n",
       "WT3NabPRgZwlL6LGDb4cwDQVj9owCJmoix/+JaXoz7kVr4oWl+I741rcHIZHPbvJOF+j75V8YfxK\n",
       "gaL9TrvLpM6+UgAR8AAAAEMBnmNqQv8AAAc/6DhVQ0Xj6PR2jV1x40V72jr90n61sYzehpvxA4wH\n",
       "GvsY6vDejXUWEZPl+/bQmsSntYdTySosWAE3AAAB50GaaEmoQWyZTAh///6plgAADafiAAKWGk6Z\n",
       "wkWFkL5h3X/5QfHf1/tOZfF76fEI+mXFXv9wCJ/mVUtNJSovnNCUwEajcHhnblnZsgD0XRZW+LZn\n",
       "mDWayveXkqka1huE/BFut1gjC8WTFdE2/zA1QVu4d9IgF4o6B4vp8P1fs++WIvzC3RXAeGJL6vR0\n",
       "E2zJcslTtKpXzjrlgyaEj/SxsKlhLK85ovnqNwzI+KfzDIVwMreCmCEYqDE1MtdXVhv0RIx6E2xh\n",
       "fNt5+P7GSfVoiNTMVt3caN0HfFoH4K7Q1gfGGa3RzSSKeEfvLy4/pexXqRavkemO5kqoXiQrmPBR\n",
       "QE7OU7QJToUU5884nTGV9fyFjpCmdZNsDDhZObmGO20tjNiOLQhgcsNsxaDBkd5qJv5ILWT0G4Xv\n",
       "EKG2mSNo4HtgpdMb5KEwsQ0xsVgEQGQJ1oQZY5Q9m9/EnE5ZzyMHF2jsJnMcpRedQ92FrWXq50Io\n",
       "3oP2a/XH+zil+41uzOzIQnEt/W+LZdt8pllU/wSn7TCHjfiZicOMDu1JOchlyUM9zxEa/uQz/w1k\n",
       "knMKZXRm8cWT/H5N/3HsAHNQGh7IpTt2lUjU2zEKGCCVph4t84vBEWIZXLkW713Fn/wjPzhLPRMF\n",
       "7PxAl4EAAADGQZ6GRRUsM/8AAAvxrNRmQ3w55HKvLl+gtZY7uQ3mJSPsfYWKiChIM0KM4IkxXxFS\n",
       "vXKTb58sFQv5S3XcQ6qChp61rX0+1kW1rwSppsMTOEBB0JiZKmBk0eKyfckOp3oR5z9ZVQv3ltE8\n",
       "8mlR0KLDvNJEE+Tx01Fe1Kx9DSLgd7F/vQMzAhQGuj2dzju2sh1o6ZZ42DtNJcFBSOWiawsfrlKi\n",
       "rihFQwvKlT4Yn4e0YS7a7HY4kfePLb5NeLS/I2GgrGgm+AflAAAAUgGepXRC/wAABxNb+LIszubh\n",
       "63mbnRR8NUsRMwsD713MuHu3mxq2YCVFbOGGsrnvhYTt65Rm7fDg5Y3toE1fZ7NrQrZ7aKVJQ0P3\n",
       "p1u4GygAIOEAAAA7AZ6nakL/AAAP4mbFSZiQi0YIJydTbNhdezPyarMvagpmwSk9NpmU0fYs8B4E\n",
       "k7eAchGhqrNBUkAAg4AAAAHaQZqsSahBbJlMCHf//qmWAAAnBtdgCXptHFD1i049elY7i32WJ1B9\n",
       "bVVobcnMdNurDFyQOhFyEAOnrPLeGldRh73juslcY4Jrwr4lKZB9lWB4gamyjasJsO1Uoab7yJxN\n",
       "VqxpisNY0nKBQLYvU76XqTw10fr69Fj1Mke6Y60LyyZ7qeGe/TdQMvKEwK6Nyz5Ej4UvV8ohsdRk\n",
       "VmCO830JlDarkszJr76NbKwUe/JdvQo1xvrGSa3eCuGzvm9uAoIHWgPfYemfVcXayzzUPS32B7ZN\n",
       "q2lf/HKyCNjcT3gbJuN9hGWljbaeIs7wfIYEvArzEa7aWnT0QX6oAjg2HJgLZW0Clhm+bmv2xffU\n",
       "oOUwJXIz2M7jY8XwN4yjV/8o0TqZG8NRsJHuKaLQCmt+W8NtKG4tZPo6nuSlERTPPx+CBEkIdr6A\n",
       "poTtKZuDPdL2jb8lhSxsx/cLU0GYMzpBvyxfjdBxudBg3tW7FM/PnY4zx+TpaXoRB2ctkqJPXyhf\n",
       "X3cE3CRYwOF7alV0N2wvTjLWLUWC5xnM/UfZ+LSdgIgbF8do/YSuCiHaxkWlRXNB3OZNEOKniT6O\n",
       "82DsHSKOrsg3x/isjGDXtqKWxe6Ein1KaxrgI3EyUjjcZYQsAAAA6kGeykUVLDP/AAAhtw9e8x3i\n",
       "OZAa/+ih18EtNSIKF+MQKq58LH/UaLMHPfEysYxCzjcwceoKt2ObDRUSaU+44i7o0A98RvCnt5ja\n",
       "HurqFdKTtRIbqSRfqcWOJQMiZ28mBqOMptnP21aaGKpjYkHbFSpRzdMXIkiAw+7of6qGmCU7l7Cw\n",
       "CfHJK0IdRAcfP3Rh1SLjMYtz5NOVckxDcNM7eNQZ7lPbnPDRK3bKc98XVEfhLD/U33KP9yWV+bbJ\n",
       "e32cNZucbnW10JjdZ3T21ibKaZ/OTssK49egeRbPOY48cWpxeBTsG7jLOABnwQAAAEIBnul0Qv8A\n",
       "AC12UFOSOpJMPYW83z3q3mfVfwK26ZE+78/kTA/QeisghZVNK0mNdjS/115QuVXlZkdRwADSWP6A\n",
       "W0AAAABLAZ7rakL/AAAulTEuWaeEom/0lp4pkQSpdldRmjD8vaDKkXhw+okmcwLnthbnZaE1MKlJ\n",
       "bAN8u29VhRnhry0WqSMT2A4lt6AEMgGpAAAB20Ga8EmoQWyZTAhv//6nhAAA0tgzJyxwAoY+XlR/\n",
       "jFcI2x2SPAuPBb/iAY19ff+/9Yp96uN15+dW5PWs59hq5DtWJN4sDtOIIojMbPwXL4Bg/2tCkSp/\n",
       "pC0+j3KRLM8rw1E4LN6GpjhmcnPvOxTISgdQgthkY4vG5XV+6wuBy1wQU29GCS82NNVpb/5p3/YO\n",
       "Z72Oj3dKvAvFNUf81HXvHtsjz4ztWV7WrlsfrAJbVepdzqJQj+zJQ/FoDZ2+OmovykPwACwfzNo2\n",
       "c1kATsGahCrfkRW2CW/zv/3bBBwgNpKKuXFfWzo14mRjMFqa/UcQIXgZ9Kdrc1GmPfr1ZCxIf8Ll\n",
       "d1megNg8mbAr/q5cgLLb1ozMHWCVQr0GBMuG712QXbNSDjEeURQwrcppaz50+Ih4Nn0seYlO2xRM\n",
       "CPctBOaMO7SZ1MzFAtDEbyVUGaUC6IyaDRGqC9CfpW3svBg2x08NdkAhOcN2k8XRGfJtVr7LXThF\n",
       "k2NBECBzPvAvjzie7g/J4inC9LrnFZs+VT+78E43HpF614gjBaGfBZo65eJCdBj1uopdIqLxZ//W\n",
       "Y06cRud9xEXxtcmXYr3vdOk6cp/nfChAWWBWi9fk3dEyXgw4AZ9vYAACiiUobcEAAAEHQZ8ORRUs\n",
       "M/8AAF0gJ89iTjj8vJDGGg2W1854uEgaR7Bb7MplAaaZoesAPy9Yl24RL4+DdC9ncB0pG0QF5sRd\n",
       "mLfgAtOmYuCgmdDoH20ok+x5uDOWSVp4wvZqMI++a2tOIJovHWlsV0WEGbEZSpgUvmuesiSotT9y\n",
       "u7CI5hWdd+PNU9lhFHcYqpIn354BFQStct6id04wgVZwHa9ywMt5yJTT4hFxwzy0Iq5FUn3GVCVa\n",
       "MwguoRbOfrbRiWCdWi49dV8EDK2OM8QJk+8+FCuSbJHgA1vDQpqrktxo33fEl8At/RDtpUzgCIoR\n",
       "BljUociGgFQFoRfvzfVXVanNIx3xqwgX6ecAKUMAAABPAZ8tdEL/AAB5mVbLOQ79oqnrrSP2lhXQ\n",
       "DbwermZk8MpwT+iEqQvRUiqNXoZPIds6DPa76cojsQEFwuPXAhbQUbNsHY6xOimytSSM5XySMQAA\n",
       "AE8Bny9qQv8AAHQImKQkxTelI9OwsZs3uiSi0XI4GQsMmEFYWXQKd1t/ip33UF1rOtVARNWD6sEp\n",
       "DK2ENmQyMoAvZe8nwmrN4nIlP4QeAF3AAAAB60GbNEmoQWyZTAh3//6plgABMf0MIJybutgoPdHp\n",
       "bsZYzouGbcwWIPrAKxGp8tgdWVGjiWwX7VBArsW7//3p2AX8PFP3y0CUo10afHII7TeQPvNJuSJK\n",
       "TkxqRQ7qjMnMyFpXaeeUZiPOz1E901Ez6dkrnL0lhplSUrbb0JWm8L3NA2CjQzP+pLEPuHIDXFVs\n",
       "9vRCrukcQXp1oe5kBydCi7qmZsIIomR2s1m7nO05cDovyW4RESom1IJUu2KokdyAswy8rA1IZMTN\n",
       "xUtf/vqJElCXFqa4WwZBifIVedl+en3z2IFzwZFdpnOrRXlwRRuM4xnv2QFXA3+upjQxmMqsklfS\n",
       "x6e+DcuYJxqTDuls9fuVvSAuQIQgoGEwQKuLTUrXsSCWmRATmyhHAwwnuZuqof8TDD3KdpE0K2Kp\n",
       "DkVVDOA86B9KVlHjV7poxAfKfPeLTB6IYCHJWvvZLQLrDzIX/e3yx37WX/YvnJ0z3VhYW5NHZjBK\n",
       "p7BjhDMzOKbXQzDFLHv+RVgR39wjCqnbtVfweP++CpbAqkc/bhJKNS/52BvZdzd8RLDqX/JAhsQS\n",
       "e9v/iJX9bKSyq7BiP8v6YAxSkVsvhIknh1ElKxR4JgcUdR7a+/DxhHC7wygo4QFORIazFR6xe//j\n",
       "wJwW49bJAAABH0GfUkUVLDP/AAEFuIBr6q4ASYEk+GG5dq+VqQJE+NosQ6+iApI8wwTteq4j+q2Z\n",
       "0qjHIh3q37sMPf3GlMJsj3BcpYIqoa+6P6dtaXYKzVaK5Fe1q8XKoEj+L4/EQbnSwJs/qee+y0Ec\n",
       "XGnel7muj3n2qIvmsXMQ1njb3jqwIYDv3oJbQ4cOFo/InoCnXdpHnvBWoDbKm7CmF9sJ2aZQX5UZ\n",
       "q+gusRZOScYWb1hAQSsIFPnUHikH+Hi1mA3z67+34hlMYwZNjHonPQeOjvC15FTY0qwJtGBZoJ8u\n",
       "LIDpWESUA8rFwodaVS1c4hOCVscdWa+SUo8HSVnl3DAy8ohWdksY0iqzcRNykUP5YuGn8lqBRwKC\n",
       "k0sI1rcFik5rIAKnAAAATQGfcXRC/wABULKCoGtePEEKEcjstbZigL5FZ7O182AaRfO/89Cq65L9\n",
       "kqIISrdPrSSzDhdJVQSEyToV7TVIGN8DVJZ4iL+zDQesgBQQAAAATgGfc2pC/wABYoEHHpFktHUj\n",
       "MCQcjXJQii6fYA9Z+hNHIgLDBPHki9J+LTUPt/YcVJVXhfkEjcv1DrLbNYmvfO2vGeNb158NtS90\n",
       "eACkgAAAAe1Bm3hJqEFsmUwIb//+p4QABp/zpghbfdoQLFSkaAVtinAprnCkKDoaxNjpvvSuBDX5\n",
       "fTqo3pev0vO8vANjiA56Yxrhey5xaLSuDsWYMAC7NBwhOFVBP+avyrOaE4JeT1bgJE63PZ9xpqcO\n",
       "F+VdBzH6s/VhqsHiQzzVV3vWSyxZg/Xu3081zAGeFrmOIYtiytlnWXSGZPx5l0vdRVYNclp+qQ41\n",
       "YYaUZsgG0dzOaluK/4I3dSQXM3kN+dbdoZfgQ4iRuqN2D3fqgNe/2xmJnSPBxtyMO8sPP2gL0K5T\n",
       "1gYNGdEOyVsqJsPoYHoewKXC1aEPYopTLeYh7HHYakgWhBz7J1i73lcZwJ++4ZNtRPBLhQ31OXcG\n",
       "miOwTfNA4NACvzN5zmPPcuMit2tVZ6VGSYWKklM5PijRusSF++53NAWo2B0Qvo/QK6yENbFPvFHZ\n",
       "mPWENyFN0Z4oTmL9zxlSLa/AvFOSg9vY//mV5+VVli2nvp/7i8ybtVR+PK7xfFiQ4jSev6L2glVZ\n",
       "XdjKuMTqkbdZeX1L/cwd4hOg8XDO5Yk+Sjr2B6EpnoRVb4MVaWKpIIixo9U5a6Ki5ipQsiTE21tz\n",
       "gLDAHPBd8KF1Alza/LlvgzVhxVMFb02idLBBmWQ066VtoBpvVjf/nZE5Kpr1AAABB0GflkUVLDP/\n",
       "AALpAkPvOfeB0HyjF4Hiljaw8eIO2mKLIdIEHehEweuRvDs/x9Ex9UQxgVtOpyUwBZFyf0yypgN1\n",
       "Ow4llqnjTI/wuYPTR2EBdi3PAcS0Dt8xrLLHfErxU9x8W+vCznKh1Arc2YVo36VTevQhadqqXGi4\n",
       "4A8EFC8bYqaR54cYz0xu1hW9Os+B5y56e7APznxjiBOCt5daN1Z+l1xkuCbzAwegubZ0xuQXcpJr\n",
       "7JVSliOVVbEUe2xvypXMXWn/6osokiE3EqDXBse0XE5PFTSRAPhcYVJLBS10MdFEcFharxBMqAY/\n",
       "7M8lmAl2TtXL7KsLo8f3tC5t94XjE0jzABNwAAAAWgGftXRC/wADzMxUNqRNMAUxo1+wcGqzfYwJ\n",
       "3Du2aMFohacZoyULUER2VA1S8Uv1xLwgO3lMHnPmKyTgs4MKU9A5TbnOnDyljwmDtWksHfyzypwc\n",
       "wy6CFvykXQAAAGUBn7dqQv8AA+KYpSawCyH75Jjtlwdhtepjrfjq2r+kcsz6+bvJ5i3GmNJ6nE2I\n",
       "8L2FZmRnsKaC9I/3DdsUOzS4OUIQQDiwYv2W5YAG+EfmtCxGrw2k+0fHPTm3ihnQ9zqcCHCygQAA\n",
       "Ad5Bm7xJqEFsmUwIIf/+qlUAAOkfUFQQ+0tCYHgustHxGgOrfUU9yWeJrZvclgnmC7trFdkJNnON\n",
       "Tz8hPL6oxdDIsgcknStisvR+ru3ARoWctEvnsNlmcy/Xv6mp8qvDj6szQN8264oMbIeovBROfL8N\n",
       "cApVYcvXtqZ2xE4JCd0TPhaLMK7jxSk1XHC+icFzCpCptk3g+Em0E6jJRl/xnkiWTlnvGuf7/4+v\n",
       "DVZjd0JlYlmgZNiWfYjaZcfg7bWGjvh5jPOkDVuKmuijqYa6Ol8A9lm2ciXLahM9ROCjO11dTbQ1\n",
       "jprc9hZazwUWwcZkxRaHR+J+Zkp0BKkecrtFb649TspHTCdbro+hRIstexUiqPotfxa29j94dKfL\n",
       "vyOpwCbqcN1wxNOri0IQTcPO0VVjaqqSZ7c0lW1XEdj/9XYc6YEbLjrTNRb/khKztiDQ7k26pnPa\n",
       "bRuNxw4JppI28Gs8MUCM4WNh3ieS13esB1xZqd3uflNiFWuFgdaf2dLokBsNq9kIMom3z4V7u1ZK\n",
       "Be+fNh6eNmCPcdKtVgNqsAZ4I+31g0MI8+ekG22xsE32h02K0SdFtcFHTH3qbA+6DzWQn2RSfsed\n",
       "WjLLg90Hs4DX1PaCY98fPprBoZljpC3AAAAA6kGf2kUVLDP/AAMkawM6uJxmXzGz/sD6PYIYplZj\n",
       "Iz+GiISLztx1wsEi7Y4DdF7b3uXUg8I5tEvIYBYPUtw2u67sckU+qtUvDtkK3F/rh2x7amCq9eZs\n",
       "l8gzbpyQrx9ayG/LQfQ5fBxco6J8gUh+JprTGB19DlK92uCP8VJfcTxsEZeENXqmDiIxEvQz8a7b\n",
       "Q/d+W1FqYPdKK/C6GAIK2HorGWeFztF/5NkvnFMWiPFkUntfU7iwBZtYLG9NgX6Lc1XyM2BKmLzO\n",
       "MeAmVPB71SvDSobT4Q+xhnn8Ad+KFBxkcEmQGY19/kAekQAAAEoBn/l0Qv8ABBd8CLqDhG5Mmkkf\n",
       "xZv961s2FsYgrYRwCVsPvDwiRL4+m/LuqoeNp7cSMBDBWHrQl0HC5h4qwBEFEh4hzfIbU2QJ2AAA\n",
       "AFUBn/tqQv8ABDc7V2QGQk2CwLot6PtzvvWTyP9VPPlQ9X9dqAzABcEa4BERZQ4N3mjpMQFyxIHj\n",
       "cqyUyOhEbVEGro/DyzYpIujGyz4i8MMlQr5pkGzBAAAB1kGb4EmoQWyZTAgh//6qVQAA73tyU1mN\n",
       "LB5zwkA2g0SDkOcALytK9E5dQ3rAzDiyihboP60sL8i2RKYn0EKg90fIGw83tWl2xOW+WMPBKPoj\n",
       "9q5QSG2hlsmPAoFd7tbPrJFyNKD8g0W0HWSXpU/6v9QYqTtlghgQwGRejwTz5VUj3AsfDcKKBGnR\n",
       "eVgZrD1yoP/21TRSZ+u78SlkuCagUnI2YalTb/7fOn3ej1NewdFsBcfZdIDxe5s1XT/gexQ7s7ji\n",
       "tNN9bcK0c/YdBwyC9rNSslh9L5JWj3sLt7b6xEkwwo/JudJKceYWiQi9AnC6prTVmThLt1/h9XTs\n",
       "3Gy3+Hj8iaPGIsiYSOrzOu9k5y2ce6bS3OaTb5oqES0VkLFC8VRIW4MW5lNV/Nxpsu5I0TSwVGR3\n",
       "a7Z9KmENbyiSUt+xYrQSXcAx6uq7dnOL5zQSgUP5BOixUbjcLW+XqINMazC1ZGQClBTGhrq5+bcQ\n",
       "ufR/TaEd2MpZgs23TNrOgC47MUSY9SbJ3LW2GSxUGlezAn/+hvr+LSW4HjzVfLOPMAAqhbu+4Oxl\n",
       "2vhgZS5rzP8RGYcovuG0ixoOgruAk6cxr63k/AWsCQ1MxAID99EpIuAmp5oqSXjBAAAA1kGeHkUV\n",
       "LDP/AALWoemOWWsAZ0ywAq5TvtfNcXkuCgkMZYYOB/g7et3vBeacsBtpGZb+hU9CG8B+u0oPIg37\n",
       "Q5l5XiWvM1x1AKaD+3zxYiPL12gfXLL0ml3/zjOO6lYCRdk/xIUTHlh6v1ikWnr3un1gQiG55xvs\n",
       "JGkWPjR23Fe0gIvo4aCIQ5RlFQvxuUEYniyG6+kbPpIDMCX1abOH7CNBDrbOjt9S6VZ5sT2fG2rs\n",
       "iRpXtsNU19i3f19Xwne031MIP6+eNclJ+sNar/mfv+7YoMM6DZgAAABcAZ49dEL/AARXgRuSHjo/\n",
       "gz/x+9oreI0hJio80Pic2sKUHadVHeWa4/6lY5lDELBeM8pnDA4Mb6zPrsbULVqKEbnDJTomkzYg\n",
       "0t1vneDHpbBfHNE7weoLUMrCCkgAAABWAZ4/akL/AAQ3OzQwYpcrgv2AcH7tZ9VFE+d7iRU6x2dx\n",
       "rNVFZAREX96hS4UsFv4L/iPAklOtGELg1cRpDzbtmeqZ82WdpnAqS8XBkTwwQuKVIlMXlbEAAAH9\n",
       "QZokSahBbJlMCCH//qpVAAD0+2/YJlcpi16blFEK/dZd2z/4XM6Y8swEpq34Cw1+K/ho0PxLvlK/\n",
       "DJ6gR3hTz9gH9gUKmS+0/Y9Qx3MiRSbu9a7GQwkJ859L/k5GEcjQOmaHtIot6lCo/PNjN9cRd7YY\n",
       "ALJsVEeJty+PZjWYeYMorR6o1ppgCagiaCTUx8ew0fycw95pw6FtNfR1q+CtfJyx8h5eWdadN++h\n",
       "tRwhXBcaXKnX1XExBI2KXDcokUvu+DJ3dmSG5sT0iWe8jm+iFjScoh9MAkKpyFm/f5Oq2TIeDJ3o\n",
       "jtyFCUXEekjJoXdQTfIvcPdbiSBJ75W6xPnNh+4Hk9USLJTc082Faw9Xio3Orr64pWCuEB5bT+Uk\n",
       "7JGVFBXmGUu1PRHGZMgl6xtdad0Fw9qF4Ry0kav/KwzBqJXBbaJvEv2Sl6YPC8xfm945MKyUEgNE\n",
       "gLj+kY365SpuABTqpMSAE7qoGP7KIU5Z/9iQAlYm7q9KYofnF0IOK98J+IcoLzxfg0QvxfZTF203\n",
       "iuO/3+3tNNQTVKit61cXkcM1pCY+DzamRHYOx6E72hC6fLXUhE63Q58syAtgooefK8kyCO5ux8pt\n",
       "awUlOgIiLoI6oMnUWdkwS3AGFboq+N5pKQSr70PYu8gnzs6woWl38WUGxeld1D+X9FPyqSAAAAEX\n",
       "QZ5CRRUsM/8AAyRa81A6Zjs+fx0KFGQqQClzCnuiT/+7EBws7bd10xO2epGAyz6dYh88ch3nIVo5\n",
       "cqqpUr3TeSLrYiW0M3yIOhDJiyWzP3t7ira5ESe3t1O9QAo8wkoF3evhMuTJ/UiXf0bc50snmPPE\n",
       "DWx/AZ9bs25pGfH0S3l9R9hDqRSq6hJHhap/AKMekd0ZcVUay7sM0pQXzPQQwKvAsE9zSfuXn2A1\n",
       "C8IuvZSco+UpW74unKzQqnxNvG4rc9cuPw32DZC7v9/xmEZproFe8Pr15vWytEnsImGqaUIGGIF9\n",
       "wqUDHQoNaZ8Bz2n62idRpThpN2Sjc82piPo2d2hhFyU4rfQoPaeTM0kI3Z1j5R4/Nhb1AAAAbwGe\n",
       "YXRC/wAEdg3t4QoIwttJ030cbL5g+lEaCXZ0JYgNf1JGt61HwRwn4d2i6lFiEnrGZgA4kiyIwmSN\n",
       "Q+l5aT145PMssK9oHRw6TKQby5hdjDBjvs/sDpvj8bdqyMxQwh93cCJe5KM6Bd5qzn1IOAAAAHkB\n",
       "nmNqQv8ABBXMYm/IeXM0XaYkbeuMaGtv0GbG/Ek1me9IAkKer4U6VwbM5SL3fZWOYQhPbUFGm3uc\n",
       "rH4TbW/zYyjkL7lzR0GE02jSy161J401CSAYeOW/aB4PHP0JWW5eeeiv37F9yEWAB/aoLCV0CRK/\n",
       "OMXiikwJAAAB+EGaaEmoQWyZTAgh//6qVQAA9DeCWXgzzH7jMB4AKoE200CyzssdVnuPYDPsbNwP\n",
       "gMrlVmjlgUmRSe4N3p/adzEw7wv0UMO9QdNOemvvvcVEOkozTjVj3pBYh9hwfI83lseQP9UP8y4R\n",
       "F/jYIvYVu8nSdXqRvbUiMKSzadQVwW8wtLlg2QgBdLQCDSpCunU0tQPfmWOZ83BJpLfPdof85YrN\n",
       "0l4ULoRheTI+Y1zU2v2qhbz/ZWAvPvp1VB4oTwaxLPjRODTJhrFyLVkQ0QOVU+JH8bWQM7SPDuHG\n",
       "wuP8dHphaiYMBSHARoaj8TBD2hEdZVNj7D4qOPGgEUf0ozX8da/f49wVbegLovSYkU4mnvVkaDHn\n",
       "ojwxgKstGH7Fhd0MetypB3gMihoWgXGUpnbQwfThY4KG5+td9cViWsXCVpTwqUHsDxrpoRRtj5lH\n",
       "tlBl0yoqU9TMH7zd4MAgdEKp8wKx6OlSNtD+w+FuqoOiYbdRpiDxNwvg02DGjL91RGQacf5uk/uI\n",
       "rR0c5iF1kQwBpC8xwUP2Vro+zpMGMGaE1+4IyDacu4WUs0bUbrf2J2R9pIW+yK2bmbFFRnbTfot5\n",
       "cvlsFihPFGTsC0KQXVvkv01Xyqi2FqvnW1KwkNnNfsg1yupEdmhzIHmAsaT5x+/XeABQ21u1m6ed\n",
       "TQAAAQFBnoZFFSwz/wADODHwQoGRGEBc1/JS1H28WESYqwuzDGzyoobynxFyf4Hvd2b3Pm8Swz2h\n",
       "YLlCvh5XAs9pB4f9xxtuj2jCMtcVcafBcwUF8e6pSZ9MoBaZHPazl9yz1pK1qh0svIAW1fjZseiZ\n",
       "tF4RO4dayEtWNTgbo92cQBfUtEQU6PLe+c33T6x14p4ncRPij0CIxFlmxGWYquBvHuvho1JokmcW\n",
       "NpC+HuGKBVAUlBvN485ofn4jqM5YqWzKu5VqFx8Tg5+VgHJHUDNijWjhoA/icCnJV8CF2JlC010J\n",
       "M1LDHo1MrFLNGwl37DqOC5v9Wqo9Bn4RZvw4NbJjutAHzQAAAHwBnqV0Qv8ABDY/QwEZvujylAFi\n",
       "eACsi5jFqnOrmTrLVy4k9lN8nPWNeFm7NkTuzZY6U0kmY2xkvl2aPUPIb2Dbma5QbufdXf1FuRW0\n",
       "9EdiHbIEEN8OkpuYqa+E67QW33C4KbSweRghfpM2aHb8/oozls/C1gkbhvD94CPhAAAAnAGep2pC\n",
       "/wAEFnWgQz1AIjgExils3wRtwaVHIjt5tTWuWS3bfDwaZCrcSCroXWgc/ZLfJHRKpx+NaAuMR4+o\n",
       "LmK2SBAiUmkXouBpVfeOaXHHSV40bwSoNA0LaseALxNhZD5uNoe8V5JdNb9NkDIqZtehTM90NJHP\n",
       "OMR1AdjeynMBNNrVI3PjaI+SjKvCQQKF/axlvtvtsicmU0DFgAAAAdhBmqxJqEFsmUwIIf/+qlUA\n",
       "AF3G50YGgFGRbe36BTi5W6+1cVpy8DSNdgQA5FmtM7WSzacpXcMHcTksKhODTmXTxPH++oAhxZNo\n",
       "M93VPosZknvn95BlqGpSogGS4qER3xGO+PQd5YtCwuNGOlW46aOpHkXNSnW+UO95OUfG/1otYOs0\n",
       "kv8FZwnz9uGU91JC48W9/ACVoBltTwVy+9hY6eSmLyODvBy7ajG7IDdMJo54pHllyPXmn+EnxEG7\n",
       "yq2eOaDywiU1bv0v+QNFsX7/+iN3nAfjT7InxH1XCHYJhzjfiCcYSkeiS5GqGLDoYNci7h3k/UQr\n",
       "WXKr6uNIaiWHbR8TKFWnotw+eDh96kJyrK4Lo0yI9aleAI1cz3/ltB2ZG8nNBCqgErwURl1HGKdX\n",
       "HeMa2BDjYaHtXXK/mMWabjhNZZK7LD2UgrSvLUeWWwzZ3xY2ElZjz0pTjD0Hx9tVzzQBS8tLX+sU\n",
       "qxpVd6n8bhH5lTtOtdiPY/F4Kewi9u96xFZdvpgNtS850KPZIejEcoektiDX+s+nWiOkFjp8bqRA\n",
       "EtIQVbylOljs/Oi6EIBjydU+NRi/UemTCFYZ59OM01OM3FfWaATdzZKuiQ7BDX/1wtSkpEAR370S\n",
       "AAABAEGeykUVLDP/AAEdJSqARUEBKkNeIoQK80dh0gsZc+qs1Kv0CuVEj1PHKua5YZJRcpLVDg9e\n",
       "yhZgxpdcWXBATYh/uFaCCxQxHd5J2MXbRuIJSIl71GbFUMGqEvCvXvXR/jA4rt2WSkqeaAz0L7ce\n",
       "gCnvvvWVhODfnjEvMPzqa4uZMtA3ppsxsQ5/IMZXQGBATX9IIWmK7IqJYngg1/Rcfktp4mXp8sqZ\n",
       "IuFbZleZ3i8Em2wuma8a+Jk/cJcamF6VvPerww6/O3qKyngddY79vCx466xkAlv7o8Niw7LIkd6B\n",
       "Cz/I7DFjErpVvWf8Cq2449vm5I/y+1Ikl2JIq9nkDHkAAAB3AZ7pdEL/AAGb7/Ce0uYVxtp2W0yH\n",
       "Cy5mbHWiyVCWwkIIK3CnOiCZhl4voy6Gq+vh55FuNcB65FtFJXG26Tk++JVrVD3yMk9145RgvGNd\n",
       "lfDWx1h3VqbDViBwvbv2MNjGVJaCNojdQ13eivk6NBhpE6MtgZegIWAAAAByAZ7rakL/AAGwDk9L\n",
       "9XNoMs4w7evZH9SQS5v8fK84c0joq02krHWHYQfoUxlejYr+eKk9TohcZlkME6QJR05R0lgtZ6Ae\n",
       "T3xF/tDgr1b3+pYS7W6lMvxah95pMPbnawbn0N+2VJTdGY/E+q75NOHxANmAAAAB4UGa8EmoQWyZ\n",
       "TAh///6plgABZvhW14qn7Kxddm7oJiG/xfF/eufCEbbwsPPlESnkUZ5Axu1WoVSfmlyWUGpA/4Lm\n",
       "NbdoVyZaMC+UA6Be2ouhqKKwuaOraR/A6cYoaBC47pmPcJMnLaCe0NvCBwQ9xkQp/KghnNsdUB5g\n",
       "kVgfu5by9AOnBPBRH/PII0WUsVYlc4dI166oIStTblRvX0QeZBpDw4OS8KajC1lDroQsgTcWJwCm\n",
       "qEWjMuh0q85nPTR39eXjhxTvmv62R/6gICUcnPoXXdpbVhiQuvt3P1+FLzTHalvcgkQxwZYbjPuN\n",
       "btsD2MtSWWFrsYkhU3SGUb+POg2JOM9CklHdXRvIPGgWdEGcFfceLF1U7FZcwL5kxLUm6UmJQeCd\n",
       "wBJHzLpCiUJ3ohXCEdkHUDepf4w8KaWiSrCw7YIEWxKeKy8KNtvojeV6qDFtmg1fv/9Xk5LpaXVw\n",
       "KyJaTNbjeVKhM0SJDyu/2jb0NI6fMylYHKViLBCZbzJIDvBlkv/7rCfpiNtX/Id+mOsXDfmNo0bC\n",
       "ezJu79Ze6tAozFjPQZiGuI0TPAs48iClhG+buipkV8VCE3LW7VhNSjCLw7VuylrfJeRBevrTZTp7\n",
       "vVx88h5SRO9Gn+q4KaBah7kAAAD5QZ8ORRUsM/8AATWKn86s4nvdwyrflgHpPSujMou/3xwOq3zh\n",
       "tcdUQkzD8bN4HmmAM2bl7AXL59XU2TosC9AKWwySgK4uECgU18hazSykVNGbN3otGKW1WkgY86j8\n",
       "mBCIhamH+lMFIsfKiAezpkQBKDWziVk7r5BPwkHYlTYl94dscq3eGSkRXCW4WuhqFuYhWtCMusr1\n",
       "aX5XJ1fff7Ix78XineUFWslXrOvutT7wl2r+3aeEVvHIt+RJvbd7szl42YKfIYziSo5OARUGl7s1\n",
       "zJILXSddx1glPdGtcb4nkY7pQuFRe9+MYMzQF3X8LJsxxfTlknhjqCThAAAAdQGfLXRC/wABpe9K\n",
       "ZWhrkCEmqMcP0/uXl60ETuqERobT/jfwkp8NpZai1w5APijry1NVKOulPaIta7ooEsjr0htsZGWo\n",
       "yZQ4Ucq53FgKdJj42yULBkN6zAM27p7xq5CU6Nz7p/9G5c1mWKpdINycVjJmy6yD7wAAAJkBny9q\n",
       "Qv8AAJrtjr+tVojwVciLsdQpNbOTriu51JhTjQoC3zL+YWJ86JPAxiSft46dlXj2MDit+HrEYUDD\n",
       "CuFG7uCT70l0Dd6cd+qyAOqS5dtG+jYAiv8ZknKzEnKTJGxWwpY0SHxsgOKV/ouFf3qDGcvGMGdZ\n",
       "XNpfzm2AFtpEpQmCfgvmwzrQI2s8nURgynHyhUGLTs1CZcAAAAIIQZs0SahBbJlMCH///qmWAAB6\n",
       "vdKgx2ZqlC4VkfMRltF69WyByqSA+064q4skhhT6YBldSfJfzOjkSSOqpiduUDCmw2Q4Sd8lnG5r\n",
       "Hd/T5yz9iiTXNTb/5pKuEXsefXjtKOGJKhqS6xB24aXJaSQ0OLZMm7uBUopevbjdCXDaPrWwQFlJ\n",
       "PQQrCqKv0HzuZ6hCXVhKmkxsiQRciTXhs0Lqtj9bINv8LlIt6Ltysa/oPdqxvx2gxRJ/Qf2HAoxS\n",
       "WS7JP/Uhh1IqvWFOGPifBkN0D3YmorxJMcAMKHvnnIUvc/7ctQtdK4nF5QUhoRjUsqrOU/x4r+fM\n",
       "v9LRLyDNluzmmGfQKPCpL3Zz54FCrE4wFO/dYDFqnCKjNOTvsC3D5pp2WfcImSWz2JdDVTScgB8X\n",
       "hVnDQ96VkUYiC+yBGmG1/wLGUAG2kKpxDQ/HY087p8VtLWF4Ev/2Z0nG271Iq0+kOPxCS+8XOUuH\n",
       "QV11W5bw8HTCUF4i0HmGkhuhFcCzmBG3gw9q82alpM5JqhiA1zZAZkWgmJnOP2mWRvVNTB1hdQyq\n",
       "TLetSPEa8oSXTm+NBcDm9elA52JXs5gs6luGJIOVsGDX+yDc2JagfwZ2ZgkogvzBWdR72Kf4ztYh\n",
       "vKnYUHf03Vs0UImQz7bYsSe3kRTbdQiImOBCM1/hsK/x+0gC9XwpEPmOWkBS5AAAAPBBn1JFFSwz\n",
       "/wAAa/5FuTETBHrZhSSdLx8tGgzmEdQZV4QHC7A04eT7Rm2nTEDWzLhUGvuavWBvMAiAWvtjJ78u\n",
       "MEpZ8mFqJRV3Y+yh3fKR89qVNyq1A/ujJrbMZCohsES+ml3rbHHv9+tbS6OOdMO8Dx2BwESKJwdY\n",
       "4tNhJD9oAkN1hD+68LogfOavqS1KSfMQVzNTMg62pXEYP+Chjp1Qtt3qyw3zqKWrMNEJIukKx0Bv\n",
       "IcGbn+7FKMf7aMTO3Mp8z7GHKbSm7Jluhp922tf/rMwMIzcUX5Lj89iV9FCTf7Ij0I1Xoaq9JfK5\n",
       "5E0AVMEAAACVAZ9xdEL/AACSxhOUtSDZ9bg7VsF3N88xGCZqhK863TgqY1isobzAMqU9IZZFriSc\n",
       "UjUVgJk8i0GIt3//d/bm09WKDUs4SajXk25eAqC9Uv5/3kEWYhIvFZaCowEBKTgMJ5rHS2l4VHv2\n",
       "PRGL2YYyTg2UiHgp/QHAA5olMqg4WycmG9pHjeun/QcK9hWst0TQ788gAdMAAABwAZ9zakL/AABx\n",
       "UxiG3LDVoC6pIMwXwOvC9a0udJAC6c05/mCuvrvnrW3Mh9/RglQn7Fya5YXMdjgz/d/6+Ad8RxB0\n",
       "zABv24AAwyZXmo7gl6dxDGM6cqH7tSPHGFdRgAt1dW08dzegsk8VbtggyXp0wAAAAhFBm3hJqEFs\n",
       "mUwIf//+qZYAAC8fCtrw9QTR3hLxCHMd4Qw2Vv5sfl6hETQYM/EC/keIdX+vMHLdVzn9wfT4lVfm\n",
       "yw0Uu/jkWkqLxCba2ICVVy/0u+W61jjnbZ3m1RffASJdGJixpuCaKvmnhyATr3AZZlNUFm464/4v\n",
       "DyI8vLG70lFC0vr/sv7IrZ/aLILx6ABGrJrGC/UyTzjZLdY6R72lLVvkgQggdhi1iVIXcpy4w1uk\n",
       "8r7cSENZhO6R9RkDDghMxu/xtyfUTYWT6uwc6FCjkhLn9XlX0f5au0N9hMjbDcYZW3wdqGf0Eq6A\n",
       "Y4Rovit/TKLrocCXgBFadrbcSJGfXyHsE/mcgY4Cn2sA9A50G4MCuAtsyhKK7AnUhFe6uWQqJAAx\n",
       "ywJPIkQnVgfXMlLj4wrFzXSw/FCvYn6+Cm18x5RB0DdCWG2Vu6Mvkmir05EFmSgrEVnFidKBCNpQ\n",
       "KwsWoWNa4KX5V9sWspLDOKkxMkkixRPle0YtrVyNqXgrxW7jwb+Dx60+Uo52JAtX8HShaTCYYemd\n",
       "/tBD6te4eGtWidt6WzQFPeaididl4FVkdJE7jCjpQmoXbG/BTLdToQ5oNA++nKtunj528wKovGb8\n",
       "04mPUFu0i/NKDJfSXM5UgVj6hPFiDQnZvrm0Kv+Tbx00Cx1EMYb0c1B0ciPiOFLMGigWmeSI7Ec/\n",
       "IvghuOQJdRohAAAA7EGflkUVLDP/AABUKaqfsQBSfxZlJ5iSWIJQP3UKKTzpbTkzEixMrbrIZv0M\n",
       "68UWw0qIOalOq/8Giv7QyM+AV6/zQXSf3FS9FH1posESRROFixgmcuD5JeGCeW72AWQP0KzTvQUs\n",
       "cqsnfJaDfOSWdtCRlzVh0Kig01UeeuNeRyw3cPt4wf2cOJ0u9dqSBEKRm3wDIeCWi9Y2kfzk4ClC\n",
       "jOE8FxGKMXPKxMuXa1SfKZDVBHzGPGFa5tzA1gfs68jfP6rcWf+izMnG7/WQq/D2eA7JPeatccMf\n",
       "pmBiLYNFLQgQstvhdg2RRa7n9gRcAAAAdAGftXRC/wAAcTWjZTIfuaI3W/jLNzyRcn6bkdNKqL4A\n",
       "SS69LrZsCrXtZBZQ/Zgy0qkU+Xbmqa6wqtxGIZQl5p9zR0J+JX+pqHja4WiKaLLq0p3Qhq51lK5+\n",
       "KQGP9pn/HDdWZLlgzvMNLauvli0zpma/ELKBAAAAdAGft2pC/wAAcVMXfuFJY0nKjgZBaxMr+xJt\n",
       "o84kgCTaKO9630Tga8SVnRcR5kA6PSiYSA9Rwjpjey1S16UwE1SwKK6x1tLYzBPmdDHZzrmKkdax\n",
       "k2vTzbi3xGTbDfdq4ejKTKdz6GNAGgxLrjsEJEmUuIj5AAACGEGbvEmoQWyZTAh///6plgAAJwYw\n",
       "G7TXtcehxr6qfeZ/pp0uFoz2VEDI/iOrDxpbuFpyxQVQFfohLFM5o19UcoEWJG9BZ1o8x8YV5Yei\n",
       "ZktQV64TLdZB+E04j8pLrt5Emo8OKLHOlQgnTtohiBjNn5pHatbTZcMDsfb4D4ThRi1zJcpwdy/d\n",
       "oXbyqlCEv1bLOdG4nimoy36v2z0koRCeXe4r6KVW434itFxHXT0SH6lp/xRU/My7wsA6fSkaTOTb\n",
       "m67wFwOI4NPPKVu9pmautwqxUSPDHYMXHygPcFjjNISvNwqe+kJhefiOoYHuij0qBqTsBlv2WtUk\n",
       "vbz+J0YAazhK5uObBE6bwcI3aNEOlW7VvmaxrJIWL+ggzKzTBY/wtOh1F3rZfyvQYKjacV4PkcH8\n",
       "3PSmhu1fay41QyIcZdUnCpCUO3S7k8mGxiBHJM6rUsCoJ/WGcJw489YA81RjyB0rD6zPGU6UBkiZ\n",
       "gwIe2pjhrhMoUuQi2agy+y5UwWkMDT4+Ol13YqkhHDbmoLIKn0CM4lDP2JFUi2DGz1bOW4BgjmfG\n",
       "XMhyUH/Dy4OPHg0WhipPuCH+c1HbiuQVZmzWjbnD17BWi8gTBNnOwI3eZZxeYVX1C5DZMr+kcz45\n",
       "1QiXW7m6GqC5CsjPgZGHIe72vVw7LLFI8I7E12G0uLC//lel9qUpnCaqBNC61V0YabfMjL0PYoM7\n",
       "ANmAAAABG0Gf2kUVLDP/AABUKanvTcBx8pX9APm2p1YH/zVWjKMATwyP0xOerci1sRds2mGqb+rd\n",
       "y2vpzbwATSBvGsVN1v0XFLlTavu85IdQGpLzXjmQrOyQUhTqn6aLEhkdPjmAlfHyEHt5BX+07Oxd\n",
       "9ENc1wyOrUJHfnY8jZKWA647TgBgUua3M6hTYGFQNRw/t/mpXJcLW5t9ZfEC5eGleRao0PGksWak\n",
       "87iFqzu6EwFJw59kwFUQm2xZZgoyPM1IrwmaXpDF/rrGQM6N5RldZvMguTBNIh6UDH89BPPstiwS\n",
       "KAlqXV3PpbiQ+7XLIxWlpbMPcWEkCnfL1PoVSBN7vhhTEa4e+sRxaViAQ8R7EOnIS3ox1GbM3Xp1\n",
       "LD+TgakAAACLAZ/5dEL/AABxNaB7nZOCIYC32lOEVA5NV5BWXIKD0FX6jqqO/R5WfrvhvXg/HEa8\n",
       "H65w6kNHLrFJ+4weho42YWzkmWZsNHkG9CSz4QXBP7RVy9WdUkWgX3w418X4NvksHkk+/xRoxD6v\n",
       "ajNuascdHkPT+CMjrL3+OIp2Phs2LahvXzkX0PjjBwB0wAAAAGsBn/tqQv8AAHFTFjB+Mj+l8ExH\n",
       "0LW+ixFbsASFER61R/bKmfugTc7r8Z6Z8WtgJ6kgjpn0ZJVp/slJAElLKIKbSOPMA3QtufBp3s+H\n",
       "flB4Q3jleWLhvoRHpIrZOAv2/e8OqGudaFxYrotTuwAAAhVBm+BJqEFsmUwIb//+p4QAANzF6wEM\n",
       "pbATuLMIJu1sSKoVYgZzAvoDGdmz9PtknoC8GshlpYe9R/vj//yoZiBKjtqO9YMf6roVT7pAoGuz\n",
       "UmrD5zlCHnFZL8kHBLP+ZoIzKJ4oQPSYk6Dg5Vx8enVMyEAaRDretuAwV1/7EbaNzbph++R03f8O\n",
       "4RXQNgPXwBI2MnsbxoYSJ7aT0b5JTFYnOXR4MXDX1y9P4x+DD8VTfic1n4abynARYhMxouGw7/h0\n",
       "z07b7p9j262XGXrweYoxLwC/IAco9Aj9i7JQTFPsMYivv3K4JVM0qjrRFXdls9yqRMTxFSpAnl7u\n",
       "2E3m1MyMLVQJaK/sZqwHOraCyhAsgwyGg3ZtcFFga48d2rYlQPfXutW+8fscH/wTB7+PbKt9PHr5\n",
       "ZsDkRdtBQVWJ589E6YKhsX1Hx6TBBPBe9hFXtPP0+scJ1XZ1eMVtDRCXun/gl7ygSuSrrgRwjiZw\n",
       "uJWuD+AaTB5aUL4KUBYe+tfvgm3s7VbjrwRaoMvwmuFkVk4KmNUWtkvjaj0yFHGKeRIF7/zkG6V8\n",
       "02qoVMV3D9P3aiwJjJQbgBBZ23bE7dRrIWUvd4U1brCfeX4B33u6ctMBM/eTonpSOE67PUqkRaXP\n",
       "2oG4ifrH8sSOLA/uEdRMAceGgBVjut6QdXITKlwr9QOebAfqS1qeuH1iZqZkrY8XwCvJBfF6sQAA\n",
       "AQdBnh5FFSwz/wAAYg1m8gJOJnV+T8H6ZbHhqB8LyQ83pUq0wJQJ7GVtSD7vZMUk5POY1B6uJlpY\n",
       "YERHzJYFU46k+HXu+tM9KV9gUsTp/iTbmPnBiX/vwQrJGra9gymLTujcKwcrHjBdCXHdxPMlYg9U\n",
       "OvM816rgzevT0s6hX/Spk9YPsnzJWEA/FVUkY4vzzFUCVrDo8oq46pk8jYjlmotz3j73GGjXJRe4\n",
       "73uBNvjXwR6KriLSU6ekcfz3KpgOEK1DgG2MGhAqyWVrPsVDBpiotgm0HZhXtmNbO9s27g4y97Qc\n",
       "KVfiTFHIzz2r+scQ9ZA21H/S+E5I/k91j1q1cK6adBsO+gFz/AAAAIYBnj10Qv8AAH8Zz9n9iI6l\n",
       "xz7FpRlMl8beZhzBOJHqY6fsm59ybdTAVgWCuDarzM9qnN+lsLNB4q6PAhePOoDCHumKlQDzcdNg\n",
       "TAtcdDMZUgiZuMBkfmAe+olCKhoGW/aVV1c9iT/dPMy/j75kdZcZ8yjW6SncKdwHdYXGPN3ODdQJ\n",
       "zQUHpAAAAGEBnj9qQv8AAILnPng+IO2QpZviFxU/2m04D6zGGXV/NWWjDyNIpfFRcOTs2IZ3qOTb\n",
       "2vOsLC+XkMRDNe40jY77PW1Tws2NukmwnkKIQk9bv7dIdnb9DY7hRZHdGTDD1AQNAAABkEGaIkmo\n",
       "QWyZTBRML//+jLAACQIVIlq8q2/KcZschGZffxrCHYFJm6uSwhwfEJNSWtvCUtg8GTV0zEsDNO7V\n",
       "5Yt9U25/mBghSdR9o2nQvKUyQ46NEtWdNgkBuBU2n3YWH0g1x+TCgjw4aq5P9+ziIXj6M+EHvAvs\n",
       "M7qRuKIbHfkQmRNrbESPU/pxAsnYlSm2fK233GkFSXX23dA9OR7Bg0/5Dvi4cji8tT1fRIdD1RUx\n",
       "sLp8nqV9CxvOFafma8qLx0+eWPWreIHqv+jzuCk29okTAwNITWwlyOnnbByVLMPPHw30gk5Cojjv\n",
       "uo18zVIw9xq2401venlxbM9m/JKBptyH47WBuzaCweiWfhZ5Lw/R0Yv1mrBd7BfRcWl6hhwmo51L\n",
       "iISoXsbkHFJbTQV4GzQ+jg2BVWlP+h8Z/BhdJDGEdEGUoIhWZCvqQDeZMJKo3IGR4DfkXFbYobcc\n",
       "3FrQ6SpQxjrfdMW6h57//OuZx3eXp9kOlT5tDZPoXCfdnQug3iAg4vHARjZ/oTfJVeInV5AAAABA\n",
       "AZ5BakL/AAFigNgqB4IKQLa/gGXmNUbCfIKPQkKh4AOIO/r87tw7FsuyjTf0h7UnSfkHlqIqgeDm\n",
       "Wvu6L+YCHwAAB9Rtb292AAAAbG12aGQAAAAAAAAAAAAAAAAAAAPoAAAYjAABAAABAAAAAAAAAAAA\n",
       "AAAAAQAAAAAAAAAAAAAAAAAAAAEAAAAAAAAAAAAAAAAAAEAAAAAAAAAAAAAAAAAAAAAAAAAAAAAA\n",
       "AAAAAAAAAAACAAAG/nRyYWsAAABcdGtoZAAAAAMAAAAAAAAAAAAAAAEAAAAAAAAYjAAAAAAAAAAA\n",
       "AAAAAAAAAAAAAQAAAAAAAAAAAAAAAAAAAAEAAAAAAAAAAAAAAAAAAEAAAAACgAAAAeAAAAAAACRl\n",
       "ZHRzAAAAHGVsc3QAAAAAAAAAAQAAGIwAAUC6AAEAAAAABnZtZGlhAAAAIG1kaGQAAAAAAAAAAAAA\n",
       "AAAACd69AD4D91XEAAAAAAAtaGRscgAAAAAAAAAAdmlkZQAAAAAAAAAAAAAAAFZpZGVvSGFuZGxl\n",
       "cgAAAAYhbWluZgAAABR2bWhkAAAAAQAAAAAAAAAAAAAAJGRpbmYAAAAcZHJlZgAAAAAAAAABAAAA\n",
       "DHVybCAAAAABAAAF4XN0YmwAAAC1c3RzZAAAAAAAAAABAAAApWF2YzEAAAAAAAAAAQAAAAAAAAAA\n",
       "AAAAAAAAAAACgAHgAEgAAABIAAAAAAAAAAEAAAAAAAAAAAAAAAAAAAAAAAAAAAAAAAAAAAAAAAAA\n",
       "AAAY//8AAAAzYXZjQwFkABb/4QAWZ2QAFqzZQKA9oQAAoF0AE716DxYtlgEABmjr48siwP34+AAA\n",
       "AAAcdXVpZGtoQPJfJE/FujmlG88DI/MAAAAAAAAAGHN0dHMAAAAAAAAAAQAAAGMAAKBdAAAAFHN0\n",
       "c3MAAAAAAAAAAQAAAAEAAAMoY3R0cwAAAAAAAABjAAAAAQABQLoAAAABAAMh0QAAAAEAAUC6AAAA\n",
       "AQAAAAAAAAABAACgXQAAAAEAAyHRAAAAAQABQLoAAAABAAAAAAAAAAEAAKBdAAAAAQADIdEAAAAB\n",
       "AAFAugAAAAEAAAAAAAAAAQAAoF0AAAABAAMh0QAAAAEAAUC6AAAAAQAAAAAAAAABAACgXQAAAAEA\n",
       "AyHRAAAAAQABQLoAAAABAAAAAAAAAAEAAKBdAAAAAQADIdEAAAABAAFAugAAAAEAAAAAAAAAAQAA\n",
       "oF0AAAABAAMh0QAAAAEAAUC6AAAAAQAAAAAAAAABAACgXQAAAAEAAyHRAAAAAQABQLoAAAABAAAA\n",
       "AAAAAAEAAKBdAAAAAQADIdEAAAABAAFAugAAAAEAAAAAAAAAAQAAoF0AAAABAAMh0QAAAAEAAUC6\n",
       "AAAAAQAAAAAAAAABAACgXQAAAAEAAyHRAAAAAQABQLoAAAABAAAAAAAAAAEAAKBdAAAAAQADIdEA\n",
       "AAABAAFAugAAAAEAAAAAAAAAAQAAoF0AAAABAAMh0QAAAAEAAUC6AAAAAQAAAAAAAAABAACgXQAA\n",
       "AAEAAyHRAAAAAQABQLoAAAABAAAAAAAAAAEAAKBdAAAAAQADIdEAAAABAAFAugAAAAEAAAAAAAAA\n",
       "AQAAoF0AAAABAAMh0QAAAAEAAUC6AAAAAQAAAAAAAAABAACgXQAAAAEAAyHRAAAAAQABQLoAAAAB\n",
       "AAAAAAAAAAEAAKBdAAAAAQADIdEAAAABAAFAugAAAAEAAAAAAAAAAQAAoF0AAAABAAMh0QAAAAEA\n",
       "AUC6AAAAAQAAAAAAAAABAACgXQAAAAEAAyHRAAAAAQABQLoAAAABAAAAAAAAAAEAAKBdAAAAAQAD\n",
       "IdEAAAABAAFAugAAAAEAAAAAAAAAAQAAoF0AAAABAAMh0QAAAAEAAUC6AAAAAQAAAAAAAAABAACg\n",
       "XQAAAAEAAyHRAAAAAQABQLoAAAABAAAAAAAAAAEAAKBdAAAAAQADIdEAAAABAAFAugAAAAEAAAAA\n",
       "AAAAAQAAoF0AAAABAAHhFwAAAAEAAKBdAAAAHHN0c2MAAAAAAAAAAQAAAAEAAABjAAAAAQAAAaBz\n",
       "dHN6AAAAAAAAAAAAAABjAAAKTwAAAx4AAAGtAAAAbgAAAFMAAAKzAAABJwAAAEMAAABaAAACVAAA\n",
       "ARsAAABcAAAAMwAAAicAAAC1AAAATAAAAEkAAAHeAAAA2QAAAD0AAAA0AAACHgAAAQsAAAA9AAAA\n",
       "OAAAAeUAAAD7AAAAOwAAADoAAAHuAAABCAAAAFkAAABMAAAB8wAAAOEAAABTAAAARwAAAesAAADK\n",
       "AAAAVgAAAD8AAAHeAAAA7gAAAEYAAABPAAAB3wAAAQsAAABTAAAAUwAAAe8AAAEjAAAAUQAAAFIA\n",
       "AAHxAAABCwAAAF4AAABpAAAB4gAAAO4AAABOAAAAWQAAAdoAAADaAAAAYAAAAFoAAAIBAAABGwAA\n",
       "AHMAAAB9AAAB/AAAAQUAAACAAAAAoAAAAdwAAAEEAAAAewAAAHYAAAHlAAAA/QAAAHkAAACdAAAC\n",
       "DAAAAPQAAACZAAAAdAAAAhUAAADwAAAAeAAAAHgAAAIcAAABHwAAAI8AAABvAAACGQAAAQsAAACK\n",
       "AAAAZQAAAZQAAABEAAAAFHN0Y28AAAAAAAAAAQAAADAAAABidWR0YQAAAFptZXRhAAAAAAAAACFo\n",
       "ZGxyAAAAAAAAAABtZGlyYXBwbAAAAAAAAAAAAAAAAC1pbHN0AAAAJal0b28AAAAdZGF0YQAAAAEA\n",
       "AAAATGF2ZjYwLjE2LjEwMA==\n",
       "\">\n",
       "  Your browser does not support the video tag.\n",
       "</video>"
      ],
      "text/plain": [
       "<IPython.core.display.HTML object>"
      ]
     },
     "execution_count": 23,
     "metadata": {},
     "output_type": "execute_result"
    }
   ],
   "source": [
    "from IPython.display import HTML\n",
    "HTML(animation.to_html5_video())"
   ]
  },
  {
   "cell_type": "markdown",
   "metadata": {},
   "source": [
    "Unlike in the purely hyperbolic case, the solution becomes much smoother by the time the medium has completed a full rotation.\n",
    "If we had used an even smaller conductivity coefficient $k$, the intrinsic diffusion in the problem would be too small to suppress the oscillations that we would get for a purely convective problem using degree-1 basis functions.\n",
    "In that case a flux limiter would be necessary to get a decent solution."
   ]
  },
  {
   "cell_type": "markdown",
   "metadata": {},
   "source": [
    "### Conclusion\n",
    "\n",
    "The natural choices to make about spatial and temporal discretization for parabolic and hyperbolic problems are complete opposites.\n",
    "To solve a PDE that combines aspects of both types, finding a good middle ground can be a challenge.\n",
    "Here we showed that non-conforming discretizations of elliptic PDE allow us to apply what we already know about DG discretizations of conservation laws to other problems.\n",
    "\n",
    "For time discretization, operator splitting helps turn a harder problem into two easy ones.\n",
    "In this post we only showed a first-order splitting scheme, but [Strang splitting](https://en.wikipedia.org/wiki/Strang_splitting) achieves second-order accuracy with only a little more work.\n",
    "Operator splitting is a great trick generally but achieving more than first-order accuracy for more than three operators or more is much harder than for two."
   ]
  }
 ],
 "metadata": {
  "kernelspec": {
   "display_name": "firedrake",
   "language": "python",
   "name": "firedrake"
  },
  "language_info": {
   "codemirror_mode": {
    "name": "ipython",
    "version": 3
   },
   "file_extension": ".py",
   "mimetype": "text/x-python",
   "name": "python",
   "nbconvert_exporter": "python",
   "pygments_lexer": "ipython3",
   "version": "3.12.3"
  },
  "nikola": {
   "category": "",
   "date": "2020-06-23 17:04:19 UTC-07:00",
   "description": "",
   "link": "",
   "slug": "convection-diffusion",
   "tags": "",
   "title": "Convection-diffusion",
   "type": "text"
  },
  "widgets": {
   "application/vnd.jupyter.widget-state+json": {
    "state": {
     "1b733b30192845b4ab86b15e1ae50e87": {
      "model_module": "@jupyter-widgets/controls",
      "model_module_version": "2.0.0",
      "model_name": "HTMLStyleModel",
      "state": {
       "_model_module": "@jupyter-widgets/controls",
       "_model_module_version": "2.0.0",
       "_model_name": "HTMLStyleModel",
       "_view_count": null,
       "_view_module": "@jupyter-widgets/base",
       "_view_module_version": "2.0.0",
       "_view_name": "StyleView",
       "background": null,
       "description_width": "",
       "font_size": null,
       "text_color": null
      }
     },
     "242de8dfd52647308294ccad8b2b8451": {
      "model_module": "@jupyter-widgets/controls",
      "model_module_version": "2.0.0",
      "model_name": "FloatProgressModel",
      "state": {
       "_dom_classes": [],
       "_model_module": "@jupyter-widgets/controls",
       "_model_module_version": "2.0.0",
       "_model_name": "FloatProgressModel",
       "_view_count": null,
       "_view_module": "@jupyter-widgets/controls",
       "_view_module_version": "2.0.0",
       "_view_name": "ProgressView",
       "bar_style": "success",
       "description": "",
       "description_allow_html": false,
       "layout": "IPY_MODEL_e1f16f6c607b4f8dbaf388eadb85c21d",
       "max": 396.0,
       "min": 0.0,
       "orientation": "horizontal",
       "style": "IPY_MODEL_57de9a07bcf2425d981d0923620b3254",
       "tabbable": null,
       "tooltip": null,
       "value": 396.0
      }
     },
     "52857770abc84d83a4f15187efb73319": {
      "model_module": "@jupyter-widgets/base",
      "model_module_version": "2.0.0",
      "model_name": "LayoutModel",
      "state": {
       "_model_module": "@jupyter-widgets/base",
       "_model_module_version": "2.0.0",
       "_model_name": "LayoutModel",
       "_view_count": null,
       "_view_module": "@jupyter-widgets/base",
       "_view_module_version": "2.0.0",
       "_view_name": "LayoutView",
       "align_content": null,
       "align_items": null,
       "align_self": null,
       "border_bottom": null,
       "border_left": null,
       "border_right": null,
       "border_top": null,
       "bottom": null,
       "display": null,
       "flex": null,
       "flex_flow": null,
       "grid_area": null,
       "grid_auto_columns": null,
       "grid_auto_flow": null,
       "grid_auto_rows": null,
       "grid_column": null,
       "grid_gap": null,
       "grid_row": null,
       "grid_template_areas": null,
       "grid_template_columns": null,
       "grid_template_rows": null,
       "height": null,
       "justify_content": null,
       "justify_items": null,
       "left": null,
       "margin": null,
       "max_height": null,
       "max_width": null,
       "min_height": null,
       "min_width": null,
       "object_fit": null,
       "object_position": null,
       "order": null,
       "overflow": null,
       "padding": null,
       "right": null,
       "top": null,
       "visibility": null,
       "width": null
      }
     },
     "552a4aa81185440abb75b60e9c955565": {
      "model_module": "@jupyter-widgets/controls",
      "model_module_version": "2.0.0",
      "model_name": "HTMLModel",
      "state": {
       "_dom_classes": [],
       "_model_module": "@jupyter-widgets/controls",
       "_model_module_version": "2.0.0",
       "_model_name": "HTMLModel",
       "_view_count": null,
       "_view_module": "@jupyter-widgets/controls",
       "_view_module_version": "2.0.0",
       "_view_name": "HTMLView",
       "description": "",
       "description_allow_html": false,
       "layout": "IPY_MODEL_dd8f168fa5de46b5bcaebc704adf6546",
       "placeholder": "​",
       "style": "IPY_MODEL_1b733b30192845b4ab86b15e1ae50e87",
       "tabbable": null,
       "tooltip": null,
       "value": "100%"
      }
     },
     "57de9a07bcf2425d981d0923620b3254": {
      "model_module": "@jupyter-widgets/controls",
      "model_module_version": "2.0.0",
      "model_name": "ProgressStyleModel",
      "state": {
       "_model_module": "@jupyter-widgets/controls",
       "_model_module_version": "2.0.0",
       "_model_name": "ProgressStyleModel",
       "_view_count": null,
       "_view_module": "@jupyter-widgets/base",
       "_view_module_version": "2.0.0",
       "_view_name": "StyleView",
       "bar_color": null,
       "description_width": ""
      }
     },
     "731d6a79746c42a2aff5b2ca7a38d4df": {
      "model_module": "@jupyter-widgets/base",
      "model_module_version": "2.0.0",
      "model_name": "LayoutModel",
      "state": {
       "_model_module": "@jupyter-widgets/base",
       "_model_module_version": "2.0.0",
       "_model_name": "LayoutModel",
       "_view_count": null,
       "_view_module": "@jupyter-widgets/base",
       "_view_module_version": "2.0.0",
       "_view_name": "LayoutView",
       "align_content": null,
       "align_items": null,
       "align_self": null,
       "border_bottom": null,
       "border_left": null,
       "border_right": null,
       "border_top": null,
       "bottom": null,
       "display": null,
       "flex": null,
       "flex_flow": null,
       "grid_area": null,
       "grid_auto_columns": null,
       "grid_auto_flow": null,
       "grid_auto_rows": null,
       "grid_column": null,
       "grid_gap": null,
       "grid_row": null,
       "grid_template_areas": null,
       "grid_template_columns": null,
       "grid_template_rows": null,
       "height": null,
       "justify_content": null,
       "justify_items": null,
       "left": null,
       "margin": null,
       "max_height": null,
       "max_width": null,
       "min_height": null,
       "min_width": null,
       "object_fit": null,
       "object_position": null,
       "order": null,
       "overflow": null,
       "padding": null,
       "right": null,
       "top": null,
       "visibility": null,
       "width": null
      }
     },
     "a95840acbec847a59e97913b6acc118d": {
      "model_module": "@jupyter-widgets/controls",
      "model_module_version": "2.0.0",
      "model_name": "HTMLModel",
      "state": {
       "_dom_classes": [],
       "_model_module": "@jupyter-widgets/controls",
       "_model_module_version": "2.0.0",
       "_model_name": "HTMLModel",
       "_view_count": null,
       "_view_module": "@jupyter-widgets/controls",
       "_view_module_version": "2.0.0",
       "_view_name": "HTMLView",
       "description": "",
       "description_allow_html": false,
       "layout": "IPY_MODEL_731d6a79746c42a2aff5b2ca7a38d4df",
       "placeholder": "​",
       "style": "IPY_MODEL_bc676b8da88b410fb7c28141fa538c44",
       "tabbable": null,
       "tooltip": null,
       "value": " 396/396 [00:25&lt;00:00, 27.05timesteps/s]"
      }
     },
     "bc676b8da88b410fb7c28141fa538c44": {
      "model_module": "@jupyter-widgets/controls",
      "model_module_version": "2.0.0",
      "model_name": "HTMLStyleModel",
      "state": {
       "_model_module": "@jupyter-widgets/controls",
       "_model_module_version": "2.0.0",
       "_model_name": "HTMLStyleModel",
       "_view_count": null,
       "_view_module": "@jupyter-widgets/base",
       "_view_module_version": "2.0.0",
       "_view_name": "StyleView",
       "background": null,
       "description_width": "",
       "font_size": null,
       "text_color": null
      }
     },
     "dd8f168fa5de46b5bcaebc704adf6546": {
      "model_module": "@jupyter-widgets/base",
      "model_module_version": "2.0.0",
      "model_name": "LayoutModel",
      "state": {
       "_model_module": "@jupyter-widgets/base",
       "_model_module_version": "2.0.0",
       "_model_name": "LayoutModel",
       "_view_count": null,
       "_view_module": "@jupyter-widgets/base",
       "_view_module_version": "2.0.0",
       "_view_name": "LayoutView",
       "align_content": null,
       "align_items": null,
       "align_self": null,
       "border_bottom": null,
       "border_left": null,
       "border_right": null,
       "border_top": null,
       "bottom": null,
       "display": null,
       "flex": null,
       "flex_flow": null,
       "grid_area": null,
       "grid_auto_columns": null,
       "grid_auto_flow": null,
       "grid_auto_rows": null,
       "grid_column": null,
       "grid_gap": null,
       "grid_row": null,
       "grid_template_areas": null,
       "grid_template_columns": null,
       "grid_template_rows": null,
       "height": null,
       "justify_content": null,
       "justify_items": null,
       "left": null,
       "margin": null,
       "max_height": null,
       "max_width": null,
       "min_height": null,
       "min_width": null,
       "object_fit": null,
       "object_position": null,
       "order": null,
       "overflow": null,
       "padding": null,
       "right": null,
       "top": null,
       "visibility": null,
       "width": null
      }
     },
     "e1f16f6c607b4f8dbaf388eadb85c21d": {
      "model_module": "@jupyter-widgets/base",
      "model_module_version": "2.0.0",
      "model_name": "LayoutModel",
      "state": {
       "_model_module": "@jupyter-widgets/base",
       "_model_module_version": "2.0.0",
       "_model_name": "LayoutModel",
       "_view_count": null,
       "_view_module": "@jupyter-widgets/base",
       "_view_module_version": "2.0.0",
       "_view_name": "LayoutView",
       "align_content": null,
       "align_items": null,
       "align_self": null,
       "border_bottom": null,
       "border_left": null,
       "border_right": null,
       "border_top": null,
       "bottom": null,
       "display": null,
       "flex": null,
       "flex_flow": null,
       "grid_area": null,
       "grid_auto_columns": null,
       "grid_auto_flow": null,
       "grid_auto_rows": null,
       "grid_column": null,
       "grid_gap": null,
       "grid_row": null,
       "grid_template_areas": null,
       "grid_template_columns": null,
       "grid_template_rows": null,
       "height": null,
       "justify_content": null,
       "justify_items": null,
       "left": null,
       "margin": null,
       "max_height": null,
       "max_width": null,
       "min_height": null,
       "min_width": null,
       "object_fit": null,
       "object_position": null,
       "order": null,
       "overflow": null,
       "padding": null,
       "right": null,
       "top": null,
       "visibility": null,
       "width": null
      }
     },
     "e30ee438d90448e6a5e6a0f411d20a79": {
      "model_module": "@jupyter-widgets/controls",
      "model_module_version": "2.0.0",
      "model_name": "HBoxModel",
      "state": {
       "_dom_classes": [],
       "_model_module": "@jupyter-widgets/controls",
       "_model_module_version": "2.0.0",
       "_model_name": "HBoxModel",
       "_view_count": null,
       "_view_module": "@jupyter-widgets/controls",
       "_view_module_version": "2.0.0",
       "_view_name": "HBoxView",
       "box_style": "",
       "children": [
        "IPY_MODEL_552a4aa81185440abb75b60e9c955565",
        "IPY_MODEL_242de8dfd52647308294ccad8b2b8451",
        "IPY_MODEL_a95840acbec847a59e97913b6acc118d"
       ],
       "layout": "IPY_MODEL_52857770abc84d83a4f15187efb73319",
       "tabbable": null,
       "tooltip": null
      }
     }
    },
    "version_major": 2,
    "version_minor": 0
   }
  }
 },
 "nbformat": 4,
 "nbformat_minor": 4
}
