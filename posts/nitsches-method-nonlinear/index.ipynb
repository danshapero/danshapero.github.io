{
 "cells": [
  {
   "cell_type": "markdown",
   "metadata": {},
   "source": [
    "In the past two posts, we showed how to use Nitsche's method for the Poisson equation and for the Stokes equations.\n",
    "In the latter case Nitsche's method makes it possible to implement a boundary condition that cannot be enforced in the conventional way.\n",
    "I got interested in all of this as a way to attack a particular problem in glacer flow.\n",
    "Stokes flow is a sound physical model for predicting the velocity of glaciers, but for ice the stress tensor is a *power law* function of the strain rate tensor:\n",
    "\n",
    "$$\\tau = B|\\dot\\varepsilon|^{\\frac{1}{n} - 1}\\dot\\varepsilon$$\n",
    "\n",
    "This begs the question of how to extend Nitsche's method for nonlinear PDE.\n",
    "I don't know how to do this and I couldn't find any published papers that had, so here are my attempts.\n",
    "\n",
    "Rather than go straight to the Stokes equations, I thought it might be best to try things out on the Laplace equation with a power-law nonlinearity.\n",
    "For this problem we're only looking for a scalar field and not a vector field, and there's no incompressibility constraint to deal with.\n",
    "The power-law Laplace problem is to minimize the functional\n",
    "\n",
    "$$J(u) = \\int_\\Omega\\left(\\frac{1}{p}k|\\nabla u|^p - fu\\right)dx$$\n",
    "\n",
    "subject to the boundary condition $u|_{\\partial\\Omega} = g$.\n",
    "For $p = 2$, this is a quadratic minimization problem and so the Euler-Lagrange equation is linear.\n",
    "For other values of $p$ the Euler-Lagrange equations are nonlinear."
   ]
  },
  {
   "cell_type": "markdown",
   "metadata": {},
   "source": [
    "### The Lagrange multiplier\n",
    "\n",
    "The first step that we took with Nitsche's method was to compute what the Lagrange multiplier would be if we were to use a constrained optimization-type approach to enforce the boundary conditions.\n",
    "The Lagrangian is\n",
    "\n",
    "$$L(u, \\lambda) = J(u) + \\int_{\\partial\\Omega}\\lambda(u - g)ds.$$\n",
    "\n",
    "Using the same tricks as before, we find that\n",
    "\n",
    "$$\\lambda = -k|\\nabla u|^{p - 2}\\frac{\\partial u}{\\partial n},$$\n",
    "\n",
    "or in other words the Lagrange multiplier is the flux out of the boundary."
   ]
  },
  {
   "cell_type": "markdown",
   "metadata": {},
   "source": [
    "### The Nitsche functional\n",
    "\n",
    "When we derived Nitsche's method for linear problems, we were able to start with some guess for the boundary penalty term.\n",
    "The coefficients in the problem provide some physical scales that we were able to use to determine how the penalty would scale.\n",
    "We could then work out the dimensionless part based on some finite element inverse inequalities.\n",
    "Underlying this part of the procedure is the understanding that:\n",
    "\n",
    "1. a function $u$ that solves the Poisson equation will live in the Sobolev space $H^1(\\Omega)$, and\n",
    "2. the boundary values of a function $u$ in $H^1(\\Omega)$ live in the space $H^{1/2}(\\partial\\Omega)$.\n",
    "\n",
    "The choice of boundary penalty is much less obvious for the p-Laplace equation.\n",
    "The solution $u$ lives in the Sobolev space $W_1^p(\\Omega)$, so the 2-norm of the boundary value discrepancy might be either too restrictive or not restrictive enough depending on whether $p$ is less than or greater than 2.\n",
    "We'll start out with the fact that, if $u \\in W_1^p(\\Omega)$, then $u|_{\\partial\\Omega}$ is in $L^p(\\partial\\Omega)$.\n",
    "From this we can see what happens if we try a penalty that looks like:\n",
    "\n",
    "$$J_{\\text{boundary}} = \\text{constant} \\cdot \\int_{\\partial\\Omega}\\text{coefficients}\\cdot|u - g|^p ds.$$\n",
    "\n",
    "But we also need to make the units match up with those of the rest of the Lagrangian, the dimensions of which are\n",
    "\n",
    "$$[J] = \\left[\\int_\\Omega k|\\nabla u|^p dx\\right] = [k] \\cdot [u]^p \\cdot [x]^{d - p}.$$\n",
    "\n",
    "The factor of $[x]^d$ comes from the measure $dx$, while the factor of $[x]^{-p}$ comes from the gradient of $u$.\n",
    "Since the surface measure $ds$ has units of $[x]^{d - 1}$, we can take the boundary penalty to be\n",
    "\n",
    "$$J_{\\text{boundary}} = \\text{constant}\\cdot\\int_{\\partial\\Omega}\\frac{k}{ph^{p - 1}}|u - g|^p ds.$$\n",
    "\n",
    "All together now, a sensible-looking Nitsche functional for the power-law Laplace equation is\n",
    "\n",
    "$$J_\\gamma(u) = J(u) - \\int_{\\partial\\Omega}k|\\nabla u|^{p - 2}\\frac{\\partial u}{\\partial n}(u - g)ds + \\int_{\\partial\\Omega}\\frac{\\gamma k}{ph^{p - 1}}|u - g|^pds.$$\n",
    "\n",
    "As a sanity check, observe that if $p = 2$ this is exactly equal to the Nitsche functional we derived for linear problems.\n",
    "You can also view this penalty as an approximation to the [Slobodeckij semi-norm](https://en.wikipedia.org/wiki/Sobolev_space#Sobolev%E2%80%93Slobodeckij_spaces) for functions that live in finite element spaces on meshes.\n",
    "\n",
    "All we have to do now is (1) prove that it's convex for sufficiently large values of $\\gamma$ and (2) determine what \"sufficiently large\" is."
   ]
  },
  {
   "cell_type": "markdown",
   "metadata": {},
   "source": [
    "### The inverse inequality\n",
    "\n",
    "To find a value of $\\gamma$ that made the Nitsche functional convex for linear problems, we used sharp bounds for the constant in the inverse inequality from a [paper](https://www.sciencedirect.com/science/article/pii/S0045782503002949) by Warburton and Hesthaven.\n",
    "As a reminder, the inverse inequality states that, if $u$ of degree $m$ on a simplex $E$ in dimension $d$ and $Tu$ is the trace of $u$ on the boundary $\\partial\\Omega$,\n",
    "\n",
    "$$\\|Tu\\|_{L^2(\\partial\\Omega)} \\le \\left(\\frac{(m + 1)(m + d)}{d}\\cdot\\frac{|\\partial E|}{|E|}\\right)^{\\frac{1}{2}}\\|u\\|_{L^2(\\Omega)}.$$\n",
    "\n",
    "Warburton and Hesthaven focused on estimates in the 2-norm in their paper.\n",
    "In this setting, the analytical expression for orthogonal polynomials on the simplex is especially handy.\n",
    "\n",
    "To prove that the Nitsche functional for the power-law Laplace equation is convex, we'll need a sharp bound on the constant in the inverse inequality for general $p$-norms.\n",
    "Without the luxury of orthogonal polynomials as in the $p = 2$ case it might seem like we haven't go anywhere to go, but let's just focus on $p = \\infty$ for now.\n",
    "If $u$ is bounded on $\\Omega$, then so is its restriction to the boundary, and\n",
    "\n",
    "$$\\|Tu\\|_{L^\\infty(\\partial\\Omega)} \\le \\|u\\|_{L^\\infty(\\Omega)}.$$\n",
    "\n",
    "Consequently, the operation of taking traces, at least when restricted to degree-$m$ polynomials, is a bounded operator both from $L^2(\\Omega) \\to L^2(\\partial\\Omega)$ and from $L^\\infty(\\Omega) \\to L^\\infty(\\partial\\Omega)$.\n",
    "So we can apply the [Riesz-Thorin theorem](https://en.wikipedia.org/wiki/Riesz%E2%80%93Thorin_theorem).\n",
    "For any $p$ between 2 and $\\infty$, $T$ is well-defined and bounded from $L^p(\\Omega)$ to $L^p(\\partial\\Omega)$, and moreover\n",
    "\n",
    "$$\\|T\\|_p \\le \\|T\\|_2^{2/p}\\|T\\|_\\infty^{1 - 2/p} = \\left(\\frac{(m + 1)(m + d)}{d}\\cdot\\frac{|\\partial E|}{|E|}\\right)^{1/p}.$$\n",
    "\n",
    "Invoking the Riesz-Thorin theorem is a little extreme, but I couldn't find a better way to arrive at the same result.\n",
    "There's another hitch here in that we've only worked things out for $p$ between 2 and $\\infty$ but not between 1 and 2.\n",
    "There might be some elegant way to work out the sub-critical case too."
   ]
  },
  {
   "cell_type": "markdown",
   "metadata": {},
   "source": [
    "### Convexity\n",
    "\n",
    "Here's where things start to fall apart.\n",
    "I think the most convenient equivalent definition of convexity for this problem is that\n",
    "\n",
    "$$\\langle dJ_\\gamma(u) - dJ_\\gamma(v), u - v\\rangle \\ge 0$$\n",
    "\n",
    "for all $u$ and $v$.\n",
    "To verify whether this condition holds or not, we'll need to calculate the derivative of $J_\\gamma$:\n",
    "\n",
    "$$\\begin{align}\n",
    "\\langle dJ_\\gamma(u), v\\rangle & = \\int_\\Omega\\left(k|\\nabla u|^{p - 2}\\nabla u\\cdot\\nabla v - fv\\right)dx \\\\\n",
    "&\\quad  - \\int_{\\partial\\Omega}k|\\nabla u|^{p - 2}\\left\\{\\left(I + (p - 2)\\frac{\\nabla u\\otimes\\nabla u}{|\\nabla u|^2}\\right)\\nabla v\\right\\}\\cdot n\\cdot (u - g)\\,ds \\\\\n",
    "&\\qquad - \\int_{\\partial\\Omega}k|\\nabla u|^{p - 2}\\frac{\\partial u}{\\partial n}v\\, ds + \\int_{\\partial\\Omega}\\frac{\\gamma k}{h^{p - 1}}|u - g|^{p - 2}(u - g)\\cdot v\\, ds\n",
    "\\end{align}$$\n",
    "\n",
    "The boundary integral in the second line makes this much more complex than in the linear case.\n",
    "So far I haven't succeeded.\n",
    "If we wanted to instead calculate the second derivative and show that it's positive-definite, we'll have many more terms that need to be majorized and that doesn't look simple."
   ]
  },
  {
   "cell_type": "markdown",
   "metadata": {},
   "source": [
    "### Experiment\n",
    "\n",
    "I can't prove anything yet, but we can conduct an experiment to see whether my guess for a good penalty parameter will work.\n",
    "First, we'll take $u$, $g$, and $f$ to be random trigonometric polynomials.\n",
    "We can then calculate the second derivative of the Nitsche functional around $u$ symbolically.\n",
    "To show that the second derivative is positive-definite, we can calculate its smallest eigenvalue by pulling out the assembled PETSc matrix and calling an eigensolver from the package [SLEPc](http://slepc.upv.es/).\n",
    "If this eigenvalue is negative then I've messed up somewhere.\n",
    "On the other hand, if we try this repeatedly and find that the second derivative is positive-definite for many different choices of $u$ and $g$, then we might just be onto something.\n",
    "\n",
    "First, we'll create the boundary values and right-hand side as random trigonometric polynomials.\n",
    "I've chosen the number of modes and coefficient decay rate to give interesting-looking but reasonable input data."
   ]
  },
  {
   "cell_type": "code",
   "execution_count": 1,
   "metadata": {
    "execution": {
     "iopub.execute_input": "2025-03-25T18:07:08.426290Z",
     "iopub.status.busy": "2025-03-25T18:07:08.425580Z",
     "iopub.status.idle": "2025-03-25T18:07:11.763557Z",
     "shell.execute_reply": "2025-03-25T18:07:11.762172Z"
    }
   },
   "outputs": [],
   "source": [
    "import numpy as np\n",
    "import firedrake\n",
    "\n",
    "nx, ny = 32, 32\n",
    "mesh = firedrake.UnitSquareMesh(nx, ny)\n",
    "degree = 2\n",
    "Q = firedrake.FunctionSpace(mesh, family='CG', degree=degree)\n",
    "\n",
    "def random_fourier_series(Q, std_dev, num_modes, exponent):\n",
    "    mesh = Q.mesh()\n",
    "    x, y = firedrake.SpatialCoordinate(mesh)\n",
    "\n",
    "    from firedrake import sin, cos\n",
    "    from numpy import pi as π\n",
    "    A = std_dev * np.random.randn(num_modes, num_modes)\n",
    "    B = std_dev * np.random.randn(num_modes, num_modes)\n",
    "    expr = sum([(A[k, l] * sin(π * (k * x + l * y)) +\n",
    "                 B[k, l] * cos(π * (k * x + l * y))) / (1 + (k**2 + l**2)**(exponent/2))\n",
    "                for k in range(num_modes)\n",
    "                for l in range(int(np.sqrt(num_modes**2 - k**2)))])\n",
    "    return firedrake.Function(Q).interpolate(expr)"
   ]
  },
  {
   "cell_type": "code",
   "execution_count": 2,
   "metadata": {
    "execution": {
     "iopub.execute_input": "2025-03-25T18:07:11.767551Z",
     "iopub.status.busy": "2025-03-25T18:07:11.766810Z",
     "iopub.status.idle": "2025-03-25T18:07:14.148181Z",
     "shell.execute_reply": "2025-03-25T18:07:14.147369Z"
    }
   },
   "outputs": [],
   "source": [
    "f = random_fourier_series(Q, std_dev=1.0, num_modes=6, exponent=1)\n",
    "g = random_fourier_series(Q, std_dev=.25, num_modes=5, exponent=1)"
   ]
  },
  {
   "cell_type": "code",
   "execution_count": 3,
   "metadata": {
    "execution": {
     "iopub.execute_input": "2025-03-25T18:07:14.151780Z",
     "iopub.status.busy": "2025-03-25T18:07:14.151387Z",
     "iopub.status.idle": "2025-03-25T18:07:14.410708Z",
     "shell.execute_reply": "2025-03-25T18:07:14.409773Z"
    }
   },
   "outputs": [
    {
     "data": {
      "image/png": "[encoded data removed]",
      "text/plain": [
       "<Figure size 640x480 with 2 Axes>"
      ]
     },
     "metadata": {},
     "output_type": "display_data"
    }
   ],
   "source": [
    "import matplotlib.pyplot as plt\n",
    "fig, axes = plt.subplots()\n",
    "contours = firedrake.tricontourf(g, axes=axes)\n",
    "fig.colorbar(contours);"
   ]
  },
  {
   "cell_type": "markdown",
   "metadata": {},
   "source": [
    "Next I'll make a random field for $u$, create the action functional for the power-law Laplace equation, and create the right boundary terms for the Nitsche functional."
   ]
  },
  {
   "cell_type": "code",
   "execution_count": 4,
   "metadata": {
    "execution": {
     "iopub.execute_input": "2025-03-25T18:07:14.472664Z",
     "iopub.status.busy": "2025-03-25T18:07:14.472252Z",
     "iopub.status.idle": "2025-03-25T18:07:15.643071Z",
     "shell.execute_reply": "2025-03-25T18:07:15.641860Z"
    }
   },
   "outputs": [],
   "source": [
    "from firedrake import inner, grad, dx\n",
    "\n",
    "u = random_fourier_series(Q, std_dev=.25, num_modes=5, exponent=1)\n",
    "\n",
    "p = firedrake.Constant(3)\n",
    "J_flexion = 1/p * inner(grad(u), grad(u))**(p/2) * dx\n",
    "J_force = f * u * dx\n",
    "J_energy = J_flexion - J_force"
   ]
  },
  {
   "cell_type": "code",
   "execution_count": 5,
   "metadata": {
    "execution": {
     "iopub.execute_input": "2025-03-25T18:07:15.647015Z",
     "iopub.status.busy": "2025-03-25T18:07:15.646752Z",
     "iopub.status.idle": "2025-03-25T18:07:15.654107Z",
     "shell.execute_reply": "2025-03-25T18:07:15.653215Z"
    }
   },
   "outputs": [],
   "source": [
    "from firedrake import ds\n",
    "n = firedrake.FacetNormal(mesh)\n",
    "h = firedrake.CellSize(mesh)\n",
    "σ = -inner(grad(u), grad(u))**((p - 2)/2) * grad(u)\n",
    "\n",
    "J_flux = inner(σ, n) * (u - g) * ds\n",
    "J_boundary = 1 / (p * h**(p - 1)) * abs(u - g)**p * ds"
   ]
  },
  {
   "cell_type": "markdown",
   "metadata": {},
   "source": [
    "Finally we have to calculate a good value for $\\gamma$ using the Warburton-Hesthaven bound in the inverse inequality and the calculated minimum angle of the mesh."
   ]
  },
  {
   "cell_type": "code",
   "execution_count": 6,
   "metadata": {
    "execution": {
     "iopub.execute_input": "2025-03-25T18:07:15.656823Z",
     "iopub.status.busy": "2025-03-25T18:07:15.656608Z",
     "iopub.status.idle": "2025-03-25T18:07:15.914749Z",
     "shell.execute_reply": "2025-03-25T18:07:15.913750Z"
    }
   },
   "outputs": [],
   "source": [
    "from numpy.linalg import norm\n",
    "coords = mesh.coordinates.dat.data_ro\n",
    "cells = mesh.coordinates.cell_node_map().values\n",
    "\n",
    "θ = np.inf\n",
    "for cell in cells:\n",
    "    for k in range(3):\n",
    "        x, y, z = coords[np.roll(cell, k)]\n",
    "        ζ, ξ = y - x, z - x\n",
    "        angle = np.arccos(np.inner(ζ, ξ) / (norm(ζ) * norm(ξ)))\n",
    "        θ = min(angle, θ)\n",
    "        \n",
    "α = 1/2\n",
    "γ = 1/α**2 * 2 * degree * (degree + 1) / np.sin(θ) / np.tan(θ/2)"
   ]
  },
  {
   "cell_type": "markdown",
   "metadata": {},
   "source": [
    "We can now put everything together to make the Nitsche functional.\n",
    "Then we can compute the second derivatives of these functional around $u$ symbolically and assemble them into PETSc matrices."
   ]
  },
  {
   "cell_type": "code",
   "execution_count": 7,
   "metadata": {
    "execution": {
     "iopub.execute_input": "2025-03-25T18:07:15.918799Z",
     "iopub.status.busy": "2025-03-25T18:07:15.918381Z",
     "iopub.status.idle": "2025-03-25T18:07:19.650907Z",
     "shell.execute_reply": "2025-03-25T18:07:19.648660Z"
    }
   },
   "outputs": [],
   "source": [
    "from firedrake import assemble, derivative\n",
    "F = derivative(J_energy + J_flux + γ * J_boundary, u)\n",
    "a = derivative(F, u)\n",
    "\n",
    "ϕ, ψ = firedrake.TestFunction(Q), firedrake.TrialFunction(Q)\n",
    "m = ϕ * ψ * dx\n",
    "\n",
    "A = assemble(a).M.handle\n",
    "M = assemble(m).M.handle"
   ]
  },
  {
   "cell_type": "markdown",
   "metadata": {},
   "source": [
    "Finally we'll solve an eigenproblem using SLEPc.\n",
    "The options we pass to SLEPc state that we're solving a generalized Hermitian eigenvalue problem, we're looking for the smallest real eigenvalue, and that we'll shift and invert the matrix to accelerate the solver. \n",
    "I'm using GMRES as a Krylov subspace solve rather than conjugate gradients because we're not sure that the matrix is postive definite."
   ]
  },
  {
   "cell_type": "code",
   "execution_count": 8,
   "metadata": {
    "execution": {
     "iopub.execute_input": "2025-03-25T18:07:19.656149Z",
     "iopub.status.busy": "2025-03-25T18:07:19.655439Z",
     "iopub.status.idle": "2025-03-25T18:07:19.716013Z",
     "shell.execute_reply": "2025-03-25T18:07:19.714715Z"
    }
   },
   "outputs": [],
   "source": [
    "from petsc4py import PETSc\n",
    "from slepc4py import SLEPc\n",
    "\n",
    "opts = PETSc.Options()\n",
    "opts.setValue('eps_gen_hermitian', None)\n",
    "opts.setValue('eps_target_real', None)\n",
    "opts.setValue('eps_smallest_real', None)\n",
    "opts.setValue('st_type', 'sinvert')\n",
    "opts.setValue('st_ksp_type', 'gmres')\n",
    "opts.setValue('st_pc-type', 'jacobi')\n",
    "opts.setValue('eps_tol', 1e-8)\n",
    "\n",
    "num_values = 1\n",
    "eigensolver = SLEPc.EPS().create(comm=firedrake.COMM_WORLD)\n",
    "eigensolver.setDimensions(num_values)\n",
    "eigensolver.setOperators(A, M)\n",
    "eigensolver.setFromOptions()\n",
    "eigensolver.solve()"
   ]
  },
  {
   "cell_type": "code",
   "execution_count": 9,
   "metadata": {
    "execution": {
     "iopub.execute_input": "2025-03-25T18:07:19.719408Z",
     "iopub.status.busy": "2025-03-25T18:07:19.718908Z",
     "iopub.status.idle": "2025-03-25T18:07:19.725534Z",
     "shell.execute_reply": "2025-03-25T18:07:19.724471Z"
    }
   },
   "outputs": [
    {
     "name": "stdout",
     "output_type": "stream",
     "text": [
      "2\n"
     ]
    }
   ],
   "source": [
    "num_converged = eigensolver.getConverged()\n",
    "print(num_converged)"
   ]
  },
  {
   "cell_type": "code",
   "execution_count": 10,
   "metadata": {
    "execution": {
     "iopub.execute_input": "2025-03-25T18:07:19.728875Z",
     "iopub.status.busy": "2025-03-25T18:07:19.728308Z",
     "iopub.status.idle": "2025-03-25T18:07:19.736439Z",
     "shell.execute_reply": "2025-03-25T18:07:19.735039Z"
    }
   },
   "outputs": [],
   "source": [
    "Vr, Vi = A.getVecs()\n",
    "λ = eigensolver.getEigenpair(0, Vr, Vi)"
   ]
  },
  {
   "cell_type": "markdown",
   "metadata": {},
   "source": [
    "And the moment of truth:"
   ]
  },
  {
   "cell_type": "code",
   "execution_count": 11,
   "metadata": {
    "execution": {
     "iopub.execute_input": "2025-03-25T18:07:19.739601Z",
     "iopub.status.busy": "2025-03-25T18:07:19.739259Z",
     "iopub.status.idle": "2025-03-25T18:07:19.745590Z",
     "shell.execute_reply": "2025-03-25T18:07:19.744463Z"
    }
   },
   "outputs": [
    {
     "name": "stdout",
     "output_type": "stream",
     "text": [
      "63.77376984614607\n"
     ]
    }
   ],
   "source": [
    "print(λ)"
   ]
  },
  {
   "cell_type": "markdown",
   "metadata": {},
   "source": [
    "which is well and truly positive!\n",
    "In every test I've run so far it seems as if the second derivative of the Nitsche functional is positive-definite.\n",
    "Of course these tests are run using a few random fields, which is far from exhaustive.\n",
    "I still need a proof that my proposed value of the penalty parameter is good enough, but for now it's encouraging to know that it might work."
   ]
  }
 ],
 "metadata": {
  "kernelspec": {
   "display_name": "firedrake",
   "language": "python",
   "name": "firedrake"
  },
  "language_info": {
   "codemirror_mode": {
    "name": "ipython",
    "version": 3
   },
   "file_extension": ".py",
   "mimetype": "text/x-python",
   "name": "python",
   "nbconvert_exporter": "python",
   "pygments_lexer": "ipython3",
   "version": "3.12.3"
  },
  "nikola": {
   "category": "",
   "date": "2019-10-23 09:35:34 UTC-07:00",
   "description": "",
   "link": "",
   "slug": "nitsches-method-nonlinear",
   "tags": "",
   "title": "Nitsche's method for nonlinear problems",
   "type": "text"
  }
 },
 "nbformat": 4,
 "nbformat_minor": 4
}
