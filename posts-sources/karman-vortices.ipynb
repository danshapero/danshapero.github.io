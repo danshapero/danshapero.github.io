{
 "cells": [
  {
   "cell_type": "markdown",
   "metadata": {},
   "source": [
    "In previous posts, I looked at how to discretize the incompressible Stokes equations.\n",
    "The Stokes equations are a good approximation when the fluid speed is small enough that inertial effects are negligible.\n",
    "The relevant dimensionless number is the ratio\n",
    "$$\\text{Re} = \\frac{\\rho UL}{\\mu},$$\n",
    "the Reynolds number.\n",
    "Stokes flow applies when the Reynolds number is substantially less than 1.\n",
    "The incompressibility constraint adds a new difficulty: we have to make good choices of finite element bases for the velocity and pressure.\n",
    "If we fail to do that, the resulting linear systems can have no solution or infinitely many.\n",
    "\n",
    "Here I'll look at how we can discretize the full Navier-Stokes equations:\n",
    "$$\\frac{\\partial}{\\partial t}\\rho u + \\nabla\\cdot\\rho u\\otimes u = -\\nabla p + \\nabla\\cdot \\tau$$\n",
    "where the deviatoric stress tensor is $\\tau = 2\\mu\\dot\\varepsilon$.\n",
    "The inertial terms are nonlinear, which makes this problem more difficult yet than the Stokes equations.\n",
    "\n",
    "The goal here will be to simulate the famous [von Kármán vortex street](https://en.wikipedia.org/wiki/K%C3%A1rm%C3%A1n_vortex_street)."
   ]
  },
  {
   "cell_type": "markdown",
   "metadata": {},
   "source": [
    "### Making the initial geometry\n",
    "\n",
    "First, we'll make a domain consisting of a circle punched out of a box.\n",
    "The fluid flow in the wake of the circle will produce vortices."
   ]
  },
  {
   "cell_type": "code",
   "execution_count": null,
   "metadata": {},
   "outputs": [],
   "source": [
    "import gmsh\n",
    "gmsh.initialize()"
   ]
  },
  {
   "cell_type": "code",
   "execution_count": null,
   "metadata": {},
   "outputs": [],
   "source": [
    "import numpy as np\n",
    "from numpy import pi as π\n",
    "\n",
    "Lx = 6.0\n",
    "Ly = 2.0\n",
    "lcar = 1 / 16\n",
    "\n",
    "gmsh.model.add(\"chamber\")\n",
    "geo = gmsh.model.geo\n",
    "ps = [(0, 0), (Lx, 0), (Lx, Ly), (0, Ly)]\n",
    "box_points = [geo.add_point(*p, 0, lcar) for p in ps]\n",
    "box_lines = [\n",
    "    geo.add_line(i1, i2) for i1, i2 in zip(box_points, np.roll(box_points, 1))\n",
    "]\n",
    "\n",
    "for line in box_lines:\n",
    "    geo.add_physical_group(1, [line])\n",
    "\n",
    "f = 1 / 3\n",
    "c = np.array([f * Lx, Ly / 2, 0])\n",
    "center = geo.add_point(*c)\n",
    "r = Ly / 8\n",
    "num_circle_points = 16\n",
    "θs = np.linspace(0.0, 2 * π, num_circle_points + 1)[:-1]\n",
    "ss = np.column_stack((np.cos(θs), np.sin(θs), np.zeros(num_circle_points)))\n",
    "tie_points = [geo.add_point(*(c + r * s), lcar) for s in ss]\n",
    "circle_arcs = [\n",
    "    geo.add_circle_arc(p1, center, p2)\n",
    "    for p1, p2 in zip(tie_points, np.roll(tie_points, 1))\n",
    "]\n",
    "\n",
    "geo.add_physical_group(1, circle_arcs)\n",
    "\n",
    "outer_curve_loop = geo.add_curve_loop(box_lines)\n",
    "inner_curve_loop = geo.add_curve_loop(circle_arcs)\n",
    "plane_surface = geo.add_plane_surface([outer_curve_loop, inner_curve_loop])\n",
    "geo.add_physical_group(2, [plane_surface])\n",
    "geo.synchronize()"
   ]
  },
  {
   "cell_type": "code",
   "execution_count": null,
   "metadata": {},
   "outputs": [],
   "source": [
    "gmsh.model.mesh.generate(2)\n",
    "gmsh.write(\"chamber.msh\")"
   ]
  },
  {
   "cell_type": "code",
   "execution_count": null,
   "metadata": {},
   "outputs": [],
   "source": [
    "import firedrake\n",
    "mesh = firedrake.Mesh(\"chamber.msh\")"
   ]
  },
  {
   "cell_type": "code",
   "execution_count": null,
   "metadata": {},
   "outputs": [],
   "source": [
    "import matplotlib.pyplot as plt\n",
    "fig, ax = plt.subplots()\n",
    "ax.set_aspect(\"equal\")\n",
    "firedrake.triplot(mesh, axes=ax)\n",
    "ax.legend(loc=\"upper right\");"
   ]
  },
  {
   "cell_type": "markdown",
   "metadata": {},
   "source": [
    "### Initial velocity\n",
    "\n",
    "We'll use a fixed inflow velocity\n",
    "$$u_x = 4 \\frac{y}{L_y}\\left(1 - \\frac{y}{L_y}\\right) u_{\\text{in}}.$$\n",
    "We'll take as characteristic length scale the radius of the disc $L_y / 8$.\n",
    "In order to see the effect we want, we'll need a Reynolds number that's on the order of 100 or greater."
   ]
  },
  {
   "cell_type": "code",
   "execution_count": null,
   "metadata": {},
   "outputs": [],
   "source": [
    "from firedrake import Constant\n",
    "\n",
    "μ = Constant(1e-2)\n",
    "\n",
    "x, y = firedrake.SpatialCoordinate(mesh)\n",
    "u_in = Constant(5.0)\n",
    "ly = Constant(Ly)\n",
    "expr = firedrake.as_vector((4 * u_in * y / ly * (1 - y / ly), 0))"
   ]
  },
  {
   "cell_type": "markdown",
   "metadata": {},
   "source": [
    "I've used Taylor-Hood elements for this demonstration.\n",
    "It would be a good exercise to repeat this using, say, Crouzeix-Raviart or other elements."
   ]
  },
  {
   "cell_type": "code",
   "execution_count": null,
   "metadata": {},
   "outputs": [],
   "source": [
    "cg1 = firedrake.FiniteElement(\"CG\", \"triangle\", 1)\n",
    "cg2 = firedrake.FiniteElement(\"CG\", \"triangle\", 2)\n",
    "Q = firedrake.FunctionSpace(mesh, cg1)\n",
    "V = firedrake.VectorFunctionSpace(mesh, cg2)\n",
    "Z = V * Q\n",
    "z = firedrake.Function(Z)"
   ]
  },
  {
   "cell_type": "markdown",
   "metadata": {},
   "source": [
    "Here we can use the fact that the Stokes problem has a minimization form.\n",
    "The Navier-Stokes equations do not because of the convective term."
   ]
  },
  {
   "cell_type": "code",
   "execution_count": null,
   "metadata": {},
   "outputs": [],
   "source": [
    "from firedrake import inner, sym, grad, div, dx, ds\n",
    "\n",
    "u, p = firedrake.split(z)\n",
    "ε = lambda v: sym(grad(v))\n",
    "\n",
    "L = (μ * inner(ε(u), ε(u)) - p * div(u)) * dx\n",
    "\n",
    "inflow_ids = (1,)\n",
    "outflow_ids = (3,)\n",
    "side_wall_ids = (2, 4, 5)\n",
    "side_wall_bcs = firedrake.DirichletBC(Z.sub(0), Constant((0.0, 0.0)), side_wall_ids)\n",
    "inflow_bcs = firedrake.DirichletBC(Z.sub(0), expr, inflow_ids)\n",
    "bcs = [side_wall_bcs, inflow_bcs]\n",
    "\n",
    "F = firedrake.derivative(L, z)\n",
    "firedrake.solve(F == 0, z, bcs)"
   ]
  },
  {
   "cell_type": "markdown",
   "metadata": {},
   "source": [
    "A bit of a philosophical point is in order here.\n",
    "We picked the inflow velocity and the viscosity to produce a high Reynolds number (about 200).\n",
    "The Stokes equations, on the other hand, are physically realistic only when the Reynolds number is $\\ll 1$.\n",
    "But we can still solve the Stokes equations in the high-Reynolds number limit.\n",
    "In other words, the mathematical model remains well-posed even in regimes where it is not applicable.\n",
    "Here we're only using the result to initialize a simulation using the \"right\" model.\n",
    "But it's a mistake -- and one I've made -- to lull yourself into a false sense of correctness merely because the model gave you an answer."
   ]
  },
  {
   "cell_type": "code",
   "execution_count": null,
   "metadata": {},
   "outputs": [],
   "source": [
    "fig, ax = plt.subplots()\n",
    "ax.set_aspect(\"equal\")\n",
    "ax.set_axis_off()\n",
    "colors = firedrake.streamplot(\n",
    "    z.subfunctions[0], resolution=1/16, seed=1729, cmap=\"Blues\", axes=ax\n",
    ")\n",
    "fig.colorbar(colors, orientation=\"horizontal\");"
   ]
  },
  {
   "cell_type": "markdown",
   "metadata": {},
   "source": [
    "### Solution method\n",
    "\n",
    "There are a host of methods for solving the Navier-Stokes equations by breaking them up into two simpler problems.\n",
    "These are known as [projection methods](https://en.wikipedia.org/wiki/Projection_method_(fluid_dynamics)).\n",
    "I started out trying those but it required effort, which I find disgusting.\n",
    "So I threw backward Euler at it and it worked.\n",
    "\n",
    "There are some non-trivial decisions to make about both the variational form and the boundary conditions.\n",
    "I started writing this wanting to use pressure boundary conditions at both the inflow and outflow.\n",
    "(Of course I had to [be reminded](https://scicomp.stackexchange.com/questions/35928/imposing-pressure-variation-instead-of-dirichlet-boundary-conditions-on-finite-e) that you can't prescribe pressures but rather tractions.)\n",
    "This went badly.\n",
    "If a wave reflects off of the obstacle, back upstream, and out the inflow boundary, the simulation will crash.\n",
    "So I had to dial back the challenge and use a fixed inflow velocity and a traction boundary condition at the outflow.\n",
    "\n",
    "Almost any writing you see about the Navier-Stokes equations will express the problem in differential form and will use incompressibility to apply what might appear to be simplifications.\n",
    "For example, if the fluid is incompressible and the viscosity is constant, then you can rewrite the viscous term like so:\n",
    "$$\\nabla\\cdot \\mu(\\nabla u + \\nabla u^\\top) = \\mu\\nabla^2u.$$\n",
    "You'll see this form in almost all numerical methods or engineering textbooks.\n",
    "I don't like it for two reasons.\n",
    "First, the apparent simplification only gets in your way as soon as you want to consider fluids with variable viscosity.\n",
    "Mantle convection is one obvious case -- the temperature and chemistry of mantle rock can change the viscosity by several orders of magnitude.\n",
    "Second, it gives the wrong boundary conditions when you try to discretize the problem (see [Limache et al. (2007)](https://doi.org/10.1002/fld.1480)).\n",
    "I've retained the symmetric gradients of the velocity and test function in the form below.\n",
    "\n",
    "The second apparent simplification uses incompressibility to rewrite the convection term:\n",
    "$$\\nabla\\cdot \\rho u\\otimes u = u\\cdot\\nabla \\rho u.$$\n",
    "This form is ubiquitous and reflects a preference for thinking about fluid flow in a Lagrangian reference frame.\n",
    "I prefer to avoid it although both are correct, unlike the Laplacian form of the viscosity.\n",
    "Given any extensive density $\\phi$, regardless of its tensor rank, the flux will include a term $\\phi\\cdot u$.\n",
    "The conversion of this flux from the conservation to the variational form is then\n",
    "$$-\\int_\\Omega \\phi u\\cdot\\nabla\\psi\\,dx$$\n",
    "and this is true of mass, momentum, energy, whatever you like.\n",
    "Taking something that was a divergence and making it not a divergence obfuscates the original conservation principle.\n",
    "It also stops you from pushing the differential operator over onto a test function.\n",
    "So I've instead coded up the convection term as a discretization of\n",
    "$$-\\int_\\Omega u\\otimes u\\cdot\\dot\\varepsilon(v)\\,dx + \\int_{\\partial\\Omega\\cap\\{u\\cdot n \\ge 0\\}}(u\\cdot n)(v\\cdot n)ds.$$\n",
    "In the first term, I've used the symmetric gradient of $v$ because the contraction of a symmetric and an anti-symmetric tensor is zero.\n",
    "\n",
    "All together now, the variational form that I'm using is\n",
    "$$\\begin{align}\n",
    "0 & = \\int_\\Omega\\left\\{\\rho\\,\\partial_tu\\cdot v - \\rho u\\otimes u:\\varepsilon(v) - p\\nabla\\cdot v - q\\nabla\\cdot u + 2\\mu\\,\\dot\\varepsilon(u):\\dot\\varepsilon(v)\\right\\}dx \\\\\n",
    "& \\qquad\\qquad + \\int_\\Gamma (\\rho u\\cdot n)(u \\cdot v)ds.\n",
    "\\end{align}$$\n",
    "for all test functions $v$ and $q$."
   ]
  },
  {
   "cell_type": "code",
   "execution_count": null,
   "metadata": {},
   "outputs": [],
   "source": [
    "from firedrake import outer\n",
    "from irksome import Dt\n",
    "\n",
    "v, q = firedrake.TestFunctions(Z)\n",
    "u, p = firedrake.split(z)\n",
    "\n",
    "ρ = firedrake.Constant(1.0)\n",
    "\n",
    "F_1 = (\n",
    "    ρ * inner(Dt(u), v) -\n",
    "    ρ * inner(ε(v), outer(u, u)) -\n",
    "    p * div(v) -\n",
    "    q * div(u) +\n",
    "    2 * μ * inner(ε(u), ε(v))\n",
    ") * dx\n",
    "\n",
    "n = firedrake.FacetNormal(mesh)\n",
    "F_2 = ρ * inner(u, v) * inner(u, n) * ds(outflow_ids)\n",
    "\n",
    "F = F_1 + F_2"
   ]
  },
  {
   "cell_type": "markdown",
   "metadata": {},
   "source": [
    "We'll need to make some choice about the timestep.\n",
    "Here I've computed the CFL time for the mesh and the initial velocity that we computed above.\n",
    "This choice might not be good enough.\n",
    "If we initialized the velocity by solving the Stokes equations, the fluid could evolve to a much higher speed.\n",
    "We might then find that this timestep is inadequate.\n",
    "A principled solution would be to use an adaptive scheme."
   ]
  },
  {
   "cell_type": "code",
   "execution_count": null,
   "metadata": {},
   "outputs": [],
   "source": [
    "dg0 = firedrake.FiniteElement(\"DG\", \"triangle\", 0)\n",
    "Δ = firedrake.FunctionSpace(mesh, dg0)\n",
    "area = firedrake.Function(Δ).project(firedrake.CellVolume(mesh))\n",
    "δx_min = np.sqrt(2 * area.dat.data_ro.min())\n",
    "\n",
    "u, p = z.subfunctions\n",
    "U_2 = firedrake.Function(Δ).project(inner(u, u))\n",
    "u_max = np.sqrt(U_2.dat.data_ro.max())\n",
    "cfl_time = δx_min / u_max\n",
    "print(f\"Smallest cell diameter: {δx_min:0.4f}\")\n",
    "print(f\"Max initial velocity:   {u_max:0.4f}\")\n",
    "print(f\"Timestep:               {cfl_time:0.4f}\")\n",
    "\n",
    "dt = firedrake.Constant(0.5 * cfl_time)"
   ]
  },
  {
   "cell_type": "code",
   "execution_count": null,
   "metadata": {},
   "outputs": [],
   "source": [
    "import irksome\n",
    "\n",
    "params = {\n",
    "    \"solver_parameters\": {\n",
    "        \"snes_monitor\": \":navier-stokes-output.log\",\n",
    "        \"snes_atol\": 1e-12,\n",
    "        \"ksp_atol\": 1e-12,\n",
    "        \"snes_type\": \"newtonls\",\n",
    "        \"ksp_type\": \"gmres\",\n",
    "        \"pc_type\": \"lu\",\n",
    "        \"pc_factor_mat_solver_type\": \"mumps\",\n",
    "    },\n",
    "    \"bcs\": bcs,\n",
    "}\n",
    "\n",
    "method = irksome.BackwardEuler()\n",
    "t = firedrake.Constant(0.0)\n",
    "solver = irksome.TimeStepper(F, method, t, dt, z, **params)"
   ]
  },
  {
   "cell_type": "markdown",
   "metadata": {},
   "source": [
    "I've added a bit of code to show some diagnostic information in the progress bar.\n",
    "First I have it printing out the number of Newton iterations that were required to compute each timestep.\n",
    "If you see this going much above 20 then something is off.\n",
    "Second, I had it print out the maximum pressure.\n",
    "Both of these were useful when I was debugging this code."
   ]
  },
  {
   "cell_type": "code",
   "execution_count": null,
   "metadata": {},
   "outputs": [],
   "source": [
    "from tqdm.notebook import trange\n",
    "\n",
    "zs = [z.copy(deepcopy=True)]\n",
    "\n",
    "final_time = 10.0\n",
    "num_steps = int(final_time / float(dt))\n",
    "progress_bar = trange(num_steps)\n",
    "for step in progress_bar:\n",
    "    solver.advance()\n",
    "    zs.append(z.copy(deepcopy=True))\n",
    "    iter_count = solver.solver.snes.getIterationNumber()\n",
    "    pmax = z.subfunctions[1].dat.data_ro.max()\n",
    "    progress_bar.set_description(f\"{iter_count}, {pmax:0.4f} | \")"
   ]
  },
  {
   "cell_type": "markdown",
   "metadata": {},
   "source": [
    "Finally, we'll make an animated quiver plot because it looks pretty."
   ]
  },
  {
   "cell_type": "code",
   "execution_count": null,
   "metadata": {},
   "outputs": [],
   "source": [
    "%%capture\n",
    "\n",
    "from tqdm.notebook import tqdm\n",
    "from matplotlib.animation import FuncAnimation\n",
    "\n",
    "fig, ax = plt.subplots()\n",
    "ax.set_aspect(\"equal\")\n",
    "ax.set_axis_off()\n",
    "\n",
    "X = mesh.coordinates.dat.data_ro\n",
    "V = mesh.coordinates.function_space()\n",
    "u_t = zs[0].subfunctions[0].copy(deepcopy=True)\n",
    "interpolator = firedrake.Interpolate(u_t, V)\n",
    "u_X = firedrake.assemble(interpolator)\n",
    "u_values = u_X.dat.data_ro\n",
    "\n",
    "arrows = firedrake.quiver(zs[0].subfunctions[0], axes=ax, cmap=\"Blues\")\n",
    "def animate(z):\n",
    "    u_t.assign(z.subfunctions[0])\n",
    "    u_X = firedrake.assemble(interpolator)\n",
    "    u_values = u_X.dat.data_ro\n",
    "    arrows.set_UVC(*(u_values.T))\n",
    "\n",
    "animation = FuncAnimation(fig, animate, tqdm(zs), interval=1e3/60)\n",
    "fig.tight_layout()"
   ]
  },
  {
   "cell_type": "code",
   "execution_count": null,
   "metadata": {},
   "outputs": [],
   "source": [
    "from IPython.display import HTML\n",
    "HTML(animation.to_html5_video())"
   ]
  },
  {
   "cell_type": "markdown",
   "metadata": {},
   "source": [
    "There's an [empirical formula](https://en.wikipedia.org/wiki/K%C3%A1rm%C3%A1n_vortex_street#Formula) for the frequency of vortex shedding.\n",
    "A fun follow-up to this would be to compute the shedding frequency from the simulation using, say, a windowed Fourier transform, and comparing the result to the empirical formula.\n",
    "Next on the docket is comparing the results using different spatial finite elements."
   ]
  }
 ],
 "metadata": {
  "kernelspec": {
   "display_name": "firedrake",
   "language": "python",
   "name": "firedrake"
  },
  "language_info": {
   "codemirror_mode": {
    "name": "ipython",
    "version": 3
   },
   "file_extension": ".py",
   "mimetype": "text/x-python",
   "name": "python",
   "nbconvert_exporter": "python",
   "pygments_lexer": "ipython3",
   "version": "3.12.8"
  },
  "nikola": {
   "category": "",
   "date": "2025-03-12 13:19:42 UTC-07:00",
   "description": "",
   "link": "",
   "slug": "karman-vortices",
   "tags": "",
   "title": "Kármán vortices",
   "type": "text"
  }
 },
 "nbformat": 4,
 "nbformat_minor": 4
}
