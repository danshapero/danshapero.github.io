{
 "cells": [
  {
   "cell_type": "markdown",
   "metadata": {},
   "source": [
    "$$\\frac{1}{r}\\frac{\\partial}{\\partial r} r\\frac{\\partial u}{\\partial r} = 0$$\n",
    "\n",
    "$$\\Rightarrow r\\frac{\\partial u}{\\partial r} = c_1,$$\n",
    "\n",
    "$$\\Rightarrow u = c_1\\ln r + c_2;$$\n",
    "\n",
    "$$u(R) = 0 \\Rightarrow c_2 = -c_1\\ln R,$$\n",
    "\n",
    "$$\\Rightarrow u = c\\ln \\frac{R}{r}.$$\n",
    "\n",
    "The free boundary constraints are\n",
    "\n",
    "$$u(s) = g(s), \\quad \\frac{\\partial u}{\\partial r}(s) = \\frac{\\partial g}{\\partial r}(s),$$\n",
    "\n",
    "a system of 2 eqns in 2 unknowns for $c$ and $s$.\n",
    "We'll assume that\n",
    "\n",
    "$$g = a\\max\\{0, 1 - (r / \\rho)^2\\},$$\n",
    "\n",
    "so\n",
    "\n",
    "$$g' = \\begin{cases} -2ar / \\rho^2 & r < \\rho \\\\ 0 & \\end{cases}$$\n",
    "\n",
    "and right away we can guess that $s < \\rho.$\n",
    "\n",
    "$$u(s) = c\\ln\\frac{R}{s} = a(1 - (s / \\rho)^2) = g(s)$$\n",
    "\n",
    "$$u'(s) = -\\frac{c}{s} = -2as/\\rho^2 = g'(s)$$\n",
    "\n",
    "$$\\Rightarrow c = 2as^2/\\rho^2$$\n",
    "\n",
    "$$\\Rightarrow \\frac{2s^2}{\\rho^2}\\ln\\frac{R}{s} + \\frac{s^2}{\\rho^2} = 1$$\n",
    "\n",
    "$$\\Rightarrow \\ln\\frac{R^2}{s^2} = \\frac{\\rho^2}{s^2} - 1$$"
   ]
  },
  {
   "cell_type": "code",
   "execution_count": null,
   "metadata": {},
   "outputs": [],
   "source": [
    "import firedrake\n",
    "from firedrake import inner, sqrt, Constant, interpolate, project\n",
    "\n",
    "def create_geometry(num_levels, radius):\n",
    "    mesh = firedrake.UnitDiskMesh(num_levels)\n",
    "    V = firedrake.VectorFunctionSpace(mesh, \"CG\", 2)\n",
    "    R = Constant(radius)\n",
    "    x = interpolate(R * firedrake.SpatialCoordinate(mesh), V)\n",
    "    z = R * x / sqrt(inner(x, x))\n",
    "    bc = firedrake.DirichletBC(V, z, \"on_boundary\")\n",
    "    bc.apply(x)\n",
    "    return firedrake.Mesh(x)"
   ]
  },
  {
   "cell_type": "code",
   "execution_count": null,
   "metadata": {},
   "outputs": [],
   "source": [
    "mesh = create_geometry(num_levels=3, radius=1.0)"
   ]
  },
  {
   "cell_type": "code",
   "execution_count": null,
   "metadata": {},
   "outputs": [],
   "source": [
    "import matplotlib.pyplot as plt\n",
    "\n",
    "fig, axes = plt.subplots()\n",
    "axes.set_aspect(\"equal\")\n",
    "firedrake.triplot(mesh, axes=axes);"
   ]
  },
  {
   "cell_type": "code",
   "execution_count": null,
   "metadata": {},
   "outputs": [],
   "source": [
    "Q = firedrake.FunctionSpace(mesh, \"Bernstein\", 2)"
   ]
  },
  {
   "cell_type": "code",
   "execution_count": null,
   "metadata": {},
   "outputs": [],
   "source": [
    "from firedrake import max_value, sqrt, inner, as_vector, Constant\n",
    "\n",
    "def make_obstacle(mesh, obstacle_radius, obstacle_height):\n",
    "    x = firedrake.SpatialCoordinate(mesh)\n",
    "    ρ = Constant(obstacle_radius)\n",
    "    a = Constant(obstacle_height)\n",
    "    return a * max_value(0, 1 - inner(x, x) / ρ**2)\n",
    "\n",
    "g_expr = make_obstacle(mesh, obstacle_radius=1/4, obstacle_height=1/4)\n",
    "g = project(g_expr, Q)"
   ]
  },
  {
   "cell_type": "code",
   "execution_count": null,
   "metadata": {},
   "outputs": [],
   "source": [
    "import matplotlib.pyplot as plt\n",
    "import mpl_toolkits.mplot3d\n",
    "fig = plt.figure()\n",
    "axes = fig.add_subplot(projection='3d')\n",
    "axes.set_box_aspect((1.0, 1.0, 1/4))\n",
    "firedrake.trisurf(g, axes=axes);"
   ]
  },
  {
   "cell_type": "code",
   "execution_count": null,
   "metadata": {},
   "outputs": [],
   "source": [
    "import numpy as np\n",
    "import scipy.optimize\n",
    "\n",
    "def free_boundary_radius(obstacle_radius, radius):\n",
    "    def fn(s):\n",
    "        z = s / obstacle_radius\n",
    "        return 2 * z**2 * np.log(radius / s) - 1 + z**2\n",
    "\n",
    "    result = scipy.optimize.root_scalar(fn, x0=1e-3, x1=obstacle_radius)\n",
    "    return result.root\n",
    "\n",
    "def make_exact_solution(mesh, obstacle_radius, obstacle_height, radius):\n",
    "    s = Constant(free_boundary_radius(obstacle_radius, radius))\n",
    "    R = Constant(radius)\n",
    "    ρ = Constant(obstacle_radius)\n",
    "    α = Constant(obstacle_height)\n",
    "    x = firedrake.SpatialCoordinate(mesh)\n",
    "    u_expr = α * s**2 / ρ**2 * firedrake.ln(R**2 / inner(x, x))\n",
    "    return firedrake.conditional(inner(x, x) < s**2, g_expr, u_expr)\n",
    "\n",
    "u_exact_expr = make_exact_solution(\n",
    "    mesh, obstacle_radius=1/4, obstacle_height=1/4, radius=1.0\n",
    ")\n",
    "u_exact = project(u_exact_expr, Q)"
   ]
  },
  {
   "cell_type": "code",
   "execution_count": null,
   "metadata": {},
   "outputs": [],
   "source": [
    "import matplotlib.pyplot as plt\n",
    "import mpl_toolkits.mplot3d\n",
    "fig = plt.figure(figsize=(16, 12))\n",
    "axes = fig.add_subplot(projection='3d')\n",
    "axes.set_box_aspect((1.0, 1.0, 0.25))\n",
    "firedrake.trisurf(u_exact, axes=axes);"
   ]
  },
  {
   "cell_type": "code",
   "execution_count": null,
   "metadata": {},
   "outputs": [],
   "source": [
    "from firedrake import grad, dx\n",
    "\n",
    "u = firedrake.Function(Q)\n",
    "J = 0.5 * inner(grad(u), grad(u)) * dx"
   ]
  },
  {
   "cell_type": "code",
   "execution_count": null,
   "metadata": {},
   "outputs": [],
   "source": [
    "bcs = firedrake.DirichletBC(Q, 0, \"on_boundary\")\n",
    "F = firedrake.derivative(J, u)\n",
    "problem = firedrake.NonlinearVariationalProblem(F, u, bcs)\n",
    "params = {\n",
    "    \"solver_parameters\": {\n",
    "        \"snes_type\": \"vinewtonrsls\",\n",
    "        \"ksp_type\": \"gmres\",\n",
    "        \"pc_type\": \"lu\",\n",
    "    }\n",
    "}\n",
    "solver = firedrake.NonlinearVariationalSolver(problem, **params)"
   ]
  },
  {
   "cell_type": "code",
   "execution_count": null,
   "metadata": {},
   "outputs": [],
   "source": [
    "upper = firedrake.Function(Q)\n",
    "upper.assign(Constant(10e3));"
   ]
  },
  {
   "cell_type": "code",
   "execution_count": null,
   "metadata": {},
   "outputs": [],
   "source": [
    "solver.solve(bounds=(g, upper))"
   ]
  },
  {
   "cell_type": "code",
   "execution_count": null,
   "metadata": {},
   "outputs": [],
   "source": [
    "fig = plt.figure(figsize=(16, 12))\n",
    "axes = fig.add_subplot(projection='3d')\n",
    "axes.set_box_aspect((1.0, 1.0, 0.25))\n",
    "firedrake.trisurf(u, axes=axes);"
   ]
  },
  {
   "cell_type": "code",
   "execution_count": null,
   "metadata": {},
   "outputs": [],
   "source": [
    "δu = firedrake.project(u - u_exact_expr, Q)\n",
    "\n",
    "fig, axes = plt.subplots()\n",
    "axes.set_aspect(\"equal\")\n",
    "colors = firedrake.tripcolor(δu, axes=axes)\n",
    "fig.colorbar(colors);"
   ]
  },
  {
   "cell_type": "code",
   "execution_count": null,
   "metadata": {},
   "outputs": [],
   "source": [
    "firedrake.norm(u - u_exact_expr) / firedrake.norm(u_exact_expr)"
   ]
  }
 ],
 "metadata": {
  "kernelspec": {
   "display_name": "firedrake",
   "language": "python",
   "name": "firedrake"
  },
  "language_info": {
   "codemirror_mode": {
    "name": "ipython",
    "version": 3
   },
   "file_extension": ".py",
   "mimetype": "text/x-python",
   "name": "python",
   "nbconvert_exporter": "python",
   "pygments_lexer": "ipython3",
   "version": "3.10.3"
  },
  "nikola": {
   "category": "",
   "date": "2019-11-22 13:26:50 UTC-08:00",
   "description": "",
   "link": "",
   "slug": "obstacle-problem",
   "tags": "",
   "title": "The obstacle problem",
   "type": "text"
  }
 },
 "nbformat": 4,
 "nbformat_minor": 2
}
