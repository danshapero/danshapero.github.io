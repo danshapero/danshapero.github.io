{
 "cells": [
  {
   "cell_type": "markdown",
   "metadata": {},
   "source": [
    "$$\\frac{1}{r}\\frac{\\partial}{\\partial r} r\\frac{\\partial u}{\\partial r} = 0$$\n",
    "\n",
    "$$\\Rightarrow r\\frac{\\partial u}{\\partial r} = c_1,$$\n",
    "\n",
    "$$\\Rightarrow u = c_1\\ln r + c_2;$$\n",
    "\n",
    "$$u(R) = 0 \\Rightarrow c_2 = -c_1\\ln R,$$\n",
    "\n",
    "$$\\Rightarrow u = c\\ln \\frac{R}{r}.$$\n",
    "\n",
    "The free boundary constraints are\n",
    "\n",
    "$$u(s) = g(s), \\quad \\frac{\\partial u}{\\partial r}(s) = \\frac{\\partial g}{\\partial r}(s),$$\n",
    "\n",
    "a system of 2 eqns in 2 unknowns for $c$ and $s$.\n",
    "We'll assume that\n",
    "\n",
    "$$g = a\\max\\{0, 1 - (r / \\rho)^2\\},$$\n",
    "\n",
    "so\n",
    "\n",
    "$$g' = \\begin{cases} -2ar / \\rho^2 & r < \\rho \\\\ 0 & \\end{cases}$$\n",
    "\n",
    "and right away we can guess that $s < \\rho.$\n",
    "\n",
    "$$u(s) = c\\ln\\frac{R}{s} = a(1 - (s / \\rho)^2) = g(s)$$\n",
    "\n",
    "$$u'(s) = -\\frac{c}{s} = -2as/\\rho^2 = g'(s)$$\n",
    "\n",
    "$$\\Rightarrow c = 2as^2/\\rho^2$$\n",
    "\n",
    "$$\\Rightarrow \\frac{2s^2}{\\rho^2}\\ln\\frac{R}{s} + \\frac{s^2}{\\rho^2} = 1$$\n",
    "\n",
    "$$\\Rightarrow \\ln\\frac{R^2}{s^2} = \\frac{\\rho^2}{s^2} - 1$$"
   ]
  },
  {
   "cell_type": "code",
   "execution_count": null,
   "metadata": {},
   "outputs": [],
   "source": [
    "import firedrake\n",
    "from firedrake import inner, sqrt, Constant, interpolate, project\n",
    "\n",
    "def create_geometry(num_levels, radius):\n",
    "    mesh = firedrake.UnitDiskMesh(num_levels)\n",
    "    V = firedrake.VectorFunctionSpace(mesh, \"CG\", 2)\n",
    "    R = Constant(radius)\n",
    "    x = interpolate(R * firedrake.SpatialCoordinate(mesh), V)\n",
    "    z = R * x / sqrt(inner(x, x))\n",
    "    bc = firedrake.DirichletBC(V, z, \"on_boundary\")\n",
    "    bc.apply(x)\n",
    "    return firedrake.Mesh(x)"
   ]
  },
  {
   "cell_type": "code",
   "execution_count": null,
   "metadata": {},
   "outputs": [],
   "source": [
    "from firedrake import max_value, inner, Constant\n",
    "\n",
    "def make_obstacle(mesh, obstacle_radius, obstacle_height):\n",
    "    x = firedrake.SpatialCoordinate(mesh)\n",
    "    ρ = Constant(obstacle_radius)\n",
    "    a = Constant(obstacle_height)\n",
    "    return a * max_value(0, 1 - inner(x, x) / ρ**2)"
   ]
  },
  {
   "cell_type": "code",
   "execution_count": null,
   "metadata": {},
   "outputs": [],
   "source": [
    "import numpy as np\n",
    "import scipy.optimize\n",
    "\n",
    "def free_boundary_radius(obstacle_radius, radius):\n",
    "    def fn(s):\n",
    "        z = s / obstacle_radius\n",
    "        return 2 * z**2 * np.log(radius / s) - 1 + z**2\n",
    "\n",
    "    result = scipy.optimize.root_scalar(fn, x0=1e-3, x1=obstacle_radius)\n",
    "    return result.root\n",
    "\n",
    "def make_exact_solution(mesh, obstacle_radius, obstacle_height, radius):\n",
    "    s = Constant(free_boundary_radius(obstacle_radius, radius))\n",
    "    R = Constant(radius)\n",
    "    ρ = Constant(obstacle_radius)\n",
    "    α = Constant(obstacle_height)\n",
    "    x = firedrake.SpatialCoordinate(mesh)\n",
    "    u_expr = α * s**2 / ρ**2 * firedrake.ln(R**2 / inner(x, x))\n",
    "    return firedrake.conditional(inner(x, x) < s**2, g_expr, u_expr)"
   ]
  },
  {
   "cell_type": "code",
   "execution_count": null,
   "metadata": {},
   "outputs": [],
   "source": [
    "R = 1.0\n",
    "ρ = 1 / 4\n",
    "α = 1 / 4"
   ]
  },
  {
   "cell_type": "code",
   "execution_count": null,
   "metadata": {},
   "outputs": [],
   "source": [
    "from firedrake import grad, dx\n",
    "\n",
    "levels = np.array(list(range(2, 8)))\n",
    "errors = np.zeros(levels.shape)\n",
    "\n",
    "for index, level in enumerate(levels):\n",
    "    mesh = create_geometry(num_levels=level, radius=R)\n",
    "    Q = firedrake.FunctionSpace(mesh, \"CG\", 1)\n",
    "    \n",
    "    g_expr = make_obstacle(mesh, obstacle_radius=ρ, obstacle_height=α)\n",
    "    g = project(g_expr, Q)\n",
    "    \n",
    "    u_ex = make_exact_solution(mesh, obstacle_radius=ρ, obstacle_height=α, radius=1.0)\n",
    "    \n",
    "    u = firedrake.Function(Q)\n",
    "    J = 0.5 * inner(grad(u), grad(u)) * dx\n",
    "\n",
    "    bcs = firedrake.DirichletBC(Q, 0, \"on_boundary\")\n",
    "    F = firedrake.derivative(J, u)\n",
    "    problem = firedrake.NonlinearVariationalProblem(F, u, bcs)\n",
    "    params = {\n",
    "        \"solver_parameters\": {\n",
    "            \"snes_converged_reason\": None,\n",
    "            \"snes_monitor\": None,\n",
    "            \"snes_type\": \"vinewtonrsls\",\n",
    "            \"ksp_type\": \"gmres\",\n",
    "            \"pc_type\": \"lu\",\n",
    "            \"pc_factor_mat_solver_type\": \"mumps\",\n",
    "        }\n",
    "    }\n",
    "    solver = firedrake.NonlinearVariationalSolver(problem, **params)\n",
    "    \n",
    "    upper = firedrake.Function(Q)\n",
    "    upper.assign(Constant(10e3))\n",
    "    solver.solve(bounds=(g, upper))\n",
    "    \n",
    "    errors[index] = firedrake.norm(u - u_ex) / firedrake.norm(u_ex)\n",
    "    print(f\"Finished level {level}\")"
   ]
  },
  {
   "cell_type": "code",
   "execution_count": null,
   "metadata": {},
   "outputs": [],
   "source": [
    "import matplotlib.pyplot as plt\n",
    "\n",
    "fig, axes = plt.subplots()\n",
    "axes.plot(levels, np.log(errors));"
   ]
  },
  {
   "cell_type": "code",
   "execution_count": null,
   "metadata": {},
   "outputs": [],
   "source": [
    "slope, intercept = np.polyfit(levels, np.log(errors), 1)\n",
    "slope, intercept"
   ]
  }
 ],
 "metadata": {
  "kernelspec": {
   "display_name": "firedrake",
   "language": "python",
   "name": "firedrake"
  },
  "language_info": {
   "codemirror_mode": {
    "name": "ipython",
    "version": 3
   },
   "file_extension": ".py",
   "mimetype": "text/x-python",
   "name": "python",
   "nbconvert_exporter": "python",
   "pygments_lexer": "ipython3",
   "version": "3.10.3"
  },
  "nikola": {
   "category": "",
   "date": "2019-11-22 13:26:50 UTC-08:00",
   "description": "",
   "link": "",
   "slug": "obstacle-problem",
   "tags": "",
   "title": "The obstacle problem",
   "type": "text"
  }
 },
 "nbformat": 4,
 "nbformat_minor": 2
}
