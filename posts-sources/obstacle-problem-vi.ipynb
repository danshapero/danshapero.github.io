{
 "cells": [
  {
   "cell_type": "code",
   "execution_count": null,
   "metadata": {},
   "outputs": [],
   "source": [
    "import firedrake\n",
    "\n",
    "nx, ny = 64, 64\n",
    "mesh = firedrake.UnitSquareMesh(nx, ny, diagonal=\"crossed\")\n",
    "Q = firedrake.FunctionSpace(mesh, \"Bernstein\", 2)"
   ]
  },
  {
   "cell_type": "code",
   "execution_count": null,
   "metadata": {},
   "outputs": [],
   "source": [
    "from firedrake import max_value, sqrt, inner, as_vector, Constant\n",
    "\n",
    "def make_obstacle(mesh):\n",
    "    x = firedrake.SpatialCoordinate(mesh)\n",
    "    y = as_vector((1/2, 1/2))\n",
    "    z = 1/4\n",
    "    return sqrt(max_value(z**2 - inner(x - y, x - y), 0))\n",
    "\n",
    "g = firedrake.project(make_obstacle(mesh), Q)"
   ]
  },
  {
   "cell_type": "code",
   "execution_count": null,
   "metadata": {},
   "outputs": [],
   "source": [
    "import matplotlib.pyplot as plt\n",
    "import mpl_toolkits.mplot3d\n",
    "fig = plt.figure()\n",
    "axes = fig.add_subplot(projection='3d')\n",
    "firedrake.trisurf(g, axes=axes);"
   ]
  },
  {
   "cell_type": "code",
   "execution_count": null,
   "metadata": {},
   "outputs": [],
   "source": [
    "from firedrake import grad, dx\n",
    "\n",
    "u = firedrake.Function(Q)\n",
    "J = 0.5 * inner(grad(u), grad(u)) * dx"
   ]
  },
  {
   "cell_type": "code",
   "execution_count": null,
   "metadata": {},
   "outputs": [],
   "source": [
    "bcs = firedrake.DirichletBC(Q, 0, \"on_boundary\")\n",
    "F = firedrake.derivative(J, u)\n",
    "problem = firedrake.NonlinearVariationalProblem(F, u, bcs)\n",
    "params = {\n",
    "    \"solver_parameters\": {\n",
    "        \"snes_type\": \"vinewtonrsls\",\n",
    "        \"ksp_type\": \"gmres\",\n",
    "        \"pc_type\": \"lu\",\n",
    "    }\n",
    "}\n",
    "solver = firedrake.NonlinearVariationalSolver(problem, **params)"
   ]
  },
  {
   "cell_type": "code",
   "execution_count": null,
   "metadata": {},
   "outputs": [],
   "source": [
    "upper = firedrake.Function(Q)\n",
    "upper.assign(Constant(10e3));"
   ]
  },
  {
   "cell_type": "code",
   "execution_count": null,
   "metadata": {},
   "outputs": [],
   "source": [
    "solver.solve(bounds=(g, upper))"
   ]
  },
  {
   "cell_type": "code",
   "execution_count": null,
   "metadata": {},
   "outputs": [],
   "source": [
    "fig = plt.figure()\n",
    "axes = fig.add_subplot(projection='3d')\n",
    "firedrake.trisurf(u, axes=axes);"
   ]
  },
  {
   "cell_type": "code",
   "execution_count": null,
   "metadata": {},
   "outputs": [],
   "source": [
    "δu = firedrake.project(u - g, Q)\n",
    "\n",
    "fig, axes = plt.subplots()\n",
    "axes.set_aspect(\"equal\")\n",
    "colors = firedrake.tripcolor(δu, axes=axes)\n",
    "fig.colorbar(colors);"
   ]
  }
 ],
 "metadata": {
  "kernelspec": {
   "display_name": "firedrake",
   "language": "python",
   "name": "firedrake"
  },
  "language_info": {
   "codemirror_mode": {
    "name": "ipython",
    "version": 3
   },
   "file_extension": ".py",
   "mimetype": "text/x-python",
   "name": "python",
   "nbconvert_exporter": "python",
   "pygments_lexer": "ipython3",
   "version": "3.10.3"
  },
  "nikola": {
   "category": "",
   "date": "2019-11-22 13:26:50 UTC-08:00",
   "description": "",
   "link": "",
   "slug": "obstacle-problem",
   "tags": "",
   "title": "The obstacle problem",
   "type": "text"
  }
 },
 "nbformat": 4,
 "nbformat_minor": 2
}
