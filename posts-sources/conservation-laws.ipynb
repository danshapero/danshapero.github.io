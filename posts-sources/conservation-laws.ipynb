{
 "cells": [
  {
   "cell_type": "markdown",
   "metadata": {},
   "source": [
    "A *conservation law* is a type of PDE that describes the transport of extensive quantities like mass, momentum, and energy.\n",
    "The most general form of a hyperbolic conservation law for a field $q$ is\n",
    "\n",
    "$$\\frac{\\partial q}{\\partial t} + \\nabla\\cdot f(q) = s,$$\n",
    "\n",
    "where $f$ is the *flux* function and $s$ the sources.\n",
    "The solution variable $q$ could be a scalar, vector, or tensor field.\n",
    "Here we'll look at the simplest conservation law of them all, the *advection equation*: $q$ is a scalar field and $f(q) = qu$ for some velocity field $u$.\n",
    "As we'll see, there are lots of ways to screw up something as simple as the advection equation, so learning what the common error modes are will help when attacking harder problems like the shallow water or Euler equations.\n",
    "\n",
    "One of the challenging things about solving hyperbolic problems is that the class of reasonable solutions includes functions with jump discontinuities, and for some problems this is true even when the initial data are smooth.\n",
    "Compare that to, say, elliptic problems, where the solution is almost always smoother than the input data.\n",
    "For elliptic problems, it's common to use continuous basis functions, but when we try to use the same basis for conservation laws we can run up against some very nasty stability problems.\n",
    "It's possible to work around these issues by using tricks like the streamlined upwind Petrov-Galerkin method.\n",
    "But almost any approach to stabilizing a CG discretization introduces (1) free parameters that can be difficult to tune right and (2) an unrealistic level of numerical diffusion.\n",
    "For these reasons, the **discontinuous Galerkin method** is very popular for these kinds of problems.\n",
    "The DG method has good local conservation properties, it can achieve high-order accuracy where the solution is smooth, and there are more options in how you guarantee a stable scheme.\n",
    "\n",
    "DG is a huge subject and I couldn't possibly do justice to it here.\n",
    "If you want to read more about it, [this paper](https://rdcu.be/b21NB) by Cockburn and Shu is a great reference, as are these [notes](https://elib.dlr.de/57074/1/Har08b.pdf) by Ralf Hartmann and this [dissertation](http://eprints.maths.manchester.ac.uk/2347/1/Dissertation.pdf) by Michael Crabb.\n",
    "Instead, I'll focus here on the effects of some of the choices you have to make when you solve these types of problems."
   ]
  },
  {
   "cell_type": "markdown",
   "metadata": {},
   "source": [
    "### Input data\n",
    "\n",
    "First, we want to create a domain, some function spaces, and a divergence-free velocity field $u$.\n",
    "The classic example is a material in uniform solid-body rotation around some fixed point $y$:\n",
    "\n",
    "$$u(x) = \\hat k \\times (x - y)$$\n",
    "\n",
    "where $\\hat k$ is the unit vector in the $z$ direction."
   ]
  },
  {
   "cell_type": "code",
   "execution_count": null,
   "metadata": {},
   "outputs": [],
   "source": [
    "import firedrake\n",
    "from firedrake import inner, Constant, as_vector\n",
    "mesh = firedrake.UnitSquareMesh(64, 64, diagonal='crossed')\n",
    "x = firedrake.SpatialCoordinate(mesh)\n",
    "y = Constant((.5, .5))\n",
    "r = x - y\n",
    "u = as_vector((-r[1], r[0]))"
   ]
  },
  {
   "cell_type": "markdown",
   "metadata": {},
   "source": [
    "To have a stable timestepping scheme, we'll need to satisfy the [Courant-Friedrichs-Lewy condition](https://en.wikipedia.org/wiki/Courant%E2%80%93Friedrichs%E2%80%93Lewy_condition), which means calculating the maximum speed and the minimum cell diameter.\n",
    "Calculating the maximum speed exactly can be challenging; if $u$ is represented with piecewise linear basis functions, then $|u|^2$ is a quadratic function and thus might not attain its maximum value at the interpolation points.\n",
    "You could work around this by changing to a basis of [Bernstein polynomials](https://en.wikipedia.org/wiki/Bernstein_polynomial), but for our purposes it'll be enough to evaluate the maximum at the interpolation points and take a smaller timestep than necessary."
   ]
  },
  {
   "cell_type": "code",
   "execution_count": null,
   "metadata": {},
   "outputs": [],
   "source": [
    "import numpy as np\n",
    "Q = firedrake.FunctionSpace(mesh, family='CG', degree=2)\n",
    "speed = firedrake.interpolate(inner(u, u), Q)\n",
    "max_speed = np.sqrt(speed.dat.data_ro.max())\n",
    "\n",
    "Q0 = firedrake.FunctionSpace(mesh, family='DG', degree=0)\n",
    "diameters = firedrake.project(firedrake.CellDiameter(mesh), Q0)\n",
    "min_diameter = diameters.dat.data_ro.min()\n",
    "\n",
    "cfl_timestep = min_diameter / max_speed\n",
    "print('Upper bound for CFL-stable timestep: {}'.format(cfl_timestep))"
   ]
  },
  {
   "cell_type": "markdown",
   "metadata": {},
   "source": [
    "The initial data we'll use will be the classic bell and cone:\n",
    "\n",
    "$$q_0 = \\max\\{0, 1 - |x - x_c| / r_c\\} + \\max\\{0, 1 - |x - x_b|^2 / r_b^2\\}$$\n",
    "\n",
    "where $x_c$, $r_c$ are the center and radius of the cone and $x_b$, $r_b$ for the bell."
   ]
  },
  {
   "cell_type": "code",
   "execution_count": null,
   "metadata": {},
   "outputs": [],
   "source": [
    "from firedrake import sqrt, min_value, max_value\n",
    "\n",
    "x_c = as_vector((5/8, 5/8))\n",
    "R_c = Constant(1/8)\n",
    "\n",
    "x_b = as_vector((3/8, 3/8))\n",
    "R_b = Constant(1/8)\n",
    "\n",
    "q_expr = (\n",
    "    max_value(0, 1 - sqrt(inner(x - x_c, x - x_c) / R_c**2)) +\n",
    "    max_value(0, 1 - inner(x - x_b, x - x_b) / R_b**2)\n",
    ")\n",
    "q0 = firedrake.project(q_expr, Q0)"
   ]
  },
  {
   "cell_type": "code",
   "execution_count": null,
   "metadata": {},
   "outputs": [],
   "source": [
    "import matplotlib.pyplot as plt\n",
    "import mpl_toolkits.mplot3d\n",
    "fig = plt.figure()\n",
    "axes = fig.add_subplot(projection='3d')\n",
    "firedrake.trisurf(q0, axes=axes);"
   ]
  },
  {
   "cell_type": "markdown",
   "metadata": {},
   "source": [
    "### Fluxes\n",
    "\n",
    "For our first experiment we'll look at the problem of choosing a *numerical flux*.\n",
    "As we'll see in the following, we have choices to make in how we determine the discrete approximation to the solution of the conservation law.\n",
    "This is very different from elliptic problems -- once we've decided to use the continous Galerkin method, the only real choice is what polynomial degree we'll use.\n",
    "\n",
    "The usual procedure to come up with a weak form for a PDE is to multiply by some smooth test function $\\phi$, move some derivatives onto $\\phi$, and integrate.\n",
    "For the conservation law written above, we would arrive at the weak form\n",
    "\n",
    "$$\\int_\\Omega\\left(\\frac{\\partial q}{\\partial t}\\cdot\\phi - f(q)\\cdot\\nabla\\phi\\right)dx = \\int_\\Omega s\\cdot\\phi\\, dx + \\ldots$$\n",
    "\n",
    "where I've used an ellipsis to stand for some boundary terms that don't particularly matter.\n",
    "Unfortunately, this equation doesn't quite tell the whole story.\n",
    "We're using discontinuous basis functions to represent the solution $q$, and ideally we would use the same basis and test functions.\n",
    "What happens when the test functions are discontinuous too?\n",
    "\n",
    "Let $\\phi$ be some basis function and let $K$ be the cell of the domain where $\\phi$ is supported.\n",
    "If we apply the usual procedure, we get an element-wise weak form when integrating against $\\phi$:\n",
    "\n",
    "$$\\int_K\\left(\\frac{\\partial q}{\\partial t}\\phi - f(q)\\cdot\\nabla\\phi\\right)dx + \\int_{\\partial K}f(q)\\cdot\\phi n\\, ds = \\int_K s\\cdot\\phi\\, dx + \\ldots$$\n",
    "\n",
    "where $n$ is the unit outward normal vector to $K$.\n",
    "Note that we're integrating over only a single element and not the entire domain.\n",
    "The problem here is that **if the solution and the basis functions are discontinuous across the element, we can't uniquely define their values on the boundary**.\n",
    "\n",
    "To see why this is so, you can imagine that, instead of having a discontinuous test function, we have a sequence $\\phi_\\epsilon$ of continuous test functions that converge to $\\phi$ in some appropriate norm.\n",
    "If we take the support of each element of the sequence to be contained in the interior of $K$, then the value of $q$ in the boundary integral will its the value approaching the boundary from inside:\n",
    "\n",
    "$$q_-(x) = \\lim_{\\epsilon\\to 0}q(x - \\epsilon n).$$\n",
    "\n",
    "Alternatively, if we take $K$ to be contained in the interior of the support of each element of the sequence, then the value of the solution in the boundary integral will be its value approach the boundary from the outside:\n",
    "\n",
    "$$q_+(x) = \\lim_{\\epsilon\\to 0}q(x + \\epsilon n).$$\n",
    "\n",
    "Finally, with the right choice of sequence we could get any weighted average of the values on either side of the interface.\n",
    "As a consequence, we need to make some choice of the **numerical flux**.\n",
    "The numerical flux $f^*$ is a function of the interface values $q_+$ and $q_-$ and the unit normal vector $n$.\n",
    "The discrete approximation to the solution will satisfy the ODE system\n",
    "\n",
    "$$\\sum_K\\left\\{\\int_K\\left(\\frac{\\partial q}{\\partial t}\\phi - f(q)\\cdot\\nabla\\phi\\right)dx + \\int_{\\partial K}f^*(q_-, q_+, n)\\cdot\\phi\\, ds\\right\\} = \\sum_K\\int_K s\\cdot\\phi\\, dx + \\ldots$$\n",
    "\n",
    "for all test functions $\\phi$.\n",
    "What kinds of functions can make a good numerical flux?\n",
    "First, if the solution is continuous across an element boundary, the numerical flux should give the same value as the true physical flux:\n",
    "\n",
    "$$f^*(q, q, n) = f(q)\\cdot n.$$\n",
    "\n",
    "This condition is called **consistency** and it guarantees that the exact solution is also a discrete solution.\n",
    "The second property we want is to have some analogue of the conservative nature of the true problem.\n",
    "The important thing about fluxes in physical problems is that they can't create or destroy mass, momentum, energy, etc., they only transport it around the domain.\n",
    "To see how we can attain a similar property for our discrete problem, first observe that the sum over all the boundary integrals is telescoping because two neighboring cells $K_-$, $K_+$ share a common face $E$.\n",
    "We can then rewrite the sum of all the boundary integrals as a sum over all faces $E$ of the mesh:\n",
    "\n",
    "$$\\sum_K\\int_{\\partial K}f^*(q_-, q_+, n)\\phi\\, ds = \\sum_E\\int_E\\left\\{f^*(q_-, q_+, n_-)\\phi_- + f^*(q_+, q_-, n_+)\\phi_+\\right\\}ds$$\n",
    "\n",
    "here $n_-$, $n_+$ are the unit outwardn ormal vectors to $K_-$ and $K_+$ respectively.\n",
    "Note that $n_+ = -n_-$, i.e. the two normals point in opposite directions to each other.\n",
    "What happens if the test function $\\phi$ is identically equal to 1 throughout the entire domain?\n",
    "In that case the facet integrals should sum up to 0 -- fluxes only transport, they don't create or destroy.\n",
    "The numerical flux is **conservative** if\n",
    "\n",
    "$$f^*(q_-, q_+, n) + f^*(q_+, q_-, -n) = 0.$$\n",
    "\n",
    "The most braindead way we can come up with a sane numerical flux is to take the average of the solution values across the cell boundary:\n",
    "\n",
    "$$f^*(q_-, q_+, n) = \\frac{1}{2}(q_- + q_+)\\cdot n.$$\n",
    "\n",
    "This is called the *central flux*.\n",
    "Let's see how well it works."
   ]
  },
  {
   "cell_type": "code",
   "execution_count": null,
   "metadata": {},
   "outputs": [],
   "source": [
    "from firedrake import grad, dx, ds, dS\n",
    "\n",
    "q, ϕ = firedrake.TrialFunction(Q0), firedrake.TestFunction(Q0)\n",
    "m = q * ϕ * dx\n",
    "\n",
    "q = q0.copy(deepcopy=True)\n",
    "cell_flux = -inner(grad(ϕ), q * u) * dx\n",
    "\n",
    "n = firedrake.FacetNormal(mesh)\n",
    "f = q * inner(u, n)\n",
    "face_flux = (f('+') - f('-')) * (ϕ('+') - ϕ('-')) * dS\n",
    "\n",
    "q_in = Constant(0)\n",
    "influx = q_in * min_value(0, inner(u, n)) * ϕ * ds\n",
    "outflux = q * max_value(0, inner(u, n)) * ϕ * ds"
   ]
  },
  {
   "cell_type": "markdown",
   "metadata": {},
   "source": [
    "We'll take our timestep to be 1/4 of the formal CFL-stable timestep.\n",
    "We need at least a factor of 1/2 for the dimension, and probably another factor of 1/2 for triangle shape."
   ]
  },
  {
   "cell_type": "code",
   "execution_count": null,
   "metadata": {},
   "outputs": [],
   "source": [
    "from numpy import pi as π\n",
    "final_time = 2 * π\n",
    "num_steps = 4 * int(final_time / cfl_timestep)\n",
    "dt = Constant(final_time / num_steps)"
   ]
  },
  {
   "cell_type": "markdown",
   "metadata": {},
   "source": [
    "Since we're repeatedly solving the same linear system, we'll create problem and solver objects so that this information can be reused from one solve to the next.\n",
    "The solver parameters are specially chosen for the fact that the mass matrix with discontinuous Galerkin methods is block diagonal, so a block Jacobi preconditioner with exact solvers on all the blocks is exact for the whole system."
   ]
  },
  {
   "cell_type": "code",
   "execution_count": null,
   "metadata": {},
   "outputs": [],
   "source": [
    "from firedrake import LinearVariationalProblem, LinearVariationalSolver\n",
    "dq_dt = -(cell_flux + face_flux + influx + outflux)\n",
    "\n",
    "δq = firedrake.Function(Q0)\n",
    "problem = LinearVariationalProblem(m, dt * dq_dt, δq)\n",
    "parameters = {'ksp_type': 'preonly', 'pc_type': 'bjacobi', 'sub_pc_type': 'ilu'}\n",
    "solver = LinearVariationalSolver(problem, solver_parameters=parameters)"
   ]
  },
  {
   "cell_type": "code",
   "execution_count": null,
   "metadata": {},
   "outputs": [],
   "source": [
    "import numpy as np\n",
    "qrange = np.zeros((num_steps, 2))\n",
    "\n",
    "import tqdm\n",
    "for step in tqdm.trange(num_steps, unit='timesteps'):\n",
    "    solver.solve()\n",
    "    q += δq\n",
    "    qrange[step, :] = q.dat.data_ro.min(), q.dat.data_ro.max()"
   ]
  },
  {
   "cell_type": "markdown",
   "metadata": {},
   "source": [
    "After only 250 steps the solution is already attaining values two orders of magnitude greater than what they should, even while using a CFL-stable timestep.\n",
    "The reason for this is that the central flux, while both consistent and conservative, is numerically unstable with forward time-differencing."
   ]
  },
  {
   "cell_type": "code",
   "execution_count": null,
   "metadata": {},
   "outputs": [],
   "source": [
    "fig, axes = plt.subplots()\n",
    "axes.set_yscale('log')\n",
    "axes.plot(qrange[:250, 1])\n",
    "axes.set_xlabel('timestep')\n",
    "axes.set_ylabel('solution maximum');"
   ]
  },
  {
   "cell_type": "markdown",
   "metadata": {},
   "source": [
    "Instead, we'll try the *upwind* numerical flux.\n",
    "The idea of the upwind flux is to sample from whichever side of the interface has the velocity flowing outward and not in.\n",
    "The numerical flux is defined as\n",
    "\n",
    "$$f^*(q_-, q_+, n) = \\begin{cases}q_-u\\cdot n && u\\cdot n > 0 \\\\ q_+u\\cdot n && u\\cdot n \\le 0\\end{cases}.$$\n",
    "\n",
    "We can also write this in a more symmetric form as\n",
    "\n",
    "$$f^*(q_-, q_+, n) = q_-\\max\\{0, u\\cdot n\\} + q_+\\min\\{0, u\\cdot n\\}.$$\n",
    "\n",
    "\n",
    "The upwind flux is designed to mimic the stability properties of one-sided finite difference schemes for transport equations."
   ]
  },
  {
   "cell_type": "code",
   "execution_count": null,
   "metadata": {},
   "outputs": [],
   "source": [
    "q = q0.copy(deepcopy=True)\n",
    "cell_flux = -inner(grad(ϕ), q * u) * dx\n",
    "\n",
    "n = firedrake.FacetNormal(mesh)\n",
    "u_n = max_value(inner(u, n), 0)\n",
    "f = q * u_n\n",
    "face_flux = (f('+') - f('-')) * (ϕ('+') - ϕ('-')) * dS\n",
    "\n",
    "q_in = Constant(0)\n",
    "influx = q_in * min_value(0, inner(u, n)) * ϕ * ds\n",
    "outflux = q * max_value(0, inner(u, n)) * ϕ * ds\n",
    "       \n",
    "dq_dt = -(cell_flux + face_flux + influx + outflux)\n",
    "\n",
    "δq = firedrake.Function(Q0)\n",
    "problem = LinearVariationalProblem(m, dt * dq_dt, δq)\n",
    "parameters = {'ksp_type': 'preonly', 'pc_type': 'bjacobi', 'sub_pc_type': 'ilu'}\n",
    "solver = LinearVariationalSolver(problem, solver_parameters=parameters)\n",
    "\n",
    "qs = []\n",
    "output_freq = 5\n",
    "\n",
    "for step in tqdm.trange(num_steps, unit='timesteps'):\n",
    "    solver.solve()\n",
    "    q += δq\n",
    "    if step % output_freq == 0:\n",
    "        qs.append(q.copy(deepcopy=True))"
   ]
  },
  {
   "cell_type": "markdown",
   "metadata": {},
   "source": [
    "We at least get a finite answer as a result, which is a big improvement.\n",
    "Keeping in mind that the original data capped out at a value of 1, the peaks have shrunk considerably, and we can also see that the sharp cone is much more rounded than before."
   ]
  },
  {
   "cell_type": "code",
   "execution_count": null,
   "metadata": {},
   "outputs": [],
   "source": [
    "from firedrake.plot import FunctionPlotter\n",
    "fn_plotter = FunctionPlotter(mesh, num_sample_points=1)"
   ]
  },
  {
   "cell_type": "code",
   "execution_count": null,
   "metadata": {},
   "outputs": [],
   "source": [
    "%%capture\n",
    "fig, axes = plt.subplots()\n",
    "axes.set_aspect('equal')\n",
    "axes.get_xaxis().set_visible(False)\n",
    "axes.get_yaxis().set_visible(False)\n",
    "colors = firedrake.tripcolor(\n",
    "    q, num_sample_points=1, vmin=0., vmax=1., shading=\"gouraud\", axes=axes\n",
    ")\n",
    "\n",
    "from matplotlib.animation import FuncAnimation\n",
    "def animate(q):\n",
    "    colors.set_array(fn_plotter(q))\n",
    "\n",
    "interval = 1e3 * output_freq * float(dt)\n",
    "animation = FuncAnimation(fig, animate, frames=qs, interval=interval)"
   ]
  },
  {
   "cell_type": "code",
   "execution_count": null,
   "metadata": {},
   "outputs": [],
   "source": [
    "from IPython.display import HTML\n",
    "HTML(animation.to_html5_video())"
   ]
  },
  {
   "cell_type": "markdown",
   "metadata": {},
   "source": [
    "Despite this fact, the total volume under the surface has been conserved to within rounding error."
   ]
  },
  {
   "cell_type": "code",
   "execution_count": null,
   "metadata": {},
   "outputs": [],
   "source": [
    "print(firedrake.assemble(q * dx) / firedrake.assemble(q0 * dx))"
   ]
  },
  {
   "cell_type": "markdown",
   "metadata": {},
   "source": [
    "Nonetheless, the relative error in the $L^1$ norm is quite poor."
   ]
  },
  {
   "cell_type": "code",
   "execution_count": null,
   "metadata": {},
   "outputs": [],
   "source": [
    "firedrake.assemble(abs(q - q0) * dx) / firedrake.assemble(q0 * dx)"
   ]
  },
  {
   "cell_type": "markdown",
   "metadata": {},
   "source": [
    "Let's see if we can improve on that by changing the finite element basis."
   ]
  },
  {
   "cell_type": "markdown",
   "metadata": {},
   "source": [
    "### Higher-order basis functions\n",
    "\n",
    "One of the main advantages that the discontinuous Galerkin method has over the finite volume method is that achieving higher-order convergence is straightforward if the problem is nice -- you just increase the polynomial degree.\n",
    "(When the problem is not nice, for example if there are shockwaves, everything goes straight to hell and the finite volume method is much less finicky about stability.)\n",
    "Here we'll look at what happens when we go from piecewise constant basis functions to piecewise linear.\n",
    "\n",
    "One of the first changes we have to make is that the Courant-Friedrichs-Lewy condition is more stringent for higher-order basis functions.\n",
    "For piecewise constant basis functions, we have that $\\delta x / \\delta t \\ge |u|$; for degree-$p$ polynomials, we instead need that\n",
    "\n",
    "$$\\frac{\\delta x}{\\delta t} \\ge (2p + 1)\\cdot|u|.$$\n",
    "\n",
    "One way of looking at this higher-degree CFL condition is that the introduction of more degrees of freedom makes the effective spacing between the nodes smaller than it might be in the piecewise-constant case.\n",
    "The multiplicative factor of $2p + 1$ accounts for the effective shrinkage in the numerical length scale.\n",
    "(For more, see [this paper](https://doi.org/10.1016/j.apnum.2013.04.003) from 2013.)\n",
    "Once again, we'll use a timestep that's 1/4 of the formal CFL timestep to account for the spatial dimension and the mesh quality."
   ]
  },
  {
   "cell_type": "code",
   "execution_count": null,
   "metadata": {},
   "outputs": [],
   "source": [
    "cfl_timestep = min_diameter / max_speed / 3\n",
    "num_steps = 4 * int(final_time / cfl_timestep)\n",
    "dt = Constant(final_time / num_steps)"
   ]
  },
  {
   "cell_type": "markdown",
   "metadata": {},
   "source": [
    "We have to be a bit carefuly about creating the initial data.\n",
    "For discontinuous Galerkin discretizations, we would normally project the expression into the discrete function space.\n",
    "Since this is a projection in $L^2$, we might get negative values for an otherwise strictly positive expression.\n",
    "In this case, the positivity of the solution is vital and so instead I'm interpolating the expression for the initial data, but doing so is a little dangerous."
   ]
  },
  {
   "cell_type": "code",
   "execution_count": null,
   "metadata": {},
   "outputs": [],
   "source": [
    "Q1 = firedrake.FunctionSpace(mesh, family='DG', degree=1)\n",
    "q0 = firedrake.interpolate(q_expr, Q1)\n",
    "q0.dat.data_ro.min(), q0.dat.data_ro.max()"
   ]
  },
  {
   "cell_type": "markdown",
   "metadata": {},
   "source": [
    "In almost every other respect the discretization is the same as before."
   ]
  },
  {
   "cell_type": "code",
   "execution_count": null,
   "metadata": {},
   "outputs": [],
   "source": [
    "q, ϕ = firedrake.TrialFunction(Q1), firedrake.TestFunction(Q1)\n",
    "m = q * ϕ * dx\n",
    "\n",
    "q = q0.copy(deepcopy=True)\n",
    "cell_flux = -inner(grad(ϕ), q * u) * dx\n",
    "\n",
    "n = firedrake.FacetNormal(mesh)\n",
    "u_n = max_value(inner(u, n), 0)\n",
    "f = q * u_n\n",
    "face_flux = (f('+') - f('-')) * (ϕ('+') - ϕ('-')) * dS\n",
    "\n",
    "q_in = Constant(0)\n",
    "influx = q_in * min_value(0, inner(u, n)) * ϕ * ds\n",
    "outflux = q * max_value(0, inner(u, n)) * ϕ * ds\n",
    "\n",
    "dq_dt = -(cell_flux + face_flux + influx + outflux)\n",
    "\n",
    "δq = firedrake.Function(Q1)\n",
    "problem = LinearVariationalProblem(m, dt * dq_dt, δq)\n",
    "parameters = {'ksp_type': 'preonly', 'pc_type': 'bjacobi', 'sub_pc_type': 'ilu'}\n",
    "solver = LinearVariationalSolver(problem, solver_parameters=parameters)\n",
    "\n",
    "for step in tqdm.trange(num_steps, unit='timesteps'):\n",
    "    solver.solve()\n",
    "    q += δq"
   ]
  },
  {
   "cell_type": "markdown",
   "metadata": {},
   "source": [
    "The error in the $L^1$ norm is less than that of the degree-0 solution, which was on the order of 40%, but it's far from perfect."
   ]
  },
  {
   "cell_type": "code",
   "execution_count": null,
   "metadata": {},
   "outputs": [],
   "source": [
    "firedrake.assemble(abs(q - q0) * dx) / firedrake.assemble(q0 * dx)"
   ]
  },
  {
   "cell_type": "markdown",
   "metadata": {},
   "source": [
    "Worse yet, the final value of the solution has substantial over- and undershoots.\n",
    "The mathematical term for this is that the true dynamics are monotonicity-preserving -- they don't create new local maxima or minima -- but the numerical scheme is not."
   ]
  },
  {
   "cell_type": "code",
   "execution_count": null,
   "metadata": {},
   "outputs": [],
   "source": [
    "fig, axes = plt.subplots()\n",
    "axes.set_aspect('equal')\n",
    "colors = firedrake.tripcolor(q, axes=axes)\n",
    "fig.colorbar(colors);"
   ]
  },
  {
   "cell_type": "markdown",
   "metadata": {},
   "source": [
    "To be precise and for later comparison we'll print out exactly how far outside the initial range the solution goes."
   ]
  },
  {
   "cell_type": "code",
   "execution_count": null,
   "metadata": {},
   "outputs": [],
   "source": [
    "q.dat.data_ro.min(), q.dat.data_ro.max()"
   ]
  },
  {
   "cell_type": "markdown",
   "metadata": {},
   "source": [
    "But of course we're only using the explicit Euler timestepping scheme, which is of first order, while our spatial discretization should be 2nd-order accurate.\n",
    "Can we do better if we match the asymptotic accuracy of the errors in time and space?"
   ]
  },
  {
   "cell_type": "markdown",
   "metadata": {},
   "source": [
    "### Timestepping\n",
    "\n",
    "Choosing a finite element basis or a numerical flux is part of deciding how we'll discretize the spatial part of the differential operator.\n",
    "After that we have to decide how to discretize in time.\n",
    "The explicit Euler, which we used in the preceding code, has the virtue of simplicity.\n",
    "Next we'll try out the *strong stability-preserving* Runge-Kutta method of order 3.\n",
    "First, we'll create a form representing the rate of change of $q$ with the upwind flux just as we did before."
   ]
  },
  {
   "cell_type": "code",
   "execution_count": null,
   "metadata": {},
   "outputs": [],
   "source": [
    "q = q0.copy(deepcopy=True)\n",
    "ϕ = firedrake.TestFunction(Q1)\n",
    "cell_flux = -inner(grad(ϕ), q * u) * dx\n",
    "\n",
    "n = firedrake.FacetNormal(mesh)\n",
    "u_n = max_value(inner(u, n), 0)\n",
    "f = q * u_n\n",
    "face_flux = (f('+') - f('-')) * (ϕ('+') - ϕ('-')) * dS\n",
    "\n",
    "q_in = Constant(0)\n",
    "influx = q_in * min_value(0, inner(u, n)) * ϕ * ds\n",
    "outflux = q * max_value(0, inner(u, n)) * ϕ * ds\n",
    "\n",
    "dq_dt = -(cell_flux + face_flux + influx + outflux)"
   ]
  },
  {
   "cell_type": "markdown",
   "metadata": {},
   "source": [
    "To implement the SSPRK3 timestepping scheme, we'll introduce some auxiliary functions and solvers for the Runge-Kutta stages."
   ]
  },
  {
   "cell_type": "code",
   "execution_count": null,
   "metadata": {},
   "outputs": [],
   "source": [
    "q1 = firedrake.Function(Q1)\n",
    "q2 = firedrake.Function(Q1)\n",
    "\n",
    "F2 = firedrake.replace(dq_dt, {q: q1})\n",
    "F3 = firedrake.replace(dq_dt, {q: q2})\n",
    "\n",
    "problems = [\n",
    "    LinearVariationalProblem(m, dt * dq_dt, δq),\n",
    "    LinearVariationalProblem(m, dt * F2, δq),\n",
    "    LinearVariationalProblem(m, dt * F3, δq)\n",
    "]\n",
    "\n",
    "solvers = [\n",
    "    LinearVariationalSolver(problem, solver_parameters=parameters)\n",
    "    for problem in problems\n",
    "]"
   ]
  },
  {
   "cell_type": "markdown",
   "metadata": {},
   "source": [
    "The timestepping loop is more involved; we have to separately evaluate the Runge-Kutta stages and then form the solution as an appropriate weighted sum."
   ]
  },
  {
   "cell_type": "code",
   "execution_count": null,
   "metadata": {},
   "outputs": [],
   "source": [
    "for step in tqdm.trange(num_steps, unit='timesteps'):\n",
    "    solvers[0].solve()\n",
    "    q1.assign(q + δq)\n",
    "    \n",
    "    solvers[1].solve()\n",
    "    q2.assign(3 * q / 4 + (q1 + δq) / 4)\n",
    "    \n",
    "    solvers[2].solve()\n",
    "    q.assign(q / 3 + 2 * (q2 + δq) / 3)"
   ]
  },
  {
   "cell_type": "markdown",
   "metadata": {},
   "source": [
    "The SSPRK3 scheme gives a *huge* improvement in how well it agrees with the true solution."
   ]
  },
  {
   "cell_type": "code",
   "execution_count": null,
   "metadata": {},
   "outputs": [],
   "source": [
    "firedrake.assemble(abs(q - q0) * dx) / firedrake.assemble(q0 * dx)"
   ]
  },
  {
   "cell_type": "markdown",
   "metadata": {},
   "source": [
    "In the eyeball norm, it looks like it stays pretty well wtihin the upper and lower limits of the initial data."
   ]
  },
  {
   "cell_type": "code",
   "execution_count": null,
   "metadata": {},
   "outputs": [],
   "source": [
    "fig, axes = plt.subplots()\n",
    "axes.set_aspect('equal')\n",
    "colors = firedrake.tripcolor(q, axes=axes)\n",
    "fig.colorbar(colors);"
   ]
  },
  {
   "cell_type": "markdown",
   "metadata": {},
   "source": [
    "But if we explicitly calculate the upper and lower bounds, we see that this scheme also fails to be monotonicity preserving!"
   ]
  },
  {
   "cell_type": "code",
   "execution_count": null,
   "metadata": {},
   "outputs": [],
   "source": [
    "q.dat.data_ro.min(), q.dat.data_ro.max()"
   ]
  },
  {
   "cell_type": "markdown",
   "metadata": {},
   "source": [
    "The departures are relatively small but for more challenging or nonlinear problems the overshoots can become more severe.\n",
    "There is (unfortunately) a can't-do theorem that tells us why: the [**Godunov barrier**](https://en.wikipedia.org/wiki/Godunov%27s_theorem).\n",
    "This theorem states that **any linear, monotonicity-preserving scheme for hyperbolic conservation laws can be at most 1st-order accurate.**\n",
    "\n",
    "In principle this might sound like a bit of a bummer; why bother looking for higher-order accurate numerical schemes if they're doomed to do unphysical things that will likely result in instability?\n",
    "The operative word here is a *linear* scheme.\n",
    "The Godunov barrier does not rule out the possibility of *nonlinear* monotonicity-preserving schemes.\n",
    "I find it profoundly disturbing that we should be using nonlinear schemes to approximate the solutions of linear conservation laws, but ours is but to do and die I suppose."
   ]
  },
  {
   "cell_type": "markdown",
   "metadata": {},
   "source": [
    "### Flux limiters\n",
    "\n",
    "The Godunov barrier motivated the development in the early 80s of post-processing techniques that would turn an otherwise oscillatory scheme into one that does not introduce new local maxima or minima.\n",
    "These ideas fall under the aegis of flux limiters or slope limiters, which apply a transformation that clamps the solution in such a way as to suppress unrealistic gradients near sharp discontinuities but which leave the solution unaltered where it is smooth.\n",
    "The design of limiters is part science and part art.\n",
    "[Sweby (1984)](https://doi.org/10.1137/0721062) established some constraints on the what a good limiter function can look like in order to guarantee that the numerical scheme is variation-diminishing.\n",
    "But there's a very large range within those constraints; Sweby's paper showed three different ones even in 1984 and the [wiki article](https://en.wikipedia.org/wiki/Flux_limiter) on flux limiters lists 15.\n",
    "\n",
    "Flux-corrected transport is a huge subject, and rather than try to do it any kind of justice I'll instead refer you to a wonderful [book](https://www.mathematik.uni-dortmund.de/~kuzmin/Transport.pdf) by Dmitri Kuzmin.\n",
    "Instead, let's finish things off by looking at what happens when we add a flux limiter to our simulation above.\n",
    "The application of the limiter will be interleaved with all of the Runge-Kutta stages, and conveniently we can reuse the existing solvers for the SSPRK3 stages."
   ]
  },
  {
   "cell_type": "code",
   "execution_count": null,
   "metadata": {},
   "outputs": [],
   "source": [
    "q.assign(q0)\n",
    "limiter = firedrake.VertexBasedLimiter(Q1)"
   ]
  },
  {
   "cell_type": "code",
   "execution_count": null,
   "metadata": {},
   "outputs": [],
   "source": [
    "for step in tqdm.trange(num_steps, unit='timesteps'):\n",
    "    solvers[0].solve()\n",
    "    q1.assign(q + δq)\n",
    "    limiter.apply(q1)\n",
    "    \n",
    "    solvers[1].solve()\n",
    "    q2.assign(3 * q / 4 + (q1 + δq) / 4)\n",
    "    limiter.apply(q2)\n",
    "    \n",
    "    solvers[2].solve()\n",
    "    q.assign(q / 3 + 2 * (q2 + δq) / 3)\n",
    "    limiter.apply(q)"
   ]
  },
  {
   "cell_type": "markdown",
   "metadata": {},
   "source": [
    "The relative error in the 1-norm is just as good as before, but with the flux limiter the solution does a much better job staying within the bounds of the initial data."
   ]
  },
  {
   "cell_type": "code",
   "execution_count": null,
   "metadata": {},
   "outputs": [],
   "source": [
    "firedrake.assemble(abs(q - q0) * dx) / firedrake.assemble(q0 * dx)"
   ]
  },
  {
   "cell_type": "code",
   "execution_count": null,
   "metadata": {},
   "outputs": [],
   "source": [
    "q.dat.data_ro.min(), q.dat.data_ro.max()"
   ]
  },
  {
   "cell_type": "markdown",
   "metadata": {},
   "source": [
    "### Conclusion\n",
    "\n",
    "Hyperbolic problems are hard.\n",
    "There are difficult decisions to make even at the level of how to formulate the discrete problem.\n",
    "For this demo, we were looking at a scalar conservation laws, and the upwind flux works quite well.\n",
    "But for systems of conservation laws, like the shallow water equations, things become much more involved.\n",
    "You have to know something at an analytical level about the underlying problem -- the wave speeds.\n",
    "Once we've decided which discrete problem to solve, going beyond first-order accuracy is filled with even more challenges.\n",
    "Some issues, like getting a stable enough timestep, often require manual tuning.\n",
    "For the linear problem shown here, we know what the wave speeds are from the outset and we have reasonable confidence that we can pick a good timestep that will work for the entire simulation.\n",
    "The solutions of nonlinear conservation laws can meander to regions of state space where the wave speeds are much higher than where they started and an initially stable timestep becomes unstable.\n",
    "The Right Thing To Do is to use an adaptive timestepping scheme.\n",
    "But you now have the added implementational difficulty of tracking a higher- and lower-order solution with which to inform the adaptation strategy.\n",
    "Hopefully this has shown what some of the typical pitfalls are and what tools are available to remedy them."
   ]
  }
 ],
 "metadata": {
  "kernelspec": {
   "display_name": "firedrake",
   "language": "python",
   "name": "firedrake"
  },
  "language_info": {
   "codemirror_mode": {
    "name": "ipython",
    "version": 3
   },
   "file_extension": ".py",
   "mimetype": "text/x-python",
   "name": "python",
   "nbconvert_exporter": "python",
   "pygments_lexer": "ipython3",
   "version": "3.7.4"
  },
  "nikola": {
   "category": "",
   "date": "2020-03-14 17:43:19 UTC-07:00",
   "description": "",
   "link": "",
   "slug": "conservation-laws",
   "tags": "",
   "title": "Conservation laws",
   "type": "text"
  }
 },
 "nbformat": 4,
 "nbformat_minor": 4
}
