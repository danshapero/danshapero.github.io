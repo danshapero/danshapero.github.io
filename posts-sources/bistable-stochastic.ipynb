{
 "cells": [
  {
   "cell_type": "markdown",
   "id": "9ee137ae",
   "metadata": {},
   "source": [
    "In this post, I'd like to look at three stochastic dynamical systems, each a little more complex than the next.\n",
    "We'll mainly be concerned with differential equations of the form\n",
    "\n",
    "$$\\dot z = f(z) + \\sigma\\dot\\xi$$\n",
    "\n",
    "where the state space that $z$ lives in is $\\mathbb{R}^n$, $f : \\mathbb{R}^n \\to \\mathbb{R}^n$ is the deterministic part of the dynamics, $\\dot\\xi$ is random *white noise*, and $\\sigma$ is the noise amplitude.\n",
    "In general, $\\sigma$ could be a matrix that depends on the solution $z$ itself, but for the following we'll only consider cases where $\\sigma$ is a scalar constant.\n",
    "\n",
    "If you haven't seen stochastic differential equations before, you might be wondering at this point what I mean by \"white noise\".\n",
    "White noise is characterized as a Gaussian stochastic process with zero mean and covariance function\n",
    "\n",
    "$$\\langle \\dot\\xi(s)\\dot\\xi(t)\\rangle = \\delta(t - s)$$\n",
    "\n",
    "where $\\delta$ is the Dirac delta function and $\\langle\\cdot\\rangle$ denotes statistical expectation.\n",
    "Like the delta function, white noise is a bit of a convenient fiction that we tell ourselves in order to get on with our lives -- there is no well-defined stochastic process with these properties.\n",
    "Defining [stochastic integration](https://en.wikipedia.org/wiki/It%C3%B4_calculus) from first principles is... pretty rowdy and I don't want to go there.\n",
    "If you want to see the gory details, you can refer to the books by [Gardiner](https://link.springer.com/book/9783540707127) or [Øksendal](https://doi.org/10.1007/978-3-642-14394-6).\n",
    "\n",
    "For our purposes, it's enough to know that the solutions of this stochastic differential equation can emerge through a limit of discrete-time processes\n",
    "\n",
    "$$z_{n + 1} = z_n + \\delta t\\cdot F(z_n, z_{n + 1}) + \\sqrt{\\delta t}\\cdot\\sigma\\varepsilon_n,$$\n",
    "\n",
    "where $\\varepsilon_n$ are uncorrelated mean-zero normal random variables with variance 1, and $F$ is some function of the current and past state that makes for a consistent discretization of the deterministic part of the ODE.\n",
    "(I'm leaving room here for both explicit and implicit time discretizations.)\n",
    "There are no gross issues of existence or regularity here because $\\{\\varepsilon_n\\}$ has variance 1, unlike the weird delta function business with the continuous-time SDE.\n",
    "The first process that we'll look at can be solved in closed form, but the next two have no analytical solution and so numerical methods are our only recourse."
   ]
  },
  {
   "cell_type": "markdown",
   "id": "2d5b101a",
   "metadata": {},
   "source": [
    "### The Ornstein-Uhlenbeck process\n",
    "\n",
    "The simplest stochastic dynamical systems we can consider are the linear ones:\n",
    "\n",
    "$$\\dot z = -\\gamma z + \\sigma\\dot\\xi,$$\n",
    "\n",
    "where $\\gamma$ is a symmetric positive-definite matrix.\n",
    "Ornstein originally used this system as a model for the velocity of a particle under the combined influence of friction and random collision with neighboring particles.\n",
    "With the notation above, $\\gamma$ is the friction coefficient and $\\sigma$ is the collision intensity.\n",
    "\n",
    "Much like for deterministic ODE, we can use the matrix exponential and the usual [variation of parameters](https://en.wikipedia.org/wiki/Variation_of_parameters) trick to write down an explicit solution of this SDE:\n",
    "\n",
    "$$z(t) = e^{-t\\gamma}z(0) + \\sigma\\int_0^te^{-(t - s)\\gamma}\\dot\\xi(s)\\, ds.$$\n",
    "\n",
    "Since the noise $\\dot\\xi$ is a Gaussian process and any finite sum of normal random variables is also normal, the solution $z$ is also a Gaussian process.\n",
    "If we can compute the mean and covariance function, then we know almost everything we need about the process.\n",
    "\n",
    "First, taking expectations can be interchanged with time integrals by Fubini's theorem.\n",
    "So if we take the expected value of the solution we'll be left with just the exponentially-decaying influence of the initial condition:\n",
    "\n",
    "$$\\mu(t) = \\langle z(t)\\rangle = e^{-t\\gamma}\\langle z(0)\\rangle.$$\n",
    "\n",
    "I'm leaving the expectations on the initial condition here because it too might be non-deterministic.\n",
    "The correlation function is much more interesting:\n",
    "\n",
    "$$\\begin{align}\n",
    "\\text{corr}(t, t + \\tau) & \\equiv \\sigma^{-2}\\langle (z(t) - \\mu(t))(z(t + \\tau) - \\mu(t + \\tau))^*\\rangle \\\\\n",
    "& = \\int_0^{t + \\tau}\\int_0^t e^{-(t - s_1)\\gamma}e^{-(t + \\tau - s_2)\\gamma}\\langle\\dot\\xi(s_1)\\dot\\xi(s_2)^*\\rangle ds_1\\,ds_2\\ldots \\\\\n",
    "\\end{align}$$\n",
    "\n",
    "The correlation between the noise terms is $\\delta(s_1 - s_2)$, but we have to remember that the integration limits on $s_2$ extend to a range $t + \\tau$ not included in the integration limits on $s_1$.\n",
    "Since the $\\delta$ distribution is zero there, we can exclude this part of the integral:\n",
    "\n",
    "$$\\begin{align}\n",
    "\\ldots & = \\int_0^t\\int_0^te^{-(t - s_1)\\gamma}e^{-(t + \\tau - s_2)\\gamma}\\delta(s_1 - s_2)\\, ds_1\\,ds_2 \\\\\n",
    "& = \\int_0^te^{-(t - s)\\gamma)}e^{-(t + \\tau - s)\\gamma}ds \\\\\n",
    "& = e^{-\\tau\\gamma}.\n",
    "\\end{align}$$\n",
    "\n",
    "We can also extend this to the negative $\\tau$ case as $\\text{corr}(t, t + \\tau) = \\exp\\left(-|\\tau|\\gamma\\right)$.\n",
    "There are two important things to observe here.\n",
    "First, the correlation function decays exponentially as the separation $\\tau$ increases.\n",
    "Second, the correlation only depends on the difference $\\tau$ between the two time points and not the value of the base time point $t$.\n",
    "This means that the process is *stationary*.\n",
    "\n",
    "So the OU process is Gaussian and stationary, and, like all solutions of SDEs forced by white noise, it has the Markov property.\n",
    "The final fact (which I find to be just amazing) is that *any other* stochastic process with these three properties is identical to the OU process up to scaling.\n",
    "\n",
    "That's enough theory for now, let's write a procedure to generate sample paths.\n",
    "Assuming that the decay rate $\\gamma$ is positive, we'll want some kind of implicit scheme to integrate the SDE in order to guarantee stability independent of the stepsize.\n",
    "The implicit Euler scheme will be good enough for our purposes.\n",
    "There is an [exact procedure](https://doi.org/10.1103/PhysRevE.54.2084) for simulating the OU process, but it doesn't generalize to the more complex SDEs that we'll consider in the following."
   ]
  },
  {
   "cell_type": "code",
   "execution_count": null,
   "id": "a44740b1",
   "metadata": {},
   "outputs": [],
   "source": [
    "import numpy as np\n",
    "\n",
    "def ornstein_uhlenbeck(z, γ, σ, dt, N, rng):\n",
    "    zs = np.zeros(N + 1)\n",
    "    zs[0] = z\n",
    "    ε = rng.standard_normal(N)\n",
    "    \n",
    "    for n in range(N):\n",
    "        zs[n + 1] = (zs[n] + np.sqrt(dt) * σ * ε[n]) / (1 + γ * dt)\n",
    "        \n",
    "    return zs"
   ]
  },
  {
   "cell_type": "code",
   "execution_count": null,
   "id": "981ba144",
   "metadata": {},
   "outputs": [],
   "source": [
    "from numpy import random\n",
    "\n",
    "rng = random.default_rng(seed=1729)\n",
    "dt = 0.005\n",
    "N = 10000\n",
    "zs = ornstein_uhlenbeck(z=0.0, γ=0.1, σ=0.01, dt=dt, N=N, rng=rng)"
   ]
  },
  {
   "cell_type": "code",
   "execution_count": null,
   "id": "17e1cbea",
   "metadata": {},
   "outputs": [],
   "source": [
    "import matplotlib.pyplot as plt\n",
    "\n",
    "fig, ax = plt.subplots()\n",
    "ts = np.linspace(0, dt * N, N + 1)\n",
    "ax.plot(ts, zs);"
   ]
  },
  {
   "cell_type": "code",
   "execution_count": null,
   "id": "79feb8ff",
   "metadata": {},
   "outputs": [],
   "source": [
    "fig, ax = plt.subplots()\n",
    "\n",
    "num_samples = 5\n",
    "for sample in range(num_samples):\n",
    "    zs = ornstein_uhlenbeck(z=0.0, γ=0.1, σ=0.01, dt=dt, N=N, rng=rng)\n",
    "    ax.plot(ts, zs, linewidth=0.75)"
   ]
  },
  {
   "cell_type": "markdown",
   "id": "8a82f6bb",
   "metadata": {},
   "source": [
    "### The Schlogl reaction\n",
    "\n",
    "The Ornstein-Uhlenbeck process plays a similar role in stochastic dynamical systems to the coupled harmonic oscillator for classical physics and mechanics -- a linear, exactly solvable model that can be used for understanding a host of other nonlinear models near to equilibrium.\n",
    "We can view the Ornstein-Uhlenbeck process as a stochastically-perturbed gradient flow for the potential\n",
    "\n",
    "$$\\phi(z) = \\frac{\\gamma}{2}|z|^2,$$\n",
    "\n",
    "In other words, the deterministic part of the system dynamics $\\dot z = -\\nabla\\phi + \\sigma\\dot\\xi$ move $z$ towards extrema of the potential $\\phi$.\n",
    "Here we'll look at a more complex problem: stochastic motion in a double-well potential\n",
    "\n",
    "$$\\phi(z) = \\frac{\\gamma}{4\\zeta^2}(\\zeta^2 - |z|^2)^2,$$\n",
    "\n",
    "which has minima at $z = \\pm \\zeta$ and a single maximum at $z = 0$.\n",
    "When the noise level is 0, the system will remain near the minima of the potential forever, but the addition of noise means that the system can migrate between these equilibria on some sufficiently long time scale.\n",
    "\n",
    "We'll use sympy to calculate all the derivatives, not because they're particularly difficult to do by hand, but because we'll want to consider yet more complex problems where they are."
   ]
  },
  {
   "cell_type": "code",
   "execution_count": null,
   "id": "9e974a50",
   "metadata": {},
   "outputs": [],
   "source": [
    "from sympy import symbols, lambdify, diff\n",
    "\n",
    "z = symbols(\"z\")\n",
    "ζ, γ = symbols(\"ζ γ\", positive=True)\n",
    "\n",
    "ϕ = γ / (4 * ζ ** 2) * (z ** 2 - ζ ** 2) ** 2\n",
    "dϕ = lambdify((z, ζ, γ), diff(ϕ, z))\n",
    "d2ϕ = lambdify((z, ζ, γ), diff(ϕ, z, 2))"
   ]
  },
  {
   "cell_type": "markdown",
   "id": "2107c5fd",
   "metadata": {},
   "source": [
    "When we integrated the Ornstein-Uhlenbeck process numerically, we used the implicit Euler scheme, which is easy for scalar linear equations.\n",
    "Using the implicit Euler scheme for the Schlogl reaction would entail a lot more work.\n",
    "Instead, we'll use a *linearly* implicit Euler scheme; rather than solve that nonlinear equation to its full accuracy, we'll only do a single step of Newton's method.\n",
    "We'll need that $\\delta t < \\alpha\\gamma^{-1}$ for some $\\alpha < 1$ in order to guarantee that we get a well-defined update in every step."
   ]
  },
  {
   "cell_type": "code",
   "execution_count": null,
   "id": "afab4f67",
   "metadata": {},
   "outputs": [],
   "source": [
    "def schlogl_process(z, ζ, γ, σ, dt, N, rng):\n",
    "    zs = np.zeros(N + 1)\n",
    "    zs[0] = z\n",
    "    ε = rng.standard_normal(N)\n",
    "    \n",
    "    for n in range(N):\n",
    "        f = dt * dϕ(zs[n], ζ, γ) - np.sqrt(dt) * σ * ε[n]\n",
    "        df = 1 + dt * d2ϕ(zs[n], ζ, γ)\n",
    "        zs[n + 1] = zs[n] - f / df\n",
    "        \n",
    "    return zs"
   ]
  },
  {
   "cell_type": "markdown",
   "id": "809de55d",
   "metadata": {},
   "source": [
    "Looking at a single realization of the Schlogl reaction, we can see that on long enough time scales the system oscillates back and forth between the two stable equilibria.\n",
    "While we can't calculate the residence times directly, we can use some of the insight we gained about first-passage times for the OU process."
   ]
  },
  {
   "cell_type": "code",
   "execution_count": null,
   "id": "15b81412",
   "metadata": {},
   "outputs": [],
   "source": [
    "dt = 0.025\n",
    "N = 50000\n",
    "rng = random.default_rng(seed=1729)\n",
    "zs = schlogl_process(z=-1.0, ζ=1.0, γ=0.1, σ=0.25, dt=dt, N=N, rng=rng)"
   ]
  },
  {
   "cell_type": "code",
   "execution_count": null,
   "id": "8734e5f1",
   "metadata": {},
   "outputs": [],
   "source": [
    "fig, ax = plt.subplots()\n",
    "ts = np.linspace(0.0, N * dt, N + 1)\n",
    "ax.plot(ts, zs);"
   ]
  },
  {
   "cell_type": "markdown",
   "id": "73ed0282",
   "metadata": {},
   "source": [
    "### Cascading tipping points\n",
    "\n",
    "The final process we'll consider is from the 2018 paper [Cascading transitions in the climate system](https://doi.org/10.5194/esd-9-1243-2018) by Dekker, von der Hydt, and Dijkstra.\n",
    "The idea behind the models they present is to use a Schlogl-type model where the coefficients themselves are determined by Schlogl-type models with different characteristic time scales."
   ]
  }
 ],
 "metadata": {
  "kernelspec": {
   "display_name": "firedrake",
   "language": "python",
   "name": "firedrake"
  },
  "language_info": {
   "codemirror_mode": {
    "name": "ipython",
    "version": 3
   },
   "file_extension": ".py",
   "mimetype": "text/x-python",
   "name": "python",
   "nbconvert_exporter": "python",
   "pygments_lexer": "ipython3",
   "version": "3.9.7"
  },
  "nikola": {
   "category": "",
   "date": "2022-01-23 11:39:42 UTC-08:00",
   "description": "",
   "link": "",
   "slug": "bistable-stochastic",
   "tags": "",
   "title": "Bistable stochastic systems",
   "type": "text"
  }
 },
 "nbformat": 4,
 "nbformat_minor": 5
}
