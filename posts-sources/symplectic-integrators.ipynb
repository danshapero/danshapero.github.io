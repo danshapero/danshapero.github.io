{
 "cells": [
  {
   "cell_type": "markdown",
   "metadata": {},
   "source": [
    "My dad is a [physicist of the old school](https://www.smbc-comics.com/index.php?db=comics&id=2556), and what this means is that he has to tell everyone -- regardless of their field -- that what they're doing is so simple as to not even be worth doing and that anyway physicsists could do it better.\n",
    "So whenever my job comes up he has to tell the same story about how he once took a problem to a numerical analyst.\n",
    "This poor bastard ran some code for him on a state-of-the-art computer of the time (a deer skeleton with a KT88 vacuum tube in its asshole) but the solution was total nonsense and didn't even conserve energy.\n",
    "Then pops realizes he could solve the [Hamilton-Jacobi](https://en.wikipedia.org/wiki/Hamilton%E2%80%93Jacobi_equation) equation for the system exactly.\n",
    "Numerical analysis is for clowns.\n",
    "\n",
    "Naturally, every time we have this conversation, I remind him that we figured out all sorts of things since then, like the fact that people who don't own land should be allowed to vote and also symplectic integrators.\n",
    "In this post I'll talk about the latter.\n",
    "A symplectic integrator is a scheme for solving Hamilton's equations of motion of classical mechanics in such a way that the map from the state at one time to the state at a later time preserves the canonical symplectic form.\n",
    "This is a very special property and not every timestepping scheme is symplectic.\n",
    "For those schemes that are symplectic, the trajectory samples exactly from the flow of a slightly perturbed Hamiltonian, which is a pretty nice result."
   ]
  },
  {
   "cell_type": "markdown",
   "metadata": {},
   "source": [
    "## The two-body problem\n",
    "\n",
    "First, we'll illustrate things on the famous two-body problem, which has the Hamiltonian\n",
    "\n",
    "$$H = \\frac{|p_1|^2}{2m_1} + \\frac{|p_2|^2}{2m_2} - \\frac{Gm_1m_2}{|x_1 - x_2|}$$\n",
    "\n",
    "where $x_1$, $x_2$ are the positions of the two bodies, $m_1$, $m_2$ their masses, and $G$ the Newton gravitation constant.\n",
    "We can simplify this system by instead working in the coordinate system $Q = (m_1x_1 + m_2x_2) / (m_1 + m_2)$, $q = x_2 - x_1$.\n",
    "The center of mass $Q$ moves with constant speed, reducing the Hamiltonian to\n",
    "\n",
    "$$H = \\frac{|p|^2}{2\\mu} - \\frac{Gm_1m_2}{|q|}$$\n",
    "\n",
    "where $\\mu = m_1m_2 / (m_1 + m_2)$ is the reduced mass of the system.\n",
    "We could go on to write $q$ in polar coordinates and do several transformations to derive an exact solution; you can find this in the books by Goldstein or Klepper and Kolenkow.\n",
    "\n",
    "Instead, we'll take the Hamiltonian above as our starting point, but first we want to make the units work out as nicely as possible.\n",
    "The gravitational constant $G$ has to have units of length${}^3\\cdot$time${}^{-2}\\cdot$mass${}^{-1}$ in order for both terms in the Hamiltonian we wrote above to have units of energy.\n",
    "We'd like for all the lengths and times in the problem to work out to be around 1, which suggests that we measure time in years and length in astronomic units.\n",
    "The [depository of all knowledge](https://en.wikipedia.org/wiki/Gravitational_constant#Orbital_mechanics) tells me that, in this unit system, the gravitational constant is\n",
    "\n",
    "$$G \\approx 4\\pi^2\\, \\text{AU}^3 \\cdot \\text{yr}^{-2}\\cdot M_\\odot^{-1}.$$\n",
    "\n",
    "The factor of $M_\\odot^{-1}$ in the gravitational constant will cancel with the corresponding factor in the Newton force law.\n",
    "For something like the earth-sun system, where the mass of the sun is much larger than that of the earth, the reduced mass of the system is  about equal to the mass of the earth.\n",
    "So if we take the earth mass $M_\\oplus$ as our basic mass unit, the whole system works out to about\n",
    "\n",
    "$$H = \\frac{|p|^2}{2} - \\frac{4\\pi^2}{|q|}.$$\n",
    "\n",
    "Finally, in this unit system we can take the initial position of the earth to be a $(1, 0)$ AU; we know the angular velocity of the earth is about $2\\pi$ AU / year, so the initial momentum is $2\\pi$ AU / year.\n",
    "Hamilton's equations of motion are\n",
    "\n",
    "$$\\begin{align}\n",
    "\\dot q & = +\\frac{\\partial H}{\\partial p} = p \\\\\n",
    "\\dot p & = -\\frac{\\partial H}{\\partial q} = -4\\pi^2\\frac{q}{|q|^3}.\n",
    "\\end{align}$$\n",
    "\n",
    "To start, we'll try out the classic explicit and implicit Euler methods first."
   ]
  },
  {
   "cell_type": "code",
   "execution_count": null,
   "metadata": {},
   "outputs": [],
   "source": [
    "import numpy as np\n",
    "from numpy import pi as π\n",
    "\n",
    "q_0 = np.array([1.0, 0.0])\n",
    "p_0 = np.array([0.0, 2 * π])\n",
    "\n",
    "final_time = 3.0\n",
    "num_steps = 3000\n",
    "dt = final_time / num_steps"
   ]
  },
  {
   "cell_type": "code",
   "execution_count": null,
   "metadata": {},
   "outputs": [],
   "source": [
    "def gravitational_force(q):\n",
    "    return -4 * π ** 2 * q / np.sqrt(np.dot(q, q)) ** 3"
   ]
  },
  {
   "cell_type": "code",
   "execution_count": null,
   "metadata": {},
   "outputs": [],
   "source": [
    "def explicit_euler(q, p, dt, num_steps, force):\n",
    "    qs = np.zeros((num_steps + 1,) + q.shape)\n",
    "    ps = np.zeros((num_steps + 1,) + p.shape)\n",
    "\n",
    "    qs[0] = q\n",
    "    ps[0] = p\n",
    "\n",
    "    for t in range(num_steps):\n",
    "        qs[t + 1] = qs[t] + dt * ps[t]\n",
    "        ps[t + 1] = ps[t] + dt * force(qs[t])\n",
    "        \n",
    "    return qs, ps"
   ]
  },
  {
   "cell_type": "markdown",
   "metadata": {},
   "source": [
    "We'll call out to scipy's nonlinear solver for our implementation of the implicit Euler method.\n",
    "In principle, scipy can solve the resulting nonlinear system of equations solely with the ability to evaluate the forces.\n",
    "But in order to make this approach as competitive as possible we should also provide the derivative of the forces with respect to the positions, which enables using Newton-type methods."
   ]
  },
  {
   "cell_type": "code",
   "execution_count": null,
   "metadata": {},
   "outputs": [],
   "source": [
    "I = np.eye(2)\n",
    "\n",
    "def gravitational_force_jacobian(q):\n",
    "    Q = np.sqrt(np.dot(q, q))\n",
    "    return -4 * π ** 2 / Q ** 3 * (I - 3 * np.outer(q, q) / Q ** 2)"
   ]
  },
  {
   "cell_type": "code",
   "execution_count": null,
   "metadata": {},
   "outputs": [],
   "source": [
    "from scipy.optimize import root\n",
    "\n",
    "def implicit_euler(q, p, dt, num_steps, force, force_jacobian):\n",
    "    qs = np.zeros((num_steps + 1,) + q.shape)\n",
    "    ps = np.zeros((num_steps + 1,) + p.shape)\n",
    "\n",
    "    qs[0] = q\n",
    "    ps[0] = p\n",
    "\n",
    "    def f(q, q_t, p_t):\n",
    "        return q - q_t - dt * (p_t + dt * force(q))\n",
    "    \n",
    "    def J(q, q_t, p_t):\n",
    "        return I - dt ** 2 * force_jacobian(q)\n",
    "    \n",
    "    for t in range(num_steps):\n",
    "        result = root(f, qs[t, :], jac=J, args=(qs[t], ps[t]))\n",
    "        qs[t + 1] = result.x\n",
    "        ps[t + 1] = ps[t] + dt * force(qs[t + 1])\n",
    "        \n",
    "    return qs, ps"
   ]
  },
  {
   "cell_type": "code",
   "execution_count": null,
   "metadata": {},
   "outputs": [],
   "source": [
    "q_ex, p_ex = explicit_euler(\n",
    "    q_0, p_0, dt, num_steps, gravitational_force\n",
    ")"
   ]
  },
  {
   "cell_type": "code",
   "execution_count": null,
   "metadata": {},
   "outputs": [],
   "source": [
    "q_im, p_im = implicit_euler(\n",
    "    q_0, p_0, dt, num_steps, gravitational_force, gravitational_force_jacobian\n",
    ")"
   ]
  },
  {
   "cell_type": "code",
   "execution_count": null,
   "metadata": {},
   "outputs": [],
   "source": [
    "import matplotlib.pyplot as plt\n",
    "from matplotlib.collections import LineCollection\n",
    "\n",
    "def plot_trajectory(q, start_width=1.0, end_width=3.0, **kwargs):\n",
    "    points = q.reshape(-1, 1, 2)\n",
    "    segments = np.concatenate([points[:-1], points[1:]], axis=1)\n",
    "    widths = np.linspace(start_width, end_width, len(points))\n",
    "    return LineCollection(segments, linewidths=widths, **kwargs)"
   ]
  },
  {
   "cell_type": "code",
   "execution_count": null,
   "metadata": {},
   "outputs": [],
   "source": [
    "fig, ax = plt.subplots()\n",
    "ax.set_aspect(\"equal\")\n",
    "ax.set_xlim((-1.25, +1.25))\n",
    "ax.set_ylim((-1.25, +1.25))\n",
    "ax.get_xaxis().set_visible(False)\n",
    "ax.get_yaxis().set_visible(False)\n",
    "ax.add_collection(plot_trajectory(q_ex, color=\"tab:blue\", label=\"explicit\"))\n",
    "ax.add_collection(plot_trajectory(q_im, color=\"tab:orange\", label=\"implicit\"))\n",
    "ax.legend(loc=\"upper right\");"
   ]
  },
  {
   "cell_type": "markdown",
   "metadata": {},
   "source": [
    "The explicit Euler method spirals out from what looks like to be a circular orbit at first, while the implicit Euler method spirals in.\n",
    "Since the gravitational potential is negative, this means that the explicit Euler scheme is gaining energy, while the implicit Euler scheme is losing energy."
   ]
  },
  {
   "cell_type": "code",
   "execution_count": null,
   "metadata": {},
   "outputs": [],
   "source": [
    "def energies(qs, ps):\n",
    "    kinetic = 0.5 * np.sum(ps ** 2, axis=1)\n",
    "    potential = -4 * π ** 2 / np.sqrt(np.sum(qs ** 2, axis=1))\n",
    "    return kinetic + potential\n",
    "\n",
    "fig, ax = plt.subplots()\n",
    "ts = np.linspace(0.0, final_time, num_steps + 1)\n",
    "ax.plot(ts, energies(q_ex, p_ex), label=\"explicit\")\n",
    "ax.plot(ts, energies(q_im, p_im), label=\"implicit\")\n",
    "ax.set_xlabel(\"time (years)\")\n",
    "ax.set_ylabel(\"energy\")\n",
    "ax.legend();"
   ]
  },
  {
   "cell_type": "markdown",
   "metadata": {},
   "source": [
    "If we use a slightly longer timestep, the implicit Euler method will eventually cause the earth and sun to crash into each other in the same short time span of three years.\n",
    "This prediction does not match observations, much as we might wish.\n",
    "\n",
    "We could reduce the energy drift to whatever degree we desire by using a shorter timestep or using a more accurate method.\n",
    "But before we go and look up the coefficients for the usual fourth-order Runge Kutta method, let's instead try a simple variation on the explicit Euler scheme."
   ]
  },
  {
   "cell_type": "code",
   "execution_count": null,
   "metadata": {},
   "outputs": [],
   "source": [
    "from tqdm.notebook import trange\n",
    "def semi_explicit_euler(q, p, dt, num_steps, force, progressbar=False):\n",
    "    qs = np.zeros((num_steps + 1,) + q.shape)\n",
    "    ps = np.zeros((num_steps + 1,) + p.shape)\n",
    "\n",
    "    qs[0] = q\n",
    "    ps[0] = p\n",
    "\n",
    "    iterator = trange(num_steps) if progressbar else range(num_steps)\n",
    "    for t in iterator:\n",
    "        qs[t + 1] = qs[t] + dt * ps[t]\n",
    "        ps[t + 1] = ps[t] + dt * force(qs[t + 1])\n",
    "        \n",
    "    return qs, ps"
   ]
  },
  {
   "cell_type": "markdown",
   "metadata": {},
   "source": [
    "Rather than use the previous values of the system state to pick the next system state, we first updated the position, then used this new value to update the momentum; we used `force(qs[t + 1])` instead of `force(qs[t])`.\n",
    "This is an implicit scheme in the strictest sense of the word.\n",
    "The particular structure of the central force problem, however, makes the computations explicit.\n",
    "In fancy terms we would refer to the Hamiltonian as *separable*.\n",
    "Let's see how this semi-explicit Euler scheme does."
   ]
  },
  {
   "cell_type": "code",
   "execution_count": null,
   "metadata": {},
   "outputs": [],
   "source": [
    "q_se, p_se = semi_explicit_euler(\n",
    "    q_0, p_0, dt, num_steps, gravitational_force\n",
    ")"
   ]
  },
  {
   "cell_type": "code",
   "execution_count": null,
   "metadata": {},
   "outputs": [],
   "source": [
    "fig, ax = plt.subplots()\n",
    "ax.set_aspect(\"equal\")\n",
    "ax.set_xlim((-1.5, +1.5))\n",
    "ax.set_ylim((-1.5, +1.5))\n",
    "ax.get_xaxis().set_visible(False)\n",
    "ax.get_yaxis().set_visible(False)\n",
    "ax.add_collection(plot_trajectory(q_ex, color=\"tab:blue\", label=\"explicit\"))\n",
    "ax.add_collection(plot_trajectory(q_im, color=\"tab:orange\", label=\"implicit\"))\n",
    "ax.add_collection(plot_trajectory(q_se, color=\"tab:green\", label=\"symplectic\"))\n",
    "ax.legend(loc=\"upper right\");"
   ]
  },
  {
   "cell_type": "markdown",
   "metadata": {},
   "source": [
    "The orbit of the semi-explicit or *symplectic* method shown in green seems to be roughly closed, which is pretty good.\n",
    "The most stunning feature is that the energy drift, while non-zero, is bounded and oscillatory.\n",
    "The amplitude of the drift is smaller than the energy itself by a factor of about one in 10,000."
   ]
  },
  {
   "cell_type": "code",
   "execution_count": null,
   "metadata": {},
   "outputs": [],
   "source": [
    "fig, ax = plt.subplots()\n",
    "Hs = energies(q_se, p_se)\n",
    "ax.plot(ts, Hs - Hs[0], label=\"semi-explicit\")\n",
    "ax.set_xlabel(\"time (years)\")\n",
    "ax.set_ylabel(\"energy drift\");"
   ]
  },
  {
   "cell_type": "markdown",
   "metadata": {},
   "source": [
    "Just for kicks, let's try again on an elliptical orbit with some more eccentricity than what we tried here, and on the same circular orbit, for a much longer time window."
   ]
  },
  {
   "cell_type": "code",
   "execution_count": null,
   "metadata": {},
   "outputs": [],
   "source": [
    "final_time = 3e2\n",
    "num_steps = int(3e4)\n",
    "dt = final_time / num_steps\n",
    "\n",
    "q_0 = np.array([1.0, 0.0])\n",
    "p_0 = np.array([0.0, 2 * π])\n",
    "q_se, p_se = semi_explicit_euler(q_0, p_0, dt, num_steps, gravitational_force)\n",
    "\n",
    "ϵ = 0.1\n",
    "q_0 = np.array([1.0 + ϵ, 0.0])\n",
    "p_0 = np.array([0.0, 2 * π])\n",
    "q_el, p_el = semi_explicit_euler(q_0, p_0, dt, num_steps, gravitational_force)"
   ]
  },
  {
   "cell_type": "code",
   "execution_count": null,
   "metadata": {},
   "outputs": [],
   "source": [
    "fig, ax = plt.subplots()\n",
    "ax.set_aspect(\"equal\")\n",
    "ax.set_xlim((-1.5, +1.5))\n",
    "ax.set_ylim((-1.5, +1.5))\n",
    "ax.get_xaxis().set_visible(False)\n",
    "ax.get_yaxis().set_visible(False)\n",
    "ax.add_collection(plot_trajectory(q_se, color=\"tab:blue\", label=\"circular\"))\n",
    "ax.add_collection(plot_trajectory(q_el, color=\"tab:orange\", label=\"elliptical\"))\n",
    "ax.legend(loc=\"lower right\");"
   ]
  },
  {
   "cell_type": "markdown",
   "metadata": {},
   "source": [
    "The orbits don't exactly trace out circles or ellipses -- the orbits *precess* a bit.\n",
    "Nonetheless, they still remain roughly closed and have bounded energy drift.\n",
    "For less work than the implicit Euler scheme, we got a vastly superior solution.\n",
    "**Why is the semi-explicit Euler method so much better than the explicit or implicit Euler method?**"
   ]
  },
  {
   "cell_type": "markdown",
   "metadata": {},
   "source": [
    "### Symplectic integrators\n",
    "\n",
    "Arguably the most important property of Hamiltonian systems is that the energy is conserved, as well as other quantities such as linear and angular momentum.\n",
    "The explicit and implicit Euler methods are convergent, and so their trajectories reproduce those of the Hamiltonian system for any finite time horizon as the number of steps is increased.\n",
    "These guarantees don't tell us anything about how the discretized trajectories behave using a fixed time step and very long horizons, and they don't tell us anything about the energy conservation properties either.\n",
    "The wonderful property about semi-explicit Euler is that **the map from the state of the system at one timestep to the next samples directly from the flow of a slightly perturbed Hamiltonian.**\n",
    "\n",
    "Let's try to unpack that statement a bit more.\n",
    "A fancy way of writing Hamilton's equations of motion is that, for any observable function $f$ of the total state $z = (q, p)$ of the system,\n",
    "\n",
    "$$\\frac{\\partial f}{\\partial t} = \\{f, H\\}$$\n",
    "\n",
    "where $\\{\\cdot, \\cdot\\}$ denotes the [*Poisson bracket*](https://en.wikipedia.org/wiki/Poisson_bracket).\n",
    "For the simple systems described here, the Poisson bracket of two functions $f$ and $g$ is\n",
    "\n",
    "$$\\{f, g\\} = \\sum_i\\left(\\frac{\\partial f}{\\partial q_i}\\frac{\\partial g}{\\partial p_i} - \\frac{\\partial f}{\\partial p_i}\\frac{\\partial g}{\\partial q_i}\\right).$$\n",
    "\n",
    "We recover the usual Hamilton equations of motion by substituting the positions and momenta themselves for $f$.\n",
    "In general, the Poisson bracket can be any bilinear form that's antisymmetric and satisfies the Leibniz and Jacobi identities.\n",
    "In a later demo, I'll look at rotational kinematics, where the configuration space is no longer flat Euclidean space but the Lie group SO(3).\n",
    "The Poisson bracket is rightfully viewed as a 2-form in this setting.\n",
    "Leaving this complications aside for the moment, the evolution equation in terms of brackets is especially nice in that it allows us to easily characterize the conserved quantities: any function $f$ such that $\\{f, H\\} = 0$.\n",
    "In particular, due to the antisymmetry of the bracket, the Hamiltonian $H$ itself is always conserved.\n",
    "\n",
    "Solving Hamilton's equations of motion forward in time gives a map $\\Phi_t$ from the initial to the final state.\n",
    "The nice part about this solution map is that it obeys the semi-group property: $\\Phi_s\\circ\\Phi_t = \\Phi_{s + t}$.\n",
    "In the same way that we can think of a matrix $A$ generating the solution map $e^{tA}$ of the linear ODE $\\dot z = Az$, we can also think of the solution map for Hamiltonian systems as being generated by the Poisson bracket with the Hamiltonian:\n",
    "\n",
    "$$\\Phi_t = \\exp\\left(t\\{\\cdot, H\\}\\right)$$\n",
    "\n",
    "where $\\exp$ denotes the exponential map.\n",
    "This isn't a rigorous argument and to really make that clear I'd have to talk about diffeomorphism groups of manifolds.\n",
    "Just believe me and read Jerrold Marsden's books if you don't.\n",
    "\n",
    "Now comes the interesting part.\n",
    "Suppose we want to solve the linear ODE\n",
    "\n",
    "$$\\dot z = (A + B)z.$$\n",
    "\n",
    "We'd like to find a way to break down solving this problem into separately solving ODEs defined by $A$ and $B$.\n",
    "It isn't possible to split the problem exactly because, for matrices, $\\exp\\left(t(A + B)\\right)$ is not equal to $\\exp(tA)\\exp(tB)$ unless $A$ and $B$ commute.\n",
    "But, for small values of $\\delta t$, we can express the discrepancy in terms of the commutate $[A, B] = AB - BA$ of the matrices:\n",
    "\n",
    "$$\\exp(\\delta t\\cdot A)\\exp(\\delta t\\cdot B) = \\exp\\left(\\delta t(A + B) + \\frac{\\delta t^2}{2}[A, B] + \\ldots\\right)$$\n",
    "\n",
    "where the ellipses denote terms of higher order in $\\delta t$.\n",
    "Exactly what goes in the higher-order terms is the content of the [Baker-Campbell-Hausdorff](https://en.wikipedia.org/wiki/Baker%E2%80%93Campbell%E2%80%93Hausdorff_formula#Zassenhaus_formula) (BCH) formula.\n",
    "This reasoning is what leads to splitting methods for all kinds of different PDEs.\n",
    "For example, you can show that splitting the solution of an advection-diffusion equation into an explicit step for the advective part and an implicit step for the diffusive part works with an error of order $\\mathscr{O}(\\delta t)$ using the BCH formula.\n",
    "\n",
    "The clever part about the analysis of symplectic methods is that we can play a similar trick for Hamiltonian problems (if we're willing to wave our hands a bit).\n",
    "Suppose that a Hamiltonian $H$ can be written as\n",
    "\n",
    "$$H = H_1 + H_2$$\n",
    "\n",
    "where exactly solving for the flow of each Hamiltonian $H_1$, $H_2$ is easy.\n",
    "The most obvious splitting is into kinetic and potential energies $K$ and $U$.\n",
    "Integrating the Hamiltonian $K(p)$ is easy because the momenta don't change all -- the particles continue in linear motion according to what their starting momenta were.\n",
    "Integrating the Hamiltonian $U(q)$ is also easy because, while the momenta will change according to the particles' initial positions, those positions also don't change.\n",
    "To write it down explicitly,\n",
    "\n",
    "$$\\Phi^K_t\\left(\\begin{matrix}q \\\\ p\\end{matrix}\\right) = \\left(\\begin{matrix}q + t\\frac{\\partial K}{\\partial p} \\\\ p\\end{matrix}\\right)$$\n",
    "\n",
    "and\n",
    "\n",
    "$$\\Phi^U_t\\left(\\begin{matrix}q \\\\ p\\end{matrix}\\right) = \\left(\\begin{matrix}q \\\\ p - t\\frac{\\partial U}{\\partial q}\\end{matrix}\\right)$$\n",
    "\n",
    "Each of these Hamiltonian systems by itself is sort of silly, but the composition of maps $\\Phi^U_{\\delta t}\\circ \\Phi^K_{\\delta t}$ gives an $\\mathscr{O}(\\delta t$)-accurate approximation to $\\Phi^{K + U}_{\\delta t}$ by the BCH formula.\n",
    "Now if we keep up the analogy and pretend like we can apply the BCH formula to Hamiltonian flows exactly, we'd formally write that\n",
    "\n",
    "$$\\exp\\left(\\delta t\\{\\cdot, H_1\\}\\right)\\exp\\left(\\delta t\\{\\cdot, H_2\\}\\right) = \\exp\\left(\\delta t\\{\\cdot, H_1 + H_2\\} + \\frac{\\delta t^2}{2}\\left\\{\\cdot, \\{H_1, H_2\\}\\right\\} + \\ldots \\right).$$\n",
    "\n",
    "In other words, it's not just that using the splitting scheme above is giving us a $\\mathscr{O}(\\delta t)$-accurate approximation to the solution $q(t), p(t)$, it's that **the approximate solution is sampled exactly from integrating the flow of the perturbed Hamiltonian**\n",
    "\n",
    "$$H' = H + \\frac{\\delta t}{2}\\{H_1, H_2\\} + \\mathscr{O}(\\delta t^2).$$\n",
    "\n",
    "All of the things that are true of Hamiltonian systems generally are then true of our numerical approximations.\n",
    "For example, they still preserve volume in phase space ([Liouville's theorem](https://en.wikipedia.org/wiki/Liouville%27s_theorem_(Hamiltonian))); have no stable or unstable equilibrium points, only saddles and centers; and typically have roughly bounded trajectories.\n",
    "\n",
    "Using the BCH formula to compute the perturbed Hamiltonian helps us design schemes of even higher order.\n",
    "For example, the scheme that we're using throughout in this post is obtained by taking a full step of the momentum solve followed by a full step of the position solve.\n",
    "We could eliminate the first-order term in the expansion by taking a half-step of momentum, a full step of position, followed by a half-step of momentum again:\n",
    "\n",
    "$$\\Psi = \\Phi^K_{\\delta t / 2}\\Phi^U_{\\delta t}\\Phi^K_{\\delta t / 2},$$\n",
    "\n",
    "i.e. a symmetric splitting.\n",
    "This gives a perturbed Hamiltonian that's accurate to $\\delta t^2$ instead:\n",
    "\n",
    "$$H' = H + \\frac{\\delta t^2}{24}\\left(2\\{U, \\{U, K\\}\\} - \\{K, \\{K, U\\}\\}\\right) + \\mathscr{O}(\\delta t^4)$$\n",
    "\n",
    "This scheme is substantially more accurate and also shares a [reversibility](https://en.wikipedia.org/wiki/Time_reversibility) property with the true problem.\n",
    "\n",
    "Making all of this analysis really rigorous requires a bit of Lie algebra sorcery that I can't claim to understand at any deep level.\n",
    "But for our purposes it's sufficient to know that symplectic methods like semi-explicit Euler sample exactly from some perturbed Hamiltonian, which is likely to have bounded level surfaces in phase space if the original Hamiltonian did.\n",
    "This fact gives us stability guarantees that are hard to come by any other way."
   ]
  },
  {
   "cell_type": "markdown",
   "metadata": {},
   "source": [
    "### Molecular dynamics\n",
    "\n",
    "The two-body gravitational problem is all well and good, but now let's try it for a more interesting and complex example: the motion of atoms.\n",
    "One of the simplest models for interatomic interactions is the [Lennard-Jones](https://en.wikipedia.org/wiki/Lennard-Jones_potential) (LJ) potential, which has the form\n",
    "\n",
    "$$U = \\epsilon\\left(\\left(\\frac{R}{r}\\right)^{12} - 2\\left(\\frac{R}{r}\\right)^6\\right).$$\n",
    "\n",
    "The potential is repulsive at distances less than $R$, attractive at distances between $R$ and $2R$, and pretty much zero at distances appreciably greater than $2R$, with a well depth of $\\epsilon$.\n",
    "The LJ potential is spherically symmetric, so it's not a good model for polyatomic molecules like water that have a non-trivial dipole moment, but it's thought to be a pretty approximation for noble gases like argon.\n",
    "We'll work in a geometrized unit system where $\\epsilon = 1$ and $R = 1$.\n",
    "The code below calculates the potential and forces for a system of several Lennard-Jones particles."
   ]
  },
  {
   "cell_type": "code",
   "execution_count": null,
   "metadata": {},
   "outputs": [],
   "source": [
    "ϵ = 1.0\n",
    "R = 1.0\n",
    "\n",
    "def lennard_jones_potential(q):\n",
    "    U = 0.0\n",
    "    n = len(q)\n",
    "    for i in range(n):\n",
    "        for j in range(i + 1, n):\n",
    "            z = q[i] - q[j]\n",
    "            ρ = np.sqrt(np.dot(z, z)) / R\n",
    "            U += ϵ / ρ ** 6 * (1 / ρ ** 6 - 2)\n",
    "\n",
    "    return U\n",
    "\n",
    "def lennard_jones_force(q):\n",
    "    fs = np.zeros_like(q)\n",
    "    n = len(q)\n",
    "    for i in range(n):\n",
    "        for j in range(i + 1, n):\n",
    "            z = q[i] - q[j]\n",
    "            ρ = np.sqrt(np.dot(z, z)) / R\n",
    "            f = -12 * ϵ / R ** 2 / ρ ** 8 * (1 - 1 / ρ ** 6) * z\n",
    "            fs[i] += f\n",
    "            fs[j] -= f\n",
    "\n",
    "    return fs"
   ]
  },
  {
   "cell_type": "markdown",
   "metadata": {},
   "source": [
    "This code runs in $\\mathscr{O}(n^2)$ for a system of $n$ particles, but the Lennard-Jones interaction is almost completely negligible for distances greater than $3R$.\n",
    "There are [approximation schemes](https://en.wikipedia.org/wiki/Barnes%E2%80%93Hut_simulation) that use spatial data structures like [quadtrees](https://en.wikipedia.org/wiki/Quadtree) to index the positions of all the particles and lump the effects of long-range forces.\n",
    "These schemes reduce the overall computational burden to $\\mathscr{O}(n\\cdot\\log n)$ and are a virtual requirement to running large-scale simulations.\n",
    "\n",
    "For the initial setup, we'll look at a square lattice of atoms separated by a distance $R$.\n",
    "We'll start out with zero initial velocity.\n",
    "If you were to imagine an infinite or periodic lattice of Lennard-Jones atoms, a cubic lattice should be stable.\n",
    "The points immediately to the north, south, east, and west on the grid are exactly at the equilibrium distance, while the forces between an atom and its neighbors to the northwest and southeast should cancel.\n",
    "For this simulation, we won't include any periodicity, so it's an interesting question to see if the cubic lattice structure remains even in the presence of *edge effects*."
   ]
  },
  {
   "cell_type": "code",
   "execution_count": null,
   "metadata": {},
   "outputs": [],
   "source": [
    "num_rows, num_cols = 10, 10\n",
    "num_particles = num_rows * num_cols\n",
    "\n",
    "q = np.zeros((num_particles, 2))\n",
    "for i in range(num_rows):\n",
    "    for j in range(num_cols):\n",
    "        q[num_cols * i + j] = (R * i, R * j)\n",
    "        \n",
    "p = np.zeros((num_particles, 2))"
   ]
  },
  {
   "cell_type": "markdown",
   "metadata": {},
   "source": [
    "I've added a progress bar to the simulation so I can see how fast it runs.\n",
    "Each iteration usually takes about the same time, so after about 10 or so you can tell whether you should plan to wait through the next cup of coffee or until next morning."
   ]
  },
  {
   "cell_type": "code",
   "execution_count": null,
   "metadata": {},
   "outputs": [],
   "source": [
    "dt = 1e-2\n",
    "num_steps = 2000\n",
    "\n",
    "qs, ps = semi_explicit_euler(\n",
    "    q, p, dt, num_steps, force=lennard_jones_force, progressbar=True\n",
    ")"
   ]
  },
  {
   "cell_type": "markdown",
   "metadata": {},
   "source": [
    "And now for some pretty animations."
   ]
  },
  {
   "cell_type": "code",
   "execution_count": null,
   "metadata": {},
   "outputs": [],
   "source": [
    "%%capture\n",
    "from matplotlib.animation import FuncAnimation\n",
    "\n",
    "fig, ax = plt.subplots()\n",
    "ax.get_xaxis().set_visible(False)\n",
    "ax.get_yaxis().set_visible(False)\n",
    "ax.set_xlim((qs[:, :, 0].min(), qs[:, :, 0].max()))\n",
    "ax.set_ylim((qs[:, :, 1].min(), qs[:, :, 1].max()))\n",
    "ax.set_aspect(\"equal\")\n",
    "points = ax.scatter(qs[0, :, 0], qs[0, :, 1], animated=True)\n",
    "\n",
    "def update(timestep):\n",
    "    points.set_offsets(qs[timestep, :, :])\n",
    "\n",
    "num_steps = len(qs)\n",
    "fps = 60\n",
    "animation = FuncAnimation(fig, update, num_steps, interval=1e3 / fps)"
   ]
  },
  {
   "cell_type": "code",
   "execution_count": null,
   "metadata": {},
   "outputs": [],
   "source": [
    "from IPython.display import HTML\n",
    "HTML(animation.to_html5_video())"
   ]
  },
  {
   "cell_type": "markdown",
   "metadata": {},
   "source": [
    "The cubic lattice is unstable -- the particles eventually rearrange into a hexagonal lattice.\n",
    "We can also see this if we plot the potential energy as a function of time.\n",
    "Around halfway into the simulation, the average potential energy suddenly drops by about $\\epsilon / 5$."
   ]
  },
  {
   "cell_type": "code",
   "execution_count": null,
   "metadata": {},
   "outputs": [],
   "source": [
    "ts = np.linspace(0, num_steps * dt, num_steps)\n",
    "Us = np.array([lennard_jones_potential(q) for q in qs]) / num_particles"
   ]
  },
  {
   "cell_type": "code",
   "execution_count": null,
   "metadata": {},
   "outputs": [],
   "source": [
    "fig, ax = plt.subplots()\n",
    "ax.set_xlabel(\"time\")\n",
    "ax.set_ylabel(\"potential energy\")\n",
    "ax.plot(ts, Us);"
   ]
  },
  {
   "cell_type": "markdown",
   "metadata": {},
   "source": [
    "By way of a posteriori sanity checking, we can see that the total energy wasn't conserved exactly, but the deviations are bounded and the amplitude is much smaller than the characteristic energy scale $\\epsilon$ of the problem."
   ]
  },
  {
   "cell_type": "code",
   "execution_count": null,
   "metadata": {},
   "outputs": [],
   "source": [
    "Ks = 0.5 * np.sum(ps ** 2, axis=(1, 2)) / num_particles\n",
    "Hs = Us + Ks\n",
    "\n",
    "fig, ax = plt.subplots()\n",
    "ax.set_xlabel(\"time\")\n",
    "ax.set_ylabel(\"energy\")\n",
    "ax.plot(ts, Us, label=\"potential\")\n",
    "ax.plot(ts, Hs, label=\"total\")\n",
    "ax.legend();"
   ]
  },
  {
   "cell_type": "markdown",
   "metadata": {},
   "source": [
    "### Conclusion\n",
    "\n",
    "An introductory class in numerical ODE will show you how to construct convergent discretization schemes.\n",
    "Many real problems, however, have special structure that a general ODE scheme may or may not preserve.\n",
    "Hamiltonian systems are particularly rich in structure -- energy and phase space volume conservation, reversibility.\n",
    "Some very special discretization schemes preserve this structure.\n",
    "In this post, we focused only on the very basic symplectic Euler scheme and hinted at the similar but more accurate Störmer-Verlet scheme.\n",
    "Another simple symplectic method is the implicit midpoint rule\n",
    "\n",
    "$$\\frac{z_{n + 1} - z_n}{\\delta t} = f\\left(\\frac{z_n + z_{n + 1}}{2}\\right).$$\n",
    "\n",
    "There are of course higher-order symplectic schemes, for example Lobatto-type Runge Kutta methods.\n",
    "\n",
    "We showed a simulation of several particles interacting via the Lennard-Jones potential, which is spherically symmetric.\n",
    "Things get much more complicated when there are rotational degrees of freedom.\n",
    "The rotational degrees of freedom live not in flat Euclidean space but on the Lie group SO(3), and the angular momenta in the Lie algebra $\\mathfrak{so}(3)$.\n",
    "More generally, there are specialized methods for problems with constraints, such as being a rotation matrix, or being confined to a surface.\n",
    "\n",
    "If you want to learn more, my favorite references are [Geometric Numerical Integration](https://doi.org/10.1007/3-540-30666-8) by Hairer, Lubich, and Wanner and [Simulating Hamiltonian Dynamics](https://doi.org/10.1017/CBO9780511614118) by Leimkuhler and Reich."
   ]
  }
 ],
 "metadata": {
  "kernelspec": {
   "display_name": "firedrake",
   "language": "python",
   "name": "firedrake"
  },
  "language_info": {
   "codemirror_mode": {
    "name": "ipython",
    "version": 3
   },
   "file_extension": ".py",
   "mimetype": "text/x-python",
   "name": "python",
   "nbconvert_exporter": "python",
   "pygments_lexer": "ipython3",
   "version": "3.11.9"
  },
  "nikola": {
   "category": "",
   "date": "2021-07-29 14:05:34 UTC-07:00",
   "description": "",
   "link": "",
   "slug": "symplectic-integrators",
   "tags": "",
   "title": "Symplectic integrators",
   "type": "text"
  }
 },
 "nbformat": 4,
 "nbformat_minor": 4
}
