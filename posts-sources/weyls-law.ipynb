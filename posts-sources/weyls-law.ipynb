{
 "cells": [
  {
   "cell_type": "markdown",
   "metadata": {},
   "source": [
    "In this post we'll look at eigenfunctions and eigenvalues of the Laplace operator $\\Delta$ on a domain $\\Omega$ in $\\mathbb{R}^d$. \n",
    "A function $\\phi$ on $\\Omega$ and a number $\\lambda$ are an eigenfunction/eigenvalue pair if\n",
    "\n",
    "\n",
    "$$-\\Delta\\phi = \\lambda^2\\phi$$\n",
    "\n",
    "along with the Dirichlet boundary condition $\\phi|_{\\partial\\Omega} = 0$.\n",
    "The operator $-\\Delta$ is symmetric and positive-definite, so the eigenvalues are real and positive.\n",
    "I've chosen a slightly different way of writing things in terms of $\\lambda^2$ because this makes the units of the eigenvalues an inverse length.\n",
    "\n",
    "The *Weyl asymptotic law* describes how the eigenvalues grow as a function of the domain size and shape.\n",
    "Weyl proved in 1911 that, if $N(\\lambda)$ is the number of eigenvalues of the Dirichlet Laplacian less than $\\lambda$, that\n",
    "\n",
    "$$N(\\lambda) = (2\\pi)^{-d}\\omega_d\\cdot\\text{vol}(\\Omega)\\cdot\\lambda^{d} + \\mathscr{O}(\\lambda^{d})$$\n",
    "\n",
    "as $\\lambda \\to \\infty$, where $\\omega_d$ is the volume of the unit ball in $\\mathbb{R}^d$.\n",
    "As a sanity check, note that $\\lambda$ has units of length${}^{-1}$, so the formula above is dimensionless.\n",
    "As another sanity check, you can look at the analytical expression for the eigenvalues on a box or a sphere.\n",
    "The proof given in volume 1 of Courant and Hilbert is pretty easy to follow.\n",
    "Weyl conjectured that the second term could be expressed in terms of the area of the boundary:\n",
    "\n",
    "$$N(\\lambda) = (2\\pi)^{-d}\\omega_d\\cdot\\text{vol}(\\Omega)\\cdot\\lambda^d - \\frac{1}{4}(2\\pi)^{1 - d}\\omega_{d - 1}\\cdot\\text{area}(\\partial\\Omega)\\cdot\\lambda^{d - 1} + \\mathscr{o}\\left(\\lambda^{d - 1}\\right)$$\n",
    "\n",
    "but this wasn't proved in his lifetime.\n",
    "Here we'll come up with a simple domain and show how you might verify this law numerically."
   ]
  },
  {
   "cell_type": "markdown",
   "metadata": {},
   "source": [
    "### Making a mesh\n",
    "\n",
    "First, we'll use the package [pygmsh](https://github.com/nschloe/pygmsh) to create the spatial domain.\n",
    "Pygmsh is a Python wrapper around the mesh generator [gmsh](https://www.gmsh.info); pygmsh adds the nice feature of keeping track of all the entity ID numbers for you.\n",
    "The domain we'll use will be an ellipse with three circles removed from it.\n",
    "To keep the repetition down we'll first introduce a helper function that adds an ellipse to an existing geometry."
   ]
  },
  {
   "cell_type": "code",
   "execution_count": null,
   "metadata": {},
   "outputs": [],
   "source": [
    "import numpy as np\n",
    "from numpy import pi as π\n",
    "def add_ellipse(geometry, x, y, a, b, N, lcar):\n",
    "    θs = np.array([2 * π * n / N for n in range(N)])\n",
    "    xs, ys = x + a * np.cos(θs), y + b * np.sin(θs)\n",
    "    points = [geometry.add_point([x, y, 0], lcar=lcar) for x, y in zip(xs, ys)]\n",
    "    lines = [geometry.add_line(points[n], points[(n + 1) % N])\n",
    "             for n in range(N)]\n",
    "\n",
    "    geometry.add_physical(lines)\n",
    "    line_loop = geometry.add_line_loop(lines)\n",
    "    return line_loop"
   ]
  },
  {
   "cell_type": "markdown",
   "metadata": {},
   "source": [
    "The following code actually creates the domain.\n",
    "The calls to add a plane surface and a physical plane surface are easy to forget but essential."
   ]
  },
  {
   "cell_type": "code",
   "execution_count": null,
   "metadata": {},
   "outputs": [],
   "source": [
    "import pygmsh\n",
    "geometry = pygmsh.built_in.Geometry()\n",
    "\n",
    "outer_line_loop = add_ellipse(geometry, x=0, y=0, a=2, b=1, N=256, lcar=1/4)\n",
    "inner_loops = [\n",
    "    add_ellipse(geometry, x=0, y=1/2, a=1/8, b=1/8, N=128, lcar=1/4),\n",
    "    add_ellipse(geometry, x=1/2, y=1/4, a=3/16, b=3/16, N=128, lcar=1/4),\n",
    "    add_ellipse(geometry, x=1, y=-1/4, a=1/4, b=1/4, N=192, lcar=1/4)\n",
    "]\n",
    "\n",
    "plane_surface = geometry.add_plane_surface(outer_line_loop, inner_loops)\n",
    "geometry.add_physical(plane_surface)\n",
    "\n",
    "with open('ellipse.geo', 'w') as geo_file:\n",
    "    geo_file.write(geometry.get_code())\n",
    "    \n",
    "!gmsh -2 -format msh2 -v 0 -o ellipse.msh ellipse.geo"
   ]
  },
  {
   "cell_type": "markdown",
   "metadata": {},
   "source": [
    "To make sure everything worked right, we'll visualize the mesh after loading it in."
   ]
  },
  {
   "cell_type": "code",
   "execution_count": null,
   "metadata": {},
   "outputs": [],
   "source": [
    "import firedrake\n",
    "import matplotlib.pyplot as plt\n",
    "mesh = firedrake.Mesh('ellipse.msh')\n",
    "\n",
    "fig, axes = plt.subplots()\n",
    "firedrake.triplot(mesh, axes=axes)\n",
    "axes.set_aspect('equal')\n",
    "axes.legend();"
   ]
  },
  {
   "cell_type": "markdown",
   "metadata": {},
   "source": [
    "### Using SLEPc\n",
    "\n",
    "To compute the eigenvalues and eigenfunctions of the Laplace operator, we'll use the [Scalable Library for Eigenvalue Problem Computations (SLEPc)](http://slepc.upv.es/).\n",
    "Both SLEPc and Firedrake are built on top of PETSc, so creating the eigenvalue problem is just a matter of assembling the Firedrake form objects representing our linear operators, extracting the underlying PETSc matrix objects, and passing them to SLEPc."
   ]
  },
  {
   "cell_type": "code",
   "execution_count": null,
   "metadata": {},
   "outputs": [],
   "source": [
    "Q = firedrake.FunctionSpace(mesh, family='CG', degree=2)\n",
    "ϕ = firedrake.TestFunction(Q)\n",
    "ψ = firedrake.TrialFunction(Q)\n",
    "\n",
    "from firedrake import inner, grad, dx\n",
    "a = inner(grad(ϕ), grad(ψ)) * dx\n",
    "m = ϕ * ψ * dx\n",
    "\n",
    "bc = firedrake.DirichletBC(Q, 0, 'on_boundary')\n",
    "A = firedrake.assemble(a, bcs=bc).M.handle\n",
    "M = firedrake.assemble(m).M.handle"
   ]
  },
  {
   "cell_type": "markdown",
   "metadata": {},
   "source": [
    "To solve the right problem and to help SLEPc get the right answer we'll pass it several options.\n",
    "First, we're solving a generalized Hermitian eigenproblem.\n",
    "Since the eigenproblem is Hermitian, all the eignevalues are real, which is a very convenient simplifying assumption.\n",
    "\n",
    "For this problem we're going to use a *spectral transformation*.\n",
    "Rather than find the eigenvalues of a matrix $A$ directly, we'll instead find the eigenvalues of a matrix $f(A)$ where $f$ is invertible and holomorphic on a domain containing the spectrum of $A$.\n",
    "We can then compute the eigenvalues of $A$ as the function $f^{-1}$ aplied to the eigenvalues of $f(A)$.\n",
    "The advantage of spectral transformations is that, with a good choice of $f$, the eigenvalues of $f(A)$ can be easier to compute than those of $A$ itself.\n",
    "Since $A$ is positive-definite and we're looking for the smallest eigenvalues, a good choice is\n",
    "\n",
    "$$f(z) = 1/(z - \\sigma),$$\n",
    "\n",
    "i.e. shifting and inverting.\n",
    "This spectral transformation is equivalent to finding the eigendecomposition of $(A - \\sigma M)^{-1}$.\n",
    "Computing the inverse of a matrix is generally a bad idea, but under the hood it's enough to be able to solve linear systems.\n",
    "\n",
    "Anything in SLEPc having to do with spectral transformations is prefixed with `st`.\n",
    "In our case, we're using the shift-and-invert transformation (`sinvert`).\n",
    "To solve these linear systems, we'll a Krylov subspace method (`ksp_type`) with some preconditioner (`pc_type`).\n",
    "Since $A$ is symmetric and positive-definite, we can use the conjugate gradient method (`cg`)."
   ]
  },
  {
   "cell_type": "code",
   "execution_count": null,
   "metadata": {},
   "outputs": [],
   "source": [
    "from petsc4py import PETSc\n",
    "opts = PETSc.Options()\n",
    "opts.setValue('eps_gen_hermitian', None)\n",
    "opts.setValue('eps_target_real', None)\n",
    "opts.setValue('eps_smallest_real', None)\n",
    "opts.setValue('st_type', 'sinvert')\n",
    "opts.setValue('st_ksp_type', 'cg')\n",
    "opts.setValue('st_pc-type', 'jacobi')\n",
    "opts.setValue('eps_tol', 1e-8)"
   ]
  },
  {
   "cell_type": "code",
   "execution_count": null,
   "metadata": {},
   "outputs": [],
   "source": [
    "from slepc4py import SLEPc\n",
    "num_values = 250\n",
    "eigensolver = SLEPc.EPS().create(comm=firedrake.COMM_WORLD)\n",
    "eigensolver.setDimensions(num_values)\n",
    "eigensolver.setOperators(A, M)\n",
    "eigensolver.setFromOptions()\n",
    "eigensolver.solve()"
   ]
  },
  {
   "cell_type": "markdown",
   "metadata": {},
   "source": [
    "To check that everything worked right, we can see how many eigenvalues converged:"
   ]
  },
  {
   "cell_type": "code",
   "execution_count": null,
   "metadata": {},
   "outputs": [],
   "source": [
    "num_converged = eigensolver.getConverged()\n",
    "print(num_converged)"
   ]
  },
  {
   "cell_type": "markdown",
   "metadata": {},
   "source": [
    "Just for fun, we can plot one of the eigenfunctions.\n",
    "The zero contours of eigenfunctions are a fascinating subject -- the Courant nodal domain theorem tells us that the $n$-th eigenfunction can have no more than $n$ nodal domains."
   ]
  },
  {
   "cell_type": "code",
   "execution_count": null,
   "metadata": {},
   "outputs": [],
   "source": [
    "Vr, Vi = A.getVecs()\n",
    "λ = eigensolver.getEigenpair(24, Vr, Vi)\n",
    "ϕ = firedrake.Function(Q)\n",
    "ϕ.vector()[:] = Vr"
   ]
  },
  {
   "cell_type": "code",
   "execution_count": null,
   "metadata": {},
   "outputs": [],
   "source": [
    "fig, axes = plt.subplots()\n",
    "levels = np.linspace(-1.25, +1.25, 51)\n",
    "kwargs = {'levels': levels, 'cmap': 'twilight', 'extend': 'both'}\n",
    "contours = firedrake.tricontourf(ϕ, axes=axes, **kwargs)\n",
    "fig.colorbar(contours)\n",
    "axes.set_aspect('equal');"
   ]
  },
  {
   "cell_type": "markdown",
   "metadata": {},
   "source": [
    "The following plot shows exact eigenvalue counting function and the order-1 and order-2 approximations from Weyl's law."
   ]
  },
  {
   "cell_type": "code",
   "execution_count": null,
   "metadata": {},
   "outputs": [],
   "source": [
    "Es = np.array([eigensolver.getEigenvalue(k) for k in range(num_values)]).real\n",
    "λs = np.sqrt(Es)"
   ]
  },
  {
   "cell_type": "code",
   "execution_count": null,
   "metadata": {},
   "outputs": [],
   "source": [
    "import matplotlib.pyplot as plt\n",
    "fig, axes = plt.subplots()\n",
    "Ns = np.array(list(range(len(λs)))) + 1\n",
    "axes.plot(λs, Ns, color='k', label='Exact $N(\\lambda)$')\n",
    "\n",
    "from firedrake import assemble, Constant, ds\n",
    "vol = assemble(Constant(1, domain=mesh) * dx)\n",
    "area = assemble(Constant(1, domain=mesh) * ds)\n",
    "\n",
    "ω_2 = π\n",
    "ω_1 = 2\n",
    "order_1 = 1/(2*π)**2 * ω_2 * vol * λs**2\n",
    "order_2 = order_1 - 1/(2*π) * ω_1 * area * λs / 4\n",
    "\n",
    "axes.plot(λs, order_1, color='tab:blue', label='order 1')\n",
    "axes.plot(λs, order_2, color='tab:orange', label='order 2')\n",
    "axes.legend()\n",
    "\n",
    "axes.set_xlabel('Eigenvalue $\\lambda$')\n",
    "axes.set_ylabel('Counting function $N(\\lambda)$');"
   ]
  },
  {
   "cell_type": "markdown",
   "metadata": {},
   "source": [
    "The accuracy difference is even more stark if we look at the relative error in the eigenvalue counting function."
   ]
  },
  {
   "cell_type": "code",
   "execution_count": null,
   "metadata": {},
   "outputs": [],
   "source": [
    "fig, axes = plt.subplots()\n",
    "error_1 = 1 - Ns / order_1\n",
    "error_2 = 1 - Ns / order_2\n",
    "axes.plot(λs[50:], error_1[50:], color='tab:blue', label='order 1')\n",
    "axes.plot(λs[50:], error_2[50:], color='tab:orange', label='order 2')\n",
    "axes.legend();"
   ]
  },
  {
   "cell_type": "markdown",
   "metadata": {},
   "source": [
    "The order-1 approximation is pretty good, but the order-2 approximation is startlingly accurate.\n",
    "Of course we've only looked at the first few hundred eigenvalues on a mesh with several thousand vertices.\n",
    "Once the corresponding wavelengths get close to the diameter of a triangle of our mesh, I'd expect the approximation to break down.\n",
    "The mesh is too coarse at that point to resolve the highly oscillatory eigenfunctions."
   ]
  },
  {
   "cell_type": "markdown",
   "metadata": {},
   "source": [
    "### Conclusions\n",
    "\n",
    "The Weyl asymptotic law has some interesting physical implications.\n",
    "The first-order version of the law tells us that you can hear the area of a drumhead by fitting the sequence of harmonic frequencies to the right power.\n",
    "The second-order version of the law tells us that you can, in the same way, hear the perimeter of the drumhead by fitting the remainder of the first-order approximation.\n",
    "\n",
    "Victor Ivrii gave a proof in 1980 of the Weyl law up to second order, under some special conditions that are thought to hold for a wide class of domains.\n",
    "While proving the law up to first order is relatively elementary, Ivrii's proof used microlocal analysis, which is well and truly above my pay grade."
   ]
  }
 ],
 "metadata": {
  "kernelspec": {
   "display_name": "firedrake",
   "language": "python",
   "name": "firedrake"
  },
  "language_info": {
   "codemirror_mode": {
    "name": "ipython",
    "version": 3
   },
   "file_extension": ".py",
   "mimetype": "text/x-python",
   "name": "python",
   "nbconvert_exporter": "python",
   "pygments_lexer": "ipython3",
   "version": "3.8.3"
  },
  "nikola": {
   "category": "",
   "date": "2019-10-18 18:27:42 UTC-07:00",
   "description": "",
   "link": "",
   "slug": "weyls-law",
   "tags": "",
   "title": "Weyl's law",
   "type": "text"
  }
 },
 "nbformat": 4,
 "nbformat_minor": 2
}
