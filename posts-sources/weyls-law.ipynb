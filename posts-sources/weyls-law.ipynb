{
 "cells": [
  {
   "cell_type": "markdown",
   "metadata": {},
   "source": [
    "In this post we'll look at eigenfunctions and eigenvalues of the Laplace operator $\\Delta$ on a domain $\\Omega$ in $\\mathbb{R}^d$. \n",
    "A function $\\phi$ on $\\Omega$ and a number $\\lambda$ are an eigenfunction/eigenvalue pair if\n",
    "\n",
    "\n",
    "$$-\\Delta\\phi = \\lambda^2\\phi$$\n",
    "\n",
    "along with the Dirichlet boundary condition $\\phi|_{\\partial\\Omega} = 0$.\n",
    "The operator $-\\Delta$ is symmetric and positive-definite, so the eigenvalues are real and positive.\n",
    "I've chosen a slightly different way of writing things in terms of $\\lambda^2$ because this makes the units of the eigenvalues an inverse length.\n",
    "\n",
    "The *Weyl asymptotic law* describes how the eigenvalues grow as a function of the domain size and shape.\n",
    "Weyl proved in 1911 that, if $N(\\lambda)$ is the number of eigenvalues of the Dirichlet Laplacian less than $\\lambda$, that\n",
    "\n",
    "$$N(\\lambda) = (2\\pi)^{-d}\\omega_d\\cdot\\text{vol}(\\Omega)\\cdot\\lambda^{d} + \\mathscr{O}(\\lambda^{d})$$\n",
    "\n",
    "as $\\lambda \\to \\infty$, where $\\omega_d$ is the volume of the unit ball in $\\mathbb{R}^d$.\n",
    "As a sanity check, note that $\\lambda$ has units of length${}^{-1}$, so the formula above is dimensionless.\n",
    "As another sanity check, you can look at the analytical expression for the eigenvalues on a box or a sphere.\n",
    "The proof given in volume 1 of Courant and Hilbert is pretty easy to follow.\n",
    "Weyl conjectured that the second term could be expressed in terms of the area of the boundary:\n",
    "\n",
    "$$N(\\lambda) = (2\\pi)^{-d}\\omega_d\\cdot\\text{vol}(\\Omega)\\cdot\\lambda^d - \\frac{1}{4}(2\\pi)^{1 - d}\\omega_{d - 1}\\cdot\\text{area}(\\partial\\Omega)\\cdot\\lambda^{d - 1} + \\mathscr{o}\\left(\\lambda^{d - 1}\\right)$$\n",
    "\n",
    "but this wasn't proved in his lifetime.\n",
    "Here we'll come up with a simple domain and show how you might verify this law numerically."
   ]
  },
  {
   "cell_type": "markdown",
   "metadata": {},
   "source": [
    "### Making a mesh\n",
    "\n",
    "First, we'll generate a mesh using the Python API for [gmsh](https://www.gmsh.info).\n",
    "The calls to add a plane surface and a physical plane surface are easy to forget but essential."
   ]
  },
  {
   "cell_type": "code",
   "execution_count": null,
   "metadata": {},
   "outputs": [],
   "source": [
    "import gmsh\n",
    "import numpy as np\n",
    "from numpy import pi as π\n",
    "\n",
    "gmsh.initialize()\n",
    "geo = gmsh.model.geo\n",
    "\n",
    "Lx, Ly = 2.0, 1.0\n",
    "lcar = 1.0 / 16\n",
    "origin = geo.add_point(0, 0, 0, lcar)\n",
    "points = [\n",
    "    geo.add_point(Lx, 0, 0, lcar),\n",
    "    geo.add_point(0, Ly, 0, lcar),\n",
    "    geo.add_point(-Lx, 0, 0, lcar),\n",
    "    geo.add_point(0, -Ly, 0, lcar),\n",
    "]\n",
    "major = points[0]\n",
    "\n",
    "outer_arcs = [\n",
    "    geo.add_ellipse_arc(p1, origin, major, p2)\n",
    "    for p1, p2 in zip(points, np.roll(points, 1))\n",
    "]\n",
    "\n",
    "geo.add_physical_group(1, outer_arcs)\n",
    "outer_curve_loop = geo.add_curve_loop(outer_arcs)\n",
    "\n",
    "centers = np.array([(0, 1/2), (1/2, 1/4), (1, -1/4)])\n",
    "radii = [1/8, 3/16, 1/4]\n",
    "hole_curve_loops = []\n",
    "for center, radius in zip(centers, radii):\n",
    "    hole_center = geo.add_point(*center, 0, lcar)\n",
    "    deltas = np.array([(1, 0), (0, 1), (-1, 0), (0, -1)])\n",
    "    hole_points = [\n",
    "        geo.add_point(*(center + radius * delta), 0, lcar) for delta in deltas\n",
    "    ]\n",
    "    hole_arcs = [\n",
    "        geo.add_circle_arc(p1, hole_center, p2)\n",
    "        for p1, p2 in zip(hole_points, np.roll(hole_points, 1))\n",
    "    ]\n",
    "    geo.add_physical_group(1, hole_arcs)\n",
    "    curve_loop = geo.add_curve_loop(hole_arcs)\n",
    "    hole_curve_loops.append(curve_loop)\n",
    "\n",
    "plane_surface = geo.add_plane_surface([outer_curve_loop] + hole_curve_loops)\n",
    "geo.add_physical_group(2, [plane_surface])\n",
    "geo.synchronize()\n",
    "\n",
    "gmsh.model.mesh.generate(2)\n",
    "gmsh.write(\"ellipse.msh\")\n",
    "\n",
    "gmsh.finalize()"
   ]
  },
  {
   "cell_type": "markdown",
   "metadata": {},
   "source": [
    "To make sure everything worked right, we'll visualize the mesh after loading it in."
   ]
  },
  {
   "cell_type": "code",
   "execution_count": null,
   "metadata": {},
   "outputs": [],
   "source": [
    "import firedrake\n",
    "import matplotlib.pyplot as plt\n",
    "mesh = firedrake.Mesh(\"ellipse.msh\")\n",
    "\n",
    "fig, axes = plt.subplots()\n",
    "firedrake.triplot(mesh, axes=axes)\n",
    "axes.set_aspect(\"equal\")\n",
    "axes.legend(loc=\"upper right\");"
   ]
  },
  {
   "cell_type": "markdown",
   "metadata": {},
   "source": [
    "### Using SLEPc\n",
    "\n",
    "To compute the eigenvalues and eigenfunctions of the Laplace operator, we'll use the [Scalable Library for Eigenvalue Problem Computations (SLEPc)](http://slepc.upv.es/).\n",
    "This demo used to include all the glue code to talk to SLEPc.\n",
    "Since then, Firedrake added an interface to it.\n",
    "We can specify the problem we want to solve by creating a `LinearEigenproblem` object."
   ]
  },
  {
   "cell_type": "code",
   "execution_count": null,
   "metadata": {},
   "outputs": [],
   "source": [
    "from firedrake import inner, grad, dx\n",
    "\n",
    "Q = firedrake.FunctionSpace(mesh, family=\"CG\", degree=2)\n",
    "ϕ = firedrake.TestFunction(Q)\n",
    "ψ = firedrake.TrialFunction(Q)\n",
    "\n",
    "A = inner(grad(ϕ), grad(ψ)) * dx\n",
    "M = ϕ * ψ * dx\n",
    "\n",
    "bc = firedrake.DirichletBC(Q, 0, \"on_boundary\")\n",
    "\n",
    "problem = firedrake.LinearEigenproblem(A, M, bcs=bc, restrict=True)"
   ]
  },
  {
   "cell_type": "markdown",
   "metadata": {},
   "source": [
    "To solve the right problem and to help SLEPc get the right answer we'll pass it several options.\n",
    "First, we're solving a generalized Hermitian eigenproblem.\n",
    "Since the eigenproblem is Hermitian, all the eignevalues are real, which is a very convenient simplifying assumption.\n",
    "\n",
    "For this problem we're going to use a *spectral transformation*.\n",
    "Rather than find the eigenvalues of a matrix $A$ directly, we'll instead find the eigenvalues of a matrix $f(A)$ where $f$ is invertible and holomorphic on a domain containing the spectrum of $A$.\n",
    "We can then compute the eigenvalues of $A$ as the function $f^{-1}$ aplied to the eigenvalues of $f(A)$.\n",
    "The advantage of spectral transformations is that, with a good choice of $f$, the eigenvalues of $f(A)$ can be easier to compute than those of $A$ itself.\n",
    "Since $A$ is positive-definite and we're looking for the smallest eigenvalues, a good choice is\n",
    "\n",
    "$$f(z) = 1/(z - \\sigma),$$\n",
    "\n",
    "i.e. shifting and inverting.\n",
    "This spectral transformation is equivalent to finding the eigendecomposition of $(A - \\sigma M)^{-1}$.\n",
    "Computing the inverse of a matrix is generally a bad idea, but under the hood it's enough to be able to solve linear systems.\n",
    "\n",
    "Anything in SLEPc having to do with spectral transformations is prefixed with `st`.\n",
    "In our case, we're using the shift-and-invert transformation (`sinvert`).\n",
    "To solve these linear systems, we'll a Krylov subspace method (`ksp_type`) with some preconditioner (`pc_type`).\n",
    "Since $A$ is symmetric and positive-definite, we can use the conjugate gradient method (`cg`)."
   ]
  },
  {
   "cell_type": "code",
   "execution_count": null,
   "metadata": {},
   "outputs": [],
   "source": [
    "num_values = 250\n",
    "opts = {\n",
    "    \"solver_parameters\": {\n",
    "        \"eps_gen_hermitian\": None,\n",
    "        \"eps_target_real\": None,\n",
    "        \"eps_smallest_real\": None,\n",
    "        \"st_type\": \"sinvert\",\n",
    "        \"st_ksp_type\": \"cg\",\n",
    "        \"st_pc_type\": \"lu\",\n",
    "        \"st_pc_factor_mat_solver_type\": \"mumps\",\n",
    "        \"eps_tol\": 1e-8,\n",
    "    },\n",
    "    \"n_evals\": num_values,\n",
    "}\n",
    "eigensolver = firedrake.LinearEigensolver(problem, **opts)"
   ]
  },
  {
   "cell_type": "markdown",
   "metadata": {},
   "source": [
    "To check that everything worked right, we can see how many eigenvalues converged:"
   ]
  },
  {
   "cell_type": "code",
   "execution_count": null,
   "metadata": {},
   "outputs": [],
   "source": [
    "num_converged = eigensolver.solve()\n",
    "print(num_converged)"
   ]
  },
  {
   "cell_type": "markdown",
   "metadata": {},
   "source": [
    "Just for fun, we can plot one of the eigenfunctions.\n",
    "The zero contours of eigenfunctions are a fascinating subject -- the Courant nodal domain theorem tells us that the $n$-th eigenfunction can have no more than $n$ nodal domains."
   ]
  },
  {
   "cell_type": "code",
   "execution_count": null,
   "metadata": {},
   "outputs": [],
   "source": [
    "mode_number = 24\n",
    "λ = eigensolver.eigenvalue(mode_number)\n",
    "ϕ = eigensolver.eigenfunction(mode_number)[0]"
   ]
  },
  {
   "cell_type": "code",
   "execution_count": null,
   "metadata": {},
   "outputs": [],
   "source": [
    "fig, axes = plt.subplots()\n",
    "axes.set_aspect(\"equal\")\n",
    "axes.set_axis_off()\n",
    "levels = np.linspace(-1.25, +1.25, 51)\n",
    "kwargs = {\"levels\": levels, \"cmap\": \"twilight\", \"extend\": \"both\"}\n",
    "contours = firedrake.tricontourf(ϕ, axes=axes, **kwargs)\n",
    "fig.colorbar(contours, orientation=\"horizontal\");"
   ]
  },
  {
   "cell_type": "markdown",
   "metadata": {},
   "source": [
    "The following plot shows exact eigenvalue counting function and the order-1 and order-2 approximations from Weyl's law."
   ]
  },
  {
   "cell_type": "code",
   "execution_count": null,
   "metadata": {},
   "outputs": [],
   "source": [
    "Es = np.array([eigensolver.eigenvalue(k) for k in range(num_values)]).real\n",
    "λs = np.sqrt(Es)"
   ]
  },
  {
   "cell_type": "code",
   "execution_count": null,
   "metadata": {},
   "outputs": [],
   "source": [
    "import matplotlib.pyplot as plt\n",
    "fig, axes = plt.subplots()\n",
    "Ns = np.array(list(range(len(λs)))) + 1\n",
    "axes.plot(λs, Ns, color='k', label='Exact $N(\\lambda)$')\n",
    "\n",
    "from firedrake import assemble, Constant, ds\n",
    "vol = assemble(Constant(1) * dx(mesh))\n",
    "area = assemble(Constant(1) * ds(mesh))\n",
    "\n",
    "ω_2 = π\n",
    "ω_1 = 2\n",
    "order_1 = 1/(2*π)**2 * ω_2 * vol * λs**2\n",
    "order_2 = order_1 - 1/(2*π) * ω_1 * area * λs / 4\n",
    "\n",
    "axes.plot(λs, order_1, color='tab:blue', label='order 1')\n",
    "axes.plot(λs, order_2, color='tab:orange', label='order 2')\n",
    "axes.legend()\n",
    "\n",
    "axes.set_xlabel('Eigenvalue $\\lambda$')\n",
    "axes.set_ylabel('Counting function $N(\\lambda)$');"
   ]
  },
  {
   "cell_type": "markdown",
   "metadata": {},
   "source": [
    "The accuracy difference is even more stark if we look at the relative error in the eigenvalue counting function."
   ]
  },
  {
   "cell_type": "code",
   "execution_count": null,
   "metadata": {},
   "outputs": [],
   "source": [
    "fig, axes = plt.subplots()\n",
    "error_1 = 1 - Ns / order_1\n",
    "error_2 = 1 - Ns / order_2\n",
    "axes.plot(λs[50:], error_1[50:], color=\"tab:blue\", label=\"order 1\")\n",
    "axes.plot(λs[50:], error_2[50:], color=\"tab:orange\", label=\"order 2\")\n",
    "axes.legend(loc=\"upper right\");"
   ]
  },
  {
   "cell_type": "markdown",
   "metadata": {},
   "source": [
    "The order-1 approximation is pretty good, but the order-2 approximation is startlingly accurate.\n",
    "Of course we've only looked at the first few hundred eigenvalues on a mesh with several thousand vertices.\n",
    "Once the corresponding wavelengths get close to the diameter of a triangle of our mesh, I'd expect the approximation to break down.\n",
    "The mesh is too coarse at that point to resolve the highly oscillatory eigenfunctions."
   ]
  },
  {
   "cell_type": "markdown",
   "metadata": {},
   "source": [
    "### Conclusions\n",
    "\n",
    "The Weyl asymptotic law has some interesting physical implications.\n",
    "The first-order version of the law tells us that you can hear the area of a drumhead by fitting the sequence of harmonic frequencies to the right power.\n",
    "The second-order version of the law tells us that you can, in the same way, hear the perimeter of the drumhead by fitting the remainder of the first-order approximation.\n",
    "\n",
    "Victor Ivrii gave a proof in 1980 of the Weyl law up to second order, under some special conditions that are thought to hold for a wide class of domains.\n",
    "While proving the law up to first order is relatively elementary, Ivrii's proof used microlocal analysis, which is well and truly above my pay grade."
   ]
  }
 ],
 "metadata": {
  "kernelspec": {
   "display_name": "firedrake",
   "language": "python",
   "name": "firedrake"
  },
  "language_info": {
   "codemirror_mode": {
    "name": "ipython",
    "version": 3
   },
   "file_extension": ".py",
   "mimetype": "text/x-python",
   "name": "python",
   "nbconvert_exporter": "python",
   "pygments_lexer": "ipython3",
   "version": "3.11.9"
  },
  "nikola": {
   "category": "",
   "date": "2019-10-18 18:27:42 UTC-07:00",
   "description": "",
   "link": "",
   "slug": "weyls-law",
   "tags": "",
   "title": "Weyl's law",
   "type": "text"
  }
 },
 "nbformat": 4,
 "nbformat_minor": 4
}
