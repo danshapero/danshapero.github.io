{
 "cells": [
  {
   "cell_type": "markdown",
   "metadata": {},
   "source": [
    "In the previous post, we explored how difficult it is to solve the simplest hyperbolic conservation law, the scalar advection equation.\n",
    "To solve this PDE accurately, we had to understand how the partly arbitrary choice of a numerical flux can make or break the stability of the spatial discretization, how low order schemes are very diffusive, and how higher-order explicit schemes introduce spurious maxima and minima that we can only control through a nonlinear flux limiting procedure.\n",
    "The scalar advection equation is comparatively simple in that signals can only propagate along the predetermined velocity field.\n",
    "In this post, we'll look at something more realistic and much more difficult: the shallow water equations.\n",
    "The shallow water equations are a system of equations rather than a scalar problem, and as such they can exhibit non-trivial wave propagation in a way that the advection equation can't.\n",
    "They're a great model for testing numerical solvers because they're both simple enough to keep in your head all at once, and yet at the same time they exhibit many of the complexities of more \"serious\" models -- nonlinearity, non-trivial conserved quantities, mimetic properties, the list goes on.\n",
    "\n",
    "The shallow water equations can be derived from the incompressible Euler equations of fluid dynamics with a free surface under the assumption that the horizontal length scale is much longer than the vertical one.\n",
    "This approximation reduces the unknowns to the thickness $h$ of the fluid and the depth-averaged velocity $u$.\n",
    "The conservation laws are for mass and momentum:\n",
    "\n",
    "$$\\begin{align}\n",
    "\\frac{\\partial}{\\partial t}h + \\nabla\\cdot hu & = 0 \\\\\n",
    "\\frac{\\partial}{\\partial t}hu + \\nabla\\cdot\\left(hu\\otimes u + \\frac{1}{2}gh^2I\\right) & = -gh\\nabla b\n",
    "\\end{align}$$\n",
    "\n",
    "where $g$ is the acceleration due to gravity, $b$ is the bathymetry, and $I$ is the identity matrix.\n",
    "This problem is a little more complicated because of the time derivative on $h\\cdot u$, a combination of two of the state variables.\n",
    "To make things a little easier, we'll instead work with the momentum $q = h\\cdot u$ and rewrite the system as\n",
    "\n",
    "$$\\begin{align}\n",
    "\\frac{\\partial}{\\partial t}h + \\nabla\\cdot q & = 0 \\\\\n",
    "\\frac{\\partial}{\\partial t}q + \\nabla\\cdot\\left(h^{-1}q\\otimes q + \\frac{1}{2}gh^2I\\right) & = -gh\\nabla b.\n",
    "\\end{align}$$\n",
    "\n",
    "As in the previous post, we'll use a discontinuous Galerkin basis.\n",
    "We showed that there is more than one way to come up with a discretized problem that is consistent with the idealized one and this is manifested in which numerical flux to use.\n",
    "Things get much more interesting for systems of PDE, which can have more than one characteristic speed besides that of the background flow field.\n",
    "In the following, I'll assume you're familiar with the fact that the characteristic wave speed for the shallow water equations is\n",
    "\n",
    "$$c = |u| + \\sqrt{gh}.$$\n",
    "\n",
    "The fact that the wave speed now depends on the solution and that waves propagate in all directions instead of only along a pre-set vector field has several consequences.\n",
    "First, we can't pick a CFL-stable timestep from the outset because the fluid velocity and thickness could increase well beyond their initial values.\n",
    "The only options for timestepping are to use an adaptive procedure or a whole mess of trial and error.\n",
    "Second, we have to think harder about numerical fluxes.\n",
    "For scalar equations, we can use the numerical flux to mimic the properties of upwind finite difference schemes, but for systems this reasoning doesn't work -- there can be waves simultaneously propagating in both normal directions at a given internal facet."
   ]
  },
  {
   "cell_type": "markdown",
   "metadata": {},
   "source": [
    "### Spatial discretization\n",
    "\n",
    "We'll examine several different test problems for the shallow water equations, so to avoid a huge amount of repeated code we'll first write a few Python functions to set up the weak form of the problem."
   ]
  },
  {
   "cell_type": "code",
   "execution_count": null,
   "metadata": {},
   "outputs": [],
   "source": [
    "import firedrake\n",
    "from firedrake import Constant\n",
    "g = Constant(9.81)\n",
    "I = firedrake.Identity(2)"
   ]
  },
  {
   "cell_type": "markdown",
   "metadata": {},
   "source": [
    "The component of the fluxes in the interior of the cells is exactly what you get from applying the divergence theorem to the original system."
   ]
  },
  {
   "cell_type": "code",
   "execution_count": null,
   "metadata": {},
   "outputs": [],
   "source": [
    "from firedrake import inner, grad, dx\n",
    "def cell_flux(z):\n",
    "    Z = z.function_space()\n",
    "    h, q = firedrake.split(z)\n",
    "    ϕ, v = firedrake.TestFunctions(Z)\n",
    "    \n",
    "    f_h = -inner(q, grad(ϕ)) * dx\n",
    "\n",
    "    F = outer(q, q) / h + 0.5 * g * h**2 * I\n",
    "    f_q = -inner(F, grad(v)) * dx\n",
    "\n",
    "    return f_h + f_q"
   ]
  },
  {
   "cell_type": "markdown",
   "metadata": {},
   "source": [
    "Now we need to add the facet terms and this is where the numerical fluxes come in.\n",
    "We'll start with a function to compute the central flux.\n",
    "This is the easy part -- there are no choices to make."
   ]
  },
  {
   "cell_type": "code",
   "execution_count": null,
   "metadata": {},
   "outputs": [],
   "source": [
    "from firedrake import avg, outer, dS\n",
    "def central_facet_flux(z):\n",
    "    Z = z.function_space()\n",
    "    h, q = firedrake.split(z)\n",
    "    ϕ, v = firedrake.TestFunctions(Z)\n",
    "    \n",
    "    mesh = z.ufl_domain()\n",
    "    n = firedrake.FacetNormal(mesh)\n",
    "\n",
    "    f_h = inner(avg(q), ϕ('+') * n('+') + ϕ('-') * n('-')) * dS\n",
    "\n",
    "    F = outer(q, q) / h + 0.5 * g * h**2 * I\n",
    "    f_q = inner(avg(F), outer(v('+'), n('+')) + outer(v('-'), n('-'))) * dS\n",
    "    \n",
    "    return f_h + f_q"
   ]
  },
  {
   "cell_type": "markdown",
   "metadata": {},
   "source": [
    "The central flux by itself is unstable with explicit timestepping schemes and to reocver stability we need an extra diffusive flux term.\n",
    "The subtle choices are all in this diffusive flux.\n",
    "**For the remainder of this demo, we'll use the Lax-Friedrichs numerical flux.**\n",
    "This flux uses the maximum outgoing wave speed to set the local diffusion coefficient.\n",
    "An upper bound for the outgoing wavespeed is then $|c| = |q/h \\cdot n| + \\sqrt{gh}$.\n",
    "I say an *upper bound* and not the actual maximum value because the system could exhibit the shallow water equivalent of supersonic flow -- where the speed $|u|$ exceeds $\\sqrt{gh}$, both waves could be moving in the same direction rather than opposite each other.\n",
    "\n",
    "The vast majority of the literature you'll find on DG methods uses the Lax-Friedrichs flux.\n",
    "For example, [Cockburn and Shu (1998)](https://doi.org/10.1006/jcph.1998.5892) in the last of their famous series of papers on the Runge-Kutta DG method consider only the Lax-Friedrichs flux and neglect to even mention the alternatives.\n",
    "This can be confusing for beginners to the subject because it isn't clear at what points in the process you (the programmer) have choices to make and where you don't.\n",
    "Part of the reason for this singular focus is that the Lax-Friedrichs flux is the simplest to implement, but several studies have found -- at least for problems without shock waves -- that other flux functions offer negligible gains in accuracy; see for example [Qiu (2006)](https://doi.org/10.1007/s10915-006-9109-5) and [Bernard et al. (2009)](https://doi.org/10.1016/j.jcp.2009.05.046).\n",
    "In that case, there isn't much value in using a different flux function that may be more expensive to compute and make the code harder to understand and maintain.\n",
    "The choice of numerical flux is more consequential for problems with shock waves or for more complex systems (see for example [Beck et al. (2014)](https://doi.org/10.1007/978-3-319-01601-6_11), which studied turbulent flow)."
   ]
  },
  {
   "cell_type": "code",
   "execution_count": null,
   "metadata": {},
   "outputs": [],
   "source": [
    "from firedrake import sqrt, max_value\n",
    "def lax_friedrichs_facet_flux(z):\n",
    "    Z = z.function_space()\n",
    "    h, q = firedrake.split(z)\n",
    "    ϕ, v = firedrake.TestFunctions(Z)\n",
    "    \n",
    "    mesh = h.ufl_domain()\n",
    "    n = firedrake.FacetNormal(mesh)\n",
    "    \n",
    "    c = abs(inner(q / h, n)) + sqrt(g * h)\n",
    "    α = avg(c)\n",
    "    \n",
    "    f_h = -α * (h('+') - h('-')) * (ϕ('+') - ϕ('-')) * dS\n",
    "    f_q = -α * inner(q('+') - q('-'), v('+') - v('-')) * dS\n",
    "\n",
    "    return f_h + f_q"
   ]
  },
  {
   "cell_type": "markdown",
   "metadata": {},
   "source": [
    "Finally, we'll do a few experiments with variable bottom topography as well."
   ]
  },
  {
   "cell_type": "code",
   "execution_count": null,
   "metadata": {},
   "outputs": [],
   "source": [
    "def topographic_forcing(z, b):\n",
    "    Z = z.function_space()\n",
    "    h = firedrake.split(z)[0]\n",
    "    v = firedrake.TestFunctions(Z)[1]\n",
    "\n",
    "    return -g * h * inner(grad(b), v) * dx"
   ]
  },
  {
   "cell_type": "markdown",
   "metadata": {},
   "source": [
    "### Time discretization\n",
    "\n",
    "We'll consider two different timestepping methods: the forward Euler scheme and the strong stability-preserving Runge-Kutta method of order 3, or SSPRK3 for short.\n",
    "Since we'll be using these quite a bit we'll factor them out into classes that store the needed internal state.\n",
    "\n",
    "In the previous demo on the conservative advection equation, we used solver parameters that specified a block ILU preconditioner for the linear system.\n",
    "One application of this preconditioner gives an exact solution to the linear system because the mass matrix for DG discretizations is block diagonal.\n",
    "We're doing something a little different here by using a mixed function space for the thickness and momentum because it makes the time discretization much easier.\n",
    "But as a consequence the mass matrix that Firedrake will build under the hood uses a [*nested*](https://www.mcs.anl.gov/petsc/petsc-current/docs/manualpages/Mat/MATNEST.html) storage format -- probably compressed row storage for the thicknesses and block CRS for the momentum, but this shouldn't matter.\n",
    "In order to achieve the same exact linear solve effect here that we had for the conservative advection equation, we'll specify an outer-level [*fieldsplit*](https://www.mcs.anl.gov/petsc/petsc-current/docs/manualpages/PC/PCFIELDSPLIT.html) preconditioner.\n",
    "Fieldsplit lets us separately specify preconditioners for each block, and those inner preconditioners will be our good old ILU + block Jacobi.\n",
    "You're likely to encounter fieldsplit preconditioners again if you ever have solved mixed finite element problems like the Stokes equations."
   ]
  },
  {
   "cell_type": "code",
   "execution_count": null,
   "metadata": {},
   "outputs": [],
   "source": [
    "block_parameters = {\n",
    "    'ksp_type': 'preonly',\n",
    "    'pc_type': 'ilu',\n",
    "    'sub_pc_type': 'bjacobi'\n",
    "}\n",
    "\n",
    "parameters = {\n",
    "    'solver_parameters': {\n",
    "        'ksp_type': 'preonly',\n",
    "        'pc_type': 'fieldsplit',\n",
    "        'fieldsplit_0': block_parameters,\n",
    "        'fieldsplit_1': block_parameters\n",
    "    }\n",
    "}"
   ]
  },
  {
   "cell_type": "markdown",
   "metadata": {},
   "source": [
    "I've defined a time integrator class below that provides the bare minimum amount of functionality to do what we need.\n",
    "The data stored in this class consists of the current value of the state variables, an auxiliary state for the value at the next timestep, and a cached solver object for the mass matrix solve.\n",
    "The `step` method lets us advance the simulation by a single timestep which we can change on one invocation to the next.\n",
    "In principle we could do adaptive timestepping with this implementation."
   ]
  },
  {
   "cell_type": "code",
   "execution_count": null,
   "metadata": {},
   "outputs": [],
   "source": [
    "from firedrake import (\n",
    "    NonlinearVariationalProblem as Problem,\n",
    "    NonlinearVariationalSolver as Solver\n",
    ")\n",
    "\n",
    "class ForwardEuler:\n",
    "    def __init__(self, state, equation):\n",
    "        z = state.copy(deepcopy=True)\n",
    "        F = equation(z)\n",
    "        \n",
    "        z_n = z.copy(deepcopy=True)\n",
    "        Z = z.function_space()\n",
    "        w = firedrake.TestFunction(Z)\n",
    "        \n",
    "        dt = firedrake.Constant(1.)\n",
    "\n",
    "        problem = Problem(inner(z_n - z, w) * dx - dt * F, z_n)\n",
    "        solver = Solver(problem, **parameters)\n",
    "        \n",
    "        self.state = z\n",
    "        self.next_state = z_n\n",
    "        self.timestep = dt\n",
    "        self.solver = solver\n",
    "        \n",
    "    def step(self, timestep):\n",
    "        self.timestep.assign(timestep)\n",
    "        self.solver.solve()\n",
    "        self.state.assign(self.next_state)"
   ]
  },
  {
   "cell_type": "markdown",
   "metadata": {},
   "source": [
    "### Demonstration\n",
    "\n",
    "Our first test problem will be a periodic domain with a flat bottom.\n",
    "The initial state of the system will consist of a spherical perturbation to the water thickness, and we'll look at how this disturbance evolves in time."
   ]
  },
  {
   "cell_type": "code",
   "execution_count": null,
   "metadata": {},
   "outputs": [],
   "source": [
    "nx, ny = 32, 32\n",
    "Lx, Ly = 20., 20.\n",
    "mesh = firedrake.PeriodicRectangleMesh(\n",
    "    nx, ny, Lx, Ly, diagonal='crossed'\n",
    ")\n",
    "\n",
    "x = firedrake.SpatialCoordinate(mesh)\n",
    "lx = 5.\n",
    "y = Constant((lx, lx))\n",
    "r = Constant(2.5)\n",
    "\n",
    "h_0 = Constant(1.)\n",
    "δh = Constant(1/16)\n",
    "h_expr = h_0 + δh * max_value(0, 1 - inner(x - y, x - y) / r**2)"
   ]
  },
  {
   "cell_type": "markdown",
   "metadata": {},
   "source": [
    "##### DG(0) basis; or, the finite volume method\n",
    "\n",
    "We'll start by using the simplest discretization possible: piecewise constant basis functions for both the thickness and momentum.\n",
    "This method is identical to the lowest-order finite volume method.\n",
    "We'll also use a *mixed* function space $Z = Q \\times V$ that includes both the thickness and momentum.\n",
    "This choice isn't strictly necessary but it makes it that much easier to write the time integrator you saw above.\n",
    "The code is equivalent to a single update for the combined state vector $z = (h, q)$ rather than two separate updates for each."
   ]
  },
  {
   "cell_type": "code",
   "execution_count": null,
   "metadata": {},
   "outputs": [],
   "source": [
    "Q0 = firedrake.FunctionSpace(mesh, family='DG', degree=0)\n",
    "V0 = firedrake.VectorFunctionSpace(mesh, family='DG', degree=0)\n",
    "Z0 = Q0 * V0"
   ]
  },
  {
   "cell_type": "markdown",
   "metadata": {},
   "source": [
    "The `split` method of functions in mixed spaces give us the tuple of components.\n",
    "That way we can initialize the thickness to the expression defined just above.\n",
    "Note that the method `split` of functions in mixed spaces is different from the module-level function `split`, which gives us symbolic objects."
   ]
  },
  {
   "cell_type": "code",
   "execution_count": null,
   "metadata": {},
   "outputs": [],
   "source": [
    "z0 = firedrake.Function(Z0)\n",
    "h0, q0 = z0.subfunctions\n",
    "h0.project(h_expr);"
   ]
  },
  {
   "cell_type": "code",
   "execution_count": null,
   "metadata": {},
   "outputs": [],
   "source": [
    "solver = ForwardEuler(\n",
    "    z0,\n",
    "    lambda z: (\n",
    "        cell_flux(z) +\n",
    "        central_facet_flux(z) +\n",
    "        lax_friedrichs_facet_flux(z)\n",
    "    )\n",
    ")"
   ]
  },
  {
   "cell_type": "markdown",
   "metadata": {},
   "source": [
    "Since we'll be running the same simulation many times, we'll wrap up the loop in a function."
   ]
  },
  {
   "cell_type": "code",
   "execution_count": null,
   "metadata": {},
   "outputs": [],
   "source": [
    "from tqdm.notebook import trange\n",
    "\n",
    "def run_simulation(solver, final_time, num_steps, output_freq):\n",
    "    hs, qs = [], []\n",
    "    qs = []\n",
    "    pbar = trange(num_steps)\n",
    "    for step in pbar:\n",
    "        if step % output_freq == 0:\n",
    "            h, q = solver.state.subfunctions\n",
    "            hmin, hmax = h.dat.data_ro.min(), h.dat.data_ro.max()\n",
    "            pbar.set_description(f'{hmin:5.3f}, {hmax:5.3f}')\n",
    "            hs.append(h.copy(deepcopy=True))\n",
    "            qs.append(q.copy(deepcopy=True))\n",
    "\n",
    "        solver.step(timestep)\n",
    "    \n",
    "    return hs, qs"
   ]
  },
  {
   "cell_type": "code",
   "execution_count": null,
   "metadata": {},
   "outputs": [],
   "source": [
    "final_time = 10.\n",
    "timestep = 5e-3\n",
    "num_steps = int(final_time / timestep)\n",
    "output_freq = 10\n",
    "hs, qs = run_simulation(solver, final_time, num_steps, output_freq)"
   ]
  },
  {
   "cell_type": "code",
   "execution_count": null,
   "metadata": {},
   "outputs": [],
   "source": [
    "import matplotlib.pyplot as plt\n",
    "from matplotlib.animation import FuncAnimation\n",
    "from IPython.display import HTML\n",
    "\n",
    "def make_animation(hs, b, timestep, output_freq, **kwargs):\n",
    "    fig, axes = plt.subplots()\n",
    "    axes.set_aspect('equal')\n",
    "    axes.set_xlim((0.0, Lx))\n",
    "    axes.set_ylim((0.0, Ly))\n",
    "    axes.get_xaxis().set_visible(False)\n",
    "    axes.get_yaxis().set_visible(False)\n",
    "    η = firedrake.project(hs[0] + b, hs[0].function_space())\n",
    "    colors = firedrake.tripcolor(\n",
    "        hs[0], num_sample_points=1, axes=axes, **kwargs\n",
    "    )\n",
    "    \n",
    "    def animate(h):\n",
    "        η.project(h + b)\n",
    "        colors.set_array(η.dat.data_ro[:])\n",
    "\n",
    "    interval = 1e3 * output_freq * timestep\n",
    "    animation = FuncAnimation(fig, animate, frames=hs, interval=interval)\n",
    "    \n",
    "    plt.close(fig)\n",
    "    return HTML(animation.to_html5_video())"
   ]
  },
  {
   "cell_type": "code",
   "execution_count": null,
   "metadata": {},
   "outputs": [],
   "source": [
    "make_animation(\n",
    "    hs, Constant(0), timestep, output_freq, vmin=0.98, vmax=1.03\n",
    ")"
   ]
  },
  {
   "cell_type": "markdown",
   "metadata": {},
   "source": [
    "We get the expected propagation at first, but the method is so diffusive that the waves quickly get washed out.\n",
    "Another sanity check that we'll repeat through the following is to track the total energy of the system.\n",
    "The shallow water equations conserve the quantity\n",
    "\n",
    "$$E = \\frac{1}{2}\\int_\\Omega\\left(\\frac{|q|^2}{h} + g(h + b)^2\\right)dx.$$\n",
    "\n",
    "(There's a Hamiltonian formulation of the shallow water equations based on this energy functional, although the Poisson bracket is a little weird.)\n",
    "Approximately conserving the total energy is especially important for long-running simulations of systems where physical dissipation mechanisms are relatively weak or non-existent.\n",
    "The plot below shows that the explicit Euler scheme with DG(0) basis functions and the Lax-Friedrichs flux dissipates energy."
   ]
  },
  {
   "cell_type": "code",
   "execution_count": null,
   "metadata": {},
   "outputs": [],
   "source": [
    "energies = [\n",
    "    firedrake.assemble(\n",
    "        0.5 * (inner(q, q) / h + g * h**2) * dx\n",
    "    )\n",
    "    for h, q in zip(hs, qs)\n",
    "]"
   ]
  },
  {
   "cell_type": "code",
   "execution_count": null,
   "metadata": {},
   "outputs": [],
   "source": [
    "fig, axes = plt.subplots()\n",
    "axes.plot(energies);"
   ]
  },
  {
   "cell_type": "markdown",
   "metadata": {},
   "source": [
    "##### With topography\n",
    "\n",
    "What happens if we add a bump at the bed?\n",
    "We'll use a similar perturbation to the initial thickness."
   ]
  },
  {
   "cell_type": "code",
   "execution_count": null,
   "metadata": {},
   "outputs": [],
   "source": [
    "y = Constant((3 * lx, 3 * lx))\n",
    "δb = Constant(1/4)\n",
    "b = δb * max_value(0, 1 - inner(x - y, x - y) / r**2)"
   ]
  },
  {
   "cell_type": "markdown",
   "metadata": {},
   "source": [
    "In order to make the initial state have a flat surface, we'll subtract off the bottom topography from the initial thickness."
   ]
  },
  {
   "cell_type": "code",
   "execution_count": null,
   "metadata": {},
   "outputs": [],
   "source": [
    "z0 = firedrake.Function(Z0)\n",
    "z0.sub(0).project(h_expr - b);"
   ]
  },
  {
   "cell_type": "markdown",
   "metadata": {},
   "source": [
    "The only thing different here is the presence of the topographic forcing term."
   ]
  },
  {
   "cell_type": "code",
   "execution_count": null,
   "metadata": {},
   "outputs": [],
   "source": [
    "def F(z):\n",
    "    return (\n",
    "        cell_flux(z) +\n",
    "        central_facet_flux(z) +\n",
    "        lax_friedrichs_facet_flux(z) -\n",
    "        topographic_forcing(z, b)\n",
    "    )\n",
    "\n",
    "solver = ForwardEuler(z0, F)"
   ]
  },
  {
   "cell_type": "code",
   "execution_count": null,
   "metadata": {},
   "outputs": [],
   "source": [
    "hs, qs = run_simulation(solver, final_time, num_steps, output_freq)"
   ]
  },
  {
   "cell_type": "code",
   "execution_count": null,
   "metadata": {},
   "outputs": [],
   "source": [
    "make_animation(\n",
    "    hs, b, timestep, output_freq, vmin=0.96, vmax=1.04\n",
    ")"
   ]
  },
  {
   "cell_type": "markdown",
   "metadata": {},
   "source": [
    "This is even worse than before; the resolution of the bump at the bed is poor enough that there's a permanent disturbance around it.\n",
    "The energy drift has a very different character this time around, instead oscillating around a higher value than the initial one."
   ]
  },
  {
   "cell_type": "code",
   "execution_count": null,
   "metadata": {},
   "outputs": [],
   "source": [
    "energies = [\n",
    "    firedrake.assemble(\n",
    "        0.5 * (inner(q, q) / h + g * (h + b)**2) * dx\n",
    "    )\n",
    "    for h, q in zip(hs, qs)\n",
    "]\n",
    "\n",
    "fig, axes = plt.subplots()\n",
    "axes.plot(energies);"
   ]
  },
  {
   "cell_type": "markdown",
   "metadata": {},
   "source": [
    "##### DG(1) basis\n",
    "\n",
    "Now let's try increasing the resolution by using a higher-order finite element basis and seeing what happens."
   ]
  },
  {
   "cell_type": "code",
   "execution_count": null,
   "metadata": {},
   "outputs": [],
   "source": [
    "Q1 = firedrake.FunctionSpace(mesh, family='DG', degree=1)\n",
    "V1 = firedrake.VectorFunctionSpace(mesh, family='DG', degree=1)\n",
    "Z1 = Q1 * V1"
   ]
  },
  {
   "cell_type": "markdown",
   "metadata": {},
   "source": [
    "We can reuse the expression objects for the starting thickness and the bed bump since they're purely symbolic."
   ]
  },
  {
   "cell_type": "code",
   "execution_count": null,
   "metadata": {},
   "outputs": [],
   "source": [
    "z0 = firedrake.Function(Z1)\n",
    "z0.sub(0).project(h_expr - b);"
   ]
  },
  {
   "cell_type": "markdown",
   "metadata": {},
   "source": [
    "The integrator and the simulation loop are the same as they were before."
   ]
  },
  {
   "cell_type": "code",
   "execution_count": null,
   "metadata": {},
   "outputs": [],
   "source": [
    "solver = ForwardEuler(z0, F)"
   ]
  },
  {
   "cell_type": "code",
   "execution_count": null,
   "metadata": {},
   "outputs": [],
   "source": [
    "hs, qs = run_simulation(solver, final_time, num_steps, output_freq)"
   ]
  },
  {
   "cell_type": "markdown",
   "metadata": {},
   "source": [
    "With the DG(1) basis, the results are much less diffusive than with DG(0), but we're still getting weird artifacts near the bed bump."
   ]
  },
  {
   "cell_type": "code",
   "execution_count": null,
   "metadata": {},
   "outputs": [],
   "source": [
    "make_animation(\n",
    "    hs, b, timestep, output_freq,\n",
    "    shading='gouraud', vmin=0.96, vmax=1.04\n",
    ")"
   ]
  },
  {
   "cell_type": "markdown",
   "metadata": {},
   "source": [
    "While the DG(1) basis gives substantially better results in the eyeball norm than the DG(0) basis, the energy drift has gotten much worse.\n",
    "If we were to run this simulation for an even longer time, the unphysical injection of energy into the system could eventually lead to such large momenta that the timestep we used is no longer stable."
   ]
  },
  {
   "cell_type": "code",
   "execution_count": null,
   "metadata": {},
   "outputs": [],
   "source": [
    "energies = [\n",
    "    firedrake.assemble(\n",
    "        0.5 * (inner(q, q) / h + g * (h + b)**2) * dx\n",
    "    )\n",
    "    for h, q in zip(hs, qs)\n",
    "]\n",
    "\n",
    "fig, axes = plt.subplots()\n",
    "axes.plot(energies);"
   ]
  },
  {
   "cell_type": "markdown",
   "metadata": {},
   "source": [
    "Now let's try a higher-order timestepping scheme."
   ]
  },
  {
   "cell_type": "markdown",
   "metadata": {},
   "source": [
    "##### SSPRK(3) scheme\n",
    "\n",
    "The strong stability-preserving Runge-Kutta method of order 3 is a popular timestepping scheme for hyperbolic equations.\n",
    "The 3rd-order convergence is obviously a big advantage in addition to simplicity of implementation.\n",
    "We can implement a timestepping class for it in a similar way to the Euler scheme, but with more internal state for the Runge-Kutta stages."
   ]
  },
  {
   "cell_type": "code",
   "execution_count": null,
   "metadata": {},
   "outputs": [],
   "source": [
    "class SSPRK3:\n",
    "    def __init__(self, state, equation):\n",
    "        z = state.copy(deepcopy=True)\n",
    "        dt = firedrake.Constant(1.0)\n",
    "        \n",
    "        num_stages = 3\n",
    "        zs = [state.copy(deepcopy=True) for stage in range(num_stages)]\n",
    "        Fs = [equation(z), equation(zs[0]), equation(zs[1])]\n",
    "        \n",
    "        Z = z.function_space()\n",
    "        w = firedrake.TestFunction(Z)\n",
    "        forms = [\n",
    "            inner(zs[0] - z, w) * dx - dt * Fs[0],\n",
    "            inner(zs[1] - (3 * z + zs[0]) / 4, w) * dx - dt / 4 * Fs[1],\n",
    "            inner(zs[2] - (z + 2 * zs[1]) / 3, w) * dx - 2 * dt / 3 * Fs[2]\n",
    "        ]\n",
    "        \n",
    "        problems = [Problem(form, zk) for form, zk in zip(forms, zs)]\n",
    "        solvers = [Solver(problem, **parameters) for problem in problems]\n",
    "        \n",
    "        self.state = z\n",
    "        self.stages = zs\n",
    "        self.timestep = dt\n",
    "        self.solvers = solvers\n",
    "    \n",
    "    def step(self, timestep):\n",
    "        self.timestep.assign(timestep)\n",
    "        for solver in self.solvers:\n",
    "            solver.solve()\n",
    "        self.state.assign(self.stages[-1])"
   ]
  },
  {
   "cell_type": "code",
   "execution_count": null,
   "metadata": {},
   "outputs": [],
   "source": [
    "z0 = firedrake.Function(Z1)\n",
    "z0.sub(0).project(h_expr - b)\n",
    "\n",
    "solver = SSPRK3(z0, F)"
   ]
  },
  {
   "cell_type": "markdown",
   "metadata": {},
   "source": [
    "Since there are now three Runge-Kutta stages, the simulation takes about 3x as long to run."
   ]
  },
  {
   "cell_type": "code",
   "execution_count": null,
   "metadata": {},
   "outputs": [],
   "source": [
    "hs, qs = run_simulation(solver, final_time, num_steps, output_freq)"
   ]
  },
  {
   "cell_type": "markdown",
   "metadata": {},
   "source": [
    "With the timestep we've chosen, the results of using the SSPRK3 scheme are visually indistinguishable from those of the explicit Euler scheme.\n",
    "This improved method has basically the same energy drift as explicit Euler even though it is formally of higher order in time."
   ]
  },
  {
   "cell_type": "code",
   "execution_count": null,
   "metadata": {},
   "outputs": [],
   "source": [
    "energies = [\n",
    "    firedrake.assemble(\n",
    "        0.5 * (inner(q, q) / h + g * (h + b)**2) * dx\n",
    "    )\n",
    "    for h, q in zip(hs, qs)\n",
    "]\n",
    "\n",
    "fig, axes = plt.subplots()\n",
    "axes.plot(energies);"
   ]
  },
  {
   "cell_type": "markdown",
   "metadata": {},
   "source": [
    "Since the SSPRK3 scheme is more accurate, we would ideally be able to use a timestep that's several times larger and get more accuracy at less cost if we wanted to.\n",
    "But this scheme has the same CFL requirements as explicit Euler, so if we wanted to do that we'd also have to reduce the resolution in space.\n",
    "There is a 4-stage, 3rd-order accurate SSPRK scheme that has twice as large a stability region which does allow us to be more flexible in what tradeoffs we make while using the same spatial discretization.\n",
    "Nonetheless, even that scheme won't help reduce the energy drift that we've incurred by going to the more sophisticated DG(1) discretization in space."
   ]
  },
  {
   "cell_type": "markdown",
   "metadata": {},
   "source": [
    "##### Hipster elements\n",
    "\n",
    "Just going to a higher-order time discretization didn't substantially reduce the energy drift.\n",
    "Let's see what happens if we consider a different spatial discretization instead.\n",
    "The idea behind *compatible* finite element discretizations is to use function spaces for the thickness and momentum fields such that the divergence operator maps the momentum space exactly onto the thickness space.\n",
    "Compatible elements tend to recover many of the beneficial properties of staggered finite difference grids.\n",
    "If that subject is unfamiliar to you, I learned about it from [Dale Durran's book](https://www.springer.com/gp/book/9781441964113).\n",
    "I learned about compatible finite elements from Colin Cotter, who's done a lot of the work developing this idea and demonstrating its usefulness on practical problems.\n",
    "I can't do justice to the subject here, but if you want to read more [Natale et al. (2016)](https://doi.org/10.1093/climsys/dzw005) gives a great review.\n",
    "\n",
    "The same elements that work well for the mixed form of the Poisson equation tend to also work well for the shallow water equations, which is lucky because people have been studying which elements work for mixed Poisson since the 70s.\n",
    "Here, we'll use the *Brezzi-Douglas-Fortin-Marini* element or BDFM(2) for short."
   ]
  },
  {
   "cell_type": "code",
   "execution_count": null,
   "metadata": {},
   "outputs": [],
   "source": [
    "DG1 = firedrake.FunctionSpace(mesh, family='DG', degree=1)\n",
    "BDFM2 = firedrake.FunctionSpace(mesh, family='BDFM', degree=2)\n",
    "Z = DG1 * BDFM2"
   ]
  },
  {
   "cell_type": "code",
   "execution_count": null,
   "metadata": {},
   "outputs": [],
   "source": [
    "z0 = firedrake.Function(Z)\n",
    "z0.sub(0).project(h_expr - b)\n",
    "\n",
    "solver = ForwardEuler(z0, F)"
   ]
  },
  {
   "cell_type": "markdown",
   "metadata": {},
   "source": [
    "The BDFM element family has more degrees of freedom than DG(1) and requires a more involved transformation to the reference element, so we should expect that this scheme will be substantially more expensive than the schemes we've used so far.\n",
    "On top of that, since the velocity space uses polynomials of higher degree than 1, we'll also incur a greater penalty from CFL by needing a smaller timestep.\n",
    "We've used a timestep so far of 1/200.\n",
    "We could get away with a timestep of 1/100 for the DG(1)/DG(1) discretization but not for BDFM(2)/DG(1)."
   ]
  },
  {
   "cell_type": "code",
   "execution_count": null,
   "metadata": {},
   "outputs": [],
   "source": [
    "hs, qs = run_simulation(solver, final_time, num_steps, output_freq)"
   ]
  },
  {
   "cell_type": "markdown",
   "metadata": {},
   "source": [
    "While this discretization was much more expensive than DG(1), we make up for it by cutting the energy drift substantially."
   ]
  },
  {
   "cell_type": "code",
   "execution_count": null,
   "metadata": {},
   "outputs": [],
   "source": [
    "energies = [\n",
    "    firedrake.assemble(\n",
    "        0.5 * (inner(q, q) / h + g * (h + b)**2) * dx\n",
    "    )\n",
    "    for h, q in zip(hs, qs)\n",
    "]\n",
    "\n",
    "fig, axes = plt.subplots()\n",
    "axes.plot(energies);"
   ]
  },
  {
   "cell_type": "markdown",
   "metadata": {},
   "source": [
    "If we really wanted close to exact energy conservation, we could explore symplectic schemes.\n",
    "The disadvantage of symplectic schemes is that they're typically implicit, for example the implicit midpoint rule."
   ]
  },
  {
   "cell_type": "markdown",
   "metadata": {},
   "source": [
    "### Conclusion\n",
    "\n",
    "Hyperbolic systems of conservation laws, like the shallow water equations, introduce a huge amount of new complexity compared to scalar problems.\n",
    "Here we've looked at some of the issues around the numerical flux and the choices of time and space discretization.\n",
    "Going to higher order in space gave us more accurate solutions but introduced an additional energy drift that could be a serious problem in long-running simulations.\n",
    "Using a more accurate time discretization didn't reduce the drift at all.\n",
    "We had to use a different and even more sophisticated spatial discretization in order to reduce this effect.\n",
    "\n",
    "We've focused here on explicit timestepping schemes.\n",
    "These have the virtue of being particularly simple to implement.\n",
    "In other scenarios, however, you may end up stuck with a mesh that's finer than you'd like.\n",
    "The CFL condition can then become oppressive if the wave speeds across finer regions grow too high.\n",
    "In the posts that follow, we'll dig into this issue even more and start looking at implicit and Rosenbrock-type schemes."
   ]
  }
 ],
 "metadata": {
  "kernelspec": {
   "display_name": "firedrake",
   "language": "python",
   "name": "firedrake"
  },
  "language_info": {
   "codemirror_mode": {
    "name": "ipython",
    "version": 3
   },
   "file_extension": ".py",
   "mimetype": "text/x-python",
   "name": "python",
   "nbconvert_exporter": "python",
   "pygments_lexer": "ipython3",
   "version": "3.11.9"
  },
  "nikola": {
   "category": "",
   "date": "2020-07-01 10:32:00 UTC-07:00",
   "description": "",
   "link": "",
   "slug": "shallow-water",
   "tags": "",
   "title": "The shallow water equations",
   "type": "text"
  }
 },
 "nbformat": 4,
 "nbformat_minor": 4
}
