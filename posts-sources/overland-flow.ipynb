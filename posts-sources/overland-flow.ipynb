{
 "cells": [
  {
   "cell_type": "markdown",
   "metadata": {},
   "source": [
    "In this post, we'll look at *overland flow* -- how rainwater drains across a landscape.\n",
    "The equations of motion are pretty rowdy and have some fascinating effects.\n",
    "To derive them, we'll start from the shallow water or Saint Venant equations for the water layer thickness $h$ and velocity $u$:\n",
    "\n",
    "$$\\begin{align}\n",
    "\\frac{\\partial h}{\\partial t} + \\nabla\\cdot hu & = \\dot a \\\\\n",
    "\\frac{\\partial}{\\partial t}hu + \\nabla\\cdot hu\\otimes u & = -gh\\nabla (b + h) - k|u|u\n",
    "\\end{align}$$\n",
    "\n",
    "The final term in the momentum equation represents frictional dissipation and $k$ is a (dimensionless) friction coefficient.\n",
    "Using the shallow water equations for predicting overland flow is challenging because the thickness can go to zero.\n",
    "\n",
    "For many thin open channel flows, however, the fluid velocity can be expressed purely in terms of the surface slope and other factors.\n",
    "You could arrive at one such simplification by assuming that the inertial terms in the momentum equation are zero:\n",
    "\n",
    "$$k|u|u + gh\\nabla(b + h) = 0.$$\n",
    "\n",
    "This approximation is known as the [Darcy-Weisbach equation](https://en.wikipedia.org/wiki/Darcy%E2%80%93Weisbach_equation).\n",
    "We'll use it in the following because it's simple and it illustrates all the major difficulties.\n",
    "For serious work, you'd probably want to use the [Manning formula](https://en.wikipedia.org/wiki/Manning_formula), as it has some [theoretical justification](https://journals.aps.org/prl/abstract/10.1103/PhysRevLett.88.014501) for turbulent open channel flows.\n",
    "The overall form of the equation and the resulting numerical challenges are the same in each case.\n",
    "\n",
    "Putting together the Darcy-Weisbach equation for the velocity with the mass conservation equation gives a single PDE for the water layer thickness:\n",
    "\n",
    "$$\\frac{\\partial h}{\\partial t} - \\nabla\\cdot\\left(\\sqrt{\\frac{gh^3}{k}}\\frac{\\nabla(b + h)}{\\sqrt{|\\nabla(b + h)|}}\\right) = \\dot a.$$\n",
    "\n",
    "This looks like a parabolic equation, but there's a catch!\n",
    "The diffusion coefficient is proportional to $h^{3/2}$, so it can go to zero when $h = 0$; all the theory for elliptic and parabolic equations assumes that the diffusion coefficient is bounded below.\n",
    "For a non-degenerate parabolic PDE, disturbances propagate with infinite speed.\n",
    "For the degenerate problem we're considering, that's no longer true -- the $h = 0$ contour travels with finite speed!\n",
    "While we're using the Darcy-Weisbach equation to set the velocity here, we still get finite propagation speed if we use the Manning equation instead.\n",
    "What's important is that the velocity is propertional to some power of the thickness and surface slope.\n",
    "\n",
    "Eliminating the velocity entirely from the problem is convenient for analysis, but not necessarily the best way to go numerically.\n",
    "We'll retain the velocity as an unknown, which gives the resulting variational form much of the same character as the mixed discretization of the heat equation.\n",
    "\n",
    "As our model problem, we'll use the dam break test case from [Santillana and Dawson (2009)](https://doi.org/10.1016/j.cma.2009.11.016).\n",
    "They discretized the overland flow equations using the *local* discontinuous Galerkin or LDG method, which extends DG for hyperbolic systems to mixed advection-diffusion problems.\n",
    "We'll use different numerics because Firedrake has all the hipster elements.\n",
    "I'm eyeballing the shape of the domain from their figures."
   ]
  },
  {
   "cell_type": "code",
   "execution_count": null,
   "metadata": {},
   "outputs": [],
   "source": [
    "import numpy as np\n",
    "import pygmsh\n",
    "\n",
    "geometry = pygmsh.built_in.Geometry()\n",
    "\n",
    "coords = np.array(\n",
    "    [\n",
    "        [0.0, 0.0],\n",
    "        [3.0, 0.0],\n",
    "        [3.0, 2.0],\n",
    "        [2.0, 2.0],\n",
    "        [2.0, 4.0],\n",
    "        [3.0, 4.0],\n",
    "        [3.0, 6.0],\n",
    "        [0.0, 6.0],\n",
    "        [0.0, 4.0],\n",
    "        [1.0, 4.0],\n",
    "        [1.0, 2.0],\n",
    "        [0.0, 2.0],\n",
    "    ]\n",
    ")\n",
    "\n",
    "points = [\n",
    "    geometry.add_point(x, lcar=0.125) for x in\n",
    "    np.column_stack((coords, np.zeros(len(coords))))\n",
    "]\n",
    "edges = [\n",
    "    geometry.add_line(p1, p2) for p1, p2 in\n",
    "    zip(points, points[1:] + [points[0]])\n",
    "]\n",
    "\n",
    "geometry.add_physical(edges)\n",
    "loop = geometry.add_line_loop(edges)\n",
    "plane_surface = geometry.add_plane_surface(loop)\n",
    "geometry.add_physical(plane_surface)\n",
    "\n",
    "with open(\"dam.geo\", \"w\") as geo_file:\n",
    "    geo_file.write(geometry.get_code())\n",
    "    \n",
    "!gmsh -2 -format msh2 -v 0 -o dam.msh dam.geo"
   ]
  },
  {
   "cell_type": "code",
   "execution_count": null,
   "metadata": {},
   "outputs": [],
   "source": [
    "import firedrake\n",
    "\n",
    "mesh = firedrake.Mesh(\"dam.msh\")"
   ]
  },
  {
   "cell_type": "code",
   "execution_count": null,
   "metadata": {},
   "outputs": [],
   "source": [
    "import matplotlib.pyplot as plt\n",
    "\n",
    "fig, ax = plt.subplots()\n",
    "ax.set_aspect(\"equal\")\n",
    "firedrake.triplot(mesh, axes=ax);"
   ]
  },
  {
   "cell_type": "markdown",
   "metadata": {},
   "source": [
    "The bed profile consists of an upper, elevated basin, together with a ramp down to a lower basin."
   ]
  },
  {
   "cell_type": "code",
   "execution_count": null,
   "metadata": {},
   "outputs": [],
   "source": [
    "from firedrake import Constant, min_value, max_value\n",
    "\n",
    "x = firedrake.SpatialCoordinate(mesh)\n",
    "\n",
    "y_0 = Constant(2.0)\n",
    "y_1 = Constant(4.0)\n",
    "b_0 = Constant(0.0)\n",
    "b_1 = Constant(1.0)\n",
    "b_expr = b_0 + (b_1 - b_0) * max_value(0, min_value(1, (x[1] - y_0) / (y_1 - y_0)))\n",
    "\n",
    "S = firedrake.FunctionSpace(mesh, \"CG\", 1)\n",
    "b = firedrake.interpolate(b_expr, S)"
   ]
  },
  {
   "cell_type": "code",
   "execution_count": null,
   "metadata": {},
   "outputs": [],
   "source": [
    "fig = plt.figure()\n",
    "axes = fig.add_subplot(projection=\"3d\")\n",
    "axes.set_box_aspect((3.0, 6.0, 1.0))\n",
    "axes.set_axis_off()\n",
    "firedrake.trisurf(b, axes=axes);"
   ]
  },
  {
   "cell_type": "markdown",
   "metadata": {},
   "source": [
    "As I alluded to before, rather than eliminate the velocity entirely, we'll keep it as a field to be solved for explicitly.\n",
    "The problem we're solving, while degenerate, is pretty similar to the mixed form of the heat equation.\n",
    "This suggests that we should use element pairs that are stable for mixed Poisson.\n",
    "Here I'm using the MINI element: continuous linear basis functions for the thickness, and continuous linear enriched with cubic bubbles for the velocity.\n",
    "We could also have used a more proper $H(\\text{div})$-conforming pair, like discontinuous Galerkin for the thickness and Raviart-Thomas or Brezzi-Douglas-Marini for the velocity."
   ]
  },
  {
   "cell_type": "code",
   "execution_count": null,
   "metadata": {},
   "outputs": [],
   "source": [
    "cg1 = firedrake.FiniteElement(\"CG\", \"triangle\", 1)\n",
    "Q = firedrake.FunctionSpace(mesh, cg1)\n",
    "b3 = firedrake.FiniteElement(\"B\", \"triangle\", 3)\n",
    "V = firedrake.VectorFunctionSpace(mesh, cg1 + b3)\n",
    "Z = Q * V"
   ]
  },
  {
   "cell_type": "markdown",
   "metadata": {},
   "source": [
    "The dam break problem specifies that the thickness is equal to 1 in the upper basin and 0 elsewhere.\n",
    "I've done a bit of extra work below because the expression for $h$ is discontinuous, and interpolating it directly gives some obvious mesh artifacts.\n",
    "Instead, I've chosen to project the expression and clamp it above and below."
   ]
  },
  {
   "cell_type": "code",
   "execution_count": null,
   "metadata": {},
   "outputs": [],
   "source": [
    "h_expr = firedrake.conditional(x[1] >= y_1, 1.0, 0.0)\n",
    "h_0 = firedrake.project(h_expr, Q)\n",
    "h_0.interpolate(min_value(1, max_value(0, h_0)));"
   ]
  },
  {
   "cell_type": "code",
   "execution_count": null,
   "metadata": {},
   "outputs": [],
   "source": [
    "fig, ax = plt.subplots()\n",
    "ax.set_aspect(\"equal\")\n",
    "colors = firedrake.tripcolor(h_0, axes=ax)\n",
    "fig.colorbar(colors);"
   ]
  },
  {
   "cell_type": "code",
   "execution_count": null,
   "metadata": {},
   "outputs": [],
   "source": [
    "z = firedrake.Function(Z)\n",
    "z_n = firedrake.Function(Z)\n",
    "δt = Constant(1.0 / 32)\n",
    "z_n.sub(0).assign(h_0)\n",
    "z.sub(0).assign(h_0);"
   ]
  },
  {
   "cell_type": "markdown",
   "metadata": {},
   "source": [
    "The test case in the Santillana and Dawson paper uses a variable friction coefficient in order to simulate the effect of increased drag when flowing over vegetation."
   ]
  },
  {
   "cell_type": "code",
   "execution_count": null,
   "metadata": {},
   "outputs": [],
   "source": [
    "from firedrake import inner\n",
    "\n",
    "k_0 = Constant(1.0)\n",
    "δk = Constant(4.0)\n",
    "r = Constant(0.5)\n",
    "x_1 = Constant((1.5, 1.0))\n",
    "x_2 = Constant((1.0, 3.5))\n",
    "x_3 = Constant((2.0, 2.5))\n",
    "ψ = sum(\n",
    "    [\n",
    "        max_value(0, 1 - inner(x - x_i, x - x_i) / r**2)\n",
    "        for x_i in [x_1, x_2, x_3]\n",
    "    ]\n",
    ")\n",
    "k = k_0 + δk * ψ"
   ]
  },
  {
   "cell_type": "code",
   "execution_count": null,
   "metadata": {},
   "outputs": [],
   "source": [
    "fig, axes = plt.subplots()\n",
    "axes.set_aspect(\"equal\")\n",
    "firedrake.tripcolor(firedrake.interpolate(k, S), axes=axes);"
   ]
  },
  {
   "cell_type": "markdown",
   "metadata": {},
   "source": [
    "The code below defines the variational form of the overland flow equations."
   ]
  },
  {
   "cell_type": "code",
   "execution_count": null,
   "metadata": {},
   "outputs": [],
   "source": [
    "from firedrake import div, grad, dx\n",
    "\n",
    "g = Constant(1.0)\n",
    "\n",
    "h, q = firedrake.split(z)\n",
    "h_n = firedrake.split(z_n)[0]\n",
    "ϕ, v = firedrake.TestFunctions(Z)\n",
    "\n",
    "F_h = ((h - h_n) / δt + div(q)) * ϕ * dx\n",
    "friction = k * inner(q, q)**0.5 * q\n",
    "gravity = -g * h**3 * grad(b + h)\n",
    "F_q = inner(friction - gravity, v) * dx\n",
    "F = F_h + F_q"
   ]
  },
  {
   "cell_type": "markdown",
   "metadata": {},
   "source": [
    "We'll run into trouble if we try and use a Newton-type method on the true variational form.\n",
    "Notice how the $q$-$q$ block of the derivative will go to zero whenever $q = 0$.\n",
    "This will happen whenever the thickness is zero too.\n",
    "The usual hack is to put a fudge factor $\\varepsilon$ into the variational form, as shown below."
   ]
  },
  {
   "cell_type": "code",
   "execution_count": null,
   "metadata": {},
   "outputs": [],
   "source": [
    "ϵ = Constant(1e-3)\n",
    "friction = k * (inner(q, q) + ϵ**2)**0.5 * q\n",
    "gravity = -g * h**3 * grad(b + h)\n",
    "F_qϵ = inner(friction - gravity, v) * dx\n",
    "F_ϵ = F_h + F_qϵ"
   ]
  },
  {
   "cell_type": "markdown",
   "metadata": {},
   "source": [
    "The disadvantage of is that we're then solving a slightly different physics problem.\n",
    "We don't have a great idea ahead of time of what $\\varepsilon$ should be either.\n",
    "If we choose it too large, the deviation from the true problem is large enough that we can't believe the results.\n",
    "But if we choose it too small, the derivative will fail to be invertible.\n",
    "\n",
    "We can take a middle course by instead just using the perturbed variational form just to define the derivative in Newton's method, but keep the true variational form as the quantity to find a root for.\n",
    "To do this, we'll pass the derivative of $F_\\varepsilon$ as the Jacobian or `J` argument to the nonlinear variational problem object.\n",
    "Choosing $\\varepsilon$ too small will still cause the solver to crash.\n",
    "Taking it to be too large, instead of causing us to solve a completely different problem, will now only make the solver go slower instead.\n",
    "We still want to make $\\varepsilon$ as small as possible, but to my mind, getting the right answer slowly is a more tolerable failure mode than getting the wrong answer."
   ]
  },
  {
   "cell_type": "code",
   "execution_count": null,
   "metadata": {},
   "outputs": [],
   "source": [
    "bcs = firedrake.DirichletBC(Z.sub(1), firedrake.zero(), \"on_boundary\")\n",
    "J = firedrake.derivative(F_ϵ, z)\n",
    "problem = firedrake.NonlinearVariationalProblem(F, z, bcs, J=J)"
   ]
  },
  {
   "cell_type": "markdown",
   "metadata": {},
   "source": [
    "We'll have one final difficulty to overcome -- what happens if the thickness inadvertently becomes negative?\n",
    "There's a blunt solution that everyone uses, which is to clamp the thickness to 0 from below at every step.\n",
    "Clamping can work in many cases.\n",
    "But if you're using a Runge-Kutta method, it only assures positivity at the end of each step and not in any of the intermediate stages.\n",
    "We can instead formulate the whole problem, including the non-negativity constraint, as a [variational inequality](https://doi.org/10.1137/20M135217X).\n",
    "Much like how some but not all variational problems arise from minimization principles, some variational inequalities arise from minimization principles with inequality constraints, like the obstacle problem.\n",
    "But variational inequalities are a more general class of problem than inequality-constrained minimization.\n",
    "Formulating overland flow as as a variational inequality is a bit of overkill for the time discretization that we're using.\n",
    "Nonetheless, I'll show how to do that in the following just for illustrative purposes.\n",
    "We first need two functions representing the upper and lower bounds for the solution.\n",
    "In this case, the upper bound is infinity."
   ]
  },
  {
   "cell_type": "code",
   "execution_count": null,
   "metadata": {},
   "outputs": [],
   "source": [
    "from firedrake.petsc import PETSc\n",
    "\n",
    "upper = firedrake.Function(Z)\n",
    "with upper.dat.vec as upper_vec:\n",
    "    upper_vec.set(PETSc.INFINITY)"
   ]
  },
  {
   "cell_type": "markdown",
   "metadata": {},
   "source": [
    "The thickness is bounded below by 0, but there's no lower bound at all on the flux, so we'll set only the flux entries to negative infinity."
   ]
  },
  {
   "cell_type": "code",
   "execution_count": null,
   "metadata": {},
   "outputs": [],
   "source": [
    "lower = firedrake.Function(Z)\n",
    "with lower.sub(1).dat.vec as lower_vec:\n",
    "    lower_vec.set(PETSc.NINFINITY)"
   ]
  },
  {
   "cell_type": "markdown",
   "metadata": {},
   "source": [
    "When we want to solve variational inequalities, we can't use the usual Newton solvers in PETSc -- we have a choice between a semi-smooth Newton (`vinewtonssls`) and an active set solver (`vinewtonrsls`).\n",
    "I couldn't get the semi-smooth Newton solver to work and I have no idea why."
   ]
  },
  {
   "cell_type": "code",
   "execution_count": null,
   "metadata": {},
   "outputs": [],
   "source": [
    "params = {\n",
    "    \"solver_parameters\": {\n",
    "        \"snes_type\": \"vinewtonrsls\",\n",
    "        \"ksp_type\": \"gmres\",\n",
    "        \"pc_type\": \"lu\",\n",
    "    }\n",
    "}\n",
    "\n",
    "solver = firedrake.NonlinearVariationalSolver(problem, **params)"
   ]
  },
  {
   "cell_type": "markdown",
   "metadata": {},
   "source": [
    "Finally, we'll run the timestepping loop.\n",
    "Here we pass the bounds explicitly on each call to `solve`."
   ]
  },
  {
   "cell_type": "code",
   "execution_count": null,
   "metadata": {},
   "outputs": [],
   "source": [
    "import tqdm\n",
    "\n",
    "final_time = 60.0\n",
    "num_steps = int(final_time / float(δt))\n",
    "\n",
    "hs = [z.sub(0).copy(deepcopy=True)]\n",
    "qs = [z.sub(1).copy(deepcopy=True)]\n",
    "\n",
    "for step in tqdm.trange(num_steps):\n",
    "    solver.solve(bounds=(lower, upper))\n",
    "    z_n.assign(z)\n",
    "\n",
    "    h, q = z.split()\n",
    "    hs.append(h.copy(deepcopy=True))\n",
    "    qs.append(q.copy(deepcopy=True))"
   ]
  },
  {
   "cell_type": "markdown",
   "metadata": {},
   "source": [
    "Movie time as always."
   ]
  },
  {
   "cell_type": "code",
   "execution_count": null,
   "metadata": {},
   "outputs": [],
   "source": [
    "%%capture\n",
    "\n",
    "from matplotlib.animation import FuncAnimation\n",
    "\n",
    "fig, axes = plt.subplots()\n",
    "axes.set_aspect(\"equal\")\n",
    "axes.get_xaxis().set_visible(False)\n",
    "axes.get_yaxis().set_visible(False)\n",
    "\n",
    "colors = firedrake.tripcolor(\n",
    "    hs[0], axes=axes, vmin=0, vmax=1.0, cmap=\"Blues\", num_sample_points=4\n",
    ")\n",
    "fn_plotter = firedrake.FunctionPlotter(mesh, num_sample_points=4)\n",
    "\n",
    "def animate(h):\n",
    "    colors.set_array(fn_plotter(h))\n",
    "\n",
    "interval = 1e3 / 60\n",
    "animation = FuncAnimation(fig, animate, frames=hs, interval=interval)"
   ]
  },
  {
   "cell_type": "code",
   "execution_count": null,
   "metadata": {},
   "outputs": [],
   "source": [
    "from IPython.display import HTML\n",
    "\n",
    "HTML(animation.to_html5_video())"
   ]
  },
  {
   "cell_type": "markdown",
   "metadata": {},
   "source": [
    "As some a posteriori sanity checking, we can evaluate how much the total water volume deviates."
   ]
  },
  {
   "cell_type": "code",
   "execution_count": null,
   "metadata": {},
   "outputs": [],
   "source": [
    "volumes = np.array([firedrake.assemble(h * dx) for h in hs])\n",
    "volume_error = (volumes.max() - volumes.min()) / volumes.mean()\n",
    "print(f\"Volume relative error: {volume_error:5.2g}\")"
   ]
  },
  {
   "cell_type": "markdown",
   "metadata": {},
   "source": [
    "Where a truly conservative scheme would exactly preserve the volume up to some small multiple of machine precision, we can only get global conservation up to the mesh resolution with our scheme.\n",
    "Instead, there are spurious \"sources\" at the free boundary.\n",
    "Likewise, there can be spurious sinks in the presence of ablation, so the sign error can go either way.\n",
    "This topic is covered in depth in [this paper](https://doi.org/10.1137/20M135217X)."
   ]
  },
  {
   "cell_type": "code",
   "execution_count": null,
   "metadata": {},
   "outputs": [],
   "source": [
    "fig, axes = plt.subplots()\n",
    "ts = np.linspace(0.0, final_time, num_steps + 1)\n",
    "axes.set_xlabel(\"time\")\n",
    "axes.set_ylabel(\"volume ($m^3$)\")\n",
    "axes.plot(ts, volumes);"
   ]
  },
  {
   "cell_type": "markdown",
   "metadata": {},
   "source": [
    "We can examine the fluxes after the fact in order to see where the value of $\\varepsilon$ that we picked sits."
   ]
  },
  {
   "cell_type": "code",
   "execution_count": null,
   "metadata": {},
   "outputs": [],
   "source": [
    "qms = [firedrake.project(inner(q, q)**0.5, Q) for q in qs]\n",
    "area = firedrake.assemble(Constant(1) * dx(mesh))\n",
    "qavgs = np.array([firedrake.assemble(q * dx) / area for q in qms])\n",
    "print(f\"Average flux: {qavgs.mean()*100**2:5.1f} cm²/s\")\n",
    "print(f\"Fudge flux:   {float(ϵ)*100**2:5.1f} cm²/s\")"
   ]
  },
  {
   "cell_type": "markdown",
   "metadata": {},
   "source": [
    "The fudge flux is 1/25 that of the average.\n",
    "This is quite a bit smaller, but not so much so that we should feel comfortable with this large a perturbation to the physics equations themselves.\n",
    "The ability to use it only in the derivative and not in the residual is a huge help.\n",
    "\n",
    "To wrap things up, the overland flow equations are a perfect demonstration of how trivially equivalent forms of the same physical problem can yield vastly different discretizations.\n",
    "Writing the system as a single parabolic PDE might seem simplest, but there are several potential zeros in the denominator that require some form of regularization.\n",
    "By contrast, using a mixed form introduces more unknowns and a nonlinear equation for the flux, but there's wiggle room within that nonlinear equation.\n",
    "This makes it much easier to come up with a robust solution procedure, even if it includes a few uncomfortable hacks like using a different Jacobian from that of the true problem.\n",
    "Finally, while our discretization still works ok with no positivity constraint, PETSc has variational inequality solvers that make it possible to enforce positivity."
   ]
  }
 ],
 "metadata": {
  "kernelspec": {
   "display_name": "firedrake",
   "language": "python",
   "name": "firedrake"
  },
  "language_info": {
   "codemirror_mode": {
    "name": "ipython",
    "version": 3
   },
   "file_extension": ".py",
   "mimetype": "text/x-python",
   "name": "python",
   "nbconvert_exporter": "python",
   "pygments_lexer": "ipython3",
   "version": "3.10.4"
  },
  "nikola": {
   "category": "",
   "date": "2022-04-29 15:37:48 UTC-07:00",
   "description": "",
   "link": "",
   "slug": "overland-flow",
   "tags": "",
   "title": "Overland Flow",
   "type": "text"
  }
 },
 "nbformat": 4,
 "nbformat_minor": 4
}
