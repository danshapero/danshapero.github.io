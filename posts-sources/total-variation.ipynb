{
 "cells": [
  {
   "cell_type": "markdown",
   "metadata": {},
   "source": [
    "In the previous post, I showed how to solve inverse problems for coefficients of elliptic PDE using [firedrake-adjoint](http://www.dolfin-adjoint.org/en/latest/).\n",
    "The exact parameter field that I used in that demonstration was smooth in space and, to guarantee a smooth solution, I showed how to add regularization to the objective functional.\n",
    "Many geophysical inverse problems aim to estimate fields that instead have sharp discontinuities or interfaces.\n",
    "For example, the porosity of soil and hard bedrock are very different and there is no continuous transition between the two.\n",
    "For these media, the regularization functional\n",
    "\n",
    "$$R(q) = \\frac{1}{2}\\int_\\Omega|\\nabla q|^2 dx$$\n",
    "\n",
    "that we used in that demonstration would yield an infinite value.\n",
    "The inferred field with this penalty would have a more diffuse interface than the real one.\n",
    "\n",
    "Rather than use the integrated square gradient, we can instead use the **total variation** functional:\n",
    "\n",
    "$$R(q) = \\int_\\Omega|\\nabla q|dx.$$\n",
    "\n",
    "We can get some insight into why the total variation is a good regularizer for these types of problems by using the very wonderful [coarea formula](https://en.wikipedia.org/wiki/Coarea_formula).\n",
    "The coarea formula states that, for reasonable functions $p$ and $q$, we can express certain integrals involving the gradient of $q$ in terms of its contours or level sets.\n",
    "Let $ds$ be the element of surface area, let $z$ be an arbitrary real value, and let $\\Gamma_z$ be the $z$-contour surface of the function $q$.\n",
    "Then\n",
    "\n",
    "$$\\int_\\Omega p|\\nabla q|dx = \\int_{-\\infty}^\\infty\\int_{\\Gamma_z}p\\, ds\\, dz.$$\n",
    "\n",
    "The right-hand side of the last equation can make sense even when $q$ is discontinuous, provided we're a little careful in the definition of the $z$-contour of $q$:\n",
    "\n",
    "$$\\Gamma_z = \\partial\\{x \\in \\Omega: q(x) \\le z\\}.$$\n",
    "\n",
    "For example, suppose that $\\Gamma$ is some nice closed surface inside $\\Omega$, and we take $q$ to be equal to $\\alpha$ in the interior of $\\Gamma$ and $0$ outside.\n",
    "Then the coarea formula tells us that\n",
    "\n",
    "$$\\int_\\Omega|\\nabla q|dx = a\\cdot|\\Gamma|.$$\n",
    "\n",
    "This partly explains why the total variation functional is an effective regularizer.\n",
    "While it doesn't forbid a jump discontinuity as such, it instead penalizes (1) the magnitude of the jump and (2) the area of the surface over which it occurs.\n",
    "Gabriel Peyré has a nice visualization of the coarea formula on [Twitter](https://twitter.com/gabrielpeyre/status/985768327246237697)."
   ]
  },
  {
   "cell_type": "markdown",
   "metadata": {},
   "source": [
    "### Calculating total variation\n",
    "\n",
    "A new difficulty that we'll encounter here is that the total variation functional doesn't have a well-defined functional derivative like the mean square gradient does.\n",
    "It is a convex functional, so the minimum is well-defined, but we might be at a loss for an algorithm to actually approximate it.\n",
    "\n",
    "We've already encountered the mathematical concepts that we'll need to remedy this issue in a previous post on the obstacle problem.\n",
    "The obstacle problem is the prototypical example of an optimization problem with inequality constraints.\n",
    "To solve it, we reformulated the obstacle problem as an unconstrained convex optimization problem where the objective could take the value $+\\infty$.\n",
    "We then smoothed away the infinite values by instead working with the Moreau envelope of that functional.\n",
    "\n",
    "Many of the same tricks work for total variation-type problems because the Moreau envelope of the $L^1$-norm has a simple analytical expression in terms of the *Huber function*:\n",
    "\n",
    "$$H_\\gamma(z) = \\begin{cases}\\frac{1}{2\\gamma}|z|^2 & |z| < \\gamma \\\\ |z| - \\frac{\\gamma}{2} & |z| \\ge \\gamma \\end{cases}$$\n",
    "\n",
    "The Huber function looks like the $L^1$ norm for large values of the argument, but like the square norm for small values."
   ]
  },
  {
   "cell_type": "code",
   "execution_count": null,
   "metadata": {},
   "outputs": [],
   "source": [
    "import numpy as np\n",
    "zs = np.linspace(-5., 5., 41)\n",
    "γ = 2.\n",
    "H_γ = [z**2 / (2 * γ) if abs(z) < γ else abs(z) - γ / 2 for z in zs]"
   ]
  },
  {
   "cell_type": "code",
   "execution_count": null,
   "metadata": {},
   "outputs": [],
   "source": [
    "import matplotlib.pyplot as plt\n",
    "plt.plot(zs, H_γ);"
   ]
  },
  {
   "cell_type": "markdown",
   "metadata": {},
   "source": [
    "The Moreau envelope of the 1-norm can be expressed through the Huber function.\n",
    "Suppose that $z$ and $w$ are vector fields in the space $L^2(\\Omega)$; then\n",
    "\n",
    "$$\\inf_w\\left(\\int_\\Omega|w|dx + \\frac{1}{2\\gamma}\\int_\\Omega|z - w|^2dx\\right) = \\int_\\Omega H_\\gamma(z)dx.$$\n",
    "\n",
    "This Huber functional does have a well-defined functional derivative for positive values of the penalty parameter $\\gamma$, so we can reuse our old gradient-based optimization routines.\n",
    "As with any penalty-type method, however, the problem becomes more ill-conditioned as we decrease $\\gamma$.\n",
    "There's one more critical fact we'll need.\n",
    "We know how to calculate the Moreau envelope of the 1-norm, but our regularization functional is instead a scalar multiple of the 1-norm.\n",
    "If we denote the envelope of a functional $R$ by $\\text{env}_\\gamma R$, then\n",
    "\n",
    "$$\\text{env}_\\gamma\\, \\alpha\\cdot R = \\alpha\\cdot\\text{env}_{\\gamma\\alpha}R.$$\n",
    "\n",
    "With this identity in hand, we can instead try to minimize the approximate objective functional\n",
    "\n",
    "$$J_\\gamma(u, q) = \\frac{1}{2}\\int_\\Omega\\left(\\frac{u - u^o}{\\sigma}\\right)^2dx + \\alpha\\int_\\Omega H_{\\alpha\\gamma}\\left(\\nabla q\\right)\\,dx.$$\n",
    "\n",
    "Letting $F$ be the weak form of the Poisson equation, our constraint is that\n",
    "\n",
    "$$\\langle F(u, q), v\\rangle = 0$$\n",
    "\n",
    "for all test functions $v$.\n",
    "Recall that the scalar parameter $\\alpha$ that dictates the degree to which we're regularizing the problem, and has units of $[q]^{-1}\\cdot[x]$.\n",
    "When we were using the mean square gradient to regularize the problem, this quantity was raised to the power 2 to make the units work out correctly.\n",
    "Here the exponent is 1 instead.\n",
    "Moreover, we can make an educated guess for what $\\alpha$ might be if we know roughly the numerical range of the field we're inferring and the diameter of the domain."
   ]
  },
  {
   "cell_type": "markdown",
   "metadata": {},
   "source": [
    "### Generating the exact data\n",
    "\n",
    "We'll proceed much like we did in the last post, only the conductivity field will have a sharp interface such as one might find between two distinct media.\n",
    "To make things a little easier later, we'll actually use a continuous Galerkin basis, in which case the interface will extend over a single grid cell.\n",
    "This is a little bit sinful and really we should be using a DG basis.\n",
    "But that would involve a bunch of annoying facet integrals that distract from the real point.\n",
    "We can just as easily illustrate the essential idea using continuous basis functions."
   ]
  },
  {
   "cell_type": "code",
   "execution_count": null,
   "metadata": {},
   "outputs": [],
   "source": [
    "import firedrake\n",
    "mesh = firedrake.UnitSquareMesh(32, 32, diagonal='crossed')\n",
    "Q = firedrake.FunctionSpace(mesh, family='CG', degree=2)\n",
    "V = firedrake.FunctionSpace(mesh, family='CG', degree=2)"
   ]
  },
  {
   "cell_type": "code",
   "execution_count": null,
   "metadata": {},
   "outputs": [],
   "source": [
    "from numpy import random, pi as π\n",
    "x = firedrake.SpatialCoordinate(mesh)\n",
    "\n",
    "rng = random.default_rng(seed=1)\n",
    "def random_fourier_series(std_dev, num_modes, exponent):\n",
    "    from firedrake import sin, cos\n",
    "    A = std_dev * rng.standard_normal((num_modes, num_modes))\n",
    "    B = std_dev * rng.standard_normal((num_modes, num_modes))\n",
    "    return sum([(A[k, l] * sin(π * (k * x[0] + l * x[1])) +\n",
    "                 B[k, l] * cos(π * (k * x[0] + l * x[1])))\n",
    "                / (1 + (k**2 + l**2)**(exponent/2))\n",
    "                for k in range(num_modes)\n",
    "                for l in range(int(np.sqrt(num_modes**2 - k**2)))])"
   ]
  },
  {
   "cell_type": "code",
   "execution_count": null,
   "metadata": {},
   "outputs": [],
   "source": [
    "g = firedrake.Function(V).interpolate(random_fourier_series(1.0, 6, 1))"
   ]
  },
  {
   "cell_type": "code",
   "execution_count": null,
   "metadata": {},
   "outputs": [],
   "source": [
    "from firedrake import inner, max_value, conditional, Constant\n",
    "a = -Constant(4.5)\n",
    "r = Constant(1/4)\n",
    "ξ = Constant((0.4, 0.5))\n",
    "expr = a * conditional(inner(x - ξ, x - ξ) < r**2, 1, 0)\n",
    "q_true = firedrake.Function(Q).interpolate(expr)"
   ]
  },
  {
   "cell_type": "code",
   "execution_count": null,
   "metadata": {},
   "outputs": [],
   "source": [
    "firedrake.trisurf(q_true);"
   ]
  },
  {
   "cell_type": "code",
   "execution_count": null,
   "metadata": {},
   "outputs": [],
   "source": [
    "b = Constant(6.)\n",
    "R = Constant(1/4)\n",
    "η = Constant((0.7, 0.5))\n",
    "expr = b * max_value(0, 1 - inner(x - η, x - η) / R**2)\n",
    "f = firedrake.Function(V).interpolate(expr)"
   ]
  },
  {
   "cell_type": "code",
   "execution_count": null,
   "metadata": {},
   "outputs": [],
   "source": [
    "from firedrake import exp, grad, dx, ds\n",
    "k = Constant(1.)\n",
    "h = Constant(10.)\n",
    "u_true = firedrake.Function(V)\n",
    "v = firedrake.TestFunction(V)\n",
    "F = (\n",
    "    (k * exp(q_true) * inner(grad(u_true), grad(v)) - f * v) * dx +\n",
    "    h * (u_true - g) * v * ds\n",
    ")"
   ]
  },
  {
   "cell_type": "code",
   "execution_count": null,
   "metadata": {},
   "outputs": [],
   "source": [
    "opts = {\n",
    "    'solver_parameters': {\n",
    "        'ksp_type': 'preonly',\n",
    "        'pc_type': 'lu',\n",
    "        'pc_factor_mat_solver_type': 'mumps'\n",
    "    }\n",
    "}\n",
    "firedrake.solve(F == 0, u_true, **opts)"
   ]
  },
  {
   "cell_type": "markdown",
   "metadata": {},
   "source": [
    "The true solution shares many properties with that of the previous demo, namely the sharp spike in the middle of the domain where the medium becomes more insulating.\n",
    "An interesting feature you can see here is how there's a break in slope across the discontinuity.\n",
    "This is a general feature of sharp interface problems; the flux is discontinuous, even though the gradient of the solution is not."
   ]
  },
  {
   "cell_type": "code",
   "execution_count": null,
   "metadata": {},
   "outputs": [],
   "source": [
    "firedrake.trisurf(u_true);"
   ]
  },
  {
   "cell_type": "markdown",
   "metadata": {},
   "source": [
    "### Generating the observational data\n",
    "\n",
    "To create the synthetic observations, we'll proceed along the same lines as in the last post.\n",
    "Recall that these incantations were necessary because generating a random field with the correct error statistics using a finite element basis does all sorts of weird unintuitive things."
   ]
  },
  {
   "cell_type": "code",
   "execution_count": null,
   "metadata": {},
   "outputs": [],
   "source": [
    "ξ = firedrake.Function(V)\n",
    "n = len(ξ.dat.data_ro)\n",
    "ξ.dat.data[:] = rng.standard_normal(n)"
   ]
  },
  {
   "cell_type": "code",
   "execution_count": null,
   "metadata": {},
   "outputs": [],
   "source": [
    "from firedrake import assemble\n",
    "from firedrake.petsc import PETSc\n",
    "ϕ, ψ = firedrake.TrialFunction(V), firedrake.TestFunction(V)\n",
    "m = inner(ϕ, ψ) * dx\n",
    "M = assemble(m, mat_type='aij').M.handle\n",
    "ksp = PETSc.KSP().create()\n",
    "ksp.setOperators(M)\n",
    "ksp.setUp()\n",
    "pc = ksp.pc\n",
    "pc.setType(pc.Type.CHOLESKY)\n",
    "pc.setFactorSolverType(PETSc.Mat.SolverType.PETSC)\n",
    "pc.setFactorSetUpSolverType()\n",
    "L = pc.getFactorMatrix()\n",
    "pc.setUp()"
   ]
  },
  {
   "cell_type": "code",
   "execution_count": null,
   "metadata": {},
   "outputs": [],
   "source": [
    "area = assemble(Constant(1) * dx(mesh))"
   ]
  },
  {
   "cell_type": "code",
   "execution_count": null,
   "metadata": {},
   "outputs": [],
   "source": [
    "z = firedrake.Function(V)\n",
    "z.dat.data[:] = rng.standard_normal(n)\n",
    "with z.dat.vec_ro as Z:\n",
    "    with ξ.dat.vec as Ξ:\n",
    "        L.solveBackward(Z, Ξ)\n",
    "        Ξ *= np.sqrt(area / n)"
   ]
  },
  {
   "cell_type": "code",
   "execution_count": null,
   "metadata": {},
   "outputs": [],
   "source": [
    "û = u_true.dat.data_ro[:]\n",
    "signal = û.max() - û.min()\n",
    "signal_to_noise = 50\n",
    "σ = firedrake.Constant(signal / signal_to_noise)\n",
    "\n",
    "u_obs = u_true.copy(deepcopy=True)\n",
    "u_obs += σ * ξ"
   ]
  },
  {
   "cell_type": "markdown",
   "metadata": {},
   "source": [
    "### Solution via Moreau envelopes\n",
    "\n",
    "We will again use the blunt initial guess that $q = 0$ everywhere."
   ]
  },
  {
   "cell_type": "code",
   "execution_count": null,
   "metadata": {},
   "outputs": [],
   "source": [
    "import firedrake.adjoint\n",
    "from firedrake.adjoint import Control, ReducedFunctional, MinimizationProblem\n",
    "from pyadjoint import TAOSolver\n",
    "firedrake.adjoint.continue_annotation()"
   ]
  },
  {
   "cell_type": "code",
   "execution_count": null,
   "metadata": {},
   "outputs": [],
   "source": [
    "q = firedrake.Function(Q)\n",
    "u = firedrake.Function(V)\n",
    "F = (\n",
    "    (k * exp(q) * inner(grad(u), grad(v)) - f * v) * dx +\n",
    "    h * (u - g) * v * ds\n",
    ")\n",
    "firedrake.solve(F == 0, u, **opts)"
   ]
  },
  {
   "cell_type": "markdown",
   "metadata": {},
   "source": [
    "Once again, the initial computed solution lacks the large spike in the insulating part of the medium."
   ]
  },
  {
   "cell_type": "code",
   "execution_count": null,
   "metadata": {},
   "outputs": [],
   "source": [
    "firedrake.trisurf(u);"
   ]
  },
  {
   "cell_type": "markdown",
   "metadata": {},
   "source": [
    "The Huber functional is easy to express in UFL.\n",
    "Before writing this, I tried to find a few different ways to express the Huber functional in a way that might be more amenable to symbolic differentiation because I thought that the conditional would prove to be a huge problem.\n",
    "None of those worked out mathematically, but to my surprise, it seems as if Firedrake can still calculate functional derivatives of conditional expressions just fine."
   ]
  },
  {
   "cell_type": "code",
   "execution_count": null,
   "metadata": {},
   "outputs": [],
   "source": [
    "from firedrake import sqrt\n",
    "def huber(v, γ):\n",
    "    return firedrake.conditional(\n",
    "        inner(v, v) < γ**2,\n",
    "        inner(v, v) / (2 * γ),\n",
    "        sqrt(inner(v, v)) - γ / 2\n",
    "    )"
   ]
  },
  {
   "cell_type": "markdown",
   "metadata": {},
   "source": [
    "We'll use the same value $\\alpha$ for the smoothing length as in the previous demo, noting again that it's to the power of 1 instead of 2 this time.\n",
    "But we don't have much in the way of a priori guidance for how to pick the Moreau envelope parameter $\\gamma$, which should be dimensionless.\n",
    "I arrived at the following value by trial and error."
   ]
  },
  {
   "cell_type": "code",
   "execution_count": null,
   "metadata": {},
   "outputs": [],
   "source": [
    "α = Constant(5e-2)\n",
    "γ = Constant(4e2)\n",
    "\n",
    "J = assemble(\n",
    "    0.5 * ((u - u_obs) / σ)**2 * dx +\n",
    "    α * huber(grad(q), α * γ) * dx\n",
    ")"
   ]
  },
  {
   "cell_type": "markdown",
   "metadata": {},
   "source": [
    "The procedure to compute the solution works just the same as before."
   ]
  },
  {
   "cell_type": "code",
   "execution_count": null,
   "metadata": {},
   "outputs": [],
   "source": [
    "tao_options = {\n",
    "    \"tao_type\": \"ntr\",\n",
    "    \"tao_max_it\": 200,\n",
    "    \"tao_gatol\": 1e-5,\n",
    "    \"tao_monitor\": None,\n",
    "}"
   ]
  },
  {
   "cell_type": "code",
   "execution_count": null,
   "metadata": {},
   "outputs": [],
   "source": [
    "q̂ = Control(q)\n",
    "Ĵ = ReducedFunctional(J, q̂)\n",
    "inverse_problem = MinimizationProblem(Ĵ)\n",
    "inverse_solver = TAOSolver(\n",
    "    inverse_problem,\n",
    "    tao_options,\n",
    "    convert_options={\"riesz_representation\": \"L2\"},\n",
    ")\n",
    "q_γ = inverse_solver.solve()"
   ]
  },
  {
   "cell_type": "markdown",
   "metadata": {},
   "source": [
    "The resulting approximation does a fairly good job capturing the sharp gradients in the inferred field around part of the interface.\n",
    "On the upper left side, the jump has been blurred out, which is to be expected based on the form of the Huber approximation."
   ]
  },
  {
   "cell_type": "code",
   "execution_count": null,
   "metadata": {},
   "outputs": [],
   "source": [
    "firedrake.tricontourf(q_γ, 40);"
   ]
  },
  {
   "cell_type": "markdown",
   "metadata": {},
   "source": [
    "Finally, let's see how well our approximation matches the true value:"
   ]
  },
  {
   "cell_type": "code",
   "execution_count": null,
   "metadata": {},
   "outputs": [],
   "source": [
    "assemble(abs(q_true - q_γ) * dx) / assemble(abs(q_true) * dx)"
   ]
  },
  {
   "cell_type": "markdown",
   "metadata": {},
   "source": [
    "Next let's see what happens when we use a much smaller value of the envelope parameter.\n",
    "If you run this code yourself, you can observe first-hand how the problem gets much more ill-conditioned as you decrease $\\gamma$ by how much longer it takes to get a solution!"
   ]
  },
  {
   "cell_type": "code",
   "execution_count": null,
   "metadata": {},
   "outputs": [],
   "source": [
    "Γ = Constant(10)\n",
    "\n",
    "J = assemble(\n",
    "    0.5 * ((u - u_obs) / σ)**2 * dx +\n",
    "    α * huber(grad(q), α * Γ) * dx\n",
    ")\n",
    "\n",
    "q̂ = Control(q)\n",
    "Ĵ = ReducedFunctional(J, q̂)\n",
    "inverse_problem = MinimizationProblem(Ĵ)\n",
    "\n",
    "inverse_solver = TAOSolver(\n",
    "    inverse_problem,\n",
    "    tao_options,\n",
    "    convert_options={\"riesz_representation\": \"L2\"},\n",
    ")\n",
    "q_Γ = inverse_solver.solve()"
   ]
  },
  {
   "cell_type": "markdown",
   "metadata": {},
   "source": [
    "The resulting solution gives a substantially better fit to the true parameters."
   ]
  },
  {
   "cell_type": "code",
   "execution_count": null,
   "metadata": {},
   "outputs": [],
   "source": [
    "assemble(abs(q_true - q_Γ) * dx) / assemble(abs(q_true) * dx)"
   ]
  },
  {
   "cell_type": "markdown",
   "metadata": {},
   "source": [
    "Moreover, the interface is noticeably much sharper when we decrease $\\gamma$, as expected."
   ]
  },
  {
   "cell_type": "code",
   "execution_count": null,
   "metadata": {},
   "outputs": [],
   "source": [
    "firedrake.tricontourf(q_Γ, 40);"
   ]
  },
  {
   "cell_type": "markdown",
   "metadata": {},
   "source": [
    "At a few points, the mesh triangles have made themselves apparent.\n",
    "To fix this, we would want to either adapt the mesh to the contours of $q$, or do things the blunt way and uniformly refine until this effect was no longer obvious."
   ]
  },
  {
   "cell_type": "markdown",
   "metadata": {},
   "source": [
    "### Discussion\n",
    "\n",
    "Regularization of inverse problems is a subtle topic.\n",
    "When the field we're inferring has sharp discontinuities, the total variation functional can be a better regularizer than the mean square gradient.\n",
    "There's a statistical way to make that argument more precise: TV better represents the prior information that we're claiming to have about our solution.\n",
    "Using it incurs a cost in implementation complexity, however, because the TV functional is non-smooth.\n",
    "As with the obstacle problem, the Moreau envelope provides us with a way to solve non-smooth optimization problems using tools that were designed only for smooth ones.\n",
    "\n",
    "We've examined what regularization functional to use here, but we haven't examined the topic of deciding how much to regularize.\n",
    "There are several procedures for choosing a value of $\\alpha$, some merely heuristic and others based on deeper insights from Bayesian statistical inference.\n",
    "In the statistical literature this is often referred to as *hyperparameter optimization* and it's arguably just as important as deciding which regularization functional to use in the first place."
   ]
  }
 ],
 "metadata": {
  "kernelspec": {
   "display_name": "firedrake",
   "language": "python",
   "name": "firedrake"
  },
  "language_info": {
   "codemirror_mode": {
    "name": "ipython",
    "version": 3
   },
   "file_extension": ".py",
   "mimetype": "text/x-python",
   "name": "python",
   "nbconvert_exporter": "python",
   "pygments_lexer": "ipython3",
   "version": "3.11.9"
  },
  "nikola": {
   "category": "",
   "date": "2020-08-17 20:18:44 UTC-07:00",
   "description": "",
   "link": "",
   "slug": "total-variation",
   "tags": "",
   "title": "Total variation regularization",
   "type": "text"
  }
 },
 "nbformat": 4,
 "nbformat_minor": 4
}
