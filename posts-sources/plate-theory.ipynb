{
 "cells": [
  {
   "cell_type": "markdown",
   "metadata": {},
   "source": [
    "In this post we'll look at a fourth-order equation describing the vibrations of clamped plates.\n",
    "Our starting point are the equations of linear elasticity.\n",
    "Here we want to solve for the 3D displace $u$ of the medium.\n",
    "The first equation is momentum conservation:\n",
    "$$\\rho\\ddot u = \\nabla\\cdot\\sigma + f$$\n",
    "where $\\sigma$ is the stress tensor and $f$ the body forces.\n",
    "To close the system, we need to supply a constitutive equation relating the stress tensor and the strain tensor\n",
    "$$\\varepsilon = \\frac{1}{2}\\left(\\nabla u + \\nabla u^*\\right).$$\n",
    "The most general linear constitutive equation we can write down is\n",
    "$$\\sigma = \\mathscr C\\,\\varepsilon$$\n",
    "where $\\mathscr C$ is the rank-4 elasticity tensor.\n",
    "We need that $\\mathscr C$ maps symmetric tensors to symmetric tensors and that $\\varepsilon:\\mathscr C\\varepsilon$ is always positive.\n",
    "The equilibrium displacement of the medium is the minimizer of the energy functional\n",
    "$$J(u) = \\int_\\Omega\\left(\\frac{1}{2}\\sigma:\\varepsilon + f\\cdot u\\right)\\mathrm dx + \\ldots$$\n",
    "where the ellipses stand for various boundary forcings that we'll ignore.\n",
    "\n",
    "For a medium that is homogeneous and isotropic, the elasticity tensor has to have the form\n",
    "$$\\mathscr C\\,\\varepsilon = 2\\,\\mu\\,\\varepsilon + \\lambda\\,\\text{tr}(\\varepsilon)I$$\n",
    "where $\\mu$ and $\\lambda$ are the Lamé parameters.\n",
    "As an aside, there are a mess of alternate forms of the elasticity equations.\n",
    "The [wiki page](https://en.wikipedia.org/wiki/Lam%C3%A9_parameters) has a conversion table at the bottom.\n",
    "Now take this with a grain of salt because I do fluid mechanics.\n",
    "But if I were a solid mechanics kinda guy, this would embarrass me.\n",
    "Get it together folks."
   ]
  },
  {
   "cell_type": "markdown",
   "metadata": {},
   "source": [
    "\n",
    "Plate theory is what you get when you assume the medium is thin along the vertical dimension and that this restricts the form that the displacements can take.\n",
    "The first and most widely agreed-upon simplification is that the vertical displacement is some function $w$ of the horizontal coordinates $x$, $y$:\n",
    "$$u_z = w(x, y).$$\n",
    "From here we have to make additional assumptions about the horizontal displacements $u_x$ and $u_y$.\n",
    "Different theories make different sets of assumptions.\n",
    "The classical theory is the [Kirchoff-Love](https://en.wikipedia.org/wiki/Kirchhoff%E2%80%93Love_plate_theory) plate.\n",
    "The Kirchoff theory assumes that any straight line that's perpendicular to the middle of the plate remains straight and perpendicular after deformation.\n",
    "These assumptions let us write down the other components of the deformation in terms of $w$:\n",
    "$$u_x = -z\\frac{\\partial w}{\\partial x}, \\quad u_y = -z\\frac{\\partial w}{\\partial y}.$$\n",
    "It's possible that $u_x$ and $u_y$ are also offset by in-plane displacements.\n",
    "I'll assume that the boundary conditions make those equal to zero.\n",
    "We can then work out what the displacement gradient is:\n",
    "$$\\nabla u = \\left[\\begin{matrix}-z\\nabla^2 w & -\\nabla w \\\\ +\\nabla w^* & 0 \\end{matrix}\\right]$$\n",
    "I'm being a little loose in my use of the gradient operator -- it's 3D on the left-hand side of this equation and 2D on the right.\n",
    "Notice how the antisymmetric part of the displacement gradient is all in the $x-z$ and $y-z$ components.\n",
    "When we symmetrize the displacement gradient, we get the strain tensor:\n",
    "$$\\varepsilon = -z\\left[\\begin{matrix}\\nabla^2 w & 0 \\\\ 0 & 0\\end{matrix}\\right].$$\n",
    "Now remember that the medium is a thin plate.\n",
    "We can express the spatial domain as the product of a 2D footprint domain $\\Phi$ and the interval $[-h / 2, +h / 2]$ where $h$ is the plate thickness.\n",
    "The strain energy is then\n",
    "$$\\begin{align}\n",
    "J(w) & = \\int_\\Phi\\int_{-h/2}^{+h/2}\\left(\\mu z^2|\\nabla^2 w|^2 + \\frac{\\lambda}{2} z^2|\\Delta w|^2 + fw\\right)\\mathrm dz\\;\\mathrm dx\\\\\n",
    " & = \\int_\\Phi\\left\\{\\frac{h^3}{24}\\left(2\\mu|\\nabla ^2 w|^2 + \\lambda|\\Delta w|^2\\right) + hfw\\right\\}\\mathrm dx\n",
    "\\end{align}.$$\n",
    "Here I've used the fact that $\\text{tr}(\\nabla^2w) = \\Delta w$ where $\\Delta$ is the Laplace operator.\n",
    "**Note to self check all the constants and factors of 2 and such.\n",
    "Also check out the references in [this paper](https://www-users.cse.umn.edu/~arnold//papers/rmkl.pdf) about this extra Laplacian term, WTF.**"
   ]
  },
  {
   "cell_type": "markdown",
   "metadata": {},
   "source": [
    "\n",
    "We can't discretize this problem right away using a conventional finite element basis.\n",
    "The usual piecewise polynomial basis functions are differentiable and piecewise continuous across cell edges.\n",
    "A conforming basis for a minimization problem involving 2nd-order derivatives would need to instead by continuously differentiable.\n",
    "It's much harder to come up with $C^1$ bases.\n",
    "\n",
    "We have a few ways out.\n",
    "1. Use a $C^1$ basis like [Argyris](https://defelement.org/elements/argyris.html) or [Hsieh-Clough-Tocher](https://defelement.org/elements/hsieh-clough-tocher.html).\n",
    "This approach makes forming the problem easy, but applying boundary conditions hard.\n",
    "[Kirby and Mitchell (2018)](https://dl.acm.org/doi/pdf/10.1145/3361745) implemented the Argyris element in Firedrake but had to use Nitsche's method to enforce the boundary conditions.\n",
    "1. Use $C^0$ elements and discretize the second derivatives using an interior penalty formulation of the problem.\n",
    "This approach is analogous to discretizing a 2nd-order elliptic problem using DG elements.\n",
    "Forming the problem is harder but applying the boundary conditions is easier.\n",
    "[Bringmann et al. (2023)](https://doi.org/10.1515/jnma-2023-0028) work out the exact form the interior penalty parameters necessary to make the discrete form work right.\n",
    "1. Use the mixed form of the problem and discretize it with the [Hellan-Herrmann-Johnson](https://defelement.org/elements/hellan-herrmann-johnson.html) element.\n",
    "\n",
    "In the following, I'll take the third approach."
   ]
  },
  {
   "cell_type": "code",
   "execution_count": null,
   "metadata": {},
   "outputs": [],
   "source": [
    "import firedrake\n",
    "from firedrake import Constant, as_vector, sym, inner, grad, div, dx, ds\n",
    "\n",
    "nx, ny = 32, 32\n",
    "mesh = firedrake.UnitSquareMesh(nx, ny, diagonal=\"crossed\")"
   ]
  },
  {
   "cell_type": "markdown",
   "metadata": {},
   "source": [
    "### Eigenfunctions of the clamped plate\n",
    "\n",
    "Also known as Chladni patterns."
   ]
  }
 ],
 "metadata": {
  "kernelspec": {
   "display_name": "firedrake",
   "language": "python",
   "name": "firedrake"
  },
  "language_info": {
   "codemirror_mode": {
    "name": "ipython",
    "version": 3
   },
   "file_extension": ".py",
   "mimetype": "text/x-python",
   "name": "python",
   "nbconvert_exporter": "python",
   "pygments_lexer": "ipython3",
   "version": "3.11.9"
  },
  "nikola": {
   "category": "",
   "date": "2025-06-02 16:58:22 UTC-07:00",
   "description": "",
   "link": "",
   "slug": "plate-theory",
   "tags": "",
   "title": "Plate theory",
   "type": "text"
  }
 },
 "nbformat": 4,
 "nbformat_minor": 4
}
