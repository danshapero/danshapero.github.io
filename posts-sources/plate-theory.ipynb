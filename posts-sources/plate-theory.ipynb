{
 "cells": [
  {
   "cell_type": "markdown",
   "metadata": {},
   "source": [
    "In this post we'll look at a fourth-order equation describing the vibrations of clamped plates.\n",
    "Our starting point are the equations of linear elasticity.\n",
    "Here we want to solve for the 3D displace $u$ of the medium.\n",
    "The first equation is momentum conservation:\n",
    "$$\\rho\\ddot u = \\nabla\\cdot\\sigma + f$$\n",
    "where $\\sigma$ is the stress tensor and $f$ the body forces.\n",
    "To close the system, we need to supply a constitutive equation relating the stress tensor and the strain tensor\n",
    "$$\\varepsilon = \\frac{1}{2}\\left(\\nabla u + \\nabla u^*\\right).$$\n",
    "The most general linear constitutive equation we can write down is\n",
    "$$\\sigma = \\mathscr C\\,\\varepsilon$$\n",
    "where $\\mathscr C$ is the rank-4 elasticity tensor.\n",
    "We need $\\mathscr C$ maps symmetric tensors to symmetric tensors and that $\\varepsilon:\\mathscr C\\varepsilon$ is always positive.\n",
    "For a medium that is homogeneous and isotropic, the elasticity tensor has to have the form\n",
    "$$\\mathscr C\\,\\varepsilon = 2\\,\\mu\\,\\varepsilon + \\lambda\\,\\text{tr}(\\varepsilon)I$$\n",
    "where $\\mu$ and $\\lambda$ are the Lamé parameters.\n",
    "As an aside, there are a mess of alternate forms of the elasticity equations.\n",
    "The [wiki page](https://en.wikipedia.org/wiki/Lam%C3%A9_parameters) has a conversion table at the bottom.\n",
    "Now take this with a grain of salt because I'm a fluid mechanics kinda guy and not a solid mechanics guy.\n",
    "But if I were, this would embarrass me.\n",
    "Get it together folks.\n",
    "\n",
    "Plate theory is what you get when you assume the medium is thin along the vertical dimension and that this simplifies the displacements.\n",
    "The first simplification is that the vertical displacement is some function $w$ of the horizontal coordinates $x$, $y$:\n",
    "$$u_z = w(x, y).$$\n",
    "From here there are choices to make.\n",
    "The classical theory is the [Kirchoff-Love](https://en.wikipedia.org/wiki/Kirchhoff%E2%80%93Love_plate_theory) plate.\n",
    "The Kirchoff theory assumes, for example, that any straight line that's perpendicular to the middle of the plate remains straight and perpendicular after deformation.\n",
    "These assumptions let us write down the other components of the deformation in terms of $w$:\n",
    "$$u_x = -z\\frac{\\partial w}{\\partial x}, \\quad u_y = -z\\frac{\\partial w}{\\partial y}.$$\n",
    "I've also tacitly assumed there are no in-plane displacements."
   ]
  },
  {
   "cell_type": "markdown",
   "metadata": {},
   "source": [
    "### Making a mesh\n",
    "\n",
    "First, we'll generate a mesh using the Python API for [gmsh](https://www.gmsh.info).\n",
    "The calls to add a plane surface and a physical plane surface are easy to forget but essential."
   ]
  },
  {
   "cell_type": "code",
   "execution_count": null,
   "metadata": {},
   "outputs": [],
   "source": [
    "import gmsh\n",
    "import numpy as np\n",
    "from numpy import pi as π\n",
    "\n",
    "gmsh.initialize()\n",
    "geo = gmsh.model.geo\n",
    "\n",
    "...\n",
    "\n",
    "geo.synchronize()\n",
    "\n",
    "gmsh.model.mesh.generate(2)\n",
    "gmsh.write(\"plate.msh\")\n",
    "\n",
    "gmsh.finalize()"
   ]
  },
  {
   "cell_type": "code",
   "execution_count": null,
   "metadata": {},
   "outputs": [],
   "source": [
    "import firedrake\n",
    "import matplotlib.pyplot as plt\n",
    "mesh = firedrake.Mesh(\"plate.msh\")\n",
    "\n",
    "fig, axes = plt.subplots()\n",
    "firedrake.triplot(mesh, axes=axes)\n",
    "axes.set_aspect(\"equal\")\n",
    "axes.legend(loc=\"upper right\");"
   ]
  },
  {
   "cell_type": "markdown",
   "metadata": {},
   "source": [
    "### Discretization by the interior penalty method\n",
    "\n",
    "For the discretization, I'll largely follow [this paper](https://doi.org/10.1515/jnma-2023-0028)."
   ]
  },
  {
   "cell_type": "markdown",
   "metadata": {},
   "source": [
    "### Eigenfunctions of the clamped plate\n",
    "\n",
    "Also known as Chladni patterns."
   ]
  }
 ],
 "metadata": {
  "kernelspec": {
   "display_name": "firedrake",
   "language": "python",
   "name": "firedrake"
  },
  "language_info": {
   "codemirror_mode": {
    "name": "ipython",
    "version": 3
   },
   "file_extension": ".py",
   "mimetype": "text/x-python",
   "name": "python",
   "nbconvert_exporter": "python",
   "pygments_lexer": "ipython3",
   "version": "3.11.9"
  },
  "nikola": {
   "category": "",
   "date": "2025-06-02 16:58:22 UTC-07:00",
   "description": "",
   "link": "",
   "slug": "plate-theory",
   "tags": "",
   "title": "Plate theory",
   "type": "text"
  }
 },
 "nbformat": 4,
 "nbformat_minor": 4
}
