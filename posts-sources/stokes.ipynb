{
 "cells": [
  {
   "cell_type": "markdown",
   "metadata": {},
   "source": [
    "In the last post, we looked at variational principles by studying the minimal surface equation.\n",
    "Much of what you learn in multivariable calculus carries over equally well to infinite-dimensional spaces and we were able to leverage a lot of this intuition to design efficient solution procedures.\n",
    "For example, the notion of convexity carries over to variatonal problems and using this idea we can show that Newton's method is effective in this setting as well.\n",
    "\n",
    "When we solved the minimal surface equation, our solution space consists of all functions that satisfy a set of Dirichlet boundary conditions.\n",
    "These conditions are easy to eliminate so our problem is essentially unconstrained.\n",
    "In this post, we'll look at the Stokes equations, which are a *constrained* optimization problem.\n",
    "For unconstrained problems, the convexity of the objective implies a kind of stability property that we can use to prove that roughly any finite element basis will give a convergent approximation scheme.\n",
    "For constrained problems we have to be much more careful about the choice of basis and this is the content of the *Ladyzhenskaya-Babuška-Brezzi* or LBB conditions, which I'll describe in a later post.\n",
    "For now, we'll focus on solving the Stokes equations using one particular discretization, the Taylor-Hood element.\n",
    "\n",
    "The Stokes equations describe slow flow of very viscous, incompressible fluids.\n",
    "The fields we're solving for are the velocity $u$ and the pressure $p$.\n",
    "The incompressibility condition means that the velocity field is divergence-free:\n",
    "\n",
    "$$\\nabla\\cdot u = 0.$$\n",
    "\n",
    "The remaining equations state that the stresses are in balance wth body forces:\n",
    "\n",
    "$$\\nabla\\cdot \\tau - \\nabla p + f = 0,$$\n",
    "\n",
    "where $\\tau$ is the rank-2 stress tensor and $f$ are the body forces.\n",
    "The stress tensor must be related somehow to the velocity field.\n",
    "For a viscous fluid, the stress tensor is related to the *rate-of-strain* tensor\n",
    "\n",
    "$$\\dot\\varepsilon = \\frac{1}{2}\\left(\\nabla u + \\nabla u^*\\right).$$\n",
    "\n",
    "(For solids the stress tensor is related to the gradient of the displacement rather than the velocity.)\n",
    "The simplest constitutive relation is that of a Newtonian fluid:\n",
    "\n",
    "$$\\tau = 2\\mu\\dot\\varepsilon,$$\n",
    "\n",
    "where $\\mu$ is the viscosity.\n",
    "There are other nonlinear constitutive relations, but for now we'll just consider Newtonian fluids.\n",
    "If $U$ and $L$ are characteristic velocity and length scales for the particular flow at hand and $\\rho$ is the fluid density, the Stokes equations are a good description when the *Reynolds number* is much less than 1:\n",
    "\n",
    "$$\\text{Re} \\equiv \\frac{\\rho UL}{\\mu} \\ll 1.$$\n",
    "\n",
    "When the Reynolds number is closer to or larger than 1, we need to use the full Navier-Stokes equations, which includes inertial effects as well.\n",
    "\n",
    "The Stokes equations, like the Poisson equation, have a minimization principle, but for two fields instead of one.\n",
    "The variational principle is that the solution $u$, $p$ is a critical point of the rate of decrease of the *Gibbs free energy*:\n",
    "\n",
    "$$\\dot{\\mathscr{G}}(u, p) = \\int_\\Omega\\left(\\mu|\\dot\\varepsilon(u)|^2 - p\\nabla\\cdot u - f\\cdot u\\right)dx.$$\n",
    "\n",
    "You can show using the usual tricks that the Euler-Lagrange equations for this functional are the Stokes equations.\n",
    "The free energy dissipation functional consists of a positive, quadratic term in the velocity, but the pressure $p$ only acts like a Lagrange multiplier enforcing the incompressibility condition.\n",
    "The lack of any positivity in the pressure is part of what makes the Stokes equations so challenging to discretize and solve.\n",
    "While the second derivative of the objective is still symmetric, it is no longer positive-definite."
   ]
  },
  {
   "cell_type": "markdown",
   "metadata": {},
   "source": [
    "### Demonstration\n",
    "\n",
    "Here we'll work on a classic problem of flow driven by a moving boundary.\n",
    "The domain will consist of a circle with two holes removed.\n",
    "We'll imagine that these holes are cylindrical turbines that are rotating with some fixed speed and dragging the fluid along with them.\n",
    "As we'll see, getting a linear solver to converge for this problem is much more challenging than for the Poisson equation."
   ]
  },
  {
   "cell_type": "code",
   "execution_count": null,
   "metadata": {},
   "outputs": [],
   "source": [
    "import numpy as np\n",
    "from numpy import pi as π\n",
    "def add_ellipse(geometry, x, y, a, b, N, lcar):\n",
    "    θs = np.array([2 * π * n / N for n in range(N)])\n",
    "    xs, ys = x + a * np.cos(θs), y + b * np.sin(θs)\n",
    "    points = [geometry.add_point([x, y, 0], lcar=lcar) for x, y in zip(xs, ys)]\n",
    "    lines = [geometry.add_line(points[n], points[(n + 1) % N])\n",
    "             for n in range(N)]\n",
    "\n",
    "    geometry.add_physical(lines)\n",
    "    line_loop = geometry.add_line_loop(lines)\n",
    "    return line_loop"
   ]
  },
  {
   "cell_type": "code",
   "execution_count": null,
   "metadata": {},
   "outputs": [],
   "source": [
    "import pygmsh\n",
    "geometry = pygmsh.built_in.Geometry()\n",
    "\n",
    "outer_line_loop = add_ellipse(geometry, x=0, y=0, a=1, b=1, N=128, lcar=1/4)\n",
    "inner_loops = [\n",
    "    add_ellipse(geometry, x=0, y=+1/2, a=1/8, b=1/8, N=64, lcar=1/4),\n",
    "    add_ellipse(geometry, x=0, y=-1/2, a=1/8, b=1/8, N=64, lcar=1/4)\n",
    "]\n",
    "\n",
    "plane_surface = geometry.add_plane_surface(outer_line_loop, inner_loops)\n",
    "geometry.add_physical(plane_surface)\n",
    "\n",
    "with open('mixer.geo', 'w') as geo_file:\n",
    "    geo_file.write(geometry.get_code())\n",
    "    \n",
    "!gmsh -2 -format msh2 -v 0 -o mixer.msh mixer.geo"
   ]
  },
  {
   "cell_type": "code",
   "execution_count": null,
   "metadata": {},
   "outputs": [],
   "source": [
    "import firedrake\n",
    "mesh = firedrake.Mesh('mixer.msh')"
   ]
  },
  {
   "cell_type": "code",
   "execution_count": null,
   "metadata": {},
   "outputs": [],
   "source": [
    "import matplotlib.pyplot as plt\n",
    "fig, axes = plt.subplots()\n",
    "axes.set_aspect('equal')\n",
    "firedrake.triplot(mesh, axes=axes)\n",
    "axes.legend();"
   ]
  },
  {
   "cell_type": "markdown",
   "metadata": {},
   "source": [
    "For this problem we'll use the *Taylor-Hood* element: piecewise linear basis functions for the pressure and piecewise quadratic basis functions for the velocity.\n",
    "The Taylor-Hood element is stable for the Stokes equations in that norm of the inverse of the disretized linear system is bounded as the mesh is refined.\n",
    "This is a very special property and not just any element will work.\n",
    "\n",
    "For scalar problems, the solution is a single field, but for the Stokes equations our solution consists of a pair of a velocity and a pressure field.\n",
    "Firedrake includes a handy algebraic notation for defining the direct product of two function spaces."
   ]
  },
  {
   "cell_type": "code",
   "execution_count": null,
   "metadata": {},
   "outputs": [],
   "source": [
    "Q = firedrake.FunctionSpace(mesh, family='CG', degree=1)\n",
    "V = firedrake.VectorFunctionSpace(mesh, family='CG', degree=2)\n",
    "Z = V * Q"
   ]
  },
  {
   "cell_type": "markdown",
   "metadata": {},
   "source": [
    "We can access the components of a function that lives in this product space using the usual Python indexing operators, but it's more convenient to use the function `firedrake.split` to give us handles for the two components."
   ]
  },
  {
   "cell_type": "code",
   "execution_count": null,
   "metadata": {},
   "outputs": [],
   "source": [
    "z = firedrake.Function(Z)\n",
    "u, p = firedrake.split(z)"
   ]
  },
  {
   "cell_type": "markdown",
   "metadata": {},
   "source": [
    "This way our code to define the objective functional looks as much like the math as possible, rather than have to constantly reference the components.\n",
    "\n",
    "We'll use a viscosity coefficient $\\mu$ of 1000.\n",
    "Since the diameter of the domain and the fluid velocity are both on the order of 1, the viscosity would need to be fairly large for the Stokes equations to actually be applicable."
   ]
  },
  {
   "cell_type": "code",
   "execution_count": null,
   "metadata": {},
   "outputs": [],
   "source": [
    "from firedrake import inner, sym, grad, div, dx\n",
    "def ε(u):\n",
    "    return sym(grad(u))\n",
    "\n",
    "μ = firedrake.Constant(1e3)\n",
    "𝒢̇ = (μ * inner(ε(u), ε(u)) - p * div(u)) * dx"
   ]
  },
  {
   "cell_type": "markdown",
   "metadata": {},
   "source": [
    "One of the extra challenging factors about the Stokes equations is that they have a non-trivial null space.\n",
    "To see this, suppose we have some velocity-pressure pair $u$, $p$.\n",
    "The velocity field $u$ is not necessarily divergence-free, but we do need that $u\\cdot n = 0$ on the boundary of the domain.\n",
    "If we add a constant factor $p_0$ to the pressure, then the value of the objective functional is unchanged:\n",
    "\n",
    "$$\\begin{align}\n",
    "\\dot{\\mathscr{G}}(u, p) - \\dot{\\mathscr{G}}(u, p + p_0) & = \\int_\\Omega p_0\\nabla\\cdot u\\, dx \\\\\n",
    "& = p_0\\int_{\\partial\\Omega}u\\cdot n\\, ds = 0.\n",
    "\\end{align}$$\n",
    "\n",
    "In order to obtain a unique solution to the system, we can impose the additional constraint that\n",
    "\n",
    "$$\\int_\\Omega p\\, dx = 0,$$\n",
    "\n",
    "or in other words that the pressure must be orthogonal to all the constant functions."
   ]
  },
  {
   "cell_type": "code",
   "execution_count": null,
   "metadata": {},
   "outputs": [],
   "source": [
    "from firedrake import MixedVectorSpaceBasis, VectorSpaceBasis\n",
    "basis = VectorSpaceBasis(constant=True)\n",
    "nullspace = MixedVectorSpaceBasis(Z, [Z.sub(0), basis])"
   ]
  },
  {
   "cell_type": "markdown",
   "metadata": {},
   "source": [
    "Next we have to create the boundary conditions.\n",
    "The only extra work we have to do here is to get the right component of the mixed function space $Z$."
   ]
  },
  {
   "cell_type": "code",
   "execution_count": null,
   "metadata": {},
   "outputs": [],
   "source": [
    "x = firedrake.SpatialCoordinate(mesh)\n",
    "\n",
    "x2 = firedrake.as_vector((0, +1/2))\n",
    "r2 = firedrake.Constant(1/8)\n",
    "x3 = firedrake.as_vector((0, -1/2))\n",
    "r3 = firedrake.Constant(1/8)\n",
    "\n",
    "q2 = (x - x2) / r2\n",
    "q3 = (x - x3) / r3\n",
    "\n",
    "u2 = firedrake.as_vector((-q2[1], q2[0]))\n",
    "u3 = firedrake.as_vector((-q3[1], q3[0]))\n",
    "\n",
    "from firedrake import DirichletBC, as_vector\n",
    "bc1 = DirichletBC(Z.sub(0), as_vector((0, 0)), 1)\n",
    "bc2 = DirichletBC(Z.sub(0), u2, 2)\n",
    "bc3 = DirichletBC(Z.sub(0), u3, 3)"
   ]
  },
  {
   "cell_type": "markdown",
   "metadata": {},
   "source": [
    "Now let's see what happens if we invoke the default linear solver."
   ]
  },
  {
   "cell_type": "code",
   "execution_count": null,
   "metadata": {},
   "outputs": [],
   "source": [
    "from firedrake import derivative\n",
    "\n",
    "try:\n",
    "    firedrake.solve(\n",
    "        derivative(𝒢̇, z) == 0, z,\n",
    "        bcs=[bc1, bc2, bc3],\n",
    "        nullspace=nullspace\n",
    "    )\n",
    "except firedrake.ConvergenceError:\n",
    "    print(\"Oh heavens, it didn't converge!\")"
   ]
  },
  {
   "cell_type": "markdown",
   "metadata": {},
   "source": [
    "We'll take the easy way out and use the sparse direct solver [MUMPS](http://mumps-solver.org/) to make sure we get an answer.\n",
    "This approach will work for now, but even parallel direct solvers scale poorly to large problems, especially in 3D.\n",
    "The proper incanctation to invoke the direct solver needs a bit of explaining.\n",
    "For mixed problems like the Stokes equations, Firedrake will assemble a special matrix type that exploits the problem's block structure.\n",
    "Unfortunately MUMPS can't work with this matrix format, so we have to specify that it will use PETSc's [aij](https://www.mcs.anl.gov/petsc/petsc-current/docs/manualpages/Mat/MATSEQAIJ.html#MATSEQAIJ) matrix format with the option `'mat_type': 'aij'`.\n",
    "Next, we'll request that the solver use the LU factorization with `'pc_type': 'lu'`.\n",
    "Without any other options, this will use PETSc's built-in matrix factorization routines.\n",
    "These are fine for strictly positive matrices, but fail when the problem has a non-trivial null space.\n",
    "The option `'pc_factor_mat_solver_type': 'mumps'` will use the MUMPS package instead of PETSc's built-in sparse direct solver."
   ]
  },
  {
   "cell_type": "code",
   "execution_count": null,
   "metadata": {},
   "outputs": [],
   "source": [
    "firedrake.solve(\n",
    "    derivative(𝒢̇, z) == 0, z,\n",
    "    bcs=[bc1, bc2, bc3],\n",
    "    nullspace=nullspace,\n",
    "    solver_parameters={\n",
    "        'mat_type': 'aij',\n",
    "        'ksp_type': 'preonly',\n",
    "        'pc_type': 'lu',\n",
    "        'pc_factor_mat_solver_type': 'mumps'\n",
    "    }\n",
    ")"
   ]
  },
  {
   "cell_type": "markdown",
   "metadata": {},
   "source": [
    "Some cool features you can observe in the stream plot are the saddle point at the center of the domain and the two counter-rotating vortices that form on either side of it."
   ]
  },
  {
   "cell_type": "code",
   "execution_count": null,
   "metadata": {},
   "outputs": [],
   "source": [
    "u, p = z.split()\n",
    "fig, axes = plt.subplots()\n",
    "axes.set_aspect('equal')\n",
    "kwargs = {'resolution': 1/30, 'seed': 4, 'cmap': 'winter'}\n",
    "streamlines = firedrake.streamplot(u, axes=axes, **kwargs)\n",
    "fig.colorbar(streamlines);"
   ]
  },
  {
   "cell_type": "markdown",
   "metadata": {},
   "source": [
    "The velocity field should be close to divergence-free; if we project the divergence into a DG(2) we can see what the exact value is.\n",
    "There are some small deviations, especially around the boundary of the domain.\n",
    "Part of the problem is that the boundary conditions we've specified are exactly tangent to the idealized domain -- a large circle with two circular holes punched out of it -- but not to its discrete approximation by a collection of straight edges."
   ]
  },
  {
   "cell_type": "code",
   "execution_count": null,
   "metadata": {},
   "outputs": [],
   "source": [
    "S = firedrake.FunctionSpace(mesh, family='DG', degree=2)\n",
    "div_u = firedrake.project(div(u), S)"
   ]
  },
  {
   "cell_type": "code",
   "execution_count": null,
   "metadata": {},
   "outputs": [],
   "source": [
    "fig, axes = plt.subplots()\n",
    "axes.set_aspect('equal')\n",
    "kwargs = {'vmin': -0.01, 'vmax': +0.01, 'cmap': 'seismic'}\n",
    "triangles = firedrake.tripcolor(div_u, axes=axes, **kwargs)\n",
    "fig.colorbar(triangles);"
   ]
  },
  {
   "cell_type": "markdown",
   "metadata": {},
   "source": [
    "For now we'll calculate and store the norm of the velocity diverence.\n",
    "When we try to improve on this we'll use this value as a baseline."
   ]
  },
  {
   "cell_type": "code",
   "execution_count": null,
   "metadata": {},
   "outputs": [],
   "source": [
    "linear_coords_divergence = firedrake.norm(div_u)\n",
    "print(linear_coords_divergence)"
   ]
  },
  {
   "cell_type": "markdown",
   "metadata": {},
   "source": [
    "### Higher-order geometries\n",
    "\n",
    "We can try to improve on this by using curved edges for the geometry instead of straight ones.\n",
    "The topology of the mesh is the same; we're just adding more data describing how it's embedded into Euclidean space.\n",
    "In principle, gmsh can generate this for us, but reading in the file seems to be [awfully annoying](https://lists.mcs.anl.gov/pipermail/petsc-dev/2017-June/020972.html).\n",
    "To get a higher-order geometry, we'll proceed by:\n",
    "\n",
    "1. making a quadratic vector function space\n",
    "2. interpolating the linear coordinates into this space\n",
    "3. patching the new coordinate field to conform to the boundary\n",
    "\n",
    "This approach will work for our specific problem but it requires us to know things about the idealized geometry that aren't always available.\n",
    "So what we're about to do isn't exactly generalizable.\n",
    "\n",
    "To do the patching in step 3, we'll create boundary condition objects defined on the quadratic function space and then apply them.\n",
    "We need to know the numbering of the various boundary segments in order to do that, so to refresh the memory let's look at the mesh again."
   ]
  },
  {
   "cell_type": "code",
   "execution_count": null,
   "metadata": {},
   "outputs": [],
   "source": [
    "fig, axes = plt.subplots()\n",
    "axes.set_aspect('equal')\n",
    "firedrake.triplot(mesh, axes=axes)\n",
    "axes.legend();"
   ]
  },
  {
   "cell_type": "markdown",
   "metadata": {},
   "source": [
    "The outer curve is boundary 1, the upper mixer head is boundary 2, and the lower head is boundary 3.\n",
    "With that in mind we can create the new coordinate field."
   ]
  },
  {
   "cell_type": "code",
   "execution_count": null,
   "metadata": {},
   "outputs": [],
   "source": [
    "Vc = firedrake.VectorFunctionSpace(mesh, family='CG', degree=2)"
   ]
  },
  {
   "cell_type": "code",
   "execution_count": null,
   "metadata": {},
   "outputs": [],
   "source": [
    "from firedrake import sqrt, Constant\n",
    "def fixup(x, center, radius):\n",
    "    distance = sqrt(inner(x - center, x - center))\n",
    "    return center + radius * (x - center) / distance\n",
    "\n",
    "centers = [Constant((0., 0.)), Constant((0., +.5)), Constant((0., -0.5))]\n",
    "radii = [Constant(1.), Constant(1/8), Constant(1/8)]\n",
    "bcs = [firedrake.DirichletBC(Vc, fixup(x, center, radius), index + 1)\n",
    "       for index, (center, radius) in enumerate(zip(centers, radii))]\n",
    "\n",
    "X0 = firedrake.interpolate(mesh.coordinates, Vc)\n",
    "X = X0.copy(deepcopy=True)\n",
    "for bc in bcs:\n",
    "    bc.apply(X)"
   ]
  },
  {
   "cell_type": "markdown",
   "metadata": {},
   "source": [
    "Just as a sanity check, we'll calculate the average deviation of the new from the old coordinate field to see how different they are."
   ]
  },
  {
   "cell_type": "code",
   "execution_count": null,
   "metadata": {},
   "outputs": [],
   "source": [
    "from firedrake import ds\n",
    "length = firedrake.assemble(Constant(1.) * ds(mesh))\n",
    "firedrake.assemble(sqrt(inner(X - X0, X - X0)) * ds) / length"
   ]
  },
  {
   "cell_type": "markdown",
   "metadata": {},
   "source": [
    "Now we can solve the Stokes equations again on this new mesh using the exact same procedures as before."
   ]
  },
  {
   "cell_type": "code",
   "execution_count": null,
   "metadata": {},
   "outputs": [],
   "source": [
    "qmesh = firedrake.Mesh(X)\n",
    "Q = firedrake.FunctionSpace(qmesh, family='CG', degree=1)\n",
    "V = firedrake.VectorFunctionSpace(qmesh, family='CG', degree=2)\n",
    "Z = V * Q\n",
    "\n",
    "z = firedrake.Function(Z)\n",
    "u, p = firedrake.split(z)\n",
    "\n",
    "𝒢̇ = (μ * inner(ε(u), ε(u)) - p * div(u)) * dx\n",
    "\n",
    "basis = VectorSpaceBasis(constant=True)\n",
    "nullspace = MixedVectorSpaceBasis(Z, [Z.sub(0), basis])\n",
    "\n",
    "x = firedrake.SpatialCoordinate(qmesh)\n",
    "\n",
    "x2 = firedrake.as_vector((0, +1/2))\n",
    "r2 = firedrake.Constant(1/8)\n",
    "x3 = firedrake.as_vector((0, -1/2))\n",
    "r3 = firedrake.Constant(1/8)\n",
    "\n",
    "q2 = (x - x2) / r2\n",
    "q3 = (x - x3) / r3\n",
    "\n",
    "u2 = firedrake.as_vector((-q2[1], q2[0]))\n",
    "u3 = firedrake.as_vector((-q3[1], q3[0]))\n",
    "\n",
    "from firedrake import DirichletBC, as_vector\n",
    "bc1 = DirichletBC(Z.sub(0), as_vector((0, 0)), 1)\n",
    "bc2 = DirichletBC(Z.sub(0), u2, 2)\n",
    "bc3 = DirichletBC(Z.sub(0), u3, 3)\n",
    "\n",
    "firedrake.solve(\n",
    "    derivative(𝒢̇, z) == 0, z,\n",
    "    bcs=[bc1, bc2, bc3],\n",
    "    nullspace=nullspace,\n",
    "    solver_parameters={\n",
    "        'mat_type': 'aij',\n",
    "        'ksp_type': 'preonly',\n",
    "        'pc_type': 'lu',\n",
    "        'pc_factor_mat_solver_type': 'mumps'\n",
    "    }\n",
    ")"
   ]
  },
  {
   "cell_type": "code",
   "execution_count": null,
   "metadata": {},
   "outputs": [],
   "source": [
    "S = firedrake.FunctionSpace(qmesh, family='DG', degree=2)\n",
    "div_u = firedrake.project(div(u), S)"
   ]
  },
  {
   "cell_type": "markdown",
   "metadata": {},
   "source": [
    "The ring of spurious divergences around the outer edge of the domain is substantially reduced with curved elements.\n",
    "Nonetheless, the boundary doesn't perfectly fit the circle and this imperfection means that at some points around the edge the discretized velocity field will have an unphysical, non-zero normal component."
   ]
  },
  {
   "cell_type": "code",
   "execution_count": null,
   "metadata": {},
   "outputs": [],
   "source": [
    "fig, axes = plt.subplots()\n",
    "axes.set_aspect('equal')\n",
    "triangles = firedrake.tripcolor(div_u, axes=axes, **kwargs)\n",
    "fig.colorbar(triangles);"
   ]
  },
  {
   "cell_type": "markdown",
   "metadata": {},
   "source": [
    "Using a higher-order geometry reduced the norm of the velocity divergence almost by a factor of 4, which is a big improvement."
   ]
  },
  {
   "cell_type": "code",
   "execution_count": null,
   "metadata": {},
   "outputs": [],
   "source": [
    "quadratic_coords_divergence = firedrake.norm(div_u)\n",
    "print(linear_coords_divergence / quadratic_coords_divergence)"
   ]
  },
  {
   "cell_type": "markdown",
   "metadata": {},
   "source": [
    "### Conclusion\n",
    "\n",
    "The code above shows how to get an exact (up to rounding-error) solution to the discretized Stokes equations using MUMPS.\n",
    "For larger problems in 3D, using a direct method can become prohibitively expensive.\n",
    "The Firedrake documentation has a [demo](https://firedrakeproject.org/demos/stokes.py.html) of how to use PETSc's *field split* preconditioners, together with matrix-free operators, to solve the Stokes equations efficiently.\n",
    "In subsequent posts, I'll show more about stable discretizations of mixed problems, and how to solve the Stokes equations with more exotic boundary conditions than the standard ones we've shown here.\n",
    "\n",
    "The velocity field we calculated was not exactly divergence-free and part of this was a consequence of using a boundary condition that adapted poorly to a piecewise-linear discretized geometry.\n",
    "We were able to do better by increasing the polynomial degree of the geometry, and in general this is absolutely necessary to achieve the expected rates of convergence with higher-order finite element bases.\n",
    "Nonetheless, the support for higher-order geometries in common finite element and mesh generation packages should be better given how useful they are.\n",
    "I think this is an area where a little investment in resources could make a really outsized difference.\n",
    "The logical endpoint of this line of thinking is [isogeometric analysis](https://en.wikipedia.org/wiki/Isogeometric_analysis), which is an active area of research."
   ]
  }
 ],
 "metadata": {
  "kernelspec": {
   "display_name": "firedrake",
   "language": "python",
   "name": "firedrake"
  },
  "language_info": {
   "codemirror_mode": {
    "name": "ipython",
    "version": 3
   },
   "file_extension": ".py",
   "mimetype": "text/x-python",
   "name": "python",
   "nbconvert_exporter": "python",
   "pygments_lexer": "ipython3",
   "version": "3.8.3"
  },
  "nikola": {
   "category": "",
   "date": "2019-12-02 11:30:59 UTC-08:00",
   "description": "",
   "link": "",
   "slug": "stokes",
   "tags": "",
   "title": "Stokes flow",
   "type": "text"
  }
 },
 "nbformat": 4,
 "nbformat_minor": 2
}
