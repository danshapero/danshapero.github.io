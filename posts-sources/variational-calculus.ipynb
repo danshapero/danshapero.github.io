{
 "cells": [
  {
   "cell_type": "markdown",
   "metadata": {},
   "source": [
    "In this post I'll look at a classic example of a convex variational problem: computing [*minimal surfaces*](https://en.wikipedia.org/wiki/Minimal_surface).\n",
    "The minimal surface problem has a simple physical interpretation in terms of soap films.\n",
    "Suppose you have a wire loop and you stretch a film of soap over it; what shape does the film take?\n",
    "The available energy that the film has to do mechanical work is proportional to the product of the surface tension and the area of the film.\n",
    "When the film is in equilibrium, it will minimize the energy, so it will find the surface of least area that stretches over the hoop.\n",
    "This shape is called a minimal surface.\n",
    "\n",
    "Here we'll look at a geometrically simpler case where the surface can be described as the graph of a function defined on some footprint domain $\\Omega$ that lives in the plane.\n",
    "We'll describe the position of the hoop as a function $g$ that maps the boundary $\\partial\\Omega$ to the reals, and the surface as a function $u$ on $\\Omega$.\n",
    "The surface area of the graph of $u$ is the quantity\n",
    "\n",
    "$$J(u) = \\int_\\Omega\\sqrt{1 + |\\nabla u|^2}\\,dx.$$\n",
    "\n",
    "So, our goal is to minimize the objective functional $J$ among all functions $u$ such that $u|_{\\partial\\Omega} = g$.\n",
    "This is a classic example in variational calculus, which I'll assume you're familiar with.\n",
    "If you haven't encountered this topic before, I learned about it from [Weinstock's book](https://books.google.com/books/about/Calculus_of_Variations.html?id=6wSVuWH1PrsC).\n",
    "\n",
    "The weak form of the Euler-Lagrange equation for $J$ is\n",
    "\n",
    "$$\\int_\\Omega\\frac{\\nabla u\\cdot\\nabla v}{\\sqrt{1 + |\\nabla u|^2}}dx = 0$$\n",
    "\n",
    "for all $v$ that vanish on the boundary.\n",
    "This PDE is just a specific way of stating the general condition that, for $u$ to be an extremum of $J$, its directional derivative along all perturbations $v$ must be 0:\n",
    "\n",
    "$$\\langle dJ(u), v\\rangle = 0.$$\n",
    "\n",
    "We can go a little bit further and calculate the second derivative of $J$ too:\n",
    "\n",
    "$$\\langle d^2J(u)\\cdot v, w\\rangle = \\int_\\Omega\\frac{I - \\frac{\\nabla u\\cdot \\nabla u^*}{1 + |\\nabla u|^2}}{\\sqrt{1 + |\\nabla u|^2}}\\nabla v\\cdot \\nabla w\\, dx,$$\n",
    "\n",
    "Deriving this equation takes a bit of leg work, but the important part is that it looks like a symmetric, positive-definite elliptic operator, only the conductivity tensor depends on the gradient of $u$.\n",
    "Since the second derivative of $J$ is positive-definite, the minimization problem is convex and thus has a unique solution.\n",
    "\n",
    "There are many approaches you could take to solving the minimal surface equation.\n",
    "I'll examine some here using the finite element modeling package [Firedrake](https://www.firedrakeproject.org).\n",
    "If you're unfamiliar with Firedrake or FEniCS, their main selling point is that, rather than write code to fill matrices and vectors yourself, these packages use an embedded domain-specific language to describe the weak form of the PDE.\n",
    "The library then generates efficient C code on the spot to fill these matrices and vectors.\n",
    "Having done all this by hand for several years I can tell you this is a big improvement!"
   ]
  },
  {
   "cell_type": "code",
   "execution_count": null,
   "metadata": {},
   "outputs": [],
   "source": [
    "import firedrake"
   ]
  },
  {
   "cell_type": "markdown",
   "metadata": {},
   "source": [
    "To keep things simple, we'll use the unit square as our spatial domain, and we'll use piecewise quadratic finite elements."
   ]
  },
  {
   "cell_type": "code",
   "execution_count": null,
   "metadata": {},
   "outputs": [],
   "source": [
    "mesh = firedrake.UnitSquareMesh(100, 100, quadrilateral=True)\n",
    "Q = firedrake.FunctionSpace(mesh, family='CG', degree=2)"
   ]
  },
  {
   "cell_type": "markdown",
   "metadata": {},
   "source": [
    "I'll use a test case from some [course notes](http://www-users.math.umn.edu/~arnold/8445-8446.17-18/) from a class that Douglas Arnold teaches on finite element methods.\n",
    "The boundary curve is\n",
    "\n",
    "$$g = ax\\cdot\\sin\\left(\\frac{5}{2}\\pi y\\right).$$\n",
    "\n",
    "In the notes, Arnold uses $a = 1/5$.\n",
    "When the numerical range of $g$ is small relative to the diameter of the domain, the minimal surface equation linearizes to the Laplace equation.\n",
    "I want to instead look at the more nonlinear case of $a > 1$, which will stress the nonlinear solver a good deal more."
   ]
  },
  {
   "cell_type": "code",
   "execution_count": null,
   "metadata": {},
   "outputs": [],
   "source": [
    "x, y = firedrake.SpatialCoordinate(mesh)\n",
    "\n",
    "from numpy import pi as π\n",
    "from firedrake import sin\n",
    "a = firedrake.Constant(3/2)\n",
    "g = a * x * sin(5 * π * y / 2)"
   ]
  },
  {
   "cell_type": "markdown",
   "metadata": {},
   "source": [
    "A picture is worth a thousand words of course."
   ]
  },
  {
   "cell_type": "code",
   "execution_count": null,
   "metadata": {},
   "outputs": [],
   "source": [
    "import matplotlib.pyplot as plt\n",
    "import mpl_toolkits.mplot3d\n",
    "fig = plt.figure()\n",
    "axes = fig.add_subplot(projection='3d')\n",
    "firedrake.trisurf(firedrake.interpolate(g, Q), axes=axes);"
   ]
  },
  {
   "cell_type": "markdown",
   "metadata": {},
   "source": [
    "Here we'll create the proposed solution $u$, define the objective functional, and try to find the minimizer naively using Firedrake's built-in solver.\n",
    "With the value for $a$ that I chose, the solver won't converge using its default settings."
   ]
  },
  {
   "cell_type": "code",
   "execution_count": null,
   "metadata": {},
   "outputs": [],
   "source": [
    "u = firedrake.interpolate(g, Q)\n",
    "bc = firedrake.DirichletBC(Q, g, 'on_boundary')\n",
    "\n",
    "from firedrake import sqrt, inner, grad, dx\n",
    "J = sqrt(1 + inner(grad(u), grad(u))) * dx\n",
    "F = firedrake.derivative(J, u)\n",
    "\n",
    "try:\n",
    "    firedrake.solve(F == 0, u, bc)\n",
    "except firedrake.ConvergenceError:\n",
    "    print('Woops, nonlinear solver failed to converge!')"
   ]
  },
  {
   "cell_type": "markdown",
   "metadata": {},
   "source": [
    "We could tweak these settings to make the solver converge, but instead let's try and dive deeper into what does and doesn't make for a good nonlinear solver."
   ]
  },
  {
   "cell_type": "markdown",
   "metadata": {},
   "source": [
    "#### Picard's method\n",
    "\n",
    "This method is predicated on the idea that many nonlinear PDEs look like a linear problem with coefficients that depend on the solution.\n",
    "If you freeze those coefficients at the current guess for the solution, you get something that's fairly easy to solve and hopefully convergent.\n",
    "Suppose we've got a guess $u_n$ for the solution of the minimal surface equation.\n",
    "The Picard method would give us a next guess $u_{n + 1}$ that solves the linear PDE\n",
    "\n",
    "$$\\int_\\Omega\\frac{\\nabla u_{n + 1}\\cdot\\nabla v}{\\sqrt{1 + |\\nabla u_n|^2}}dx = 0$$\n",
    "\n",
    "for all $v$ that vanish on the boundary.\n",
    "This method is easy to implement if you know the functional form of the problem you're solving.\n",
    "Let's see how fast this decreases the area."
   ]
  },
  {
   "cell_type": "code",
   "execution_count": null,
   "metadata": {},
   "outputs": [],
   "source": [
    "u.interpolate(g)\n",
    "u_n = u.copy(deepcopy=True)\n",
    "v = firedrake.TestFunction(Q)\n",
    "\n",
    "G = inner(grad(u), grad(v)) / sqrt(1 + inner(grad(u_n), grad(u_n))) * dx\n",
    "\n",
    "import numpy as np\n",
    "num_iterations = 24\n",
    "Js = np.zeros(num_iterations)\n",
    "Js[0] = firedrake.assemble(J)\n",
    "for step in range(1, num_iterations):\n",
    "    firedrake.solve(G == 0, u, bc)\n",
    "    u_n.assign(u)\n",
    "    Js[step] = firedrake.assemble(J)"
   ]
  },
  {
   "cell_type": "markdown",
   "metadata": {},
   "source": [
    "The method converges in the eyeball norm in about 6 iterations."
   ]
  },
  {
   "cell_type": "code",
   "execution_count": null,
   "metadata": {},
   "outputs": [],
   "source": [
    "fig, axes = plt.subplots()\n",
    "axes.scatter(list(range(num_iterations)), Js, label='surface area')\n",
    "axes.set_xlabel('iteration')\n",
    "\n",
    "axes = axes.twinx()\n",
    "axes.scatter(list(range(1, num_iterations)), -np.diff(Js) / Js[1:],\n",
    "             color='tab:orange', label='relative decrease')\n",
    "axes.set_ylim(1e-6, 1)\n",
    "axes.set_yscale('log')\n",
    "\n",
    "fig.legend(loc='upper center');"
   ]
  },
  {
   "cell_type": "markdown",
   "metadata": {},
   "source": [
    "This looks pretty good -- the iterates converge very rapidly to the minimizer.\n",
    "There are still reasons to look for something better though.\n",
    "Picard's method relies on the problem having special structure, which is true of the minimal surface equation but harder to find for other problems."
   ]
  },
  {
   "cell_type": "markdown",
   "metadata": {},
   "source": [
    "#### Newton's method (take 1)\n",
    "\n",
    "One of the best known methods is due to Newton.\n",
    "The idea behind Newton's method is to use the Taylor expansion of the objective at the current guess $u_{n - 1}$ up to second order to define a quadratic approximation to the objective:\n",
    "\n",
    "$$J(u_n + v) = J(u_n) + \\langle F, v\\rangle + \\frac{1}{2}\\langle Hv, v\\rangle + \\ldots$$\n",
    "\n",
    "where $F = dJ(u_n)$, $H = d^2J(u_n)$ are the first and second derivatives of the objective.\n",
    "We can then define a new iterate as the minimizer of this quadratic problem:\n",
    "\n",
    "$$u_{n + 1} = u_n + \\text{argmin}_v\\, \\langle F, v\\rangle + \\frac{1}{2}\\langle Hv, v\\rangle.$$\n",
    "\n",
    "The big advantage of Newton's method is that, for a starting guess sufficiently close to the solution, the iterates converge quadratically to the minimizer.\n",
    "Picard's method converges at best linearly.\n",
    "\n",
    "One of the advantages of Newton's method is that there are many software packages for automatically calculating first and second derivatives of nonlinear functionals.\n",
    "So it's easy to apply to a broad class of problems.\n",
    "It isn't quite so clear how to select the right linear operator for Picard's method."
   ]
  },
  {
   "cell_type": "code",
   "execution_count": null,
   "metadata": {},
   "outputs": [],
   "source": [
    "u.interpolate(g)\n",
    "\n",
    "F = firedrake.derivative(J, u)\n",
    "H = firedrake.derivative(F, u)\n",
    "\n",
    "v = firedrake.Function(Q)\n",
    "\n",
    "num_iterations = 24\n",
    "Js = np.zeros(num_iterations + 1)\n",
    "Js[0] = firedrake.assemble(J)\n",
    "\n",
    "bc = firedrake.DirichletBC(Q, 0, 'on_boundary')\n",
    "params = {'ksp_type': 'cg', 'pc_type': 'icc'}\n",
    "try:\n",
    "    for step in range(1, num_iterations):\n",
    "        firedrake.solve(H == -F, v, bc, solver_parameters=params)\n",
    "        u += v\n",
    "        Js[step] = firedrake.assemble(J)\n",
    "except firedrake.ConvergenceError:\n",
    "    print('Newton solver failed after {} steps!'.format(step))"
   ]
  },
  {
   "cell_type": "markdown",
   "metadata": {},
   "source": [
    "Doesn't bode very well does it?\n",
    "Let's see what the objective functional did before exploding:"
   ]
  },
  {
   "cell_type": "code",
   "execution_count": null,
   "metadata": {},
   "outputs": [],
   "source": [
    "print(Js[:step])"
   ]
  },
  {
   "cell_type": "markdown",
   "metadata": {},
   "source": [
    "Not a lot to save from the wreckage here -- the objective functional was increasing, which is just the opposite of what we want.\n",
    "What happened?\n",
    "Newton's method will converge quadratically *if initialized close enough to the true solution*.\n",
    "We don't have any idea a priori if we're close enough, and if we aren't then there's no guarantee that the iterates will converge at all.\n",
    "The example from Doug Arnold's course notes used a much smaller amplitude $a$ in the boundary data, so the initial guess is already within the convergence basin."
   ]
  },
  {
   "cell_type": "markdown",
   "metadata": {},
   "source": [
    "#### Newton's method (take 2)\n",
    "\n",
    "But there's always hope!\n",
    "Suppose $v$ is a function such that the directional derivative of $J$ at $u$ along $v$ is negative:\n",
    "\n",
    "$$\\langle dJ(u), v\\rangle < 0.$$\n",
    "\n",
    "Then there must be some sufficiently small real number $t$ such that\n",
    "\n",
    "$$J(u + t\\cdot v) < J(u).$$\n",
    "\n",
    "If we do have a descent direction in hand, then the problem of finding a better guess $u_{n + 1}$ starting from $u_n$ is reduced to the one-dimensional problem to minimize $J(u_n + t\\cdot v)$ with respect to the real variable $t$.\n",
    "\n",
    "If $H$ is any symmetric, positive-definite linear operator, then\n",
    "\n",
    "$$v = -H^{-1}dJ(u)$$\n",
    "\n",
    "is a descent direction for $J$.\n",
    "While the pure Newton method can diverge for some starting guesses, it does offer up a really good way to come up with descent directions for convex problems because the second derivative of the objective is positive-definite.\n",
    "This suggests the following algorithm:\n",
    "\n",
    "$$\\begin{align}\n",
    "v_n & = -d^2J(u_n)^{-1}dJ(u_n) \\\\\n",
    "t_n & = \\text{argmin}_t\\, J(u_n + t\\cdot v_n) \\\\\n",
    "u_{n + 1} & = u_n + t_n\\cdot v_n.\n",
    "\\end{align}$$\n",
    "\n",
    "This is called the damped Newton method or the Newton line search method.\n",
    "We can use standard packages like scipy to do the 1D minimization, as I'll show below."
   ]
  },
  {
   "cell_type": "code",
   "execution_count": null,
   "metadata": {},
   "outputs": [],
   "source": [
    "u.interpolate(g)\n",
    "\n",
    "F = firedrake.derivative(J, u)\n",
    "H = firedrake.derivative(F, u)\n",
    "\n",
    "v = firedrake.Function(Q)\n",
    "bc = firedrake.DirichletBC(Q, 0, 'on_boundary')\n",
    "\n",
    "import scipy.optimize\n",
    "t = firedrake.Constant(1)\n",
    "def J_t(s):\n",
    "    t.assign(s)\n",
    "    return firedrake.assemble(firedrake.replace(J, {u: u + t * v}))\n",
    "\n",
    "num_iterations = 24\n",
    "Js = np.zeros(num_iterations)\n",
    "ts = np.zeros(num_iterations)\n",
    "Δs = np.zeros(num_iterations)\n",
    "Js[0] = firedrake.assemble(J)\n",
    "\n",
    "from firedrake import action\n",
    "for step in range(1, num_iterations):\n",
    "    firedrake.solve(H == -F, v, bc, solver_parameters=params)\n",
    "    Δs[step] = firedrake.assemble(-action(F, v))\n",
    "    \n",
    "    line_search_result = scipy.optimize.minimize_scalar(J_t)\n",
    "    if not line_search_result.success:\n",
    "        raise firedrake.ConvergenceError('Line search failed at step {}!'\n",
    "                                         .format(step))\n",
    "    t_min = firedrake.Constant(line_search_result.x)\n",
    "    u.assign(u + t_min * v)\n",
    "\n",
    "    ts[step] = t_min\n",
    "    Js[step] = firedrake.assemble(J)"
   ]
  },
  {
   "cell_type": "markdown",
   "metadata": {},
   "source": [
    "The same convergence plot as above for Newton's method paints a very different picture."
   ]
  },
  {
   "cell_type": "code",
   "execution_count": null,
   "metadata": {},
   "outputs": [],
   "source": [
    "fig, axes = plt.subplots()\n",
    "axes.scatter(list(range(num_iterations)), Js, label='surface area')\n",
    "axes.set_xlabel('iteration')\n",
    "\n",
    "axes = axes.twinx()\n",
    "axes.scatter(list(range(1, num_iterations)), -np.diff(Js) / Js[1:],\n",
    "             color='tab:orange', label='relative decrease')\n",
    "axes.set_ylim(1e-16, 1)\n",
    "axes.set_yscale('log')\n",
    "\n",
    "fig.legend(loc='upper center');"
   ]
  },
  {
   "cell_type": "markdown",
   "metadata": {},
   "source": [
    "The algorithm starts converges linearly just like the Picard method does.\n",
    "The second phase starts around iteration 15.\n",
    "By this point, the algorithm has entered the quadratic convergence basin and the errors plummet."
   ]
  },
  {
   "cell_type": "code",
   "execution_count": null,
   "metadata": {},
   "outputs": [],
   "source": [
    "fig, axes = plt.subplots()\n",
    "axes.scatter(list(range(1, num_iterations)), ts[1:])\n",
    "axes.set_xlabel('iteration')\n",
    "axes.set_ylabel('step size');"
   ]
  },
  {
   "cell_type": "markdown",
   "metadata": {},
   "source": [
    "Another revealing way to look at this is to examine the *Newton decrement*.\n",
    "The Newton decrement $\\Delta_k$ at step $k$ is defined as the directional derivative of the objective functional along the search direction:\n",
    "\n",
    "$$\\Delta_k = \\langle dJ(u_k), v_k\\rangle.$$\n",
    "\n",
    "The Newton decrement is approximately half of the difference between the value of the objective at the current guess and the next guess:\n",
    "\n",
    "$$\\begin{align}\n",
    "J(u_{k + 1}) - J(u_k) & = \\langle dJ(u_k), v_k\\rangle + \\frac{1}{2}\\langle d^2J(u_k)v_k, v_k\\rangle + \\ldots \\\\\n",
    "& = \\langle dJ(u_k), v_k\\rangle - \\frac{1}{2}\\langle dJ(u_k), v_k\\rangle + \\ldots\\\\\n",
    "& = \\frac{1}{2}\\langle dJ(u_k), v_k\\rangle + \\ldots\n",
    "\\end{align}$$\n",
    "\n",
    "where we have used the fact that $v_k = -d^2J(u_k)^{-1}dJ(u_k)$ in going from the first line to the second.\n",
    "An informal way of describing the Newton decrement is that it gives an upper bound on how much we can expect reduce the objective functional by one more iteration of Newton's method.\n",
    "\n",
    "The plot below shows the ratio of the differences in the objective functional to the value of the Newton decrement."
   ]
  },
  {
   "cell_type": "code",
   "execution_count": null,
   "metadata": {},
   "outputs": [],
   "source": [
    "fig, axes = plt.subplots()\n",
    "axes.scatter(list(range(1, num_iterations)), -2 * np.diff(Js) / Δs[1:])\n",
    "axes.set_xlabel('iteration')\n",
    "axes.set_ylabel('Actual decrease / expected decrease');"
   ]
  },
  {
   "cell_type": "markdown",
   "metadata": {},
   "source": [
    "During the first few iterations while the method is iterating towards the quadratic convergence basin, the Newton decrement is less than half of the actual decrease.\n",
    "Once the method has found the convergence basin the ratio hits almost exactly 1/2 at a few points.\n",
    "Finally, once the method has effectively converged, the ratio drops to 0.\n",
    "\n",
    "In the code above, I picked a fixed value of the iteration count.\n",
    "For real applications it's better to have a dynamic stopping criterion based on the current and past state.\n",
    "The Newton decrement is a useful quantity in this respect because it depends only on the current state.\n",
    "Here we'll plot the ratio of the Newton decrement to the value of the objective itself."
   ]
  },
  {
   "cell_type": "code",
   "execution_count": null,
   "metadata": {},
   "outputs": [],
   "source": [
    "fig, axes = plt.subplots()\n",
    "axes.scatter(list(range(1, num_iterations)), Δs[1:] / Js[:-1])\n",
    "axes.set_ylim(1e-7, 1)\n",
    "axes.set_yscale('log')\n",
    "axes.set_xlabel('iteration')\n",
    "axes.set_ylabel('Newton decrement / objective');"
   ]
  },
  {
   "cell_type": "markdown",
   "metadata": {},
   "source": [
    "A sensible stopping criterion is that $\\Delta_k < \\epsilon \\cdot J(u_k)$ where the tolerance $\\epsilon$ is about $10^{-6}$.\n",
    "It's handy to think about this in terms of the informal description of the Newton decrement -- stop iterating when the expected gain is less than some small fraction of the currrent cost.\n",
    "\n",
    "For the minimal surface equation, the objective functional is strictly positive and convex.\n",
    "Other problems might be convex but the objective is a sum of parts that can be either positive or negative.\n",
    "For example, for viscous flow problems, the objective can be divided into internal viscous dissipation of energy (strictly positive) and the power from driving stress (positive or negative).\n",
    "For more general problems it would then be incumbent on you as the modeler to know in advance which parts of the objective are strictly positive and use these to set the scale in the convergence criterion."
   ]
  },
  {
   "cell_type": "code",
   "execution_count": null,
   "metadata": {},
   "outputs": [],
   "source": [
    "fig = plt.figure()\n",
    "axes = fig.add_subplot(projection='3d')\n",
    "firedrake.trisurf(u, axes=axes);"
   ]
  }
 ],
 "metadata": {
  "kernelspec": {
   "display_name": "firedrake",
   "language": "python",
   "name": "firedrake"
  },
  "language_info": {
   "codemirror_mode": {
    "name": "ipython",
    "version": 3
   },
   "file_extension": ".py",
   "mimetype": "text/x-python",
   "name": "python",
   "nbconvert_exporter": "python",
   "pygments_lexer": "ipython3",
   "version": "3.8.3"
  },
  "nikola": {
   "category": "",
   "date": "2019-11-08 15:12:54 UTC-08:00",
   "description": "",
   "link": "",
   "slug": "variational-calculus",
   "tags": "",
   "title": "Variational calculus",
   "type": "text"
  }
 },
 "nbformat": 4,
 "nbformat_minor": 2
}
