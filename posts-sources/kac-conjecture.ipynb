{
 "cells": [
  {
   "cell_type": "markdown",
   "metadata": {},
   "source": [
    "In a previous post, we gave a numerical demonstration of the *Weyl asymptotic law*, which relates the eigenvalues of the Laplace operator on a domain to its area and perimeter.\n",
    "If this domain were a drumhead, the eigenvalues are essentially its resonant frequencies.\n",
    "Weyl's law tells you that you can hear the area and perimeter of a drumhead if only you listen carefully.\n",
    "In 1966, Mark Kac posed the tantalizing [question](https://www.math.ucdavis.edu/~hunter/m207b/kac.pdf) of whether you could hear not just the area and perimeter, but the entire shape of a drum.\n",
    "Knowing all the eigenvalues of a domain, can you reconstruct the whole shape?\n",
    "In what must have been a pretty brutal wet blanket moment, John Milnor [showed](https://www.pnas.org/content/51/4/542) that there are two distinct 16-dimensional manifolds with the same spectrum, so the answer to Kac's question is no in general.\n",
    "Now I've never played a 16-dimensional drum, but in 1992 a [counterexample](https://www.ams.org/journals/bull/1992-27-01/S0273-0979-1992-00289-6/) was found in the plane.\n",
    "Here we'll study this problem numerically."
   ]
  },
  {
   "cell_type": "markdown",
   "metadata": {},
   "source": [
    "### Geometry\n",
    "\n",
    "The two shapes we'll use were devised by Gordon, Webb, and Wolpert.\n",
    "I got the coordinates for the polygon vertices by looking at [this figure](https://en.wikipedia.org/wiki/Hearing_the_shape_of_a_drum#/media/File:Isospectral_drums.svg) from the wikipedia page on hearing the shape of a drum."
   ]
  },
  {
   "cell_type": "code",
   "execution_count": null,
   "metadata": {},
   "outputs": [],
   "source": [
    "import numpy as np\n",
    "drum1 = np.array([[1, 3],\n",
    "                  [0, 2],\n",
    "                  [1, 1],\n",
    "                  [2, 1],\n",
    "                  [2, 0],\n",
    "                  [3, 1],\n",
    "                  [3, 2],\n",
    "                  [1, 2]])\n",
    "\n",
    "drum2 = np.array([[0, 3],\n",
    "                  [0, 2],\n",
    "                  [2, 0],\n",
    "                  [2, 1],\n",
    "                  [3, 1],\n",
    "                  [2, 2],\n",
    "                  [1, 2],\n",
    "                  [1, 3]])"
   ]
  },
  {
   "cell_type": "markdown",
   "metadata": {},
   "source": [
    "To solve PDEs on these shapes, we'll first generate outlines using the package [pygmsh]() and save it to a .geo file."
   ]
  },
  {
   "cell_type": "code",
   "execution_count": null,
   "metadata": {},
   "outputs": [],
   "source": [
    "import pygmsh\n",
    "def make_geo(vertices, name, δx = 0.25):\n",
    "    geometry = pygmsh.built_in.Geometry()\n",
    "    N = len(vertices)\n",
    "\n",
    "    points = [geometry.add_point([x[0], x[1], 0], lcar=δx) for x in vertices]\n",
    "    lines = [geometry.add_line(points[n], points[(n + 1) % N]) for n in range(N)]\n",
    "    line_loop = geometry.add_line_loop(lines)\n",
    "    plane_surface = geometry.add_plane_surface(line_loop)\n",
    "\n",
    "    for line in lines:\n",
    "        geometry.add_physical(line)\n",
    "    geometry.add_physical(plane_surface)\n",
    "\n",
    "    with open(name, 'w') as geo_file:\n",
    "        geo_file.write(geometry.get_code())"
   ]
  },
  {
   "cell_type": "code",
   "execution_count": null,
   "metadata": {},
   "outputs": [],
   "source": [
    "make_geo(drum1, 'drum1.geo')\n",
    "make_geo(drum2, 'drum2.geo')"
   ]
  },
  {
   "cell_type": "markdown",
   "metadata": {},
   "source": [
    "Then we'll use the mesh generator [gmsh](https://www.gmsh.info) to triangulate the interiors of each polygon and save the resulting mesh to a .msh file."
   ]
  },
  {
   "cell_type": "code",
   "execution_count": null,
   "metadata": {},
   "outputs": [],
   "source": [
    "!gmsh -2 -format msh2 -v 0 drum1.geo\n",
    "!gmsh -2 -format msh2 -v 0 drum2.geo"
   ]
  },
  {
   "cell_type": "markdown",
   "metadata": {},
   "source": [
    "Finally we'll read in the meshes using Firedrake and refine them."
   ]
  },
  {
   "cell_type": "code",
   "execution_count": null,
   "metadata": {},
   "outputs": [],
   "source": [
    "import firedrake\n",
    "coarse_mesh1 = firedrake.Mesh('drum1.msh')\n",
    "mesh_hierarchy1 = firedrake.MeshHierarchy(coarse_mesh1, 4)\n",
    "mesh1 = mesh_hierarchy1[-1]\n",
    "\n",
    "coarse_mesh2 = firedrake.Mesh('drum2.msh')\n",
    "mesh_hierarchy2 = firedrake.MeshHierarchy(coarse_mesh2, 4)\n",
    "mesh2 = mesh_hierarchy2[-1]"
   ]
  },
  {
   "cell_type": "code",
   "execution_count": null,
   "metadata": {},
   "outputs": [],
   "source": [
    "%matplotlib inline\n",
    "import matplotlib.pyplot as plt\n",
    "fig, axes = plt.subplots(ncols=2, sharex=True, sharey=True)\n",
    "for ax in axes:\n",
    "    ax.set_aspect('equal')\n",
    "    \n",
    "firedrake.triplot(coarse_mesh1, axes=axes[0])\n",
    "firedrake.triplot(coarse_mesh2, axes=axes[1]);"
   ]
  },
  {
   "cell_type": "markdown",
   "metadata": {},
   "source": [
    "### Solving the eigenproblem\n",
    "\n",
    "To solve the eigenproblem, we'll use routines from package [SLEPc](http://slepc.upv.es/) just like we've done before for Weyl's law and Yau's conjecture.\n",
    "Since Firedrake is built on top of PETSc, any assembled linear operator has a PETSc matrix object living somewhere in the murky depths.\n",
    "Setting up the eigenproblem is just a matter of pulling out the underlying matrix objects and passing them to SLEPc."
   ]
  },
  {
   "cell_type": "code",
   "execution_count": null,
   "metadata": {},
   "outputs": [],
   "source": [
    "from firedrake import inner, grad, dx\n",
    "from petsc4py import PETSc\n",
    "from slepc4py import SLEPc\n",
    "\n",
    "def get_eigenvalues(mesh, num_eigenvalues=200):\n",
    "    Q = firedrake.FunctionSpace(mesh, 'CG', 1)\n",
    "    ϕ = firedrake.TestFunction(Q)\n",
    "    ψ = firedrake.TrialFunction(Q)\n",
    "    a = inner(grad(ϕ), grad(ψ)) * dx\n",
    "    m = ϕ * ψ * dx\n",
    "\n",
    "    bc = firedrake.DirichletBC(Q, firedrake.Constant(0), 'on_boundary')\n",
    "    A = firedrake.assemble(a, bcs=bc).M.handle\n",
    "    M = firedrake.assemble(m).M.handle\n",
    "\n",
    "    opts = PETSc.Options()\n",
    "    opts.setValue('eps_gen_hermitian', None)\n",
    "    opts.setValue('eps_target_real', None)\n",
    "    opts.setValue('eps_smallest_real', None)\n",
    "    opts.setValue('st_type', 'sinvert')\n",
    "    opts.setValue('st_ksp_type', 'cg')\n",
    "    opts.setValue('st_pc-type', 'jacobi')\n",
    "    opts.setValue('eps_tol', 1e-8)\n",
    "    \n",
    "    eigensolver = SLEPc.EPS().create(comm=firedrake.COMM_WORLD)\n",
    "    eigensolver.setDimensions(num_eigenvalues)\n",
    "    eigensolver.setOperators(A, M)\n",
    "    eigensolver.setFromOptions()\n",
    "    \n",
    "    eigensolver.solve()\n",
    "    \n",
    "    num_converged = eigensolver.getConverged()\n",
    "    λs = np.array([eigensolver.getEigenvalue(k) for k in range(num_converged)]).real\n",
    "    return λs"
   ]
  },
  {
   "cell_type": "markdown",
   "metadata": {},
   "source": [
    "As we expect, the eigenvaue distribution of the two domains is practically the same in the eyeball norm."
   ]
  },
  {
   "cell_type": "code",
   "execution_count": null,
   "metadata": {},
   "outputs": [],
   "source": [
    "Λ1 = get_eigenvalues(mesh1)\n",
    "Λ2 = get_eigenvalues(mesh2)\n",
    "\n",
    "fig, axes = plt.subplots()\n",
    "axes.plot(Λ1, color='tab:green')\n",
    "axes.plot(Λ2, color='tab:blue');"
   ]
  },
  {
   "cell_type": "markdown",
   "metadata": {},
   "source": [
    "To be more precise, the relative difference in the first 200 eigenvalues is below a 0.1%."
   ]
  },
  {
   "cell_type": "code",
   "execution_count": null,
   "metadata": {},
   "outputs": [],
   "source": [
    "fig, axes = plt.subplots()\n",
    "axes.plot(list(range(200)), np.abs((Λ1[:200] - Λ2[:200]) / Λ2[:200]));"
   ]
  },
  {
   "cell_type": "markdown",
   "metadata": {},
   "source": [
    "### Discussion\n",
    "\n",
    "Steve Zelditch has a wonderful [review](https://arxiv.org/pdf/1504.02000.pdf) of this topic on arXiv.\n",
    "As we've shown here experimentally, there are distinct isospectral planar domains, but the domains we used aren't convex.\n",
    "Zelditch proved that the spectrum uniquely characterizes the domain if it's convex and has an analytic boundary.\n",
    "\n",
    "This type of problem has ramifications beyond just diverting mathematicians.\n",
    "For example, the same underlying mathematics shows up in eigenvalue problems for the Schroedinger equation.\n",
    "Knowing the interatomic potential, it's possible to calculate the quantum-mechanical energy levels.\n",
    "But if it's possible to infer things about potentials from energy levels -- essentially the Kac conjecture but for quantum mechanics -- then this could be useful in experimental physics as well."
   ]
  }
 ],
 "metadata": {
  "kernelspec": {
   "display_name": "firedrake",
   "language": "python",
   "name": "firedrake"
  },
  "language_info": {
   "codemirror_mode": {
    "name": "ipython",
    "version": 3
   },
   "file_extension": ".py",
   "mimetype": "text/x-python",
   "name": "python",
   "nbconvert_exporter": "python",
   "pygments_lexer": "ipython3",
   "version": "3.8.3"
  },
  "nikola": {
   "category": "",
   "date": "2019-11-05 18:18:04 UTC-08:00",
   "description": "",
   "link": "",
   "slug": "kac-conjecture",
   "tags": "",
   "title": "Kac's conjecture",
   "type": "text"
  }
 },
 "nbformat": 4,
 "nbformat_minor": 2
}
