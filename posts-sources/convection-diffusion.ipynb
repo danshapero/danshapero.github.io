{
 "cells": [
  {
   "cell_type": "markdown",
   "metadata": {},
   "source": [
    "In a previous post, we looked at how to discretize conservation laws using the discontinuous Galerkin method.\n",
    "The DG method, with an appropriate choice of numerical flux and limiting scheme, can be a great way to solve purely hyperbolic problems.\n",
    "But many realistic problems aren't purely hyperbolic -- there's diffusive transport as well:\n",
    "\n",
    "$$\\frac{\\partial\\phi}{\\partial t} + \\nabla\\cdot \\phi u = \\nabla\\cdot k\\nabla \\phi.$$\n",
    "\n",
    "where $\\phi$ is the solution, $u$ is a velocity field, and $k$ is the conductivity.\n",
    "Depending on the ratio $UL / k$, where $L$ is a characteristic length scale, the problem is either advection- or diffusion-dominated.\n",
    "\n",
    "What basis functions should we use for a problem with mixed character like convection-diffusion?\n",
    "It might seem that we have only bad choices.\n",
    "We could use continuous basis functions, which makes the diffusive part of the equation easy, but we might then need to stabilize the advective part using, say, streamlined upwinding.\n",
    "DG methods work perfectly well for discretizing the advection operator, but it feels a little strange to use basis functions that don't even live in the same function space as the solution.\n",
    "Nonetheless, it is possible to use DG for elliptic problems and we've already seen how in the form of Nitsche's method."
   ]
  },
  {
   "cell_type": "markdown",
   "metadata": {},
   "source": [
    "### DG for elliptic problems\n",
    "\n",
    "Recall that Nitsche's method gave us a way to weakly impose Dirichlet boundary conditions for elliptic PDE by modifying the variational principle rather than the discretized linear system.\n",
    "In the post where I introduced Nitsche's method, the application was for Dirichlet conditions at the boundary $\\partial\\Omega$ of the domain $\\Omega$.\n",
    "To arrive at a DG discretization of elliptic problems, we'll instead imagine **using Nitsche's method on every cell of the mesh**.\n",
    "Rather than impose a set value on the boundary of each cell, we'll instead use Nitsche's method to penalize discontinuous solutions.\n",
    "For this reason the method that I'll describe is called the symmetric interior-penalty discontinuous Galerkin method.\n",
    "\n",
    "Let's suppose we were only interested in solving the variational problem to minimize\n",
    "\n",
    "$$J(\\phi) = \\frac{1}{2}\\int_\\Omega k|\\nabla\\phi|^2dx$$\n",
    "\n",
    "subject to the boundary condition $\\phi|_{\\partial\\Omega} = g$.\n",
    "This is another way of stating the weak form of the elliptic part of our problem above.\n",
    "Rather than enforce the Dirichlet boundary condition at the level of the discretized linear system, as is customary, we could instead use a different action functional:\n",
    "\n",
    "$$J(\\phi) = \\frac{1}{2}\\int_\\Omega k|\\nabla \\phi|^2dx - \\int_{\\partial\\Omega}k\\frac{\\partial \\phi}{\\partial n}(\\phi - g)\\,ds + \\sum_E\\int_E\\frac{\\gamma k}{2h}|\\phi - g|^2ds,$$\n",
    "\n",
    "where $E$ are all of the boundary faces of the mesh, $h$ the diameter of $E$, and $\\gamma$ a constant.\n",
    "Let $\\theta$ be the smallest angle between any two edges of the mesh, $d$ the spatial dimension, and $p$ the polynomial degree of the finite element basis.\n",
    "In the post on Nitsche's method, we showed that if\n",
    "\n",
    "$$\\gamma > 2 \\cdot p \\cdot (p + d - 1) \\cdot \\csc\\theta\\cdot\\cot\\theta / 2\\cdot\\frac{\\max k}{\\min k}$$\n",
    "\n",
    "the modified action functional is convex and we can be assured that there is a discrete solution.\n",
    "The advantage of Nitsche's method is that we don't have to modify the discretized linear system, which can be error-prone, and that we can compute a good value of $\\gamma$ just by examining the mesh and conductivity coefficient.\n",
    "\n",
    "The idea behind DG discretization of elliptic problems is that, instead of using Nitsche's method to enforce a Dirichlet condition at the boundary of the whole domain, **we use it to force the solution to be continuous across element boundaries**.\n",
    "Rather than match $q$ to some externally defined function $g$, we instead match the value $q_+$ on one side of a facet $E$ to the value $q_-$ on the other side; terms like $q - g$ instead become $[q] = q_+ - q_-$, where we've introduced the shorthand $[\\cdot]$ to denote the jump across an inter-element boundary.\n",
    "In that case, the action functional becomes\n",
    "\n",
    "$$J(\\phi) = \\frac{1}{2}\\sum_K\\int_K k|\\nabla\\phi|^2dx + \\sum_E\\int_Ek\\left[\\frac{\\partial\\phi}{\\partial n}\\right][\\phi]\\, dS + \\sum_E\\int_E\\frac{\\gamma k}{2h}[\\phi]^2dS + \\ldots$$\n",
    "\n",
    "where I've left off the remaining terms.\n",
    "The same considerations apply to picking $\\gamma$ and we can actually get away with using the exact same value as before.\n",
    "To illustrate, let's try this on a toy problem."
   ]
  },
  {
   "cell_type": "markdown",
   "metadata": {},
   "source": [
    "### Demonstration\n",
    "\n",
    "We'll use the unit square as our domain.\n",
    "Although we know ahead of time that the minimum triangle area is $\\pi / 4$, I've included some code here to calculate it.\n",
    "We'll need to know this value in order to get a good value of the penalty parameter."
   ]
  },
  {
   "cell_type": "code",
   "execution_count": null,
   "metadata": {},
   "outputs": [],
   "source": [
    "import firedrake\n",
    "nx, ny = 32, 32\n",
    "mesh = firedrake.UnitSquareMesh(nx, ny)"
   ]
  },
  {
   "cell_type": "code",
   "execution_count": null,
   "metadata": {},
   "outputs": [],
   "source": [
    "import numpy as np\n",
    "from numpy.linalg import norm\n",
    "\n",
    "coords = mesh.coordinates.dat.data_ro\n",
    "cells = mesh.coordinates.cell_node_map().values\n",
    "\n",
    "θ = np.inf\n",
    "for cell in cells:\n",
    "    for k in range(3):\n",
    "        x, y, z = coords[np.roll(cell, k)]\n",
    "        ζ, ξ = y - x, z - x\n",
    "        angle = np.arccos(np.inner(ζ, ξ) / (norm(ζ) * norm(ξ)))\n",
    "        θ = min(angle, θ)"
   ]
  },
  {
   "cell_type": "markdown",
   "metadata": {},
   "source": [
    "For boundary values, we'll use a random trigonometric polynomial."
   ]
  },
  {
   "cell_type": "code",
   "execution_count": null,
   "metadata": {},
   "outputs": [],
   "source": [
    "from numpy import pi as π\n",
    "from numpy.random import default_rng\n",
    "x, y = firedrake.SpatialCoordinate(mesh)\n",
    "\n",
    "rng = default_rng(seed=1)\n",
    "def random_fourier_series(std_dev, num_modes, exponent):\n",
    "    from firedrake import sin, cos\n",
    "    A = std_dev * rng.standard_normal((num_modes, num_modes))\n",
    "    B = std_dev * rng.standard_normal((num_modes, num_modes))\n",
    "    expr = sum([(A[k, l] * sin(π * (k * x + l * y)) +\n",
    "                 B[k, l] * cos(π * (k * x + l * y)))\n",
    "                / (1 + (k**2 + l**2)**(exponent/2))\n",
    "                for k in range(num_modes)\n",
    "                for l in range(int(np.sqrt(num_modes**2 - k**2)))])\n",
    "    return expr"
   ]
  },
  {
   "cell_type": "code",
   "execution_count": null,
   "metadata": {},
   "outputs": [],
   "source": [
    "g = random_fourier_series(std_dev=.25, num_modes=5, exponent=1)"
   ]
  },
  {
   "cell_type": "code",
   "execution_count": null,
   "metadata": {},
   "outputs": [],
   "source": [
    "import matplotlib.pyplot as plt\n",
    "from mpl_toolkits import mplot3d\n",
    "V = firedrake.FunctionSpace(mesh, family='CG', degree=2)\n",
    "fig = plt.figure()\n",
    "axes = fig.add_subplot(projection='3d')\n",
    "firedrake.trisurf(firedrake.interpolate(g, V), axes=axes);"
   ]
  },
  {
   "cell_type": "markdown",
   "metadata": {},
   "source": [
    "For basis functions, we'll use polynomials of degree 1.\n",
    "As we saw in the previous post on hyperbolic conservation laws, these gave very good numerical solutions provided that we had a good timestepping scheme.\n",
    "Now that we know the polynomial degree and the mesh quality, we can calculate the penalty parameter for Nitsche's method.\n",
    "We've put in a fudge factor $\\alpha$ to make sure the penalty parameter is strictly greater than the minimum possible value."
   ]
  },
  {
   "cell_type": "code",
   "execution_count": null,
   "metadata": {},
   "outputs": [],
   "source": [
    "from firedrake import Constant\n",
    "p = 1\n",
    "α = 1/2\n",
    "C = p * (p + 1)\n",
    "γ = Constant(2 * C / α**2 / (np.sin(θ) * np.tan(θ/2)))"
   ]
  },
  {
   "cell_type": "markdown",
   "metadata": {},
   "source": [
    "The action functional for the DG formulation of the problem consists of five parts: an internal cell flux; the across-cell flux; the across-cell penalty; the boundary flux; and the boundary penalty."
   ]
  },
  {
   "cell_type": "code",
   "execution_count": null,
   "metadata": {},
   "outputs": [],
   "source": [
    "from firedrake import inner, grad, dx, ds, dS\n",
    "\n",
    "Q = firedrake.FunctionSpace(mesh, family='DG', degree=p)\n",
    "n = firedrake.FacetNormal(mesh)\n",
    "h = firedrake.CellSize(mesh)\n",
    "\n",
    "ϕ = firedrake.project(g, Q)\n",
    "dϕ_dn = inner(grad(ϕ), n)\n",
    "\n",
    "J_cells = 0.5 * inner(grad(ϕ), grad(ϕ)) * dx\n",
    "J_facet_flux = -(dϕ_dn('+') - dϕ_dn('-')) * (ϕ('+') - ϕ('-')) * dS\n",
    "J_facet_penalty = 0.5 * γ / (h('+') + h('-')) * (ϕ('+') - ϕ('-'))**2 * dS\n",
    "\n",
    "J_flux = -dϕ_dn * (ϕ - g) * ds\n",
    "J_penalty = 0.5 * γ * (ϕ - g)**2 / h * ds\n",
    "\n",
    "J = (\n",
    "    J_cells +\n",
    "    J_facet_flux +\n",
    "    J_facet_penalty +\n",
    "    J_flux +\n",
    "    J_penalty\n",
    ")"
   ]
  },
  {
   "cell_type": "markdown",
   "metadata": {},
   "source": [
    "Finally, we can solve the PDE just like we did before.\n",
    "Note that, since we're using discontinuous piecewise linear basis functions, there are three degrees of freedom for every triangle of the mesh.\n",
    "Had we used continuous piecewise linear basis functions, the solution would have one degree of freedom for every vertex, which is much fewer than for the DG basis.\n",
    "Consequently we can expect the solution process to take much longer when using DG."
   ]
  },
  {
   "cell_type": "code",
   "execution_count": null,
   "metadata": {},
   "outputs": [],
   "source": [
    "F = firedrake.derivative(J, ϕ)\n",
    "parameters_lu = {\n",
    "    'solver_parameters': {\n",
    "        'ksp_type': 'preonly',\n",
    "        'pc_type': 'lu',\n",
    "        'pc_factor_mat_solver_type': 'mumps'\n",
    "    }\n",
    "}\n",
    "firedrake.solve(F == 0, ϕ, **parameters_lu)"
   ]
  },
  {
   "cell_type": "code",
   "execution_count": null,
   "metadata": {},
   "outputs": [],
   "source": [
    "fig = plt.figure()\n",
    "axes = fig.add_subplot(projection='3d')\n",
    "triangles = firedrake.trisurf(ϕ, axes=axes)\n",
    "fig.colorbar(triangles);"
   ]
  },
  {
   "cell_type": "markdown",
   "metadata": {},
   "source": [
    "For comparison, we can compute the solution using continuous basis functions."
   ]
  },
  {
   "cell_type": "code",
   "execution_count": null,
   "metadata": {},
   "outputs": [],
   "source": [
    "CG = firedrake.FunctionSpace(mesh, family='CG', degree=p)\n",
    "ψ = firedrake.Function(CG)\n",
    "J = 0.5 * inner(grad(ψ), grad(ψ)) * dx\n",
    "\n",
    "F = firedrake.derivative(J, ψ)\n",
    "bc = firedrake.DirichletBC(CG, g, 'on_boundary')\n",
    "firedrake.solve(F == 0, ψ, bc, **parameters_lu)"
   ]
  },
  {
   "cell_type": "code",
   "execution_count": null,
   "metadata": {},
   "outputs": [],
   "source": [
    "firedrake.norm(ϕ - ψ) / firedrake.norm(ψ)"
   ]
  },
  {
   "cell_type": "markdown",
   "metadata": {},
   "source": [
    "The relative error is quite small, which suggests that our approach isn't totally off base.\n",
    "We're now ready to introduce timestepping, which gets quite interesting for problems of mixed character like ours."
   ]
  },
  {
   "cell_type": "markdown",
   "metadata": {},
   "source": [
    "### IMEX methods\n",
    "\n",
    "The natural way to timestep the heat equation is to use an implicit scheme like backward Euler.\n",
    "If you did try to use an explicit method, the CFL condition becomes oppressive for parabolic problems because perturbations propagate with infinite speed.\n",
    "For the advection equation, on the other hand, the natural approach is to use an explicit scheme because perturbations travel with finite speed.\n",
    "In our case we'll simplify things considerably by assuming the velocity of the medium doesn't change in time, but for realistic problems it too obeys some PDE and we have to assume that it can change.\n",
    "The argument for using explicit schemes becomes much stronger when the velocity can change because it becomes much harder to reuse information from past implicit solves.\n",
    "\n",
    "We can reconcile the fact that different timestepping schemes work best for each part of the equation by using a *splitting method*.\n",
    "The idea of splitting methods is to separately integrate each part of the dynamics with a method that works best for it.\n",
    "To illustrate this it's helpful to imagine the problems as a linear system of ODE\n",
    "\n",
    "$$\\frac{\\partial\\phi}{\\partial t} = (A + B)\\phi$$\n",
    "\n",
    "where $A$ and $B$ are operators.\n",
    "The formal solution to this problem can be expressed using the matrix exponential:\n",
    "\n",
    "$$\\phi(t) = e^{t(A + B)}\\phi(0)$$\n",
    "\n",
    "but we're then faced with the challenge of simultaneously integrating both parts of the dynamics.\n",
    "If $A$ and $B$ commute, then the exponential factors into a product, but we have to get very lucky for that to happen.\n",
    "Instead, we can recognize that\n",
    "\n",
    "$$\\exp\\{t(A + B)\\} = \\exp(tA)\\exp(tB)\\exp\\left(-\\frac{t^2}{2}[A, B]\\right)\\cdot \\ldots$$\n",
    "\n",
    "In other words, to approximate integrating the problem forward by one timestep, we can first integrate the $A$ dynamics, then the $B$ dynamics.\n",
    "There is a cost in doing so: we incur a splitting error proportional to the commutator $[A, B]$ of the two operators.\n",
    "But this error is only of the order of $\\delta t^2$ for a single timestep and thus on the order of $\\delta t$ over all.\n",
    "We can derive higher-order splitting schemes that incur even less of a cost, often using the [Zassenhaus](https://en.wikipedia.org/wiki/Baker%E2%80%93Campbell%E2%80%93Hausdorff_formula#Zassenhaus_formula) formula.\n",
    "The equation I wrote above is the Zassenhous formula up to second order.\n",
    "\n",
    "In our particular case, we know that using implicit Euler will work well for the parabolic part of the problem and explicit Euler (with a CFL-stable timestep) will work well for the hyperbolic part.\n",
    "A first-order splitting scheme amounts to using each scheme in succession.\n",
    "This approach to mixed-type problems is often called an **implicit/explicit** or **IMEX** discretization in the literature."
   ]
  },
  {
   "cell_type": "markdown",
   "metadata": {},
   "source": [
    "### Demonstration\n",
    "\n",
    "We'll use a very similar setup to the post on conservation laws to examine a simple first-order IMEX scheme for the convection-diffusion equation.\n",
    "The velocity field will be uniform solid body rotation about the center of the domain.\n",
    "In order to keep the solution from being immediately smoothed over, we'll use a conductivity coefficient of 1/1000.\n",
    "This puts the problem well in the advection-dominated regime.\n",
    "Nonetheless, the diffusivity is large enough that we won't need to use a flux limiter; any spurious oscillations will naturally get smoothed out."
   ]
  },
  {
   "cell_type": "code",
   "execution_count": null,
   "metadata": {},
   "outputs": [],
   "source": [
    "p = 1\n",
    "Q = firedrake.FunctionSpace(mesh, family='DG', degree=p)"
   ]
  },
  {
   "cell_type": "code",
   "execution_count": null,
   "metadata": {},
   "outputs": [],
   "source": [
    "from firedrake import sqrt, as_vector, min_value, max_value\n",
    "\n",
    "x = firedrake.SpatialCoordinate(mesh)\n",
    "x_c = Constant((5/8, 5/8))\n",
    "R_c = Constant(1/8)\n",
    "\n",
    "x_b = Constant((3/8, 3/8))\n",
    "R_b = Constant(1/8)\n",
    "\n",
    "ϕ_expr = (\n",
    "    max_value(0, 1 - sqrt(inner(x - x_c, x - x_c) / R_c**2)) +\n",
    "    max_value(0, 1 - inner(x - x_b, x - x_b) / R_b**2)\n",
    ")\n",
    "ϕ_0 = firedrake.project(ϕ_expr, Q)\n",
    "ϕ = ϕ_0.copy(deepcopy=True)"
   ]
  },
  {
   "cell_type": "code",
   "execution_count": null,
   "metadata": {},
   "outputs": [],
   "source": [
    "x = firedrake.SpatialCoordinate(mesh)\n",
    "y = Constant((.5, .5))\n",
    "r = x - y\n",
    "u = as_vector((-r[1], r[0]))"
   ]
  },
  {
   "cell_type": "code",
   "execution_count": null,
   "metadata": {},
   "outputs": [],
   "source": [
    "speed = firedrake.interpolate(sqrt(inner(u, u)), Q)\n",
    "max_speed = speed.dat.data_ro.max()\n",
    "\n",
    "Q0 = firedrake.FunctionSpace(mesh, family='DG', degree=0)\n",
    "diameters = firedrake.project(firedrake.CellDiameter(mesh), Q0)\n",
    "min_diameter = diameters.dat.data_ro.min()\n",
    "\n",
    "cfl_timestep = min_diameter / max_speed\n",
    "\n",
    "final_time = 2 * π\n",
    "num_steps = 4 * int(final_time / cfl_timestep)\n",
    "dt = firedrake.Constant(final_time / num_steps)"
   ]
  },
  {
   "cell_type": "markdown",
   "metadata": {},
   "source": [
    "First, we'll create a solver for the diffusive part of the problem.\n",
    "We can take advantage of the fact that the implicit Euler timestep for a parabolic PDE is itself a minimization problem to keep our description as succinct as possible."
   ]
  },
  {
   "cell_type": "code",
   "execution_count": null,
   "metadata": {},
   "outputs": [],
   "source": [
    "J_mass = 0.5 * (ϕ - ϕ_0)**2 * dx\n",
    "\n",
    "k = Constant(1e-3)\n",
    "dϕ_dn = inner(grad(ϕ), n)\n",
    "J_cells = 0.5 * inner(grad(ϕ), grad(ϕ)) * dx\n",
    "J_facet_flux = -(dϕ_dn('+') - dϕ_dn('-')) * (ϕ('+') - ϕ('-')) * dS\n",
    "J_facet_penalty = 0.5 * γ / (h('+') + h('-')) * (ϕ('+') - ϕ('-'))**2 * dS\n",
    "\n",
    "J = J_mass + dt * k * (J_cells + J_facet_flux + J_facet_penalty)\n",
    "\n",
    "F = firedrake.derivative(J, ϕ)\n",
    "heat_problem = firedrake.NonlinearVariationalProblem(F, ϕ)\n",
    "heat_solver = firedrake.NonlinearVariationalSolver(heat_problem, **parameters_lu)"
   ]
  },
  {
   "cell_type": "markdown",
   "metadata": {},
   "source": [
    "Next we'll create a solver for the convective part of the problem."
   ]
  },
  {
   "cell_type": "code",
   "execution_count": null,
   "metadata": {},
   "outputs": [],
   "source": [
    "from firedrake import min_value, max_value\n",
    "m = firedrake.TrialFunction(Q) * firedrake.TestFunction(Q) * dx\n",
    "\n",
    "ψ = firedrake.TestFunction(Q)\n",
    "cell_flux = -inner(grad(ψ), ϕ * u) * dx\n",
    "\n",
    "f = ϕ * max_value(0, inner(u, n))\n",
    "facet_flux = (f('+') - f('-')) * (ψ('+') - ψ('-')) * dS\n",
    "\n",
    "ϕ_in = firedrake.Constant(0)\n",
    "influx = ϕ_in * min_value(0, inner(u, n)) * ψ * ds\n",
    "outflux = ϕ * max_value(0, inner(u, n)) * ψ * ds\n",
    "\n",
    "dϕ_dt = -(cell_flux + facet_flux + influx + outflux)"
   ]
  },
  {
   "cell_type": "code",
   "execution_count": null,
   "metadata": {},
   "outputs": [],
   "source": [
    "δϕ = firedrake.Function(Q)\n",
    "flow_problem = firedrake.LinearVariationalProblem(m, dt * dϕ_dt, δϕ)\n",
    "parameters_bjac = {\n",
    "    'solver_parameters': {\n",
    "        'ksp_type': 'preonly',\n",
    "        'pc_type': 'bjacobi',\n",
    "        'sub_pc_type': 'ilu'\n",
    "    }\n",
    "}\n",
    "flow_solver = firedrake.LinearVariationalSolver(flow_problem, **parameters_bjac)"
   ]
  },
  {
   "cell_type": "markdown",
   "metadata": {},
   "source": [
    "Now we can try the alternating scheme."
   ]
  },
  {
   "cell_type": "code",
   "execution_count": null,
   "metadata": {},
   "outputs": [],
   "source": [
    "import tqdm\n",
    "\n",
    "output_freq = 4\n",
    "ϕs = []\n",
    "\n",
    "for step in tqdm.trange(num_steps, unit='timesteps'):\n",
    "    flow_solver.solve()\n",
    "    ϕ += δϕ\n",
    "    \n",
    "    ϕ_0.assign(ϕ)\n",
    "    heat_solver.solve()\n",
    "    \n",
    "    if step % output_freq == 0:\n",
    "        ϕs.append(ϕ.copy(deepcopy=True))"
   ]
  },
  {
   "cell_type": "code",
   "execution_count": null,
   "metadata": {},
   "outputs": [],
   "source": [
    "%%capture\n",
    "fig, axes = plt.subplots()\n",
    "axes.set_aspect('equal')\n",
    "axes.get_xaxis().set_visible(False)\n",
    "axes.get_yaxis().set_visible(False)\n",
    "colors = firedrake.tripcolor(ϕ, num_sample_points=1, vmin=0., vmax=1., axes=axes)"
   ]
  },
  {
   "cell_type": "code",
   "execution_count": null,
   "metadata": {},
   "outputs": [],
   "source": [
    "from firedrake.plot import FunctionPlotter\n",
    "fn_plotter = FunctionPlotter(mesh, num_sample_points=1)"
   ]
  },
  {
   "cell_type": "code",
   "execution_count": null,
   "metadata": {},
   "outputs": [],
   "source": [
    "from matplotlib.animation import FuncAnimation\n",
    "def animate(ϕ):\n",
    "    colors.set_array(fn_plotter(ϕ))\n",
    "\n",
    "interval = 1e3 * output_freq * float(dt)\n",
    "animation = FuncAnimation(fig, animate, frames=ϕs, interval=interval)"
   ]
  },
  {
   "cell_type": "code",
   "execution_count": null,
   "metadata": {},
   "outputs": [],
   "source": [
    "from IPython.display import HTML\n",
    "HTML(animation.to_html5_video())"
   ]
  },
  {
   "cell_type": "markdown",
   "metadata": {},
   "source": [
    "Unlike in the purely hyperbolic case, the solution becomes much smoother by the time the medium has completed a full rotation.\n",
    "If we had used an even smaller conductivity coefficient $k$, the intrinsic diffusion in the problem would be too small to suppress the oscillations that we would get for a purely convective problem using degree-1 basis functions.\n",
    "In that case a flux limiter would be necessary to get a decent solution."
   ]
  },
  {
   "cell_type": "markdown",
   "metadata": {},
   "source": [
    "### Conclusion\n",
    "\n",
    "The natural choices to make about spatial and temporal discretization for parabolic and hyperbolic problems are complete opposites.\n",
    "To solve a PDE that combines aspects of both types, finding a good middle ground can be a challenge.\n",
    "Here we showed that non-conforming discretizations of elliptic PDE allow us to apply what we already know about DG discretizations of conservation laws to other problems.\n",
    "\n",
    "For time discretization, operator splitting helps turn a harder problem into two easy ones.\n",
    "In this post we only showed a first-order splitting scheme, but [Strang splitting](https://en.wikipedia.org/wiki/Strang_splitting) achieves second-order accuracy with only a little more work.\n",
    "Operator splitting is a great trick generally but achieving more than first-order accuracy for more than three operators or more is much harder than for two."
   ]
  }
 ],
 "metadata": {
  "kernelspec": {
   "display_name": "firedrake",
   "language": "python",
   "name": "firedrake"
  },
  "language_info": {
   "codemirror_mode": {
    "name": "ipython",
    "version": 3
   },
   "file_extension": ".py",
   "mimetype": "text/x-python",
   "name": "python",
   "nbconvert_exporter": "python",
   "pygments_lexer": "ipython3",
   "version": "3.8.3"
  },
  "nikola": {
   "category": "",
   "date": "2020-06-23 17:04:19 UTC-07:00",
   "description": "",
   "link": "",
   "slug": "convection-diffusion",
   "tags": "",
   "title": "Convection-diffusion",
   "type": "text"
  }
 },
 "nbformat": 4,
 "nbformat_minor": 4
}
