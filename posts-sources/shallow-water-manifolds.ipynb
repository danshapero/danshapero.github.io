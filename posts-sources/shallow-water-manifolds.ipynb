{
 "cells": [
  {
   "cell_type": "markdown",
   "metadata": {},
   "source": [
    "In the previous demo, we looked at solving the nonlinear shallow water equations using various schemes.\n",
    "Here we'll make things yet more interesting by solving them on a sphere.\n",
    "We'll largely follow the treatment in [Bernard et al. (2009)](https://doi.org/10.1016/j.jcp.2009.05.046)."
   ]
  },
  {
   "cell_type": "markdown",
   "metadata": {},
   "source": [
    "### Setup\n",
    "\n",
    "All of this is copied from the previous demos, so I'll give only cursory explanations."
   ]
  },
  {
   "cell_type": "code",
   "execution_count": null,
   "metadata": {},
   "outputs": [],
   "source": [
    "import firedrake\n",
    "from firedrake import Constant\n",
    "g = Constant(9.81)\n",
    "I = firedrake.Identity(2)"
   ]
  },
  {
   "cell_type": "markdown",
   "metadata": {},
   "source": [
    "The following functions compute symbolic representations of the various shallow water fluxes."
   ]
  },
  {
   "cell_type": "code",
   "execution_count": null,
   "metadata": {},
   "outputs": [],
   "source": [
    "from firedrake import inner, grad, dx\n",
    "def cell_flux(z):\n",
    "    Z = z.function_space()\n",
    "    h, q = firedrake.split(z)\n",
    "    ϕ, v = firedrake.TestFunctions(Z)\n",
    "    \n",
    "    f_h = -inner(q, grad(ϕ)) * dx\n",
    "\n",
    "    F = outer(q, q) / h + 0.5 * g * h**2 * I\n",
    "    f_q = -inner(F, grad(v)) * dx\n",
    "\n",
    "    return f_h + f_q"
   ]
  },
  {
   "cell_type": "code",
   "execution_count": null,
   "metadata": {},
   "outputs": [],
   "source": [
    "from firedrake import avg, outer, dS\n",
    "def central_facet_flux(z):\n",
    "    Z = z.function_space()\n",
    "    h, q = firedrake.split(z)\n",
    "    ϕ, v = firedrake.TestFunctions(Z)\n",
    "    \n",
    "    mesh = z.ufl_domain()\n",
    "    n = firedrake.FacetNormal(mesh)\n",
    "\n",
    "    f_h = inner(avg(q), ϕ('+') * n('+') + ϕ('-') * n('-')) * dS\n",
    "\n",
    "    F = outer(q, q) / h + 0.5 * g * h**2 * I\n",
    "    f_q = inner(avg(F), outer(v('+'), n('+')) + outer(v('-'), n('-'))) * dS\n",
    "    \n",
    "    return f_h + f_q"
   ]
  },
  {
   "cell_type": "code",
   "execution_count": null,
   "metadata": {},
   "outputs": [],
   "source": [
    "from firedrake import sqrt, max_value\n",
    "def lax_friedrichs_facet_flux(z):\n",
    "    Z = z.function_space()\n",
    "    h, q = firedrake.split(z)\n",
    "    ϕ, v = firedrake.TestFunctions(Z)\n",
    "    \n",
    "    mesh = h.ufl_domain()\n",
    "    n = firedrake.FacetNormal(mesh)\n",
    "    \n",
    "    c = abs(inner(q / h, n)) + sqrt(g * h)\n",
    "    α = avg(c)\n",
    "    \n",
    "    f_h = -α * (h('+') - h('-')) * (ϕ('+') - ϕ('-')) * dS\n",
    "    f_q = -α * inner(q('+') - q('-'), v('+') - v('-')) * dS\n",
    "\n",
    "    return f_h + f_q"
   ]
  },
  {
   "cell_type": "code",
   "execution_count": null,
   "metadata": {},
   "outputs": [],
   "source": [
    "def topographic_forcing(z, b):\n",
    "    Z = z.function_space()\n",
    "    h = firedrake.split(z)[0]\n",
    "    v = firedrake.TestFunctions(Z)[1]\n",
    "\n",
    "    return -g * h * inner(grad(b), v) * dx"
   ]
  },
  {
   "cell_type": "markdown",
   "metadata": {},
   "source": [
    "For an explicit time discretization and a DG method in space, we can use an ILU preconditioner with a block Jacobi inner preconditioner and this will exactly invert the DG mass matrix."
   ]
  },
  {
   "cell_type": "code",
   "execution_count": null,
   "metadata": {},
   "outputs": [],
   "source": [
    "from firedrake import (\n",
    "    NonlinearVariationalProblem as Problem,\n",
    "    NonlinearVariationalSolver as Solver,\n",
    ")"
   ]
  },
  {
   "cell_type": "markdown",
   "metadata": {},
   "source": [
    "We'll create some auxiliary functions to actually run the simulation and create an animation of it."
   ]
  },
  {
   "cell_type": "markdown",
   "metadata": {},
   "source": [
    "### Demonstration\n",
    "\n",
    "We'll use the same function spaces and timestepping scheme as before: BDFM(2) for the momentum, DG(1) for the thickness, and a Rosenbrock form of the implicit midpoint rule."
   ]
  }
 ],
 "metadata": {
  "kernelspec": {
   "display_name": "firedrake",
   "language": "python",
   "name": "firedrake"
  },
  "language_info": {
   "codemirror_mode": {
    "name": "ipython",
    "version": 3
   },
   "file_extension": ".py",
   "mimetype": "text/x-python",
   "name": "python",
   "nbconvert_exporter": "python",
   "pygments_lexer": "ipython3",
   "version": "3.9.7"
  },
  "nikola": {
   "category": "",
   "date": "2022-03-18 14:43:32 UTC-07:00",
   "description": "",
   "link": "",
   "slug": "shallow-water-on-manifolds",
   "tags": "",
   "title": "Shallow water on manifolds",
   "type": "text"
  }
 },
 "nbformat": 4,
 "nbformat_minor": 4
}
