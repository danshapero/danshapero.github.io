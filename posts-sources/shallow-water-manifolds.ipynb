{
 "cells": [
  {
   "cell_type": "markdown",
   "metadata": {},
   "source": [
    "In the previous demo, we looked at solving the nonlinear shallow water equations using various schemes.\n",
    "Here we'll make things yet more interesting by solving them on a sphere.\n",
    "We'll largely follow the treatment in [Bernard et al. (2009)](https://doi.org/10.1016/j.jcp.2009.05.046)."
   ]
  },
  {
   "cell_type": "markdown",
   "metadata": {},
   "source": [
    "### Setup\n",
    "\n",
    "There are many ways to get a discrete representation of a sphere.\n",
    "The two most common are to take either a cube or an icosahedron, refine it a few times, and then normalize the coordinates of each vertex.\n",
    "We get quads and triangles with the cubed sphere and icosahedral sphere respectively.\n",
    "There's also a choice to be made about what polynomial degree to use to represent the coordinate field.\n",
    "With a piecewise linear coordinate field, we have to refine twice to get the same accuracy as using a piecewise quadratic coordinate field.\n",
    "\n",
    "**Big note to self:** figure out why this is working fine on all machines except work desktop, where things are going all weird on icosahedral sphere with BDFM velocity but fine on cubed sphere with RTCF."
   ]
  },
  {
   "cell_type": "code",
   "execution_count": null,
   "metadata": {},
   "outputs": [],
   "source": [
    "import firedrake\n",
    "from firedrake import sqrt, Constant, as_vector, inner, outer, dot, grad, dx, dS\n",
    "g = Constant(9.81)\n",
    "I = firedrake.Identity(3)"
   ]
  },
  {
   "cell_type": "code",
   "execution_count": null,
   "metadata": {},
   "outputs": [],
   "source": [
    "R = Constant(6.370e6)\n",
    "level = 3\n",
    "mesh_degree = 2\n",
    "\n",
    "mesh = firedrake.IcosahedralSphereMesh(float(R), level, mesh_degree)\n",
    "mesh.init_cell_orientations(firedrake.SpatialCoordinate(mesh))\n",
    "\n",
    "x = firedrake.SpatialCoordinate(mesh)"
   ]
  },
  {
   "cell_type": "code",
   "execution_count": null,
   "metadata": {},
   "outputs": [],
   "source": [
    "import matplotlib.pyplot as plt\n",
    "from mpl_toolkits import mplot3d\n",
    "\n",
    "fig = plt.figure()\n",
    "axes = fig.add_subplot(projection=\"3d\")\n",
    "firedrake.triplot(mesh, axes=axes);"
   ]
  },
  {
   "cell_type": "markdown",
   "metadata": {},
   "source": [
    "The Williamson 5 test case specifies that the bottom topography is cone-shaped with a height of 2km and a radius about 1/3 that of the earth.\n",
    "(This would make it pretty steep for an average seamount.)"
   ]
  },
  {
   "cell_type": "code",
   "execution_count": null,
   "metadata": {},
   "outputs": [],
   "source": [
    "import numpy as np\n",
    "from numpy import pi as π\n",
    "\n",
    "R_0 = Constant(π / 9 * R)\n",
    "λ_c = -π / 2\n",
    "θ_c = π / 6\n",
    "x_c = R * Constant((np.cos(λ_c) * np.cos(θ_c), np.sin(λ_c) * np.cos(θ_c), np.sin(θ_c)))\n",
    "r = sqrt(firedrake.min_value(inner(x - x_c, x - x_c), R_0**2))\n",
    "\n",
    "S = firedrake.FunctionSpace(mesh, \"CG\", 2)\n",
    "b_0 = Constant(2e3)\n",
    "b_expr = b_0 * (1 - r / R_0)\n",
    "b = firedrake.interpolate(b_expr, S)"
   ]
  },
  {
   "cell_type": "code",
   "execution_count": null,
   "metadata": {},
   "outputs": [],
   "source": [
    "fig = plt.figure()\n",
    "axes = fig.add_subplot(projection=\"3d\")\n",
    "firedrake.trisurf(b, num_sample_points=16, axes=axes);"
   ]
  },
  {
   "cell_type": "markdown",
   "metadata": {},
   "source": [
    "We'll use compatible finite element spaces as before.\n",
    "Since we're using a quad mesh, we want Raviart-Thomas elements for the velocity."
   ]
  },
  {
   "cell_type": "code",
   "execution_count": null,
   "metadata": {},
   "outputs": [],
   "source": [
    "Q = firedrake.FunctionSpace(mesh, \"DG\", 1)\n",
    "V = firedrake.FunctionSpace(mesh, \"BDFM\", 2)\n",
    "Z = Q * V"
   ]
  },
  {
   "cell_type": "markdown",
   "metadata": {},
   "source": [
    "Next we'll create the initial state of the system as specified in Williamson.\n",
    "\n",
    "**TODO:** Finish this and figure out what's going on with the velocity, ~~that must be in meridional/zonal and not Cartesian~~ or is it?!.\n",
    "Also what's with the Coriolis parameter in Gusto.\n",
    "See their [example code](https://github.com/firedrakeproject/gusto/blob/master/examples/sw_williamson5.py)."
   ]
  },
  {
   "cell_type": "code",
   "execution_count": null,
   "metadata": {},
   "outputs": [],
   "source": [
    "H = Constant(5960.0)\n",
    "day = 24.0 * 60.0 * 60.0\n",
    "Ω = Constant(1.0 / day)\n",
    "u_0 = Constant(2 * π * R / (12 * day))\n",
    "h_expr = H - ((R * Ω * u_0 + 0.5 * u_0**2) * (x[2] / R)**2) / g - b_expr\n",
    "u_expr = as_vector((-u_0 * x[1] / R, +u_0 * x[0] / R, 0.0))\n",
    "z0 = firedrake.Function(Z)\n",
    "z0.sub(0).project(h_expr)\n",
    "z0.sub(1).project(u_expr);"
   ]
  },
  {
   "cell_type": "markdown",
   "metadata": {},
   "source": [
    "### Problem\n",
    "\n",
    "Much of the discretization is similar to the case of flat domains.\n",
    "For example, the function below computes the flux of mass and momentum within a cell and it's completely unchanged from before."
   ]
  },
  {
   "cell_type": "code",
   "execution_count": null,
   "metadata": {},
   "outputs": [],
   "source": [
    "def cell_flux(z):\n",
    "    Z = z.function_space()\n",
    "    h, u = firedrake.split(z)\n",
    "    ϕ, v = firedrake.TestFunctions(Z)\n",
    "    \n",
    "    f_h = -inner(h * u, grad(ϕ)) * dx\n",
    "\n",
    "    F = h * outer(u, u) + 0.5 * g * h**2 * I\n",
    "    f_u = -inner(F, grad(v)) * dx\n",
    "\n",
    "    return f_h + f_u"
   ]
  },
  {
   "cell_type": "markdown",
   "metadata": {},
   "source": [
    "The interesting part happens with the facet integrals.\n",
    "In the flat case, we're allowed to assume that the unit outward-pointing normal vectors $n_+$, $n_-$ to two adjacent cells $\\omega_+$, $\\omega_-$ are opposite to each other: $n_- = -n_+$.\n",
    "On a surface mesh, however, this condition is no longer true.\n",
    "How does this change the numerical flux?\n",
    "\n",
    "We also have to think a little harder about how we represent the velocity field.\n",
    "The velocity field for the ideal problem is tangent to the surface at every point, and we'd like to ensure that this is also true of the discrete problem.\n",
    "There are two ways we might do this.\n",
    "The minimalist approach is to use exactly $d$ vector components for vector fields on $d$-dimensional surfaces, which makes it impossible to represent non-tangent vectors.\n",
    "For example, on the surface of a sphere this would amount to representing the velocity field using its zonal and meridional components.\n",
    "You can probably guess right away that there's a problem with this approach: we get singularities near the poles.\n",
    "Alternatively, we can represent the velocity on the 2-sphere as having 3 components.\n",
    "We'd then want to make sure that our numerical scheme preserves the invariant of tangency to the surface.\n",
    "\n",
    "These two facts make the implementation of DG methods on surfaces much more complicated.\n",
    "Take the Lax-Wendroff scheme for example; the numerical flux consists of the sum of (1) the average value of the true flux on either side of the cell and (2) the minimal diffusive correction needed for stability.\n",
    "How can we take the average of the numerical flux on either side of the cell when these values live in different tangent spaces?\n",
    "\n",
    "What we'll need to write the correct DG method on a triangulated surface is an operator that will rotate vectors in the tangent space to $\\omega_-$ into vectors in the tangent space to $\\omega_+$ and vice versa.\n",
    "We can write this rotation as\n",
    "\n",
    "$$Q_+ = I + (n_+ - n_-)n_-^*.$$\n",
    "\n",
    "You can check for yourself that this is a rotation matrix and that it has the desired properties.\n",
    "**Note to self**: Explain the difference in notation (and specifically sign) between this and what's in the Bernard et al 2009 paper.\n",
    "\n",
    "See [this code](https://github.com/firedrakeproject/gusto/blob/8fb6c67307727d77da784f0f9bff6f75fa3f55c6/gusto/transport_equation.py#L266) from Gusto.\n",
    "\n",
    "We can simplify the `f_h` term, does it obscure things though?\n",
    "Check all factors of 1/2..."
   ]
  },
  {
   "cell_type": "code",
   "execution_count": null,
   "metadata": {},
   "outputs": [],
   "source": [
    "opposite = {\"+\": \"-\", \"-\": \"+\"}\n",
    "\n",
    "def central_facet_flux(z):\n",
    "    Z = z.function_space()\n",
    "    h, u = firedrake.split(z)\n",
    "    ϕ, v = firedrake.TestFunctions(Z)\n",
    "\n",
    "    mesh = z.ufl_domain()\n",
    "    n = firedrake.FacetNormal(mesh)\n",
    "\n",
    "    def Q(s):\n",
    "        t = opposite[s]\n",
    "        return I + outer(n(t), n(t) + n(s))\n",
    "\n",
    "    f_h = (\n",
    "        inner((h(\"+\") * u(\"+\") + h(\"-\") * dot(Q(\"+\"), u(\"-\"))) / 2, ϕ(\"+\") * n(\"+\")) +\n",
    "        inner((h(\"-\") * u(\"-\") + h(\"+\") * dot(Q(\"-\"), u(\"+\"))) / 2, ϕ(\"-\") * n(\"-\"))\n",
    "    ) * dS\n",
    "\n",
    "    def F(s):\n",
    "        t = opposite[s]\n",
    "        f_s = h(s) * outer(u(s), u(s)) + 0.5 * g * h(s)**2 * I\n",
    "        f_t = h(t) * outer(dot(Q(s), u(t)), dot(Q(s), u(t))) + 0.5 * g * h(t)**2 * I\n",
    "        return (f_s + f_t) / 2\n",
    "\n",
    "    f_u = (inner(F(\"+\"), outer(v(\"+\"), n(\"+\"))) + inner(F(\"-\"), outer(v(\"-\"), n(\"-\")))) * dS\n",
    "\n",
    "    return f_h + f_u"
   ]
  },
  {
   "cell_type": "code",
   "execution_count": null,
   "metadata": {},
   "outputs": [],
   "source": [
    "from firedrake import sqrt\n",
    "\n",
    "def lax_friedrichs_facet_flux(z):\n",
    "    Z = z.function_space()\n",
    "    h, u = firedrake.split(z)\n",
    "    ϕ, v = firedrake.TestFunctions(Z)\n",
    "\n",
    "    mesh = h.ufl_domain()\n",
    "    n = firedrake.FacetNormal(mesh)\n",
    "\n",
    "    c = abs(inner(u, n)) + sqrt(g * h)\n",
    "    α = (c(\"+\") + c(\"-\")) / 2\n",
    "\n",
    "    def Q(s):\n",
    "        t = opposite[s]\n",
    "        return I + outer(n(t), n(s) + n(t))\n",
    "\n",
    "    f_h = 0.5 * α * (h(\"+\") - h(\"-\")) * (ϕ(\"+\") - ϕ(\"-\")) * dS\n",
    "    \n",
    "    # WHAT THE FUCK WHY\n",
    "    \"\"\"\n",
    "    f_u = 0.5 * α * (\n",
    "        inner(h(\"+\") * u(\"+\") - h(\"-\") * dot(Q(\"+\"), u(\"-\")), v(\"+\")) +\n",
    "        inner(h(\"-\") * u(\"-\") - h(\"+\") * dot(Q(\"-\"), u(\"+\")), v(\"-\"))\n",
    "    ) * dS\n",
    "    \"\"\"\n",
    "    f_u = 0.5 * α * (\n",
    "        inner(u(\"+\") - dot(Q(\"+\"), u(\"-\")), v(\"+\")) +\n",
    "        inner(u(\"-\") - dot(Q(\"-\"), u(\"+\")), v(\"-\"))\n",
    "    ) * dS\n",
    "\n",
    "    return f_h + f_u"
   ]
  },
  {
   "cell_type": "code",
   "execution_count": null,
   "metadata": {},
   "outputs": [],
   "source": [
    "def conserved_variables(z):\n",
    "    h, u = firedrake.split(z)\n",
    "    return firedrake.as_vector((h, h * u[0], h * u[1], h * u[2]))"
   ]
  },
  {
   "cell_type": "code",
   "execution_count": null,
   "metadata": {},
   "outputs": [],
   "source": [
    "def topographic_forcing(z, b):\n",
    "    Z = z.function_space()\n",
    "    h = firedrake.split(z)[0]\n",
    "    v = firedrake.TestFunctions(Z)[1]\n",
    "\n",
    "    return -g * h * inner(grad(b), v) * dx"
   ]
  },
  {
   "cell_type": "markdown",
   "metadata": {},
   "source": [
    "We'll add one more bit of physics to this problem that wasn't included in previous demos: rotation."
   ]
  },
  {
   "cell_type": "code",
   "execution_count": null,
   "metadata": {},
   "outputs": [],
   "source": [
    "def coriolis(z):\n",
    "    Z = z.function_space()\n",
    "    h, u = firedrake.split(z)\n",
    "    v = firedrake.TestFunctions(Z)[1]\n",
    "    f = -firedrake.as_vector((0, 0, 2 * Ω))\n",
    "    return h * inner(firedrake.cross(f, u), v) * dx"
   ]
  },
  {
   "cell_type": "code",
   "execution_count": null,
   "metadata": {},
   "outputs": [],
   "source": [
    "def equation(z):\n",
    "    fluxes = (\n",
    "        cell_flux(z) +\n",
    "        central_facet_flux(z) +\n",
    "        lax_friedrichs_facet_flux(z)\n",
    "    )\n",
    "    forces = topographic_forcing(z, b) + coriolis(z)\n",
    "    return forces - fluxes"
   ]
  },
  {
   "cell_type": "markdown",
   "metadata": {},
   "source": [
    "### Solver\n",
    "\n",
    "We'll take a shortcut to implementing the Rosenbrock implicit midpoint scheme here.\n",
    "Rather than explicitly include the functional derivative terms, we can just implement the implicit midpoint scheme.\n",
    "The PETSc option `\"snes_type\": \"ksponly\"` will cause the solver to take only a single step of Newton's method."
   ]
  },
  {
   "cell_type": "code",
   "execution_count": null,
   "metadata": {},
   "outputs": [],
   "source": [
    "from firedrake import (\n",
    "    NonlinearVariationalProblem as Problem,\n",
    "    NonlinearVariationalSolver as Solver,\n",
    ")\n",
    "\n",
    "class ImplicitMidpoint:\n",
    "    def __init__(self, state, equation, conserved_variables, solver_parameters=None):\n",
    "        z = state.copy(deepcopy=True)\n",
    "        dt = firedrake.Constant(1.0)\n",
    "\n",
    "        z_n = z.copy(deepcopy=True)\n",
    "        Z = z.function_space()\n",
    "        w = firedrake.TestFunction(Z)\n",
    "\n",
    "        F = firedrake.replace(equation(z), {z: (z + z_n) / 2})\n",
    "        Q = conserved_variables(z)\n",
    "        Q_n = conserved_variables(z_n)\n",
    "\n",
    "        problem = Problem(inner(Q_n - Q, w) * dx - dt * F, z_n)\n",
    "        solver = Solver(problem, solver_parameters=solver_parameters)\n",
    "\n",
    "        self.state = z\n",
    "        self.next_state = z_n\n",
    "        self.timestep = dt\n",
    "        self.solver = solver\n",
    "    \n",
    "    def step(self, timestep):\n",
    "        self.timestep.assign(timestep)\n",
    "        self.solver.solve()\n",
    "        self.state.assign(self.next_state)"
   ]
  },
  {
   "cell_type": "markdown",
   "metadata": {},
   "source": [
    "### Demonstration\n",
    "\n",
    "We'll use the same function spaces and timestepping scheme as before: BDFM(2) for the momentum, DG(1) for the thickness, and a Rosenbrock form of the implicit midpoint rule."
   ]
  },
  {
   "cell_type": "code",
   "execution_count": null,
   "metadata": {},
   "outputs": [],
   "source": [
    "fig = plt.figure()\n",
    "ax = fig.add_subplot(projection=\"3d\")\n",
    "colors = firedrake.trisurf(z0.sub(0), axes=ax)\n",
    "fig.colorbar(colors);"
   ]
  },
  {
   "cell_type": "code",
   "execution_count": null,
   "metadata": {},
   "outputs": [],
   "source": [
    "params = {\n",
    "    \"snes_type\": \"ksponly\",\n",
    "    \"ksp_type\": \"gmres\",\n",
    "    \"pc_type\": \"lu\",\n",
    "    \"pc_factor_mat_solver_type\": \"mumps\",\n",
    "}\n",
    "solver = ImplicitMidpoint(z0, equation, conserved_variables, params)"
   ]
  },
  {
   "cell_type": "code",
   "execution_count": null,
   "metadata": {},
   "outputs": [],
   "source": [
    "import tqdm\n",
    "\n",
    "hs = [z0.sub(0).copy(deepcopy=True)]\n",
    "us = [z0.sub(1).copy(deepcopy=True)]\n",
    "\n",
    "dt = 10 * 60\n",
    "final_time = 20 * 24 * 3600\n",
    "num_steps = int(final_time / dt)\n",
    "\n",
    "for step in tqdm.trange(num_steps):\n",
    "    solver.step(dt)\n",
    "    hs.append(solver.state.sub(0).copy(deepcopy=True))\n",
    "    us.append(solver.state.sub(1).copy(deepcopy=True))"
   ]
  },
  {
   "cell_type": "markdown",
   "metadata": {},
   "source": [
    "Probably one of the most important physical quantities in oceanography is the *potential vorticity*, which we'll write as $q$.\n",
    "In lat/lon coordinates, the potential vorticity can be written as\n",
    "\n",
    "$$q = \\frac{\\nabla^\\perp\\cdot u + f}{h}$$\n",
    "\n",
    "where $\\nabla^\\perp u$ is the vorticity or the antisymmetric component of the full gradient of $u$ and $f$ is the local value of the Coriolis parameter.\n",
    "If we write this out in components, locally the vorticity is\n",
    "\n",
    "$$\\nabla^\\perp\\cdot u = \\frac{\\partial u}{\\partial y} - \\frac{\\partial v}{\\partial x}.$$\n",
    "\n",
    "Similarly, $f = 2\\Omega\\sin\\theta$ where $\\theta$ is latitude.\n",
    "But again we've made this kooky decision to work with the full 3D velocity field because reasons.\n",
    "In this full 3D coordinate system, the rotation vector is always just $2\\Omega\\hat z$, and the latitude-dependence arises because the 3D velocity field is perpendicular to the rotation vector at the poles and parallel to it at the equator.\n",
    "In this coordinate system, we can express the potential vorticity as\n",
    "\n",
    "$$q = \\frac{x}{R}\\cdot\\frac{\\nabla\\times u + f}{h}$$\n",
    "\n",
    "where now we really mean that $f$ is the full rotation vector.\n",
    "We've also got a bit of a function space problem on our hands.\n",
    "Our velocity solution $u$ lives in $H(\\text{div})$, hence our choice of conforming elements like RT or BDFM.\n",
    "The curl of $u$ might not even be well-defined.\n",
    "We can, however, compute a potential vorticity as a field for which\n",
    "\n",
    "$$\\int_\\Omega hq\\cdot\\eta\\,dx = \\int_\\Omega\\frac{x}{R}\\cdot\\left(-\\nabla \\eta\\times u + f\\eta\\right)dx$$\n",
    "\n",
    "for all test functions $\\eta$.\n",
    "(I've left out a bit of the vector calculus in deriving this.)"
   ]
  },
  {
   "cell_type": "code",
   "execution_count": null,
   "metadata": {},
   "outputs": [],
   "source": [
    "%%capture\n",
    "\n",
    "from matplotlib.animation import FuncAnimation\n",
    "\n",
    "hmin = np.array([h.dat.data_ro.min() for h in hs]).min()\n",
    "hmax = np.array([h.dat.data_ro.max() for h in hs]).max()\n",
    "\n",
    "fig = plt.figure()\n",
    "ax = fig.add_subplot(projection=\"3d\")\n",
    "ax.set_axis_off()\n",
    "colors = firedrake.trisurf(hs[0], vmin=hmin, vmax=hmax, num_sample_points=1, axes=ax)\n",
    "fn_plotter = firedrake.FunctionPlotter(mesh, num_sample_points=1)\n",
    "\n",
    "def animate(h):\n",
    "    triangles = fn_plotter.triangles\n",
    "    arr = fn_plotter(h)[triangles].mean(axis=1)\n",
    "    colors.set_array(arr)\n",
    "\n",
    "interval = 1e3 / 30\n",
    "animation = FuncAnimation(fig, animate, frames=hs[::3], interval=interval)"
   ]
  },
  {
   "cell_type": "markdown",
   "metadata": {},
   "source": [
    "This animation should be boring -- the initial state is a steady solution."
   ]
  },
  {
   "cell_type": "code",
   "execution_count": null,
   "metadata": {},
   "outputs": [],
   "source": [
    "from IPython.display import HTML\n",
    "HTML(animation.to_html5_video())"
   ]
  },
  {
   "cell_type": "code",
   "execution_count": null,
   "metadata": {},
   "outputs": [],
   "source": [
    "area = 4 * π * float(R)**2\n",
    "\n",
    "def energy(h, u):\n",
    "    return 0.5 * (h * inner(u, u) + g * ((h + b)**2 - H**2)) * dx\n",
    "\n",
    "energies = np.array([firedrake.assemble(energy(h, u)) for h, u in zip(hs, us)]) / area"
   ]
  },
  {
   "cell_type": "code",
   "execution_count": null,
   "metadata": {},
   "outputs": [],
   "source": [
    "fig, ax = plt.subplots()\n",
    "ax.plot(energies);"
   ]
  }
 ],
 "metadata": {
  "kernelspec": {
   "display_name": "firedrake",
   "language": "python",
   "name": "firedrake"
  },
  "language_info": {
   "codemirror_mode": {
    "name": "ipython",
    "version": 3
   },
   "file_extension": ".py",
   "mimetype": "text/x-python",
   "name": "python",
   "nbconvert_exporter": "python",
   "pygments_lexer": "ipython3",
   "version": "3.10.3"
  },
  "nikola": {
   "category": "",
   "date": "2022-03-18 14:43:32 UTC-07:00",
   "description": "",
   "link": "",
   "slug": "shallow-water-on-manifolds",
   "tags": "",
   "title": "Shallow water on manifolds",
   "type": "text"
  }
 },
 "nbformat": 4,
 "nbformat_minor": 4
}
