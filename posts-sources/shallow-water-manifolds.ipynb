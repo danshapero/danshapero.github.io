{
 "cells": [
  {
   "cell_type": "markdown",
   "metadata": {},
   "source": [
    "In the previous demo, we looked at solving the nonlinear shallow water equations using various schemes.\n",
    "Here we'll make things yet more interesting by solving them on a sphere.\n",
    "We'll largely follow the treatment in [Bernard et al. (2009)](https://doi.org/10.1016/j.jcp.2009.05.046)."
   ]
  },
  {
   "cell_type": "markdown",
   "metadata": {},
   "source": [
    "### Model\n",
    "\n",
    "All of this is copied from the previous demos, so I'll give only cursory explanations."
   ]
  },
  {
   "cell_type": "code",
   "execution_count": null,
   "metadata": {},
   "outputs": [],
   "source": [
    "import firedrake\n",
    "from firedrake import Constant\n",
    "g = Constant(9.81)\n",
    "I = firedrake.Identity(2)"
   ]
  },
  {
   "cell_type": "markdown",
   "metadata": {},
   "source": [
    "The following functions compute symbolic representations of the various shallow water fluxes."
   ]
  },
  {
   "cell_type": "code",
   "execution_count": null,
   "metadata": {},
   "outputs": [],
   "source": [
    "from firedrake import inner, grad, dx\n",
    "\n",
    "def cell_flux(z):\n",
    "    Z = z.function_space()\n",
    "    h, u = firedrake.split(z)\n",
    "    ϕ, v = firedrake.TestFunctions(Z)\n",
    "    \n",
    "    f_h = -inner(h * u, grad(ϕ)) * dx\n",
    "\n",
    "    F = h * outer(u, u) + 0.5 * g * h**2 * I\n",
    "    f_u = -inner(F, grad(v)) * dx\n",
    "\n",
    "    return f_h + f_u"
   ]
  },
  {
   "cell_type": "markdown",
   "metadata": {},
   "source": [
    "See [this code](https://github.com/firedrakeproject/gusto/blob/8fb6c67307727d77da784f0f9bff6f75fa3f55c6/gusto/transport_equation.py#L266) from Gusto."
   ]
  },
  {
   "cell_type": "code",
   "execution_count": null,
   "metadata": {},
   "outputs": [],
   "source": [
    "from firedrake import avg, outer, dS\n",
    "\n",
    "def central_facet_flux(z):\n",
    "    Z = z.function_space()\n",
    "    h, u = firedrake.split(z)\n",
    "    ϕ, v = firedrake.TestFunctions(Z)\n",
    "\n",
    "    mesh = z.ufl_domain()\n",
    "    n = firedrake.FacetNormal(mesh)\n",
    "\n",
    "    f_h = inner(avg(h * u), ϕ(\"+\") * n(\"+\") + ϕ(\"-\") * n(\"-\")) * dS\n",
    "\n",
    "    F = h * outer(u, u) + 0.5 * g * h**2 * I\n",
    "    f_u = inner(avg(F), outer(v(\"+\"), n(\"+\")) + outer(v(\"-\"), n(\"-\"))) * dS\n",
    "\n",
    "    return f_h + f_u"
   ]
  },
  {
   "cell_type": "code",
   "execution_count": null,
   "metadata": {},
   "outputs": [],
   "source": [
    "from firedrake import sqrt, max_value\n",
    "\n",
    "def lax_friedrichs_facet_flux(z):\n",
    "    Z = z.function_space()\n",
    "    h, u = firedrake.split(z)\n",
    "    ϕ, v = firedrake.TestFunctions(Z)\n",
    "\n",
    "    mesh = h.ufl_domain()\n",
    "    n = firedrake.FacetNormal(mesh)\n",
    "\n",
    "    c = abs(inner(u, n)) + sqrt(g * h)\n",
    "    α = avg(c)\n",
    "\n",
    "    f_h = -α * (h(\"+\") - h(\"-\")) * (ϕ(\"+\") - ϕ(\"-\")) * dS\n",
    "    f_u = -α * inner(u(\"+\") - u(\"-\"), v(\"+\") - v(\"-\")) * dS\n",
    "\n",
    "    return f_h + f_u"
   ]
  },
  {
   "cell_type": "code",
   "execution_count": null,
   "metadata": {},
   "outputs": [],
   "source": [
    "def conserved_variables(z):\n",
    "    h, u = firedrake.split(z)\n",
    "    return firedrake.as_vector((h, h * u[0], h * u[1]))"
   ]
  },
  {
   "cell_type": "code",
   "execution_count": null,
   "metadata": {},
   "outputs": [],
   "source": [
    "def topographic_forcing(z, b):\n",
    "    Z = z.function_space()\n",
    "    h = firedrake.split(z)[0]\n",
    "    v = firedrake.TestFunctions(Z)[1]\n",
    "\n",
    "    return -g * h * inner(grad(b), v) * dx"
   ]
  },
  {
   "cell_type": "markdown",
   "metadata": {},
   "source": [
    "We'll add one more bit of physics to this problem that wasn't included in previous demos: rotation."
   ]
  },
  {
   "cell_type": "code",
   "execution_count": null,
   "metadata": {},
   "outputs": [],
   "source": [
    "def coriolis(z):\n",
    "    Z = z.function_space()\n",
    "    u = firedrake.split(z)\n",
    "    v = firedrake.TestFunctions(Z)[1]\n",
    "\n",
    "    inverse_day = firedrake.Constant(1.0 / (24 * 60 * 60))\n",
    "    #f = firedrake.as_vector((0, 0, inverse_day))\n",
    "    # for debugging:\n",
    "    f = firedrake.as_vector((0, 0, 0))\n",
    "    \n",
    "    return inner(firedrake.cross(f, u), v) * dx"
   ]
  },
  {
   "cell_type": "markdown",
   "metadata": {},
   "source": [
    "### Solver\n",
    "\n",
    "We'll take a shortcut to implementing the Rosenbrock implicit midpoint scheme here.\n",
    "Rather than explicitly include the functional derivative terms, we can just implement the implicit midpoint scheme.\n",
    "The PETSc option `\"snes_type\": \"ksponly\"` will cause the solver to take only a single step of Newton's method."
   ]
  },
  {
   "cell_type": "code",
   "execution_count": null,
   "metadata": {},
   "outputs": [],
   "source": [
    "from firedrake import (\n",
    "    NonlinearVariationalProblem as Problem,\n",
    "    NonlinearVariationalSolver as Solver,\n",
    ")\n",
    "\n",
    "class ImplicitMidpoint:\n",
    "    def __init__(self, state, equation, conserved_variables, solver_parameters=None):\n",
    "        z = state.copy(deepcopy=True)\n",
    "        dt = firedrake.Constant(1.0)\n",
    "\n",
    "        z_n = z.copy(deepcopy=True)\n",
    "        Z = z.function_space()\n",
    "        w = firedrake.TestFunction(Z)\n",
    "        \n",
    "        F = firedrake.replace(equation(z), {z: (z + z_n) / 2})\n",
    "        Q = conserved_variables(z)\n",
    "        Q_n = conserved_variables(z_n)\n",
    "        \n",
    "        problem = Problem(inner(Q_n - Q, w) * dx - dt * F, z_n)\n",
    "        solver = Solver(problem, solver_parameters=solver_parameters)\n",
    "        \n",
    "        self.state = z\n",
    "        self.next_state = z_n\n",
    "        self.timestep = dt\n",
    "        self.solver = solver\n",
    "    \n",
    "    def step(self, timestep):\n",
    "        self.timestep.assign(timestep)\n",
    "        self.solver.solve()\n",
    "        self.state.assign(self.next_state)"
   ]
  },
  {
   "cell_type": "markdown",
   "metadata": {},
   "source": [
    "### Demonstration\n",
    "\n",
    "We'll use the same function spaces and timestepping scheme as before: BDFM(2) for the momentum, DG(1) for the thickness, and a Rosenbrock form of the implicit midpoint rule."
   ]
  },
  {
   "cell_type": "code",
   "execution_count": null,
   "metadata": {},
   "outputs": [],
   "source": [
    "radius = 6.370e6\n",
    "level = 2\n",
    "mesh_degree = 1\n",
    "\n",
    "mesh = firedrake.IcosahedralSphereMesh(radius, level, mesh_degree)"
   ]
  },
  {
   "cell_type": "code",
   "execution_count": null,
   "metadata": {},
   "outputs": [],
   "source": [
    "import matplotlib.pyplot as plt\n",
    "from mpl_toolkits import mplot3d\n",
    "\n",
    "fig = plt.figure()\n",
    "ax = fig.add_subplot(projection=\"3d\")\n",
    "firedrake.triplot(mesh, axes=ax);"
   ]
  },
  {
   "cell_type": "code",
   "execution_count": null,
   "metadata": {},
   "outputs": [],
   "source": [
    "Q = firedrake.FunctionSpace(mesh, \"DG\", 1)\n",
    "V = firedrake.FunctionSpace(mesh, \"BDFM\", 2)\n",
    "Z = Q * V"
   ]
  },
  {
   "cell_type": "code",
   "execution_count": null,
   "metadata": {},
   "outputs": [],
   "source": [
    "z0 = firedrake.Function(Z)\n",
    "z0.sub(0).project(firedrake.Constant(1e3));"
   ]
  },
  {
   "cell_type": "code",
   "execution_count": null,
   "metadata": {},
   "outputs": [],
   "source": [
    "fig = plt.figure()\n",
    "ax = fig.add_subplot(projection=\"3d\")\n",
    "colors = firedrake.trisurf(z0.sub(0), vmin=1e3-1, vmax=1e3+1, axes=ax)\n",
    "fig.colorbar(colors);"
   ]
  }
 ],
 "metadata": {
  "kernelspec": {
   "display_name": "firedrake",
   "language": "python",
   "name": "firedrake"
  },
  "language_info": {
   "codemirror_mode": {
    "name": "ipython",
    "version": 3
   },
   "file_extension": ".py",
   "mimetype": "text/x-python",
   "name": "python",
   "nbconvert_exporter": "python",
   "pygments_lexer": "ipython3",
   "version": "3.9.7"
  },
  "nikola": {
   "category": "",
   "date": "2022-03-18 14:43:32 UTC-07:00",
   "description": "",
   "link": "",
   "slug": "shallow-water-on-manifolds",
   "tags": "",
   "title": "Shallow water on manifolds",
   "type": "text"
  }
 },
 "nbformat": 4,
 "nbformat_minor": 4
}
