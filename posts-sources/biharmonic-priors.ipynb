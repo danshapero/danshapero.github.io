{
 "cells": [
  {
   "cell_type": "markdown",
   "metadata": {},
   "source": [
    "In a previous post, I showed a procedure for sampling from the posterior distribution in a Bayesian inference problem.\n",
    "The goal was to infer the log-conductivity $q$ in the diffusion equation\n",
    "$$-\\nabla\\cdot ke^q\\nabla u = f$$\n",
    "from a set of observations $u^o$ which have an error variance $\\sigma$.\n",
    "We had to first supply a prior density on the parameters $q$ which we took to have the form\n",
    "$$-\\ln\\rho(q) = \\alpha^2 R(q) + \\text{constant}$$\n",
    "where\n",
    "$$R(q) = \\frac{1}{2}\\int_\\Omega|Dq|^2dx.$$\n",
    "Here I'd like to explore why this prior in particular may not be ideal and what happens if we instead use a prior functional based on the second derivative:\n",
    "$$R(q) = \\frac{1}{2}\\int_\\Omega(q^2 + \\lambda^4|D^2u|^2)dx$$\n",
    "The biharmonic operator is more challenging to discretize with finite elements.\n",
    "We'll have to use an interior penalty DG approach, which builds off of Nitsche's method."
   ]
  },
  {
   "cell_type": "markdown",
   "metadata": {},
   "source": [
    "### Generating the exact data\n",
    "\n",
    "We'll make the input data (sources $f$, external field $g$, exchange coefficient $h$, and true log-conductivity $q$) the same way as we did in the previous demo."
   ]
  },
  {
   "cell_type": "code",
   "execution_count": null,
   "metadata": {},
   "outputs": [],
   "source": [
    "import firedrake\n",
    "mesh = firedrake.UnitSquareMesh(32, 32, diagonal='crossed')\n",
    "Q = firedrake.FunctionSpace(mesh, family='CG', degree=2)\n",
    "V = firedrake.FunctionSpace(mesh, family='CG', degree=2)"
   ]
  },
  {
   "cell_type": "code",
   "execution_count": null,
   "metadata": {},
   "outputs": [],
   "source": [
    "import numpy as np\n",
    "from numpy import random, pi as π\n",
    "x = firedrake.SpatialCoordinate(mesh)\n",
    "\n",
    "rng = random.default_rng(seed=1)\n",
    "def random_fourier_series(std_dev, num_modes, exponent):\n",
    "    from firedrake import sin, cos\n",
    "    A = std_dev * rng.standard_normal((num_modes, num_modes))\n",
    "    B = std_dev * rng.standard_normal((num_modes, num_modes))\n",
    "    return sum([(A[k, l] * sin(π * (k * x[0] + l * x[1])) +\n",
    "                 B[k, l] * cos(π * (k * x[0] + l * x[1])))\n",
    "                / (1 + (k**2 + l**2)**(exponent/2))\n",
    "                for k in range(num_modes)\n",
    "                for l in range(int(np.sqrt(num_modes**2 - k**2)))])"
   ]
  },
  {
   "cell_type": "code",
   "execution_count": null,
   "metadata": {},
   "outputs": [],
   "source": [
    "g = firedrake.Function(V).interpolate(random_fourier_series(1.0, 6, 1))"
   ]
  },
  {
   "cell_type": "code",
   "execution_count": null,
   "metadata": {},
   "outputs": [],
   "source": [
    "import matplotlib.pyplot as plt\n",
    "firedrake.trisurf(g);"
   ]
  },
  {
   "cell_type": "markdown",
   "metadata": {},
   "source": [
    "We'll make the medium much more insulating (lower conductivity) near the center of the domain."
   ]
  },
  {
   "cell_type": "code",
   "execution_count": null,
   "metadata": {},
   "outputs": [],
   "source": [
    "from firedrake import inner, min_value, max_value, Constant\n",
    "a = -Constant(8.)\n",
    "r = Constant(1/4)\n",
    "ξ = Constant((0.4, 0.5))\n",
    "expr = a * max_value(0, 1 - inner(x - ξ, x - ξ) / r**2)\n",
    "q_true = firedrake.Function(Q).interpolate(expr)"
   ]
  },
  {
   "cell_type": "code",
   "execution_count": null,
   "metadata": {},
   "outputs": [],
   "source": [
    "firedrake.trisurf(q_true);"
   ]
  },
  {
   "cell_type": "markdown",
   "metadata": {},
   "source": [
    "In order to make the effect most pronounced, we'll stick a blob of sources right next to this insulating patch."
   ]
  },
  {
   "cell_type": "code",
   "execution_count": null,
   "metadata": {},
   "outputs": [],
   "source": [
    "b = Constant(6.)\n",
    "R = Constant(1/4)\n",
    "η = Constant((0.7, 0.5))\n",
    "expr = b * max_value(0, 1 - inner(x - η, x - η) / R**2)\n",
    "f = firedrake.Function(V).interpolate(expr)"
   ]
  },
  {
   "cell_type": "code",
   "execution_count": null,
   "metadata": {},
   "outputs": [],
   "source": [
    "firedrake.trisurf(f);"
   ]
  },
  {
   "cell_type": "markdown",
   "metadata": {},
   "source": [
    "Compute the true field."
   ]
  },
  {
   "cell_type": "code",
   "execution_count": null,
   "metadata": {},
   "outputs": [],
   "source": [
    "from firedrake import exp, grad, dx, ds\n",
    "k = Constant(1.)\n",
    "h = Constant(10.)\n",
    "u_true = firedrake.Function(V)\n",
    "v = firedrake.TestFunction(V)\n",
    "F = (\n",
    "    (k * exp(q_true) * inner(grad(u_true), grad(v)) - f * v) * dx +\n",
    "    h * (u_true - g) * v * ds\n",
    ")"
   ]
  },
  {
   "cell_type": "code",
   "execution_count": null,
   "metadata": {},
   "outputs": [],
   "source": [
    "opts = {\n",
    "    'solver_parameters': {\n",
    "        'ksp_type': 'preonly',\n",
    "        'pc_type': 'lu',\n",
    "        'pc_factor_mat_solver_type': 'mumps'\n",
    "    }\n",
    "}\n",
    "firedrake.solve(F == 0, u_true, **opts)"
   ]
  },
  {
   "cell_type": "code",
   "execution_count": null,
   "metadata": {},
   "outputs": [],
   "source": [
    "firedrake.trisurf(u_true);"
   ]
  },
  {
   "cell_type": "markdown",
   "metadata": {},
   "source": [
    "The true value of $u$ has a big hot spot in the insulating region, as we expect."
   ]
  },
  {
   "cell_type": "markdown",
   "metadata": {},
   "source": [
    "### Generating the observational data\n",
    "\n",
    "For realistic problems, what we observe is the true solution plus some random noise $\\xi$:\n",
    "\n",
    "$$u_\\text{obs} = u_\\text{true} + \\xi.$$\n",
    "\n",
    "The ratio of the variance $\\sigma$ of the noise to some scale of the solution, e.g. $\\max_\\Omega u_\\text{true} - \\min_\\Omega u_\\text{true}$, will determine the degree of accuracy that we can expect in the inferred field.\n",
    "We have to remember again to synthesize the observations in the right way.\n",
    "We want that\n",
    "$$\\mathbb{E}\\left[\\int_\\Omega\\xi(x)^2dx\\right] = \\sigma^2\\cdot|\\Omega|$$\n",
    "which we can do using the Cholesky factorization."
   ]
  },
  {
   "cell_type": "code",
   "execution_count": null,
   "metadata": {},
   "outputs": [],
   "source": [
    "from firedrake import assemble\n",
    "from firedrake.petsc import PETSc\n",
    "\n",
    "area = assemble(Constant(1) * dx(mesh))\n",
    "\n",
    "class NoiseGenerator:\n",
    "    def __init__(\n",
    "        self,\n",
    "        function_space,\n",
    "        covariance=None,\n",
    "        generator=random.default_rng()\n",
    "    ):\n",
    "        if covariance is None:\n",
    "            ϕ = firedrake.TrialFunction(function_space)\n",
    "            ψ = firedrake.TestFunction(function_space)\n",
    "            covariance = inner(ϕ, ψ) * dx\n",
    "\n",
    "        M = assemble(covariance, mat_type='aij').M.handle\n",
    "        ksp = PETSc.KSP().create()\n",
    "        ksp.setOperators(M)\n",
    "        ksp.setUp()\n",
    "\n",
    "        pc = ksp.pc\n",
    "        pc.setType(pc.Type.CHOLESKY)\n",
    "        pc.setFactorSolverType(PETSc.Mat.SolverType.PETSC)\n",
    "        pc.setFactorSetUpSolverType()\n",
    "        L = pc.getFactorMatrix()\n",
    "        pc.setUp()\n",
    "\n",
    "        self.rng = generator\n",
    "        self.function_space = function_space\n",
    "        self.preconditioner = pc\n",
    "        self.cholesky_factor = L\n",
    "\n",
    "        self.rhs = firedrake.Function(self.function_space)\n",
    "        self.noise = firedrake.Function(self.function_space)\n",
    "\n",
    "    def __call__(self):\n",
    "        z, ξ = self.rhs, self.noise\n",
    "        N = len(z.dat.data_ro[:])\n",
    "        z.dat.data[:] = self.rng.standard_normal(N)\n",
    "\n",
    "        L = self.cholesky_factor\n",
    "        with z.dat.vec_ro as Z:\n",
    "            with ξ.dat.vec as Ξ:\n",
    "                L.solveBackward(Z, Ξ)\n",
    "                Ξ *= np.sqrt(area / N)\n",
    "\n",
    "        return ξ.copy(deepcopy=True)"
   ]
  },
  {
   "cell_type": "code",
   "execution_count": null,
   "metadata": {},
   "outputs": [],
   "source": [
    "white_noise_generator = NoiseGenerator(\n",
    "    function_space=V,\n",
    "    generator=random.default_rng(seed=1066)\n",
    ")"
   ]
  },
  {
   "cell_type": "markdown",
   "metadata": {},
   "source": [
    "We'll use a signal-to-noise ratio of 50 again."
   ]
  },
  {
   "cell_type": "code",
   "execution_count": null,
   "metadata": {},
   "outputs": [],
   "source": [
    "û = u_true.dat.data_ro[:]\n",
    "signal = û.max() - û.min()\n",
    "signal_to_noise = 50\n",
    "σ = firedrake.Constant(signal / signal_to_noise)\n",
    "\n",
    "u_obs = u_true.copy(deepcopy=True)\n",
    "ξ = white_noise_generator()\n",
    "u_obs += σ * ξ"
   ]
  },
  {
   "cell_type": "markdown",
   "metadata": {},
   "source": [
    "The high-frequency noise you can see in the plot below is exactly what makes regularization necessary."
   ]
  },
  {
   "cell_type": "code",
   "execution_count": null,
   "metadata": {},
   "outputs": [],
   "source": [
    "firedrake.trisurf(u_obs);"
   ]
  },
  {
   "cell_type": "markdown",
   "metadata": {},
   "source": [
    "### The biharmonic operator\n",
    "\n",
    "Here we'd like to use the functional\n",
    "$$R(q) = \\int_\\Omega\\left(q^2 + \\lambda^2|D^2q|^2\\right)dx$$\n",
    "which penalizes large values of the curvature $D^2q$.\n",
    "Conventional finite element basis functions are continuous and piecewise-differentiable, but their derivatives have jump discontinuities across cell boundaries.\n",
    "There are continuously-differentiable finite element bases which we could use to construct a conforming discretization of the curvature penalty.\n",
    "I'll instead use a non-conforming discretization based on ordinary CG elements.\n",
    "This approach is similar to how we used DG elements for the convection-diffusion equation.\n",
    "For that problem, we applied Nitsche's method at all of the cell boundaries in order to make the solution continuous.\n",
    "Here we'll instead apply Nitsche's method at all the cell boundaries to make the solution's gradient continuous.\n",
    "I'm partly following [this paper](https://doi.org/10.1515/jnma-2023-0028) for discretization of the curvature penalty but working back to a minimization form."
   ]
  },
  {
   "cell_type": "code",
   "execution_count": null,
   "metadata": {},
   "outputs": [],
   "source": [
    "from firedrake import avg, jump, outer, dS\n",
    "\n",
    "ϕ = firedrake.Function(Q)\n",
    "\n",
    "λ = firedrake.Constant(1.0)\n",
    "Dϕ = grad(ϕ)\n",
    "DDϕ = grad(Dϕ)\n",
    "\n",
    "h = firedrake.FacetArea(mesh)\n",
    "vol = firedrake.CellVolume(mesh)\n",
    "\n",
    "α = firedrake.Constant(4.0)\n",
    "k = firedrake.Constant(Q.ufl_element().degree())\n",
    "σ = 3 * α * k * (k - 1) / 8 * avg(h)**2 * avg(1 / vol)\n",
    "σ_Γ = 3 * α * k * (k - 1) * h**2 / vol\n",
    "\n",
    "ν = firedrake.FacetNormal(mesh)\n",
    "J_cells = inner(DDϕ, DDϕ) * dx\n",
    "J_facets = avg(inner(DDϕ, outer(ν, ν))) * jump(Dϕ, ν) * dS\n",
    "J_facet_penalty = σ / avg(h) * jump(Dϕ, ν)**2 * dS\n",
    "J_boundary = inner(Dϕ, ν) * inner(DDϕ, outer(ν, ν)) * ds\n",
    "J_boundary_penalty = σ_Γ / h * inner(Dϕ, ν)**2 * ds\n",
    "\n",
    "J_Δ = 0.5 * (J_cells - J_facets - J_boundary + J_facet_penalty + J_boundary_penalty)\n",
    "J_2 = 0.5 * ϕ**2 * dx\n",
    "\n",
    "J = J_2 + λ ** 4 * J_Δ"
   ]
  },
  {
   "cell_type": "code",
   "execution_count": null,
   "metadata": {},
   "outputs": [],
   "source": [
    "x = firedrake.SpatialCoordinate(mesh)\n",
    "ξ = firedrake.Constant((0.5, 0.5))\n",
    "\n",
    "y = x - ξ\n",
    "f = y[0] * y[1]\n",
    "L = f * ϕ * dx\n",
    "\n",
    "E = J - L\n",
    "F = firedrake.derivative(E, ϕ)\n",
    "\n",
    "firedrake.solve(F == 0, ϕ)"
   ]
  },
  {
   "cell_type": "code",
   "execution_count": null,
   "metadata": {},
   "outputs": [],
   "source": [
    "fig, ax = plt.subplots()\n",
    "ax.set_aspect(\"equal\")\n",
    "colors = firedrake.tripcolor(ϕ, axes=ax)\n",
    "fig.colorbar(colors);"
   ]
  },
  {
   "cell_type": "code",
   "execution_count": null,
   "metadata": {},
   "outputs": [],
   "source": [
    "from firedrake import derivative\n",
    "\n",
    "M = derivative(derivative(J, ϕ), ϕ)\n",
    "process = NoiseGenerator(\n",
    "    function_space=Q,\n",
    "    covariance=M,\n",
    "    generator=np.random.default_rng(seed=1729),\n",
    ")"
   ]
  },
  {
   "cell_type": "code",
   "execution_count": null,
   "metadata": {},
   "outputs": [],
   "source": [
    "z = process()"
   ]
  },
  {
   "cell_type": "code",
   "execution_count": null,
   "metadata": {},
   "outputs": [],
   "source": [
    "firedrake.trisurf(z);"
   ]
  }
 ],
 "metadata": {
  "kernelspec": {
   "display_name": "firedrake",
   "language": "python",
   "name": "firedrake"
  },
  "language_info": {
   "codemirror_mode": {
    "name": "ipython",
    "version": 3
   },
   "file_extension": ".py",
   "mimetype": "text/x-python",
   "name": "python",
   "nbconvert_exporter": "python",
   "pygments_lexer": "ipython3",
   "version": "3.11.9"
  },
  "nikola": {
   "category": "",
   "date": "2025-04-06 13:17:30 UTC-07:00",
   "description": "",
   "link": "",
   "slug": "biharmonic-priors",
   "tags": "",
   "title": "Biharmonic priors",
   "type": "text"
  }
 },
 "nbformat": 4,
 "nbformat_minor": 4
}
