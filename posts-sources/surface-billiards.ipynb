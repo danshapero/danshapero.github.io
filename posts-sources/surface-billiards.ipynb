{
 "cells": [
  {
   "cell_type": "markdown",
   "metadata": {},
   "source": [
    "In the previous post, I showed how to integrate Hamiltonian systems\n",
    "\n",
    "$$\\begin{align}\n",
    "\\dot q & = +\\frac{\\partial H}{\\partial p} \\\\\n",
    "\\dot p & = -\\frac{\\partial H}{\\partial q}\n",
    "\\end{align}$$\n",
    "\n",
    "using methods that approximately preserve the energy.\n",
    "Here I'd like to look at what happens when there are non-trivial constraints\n",
    "\n",
    "$$g(q) = 0$$\n",
    "\n",
    "on the configuration of the system.\n",
    "The simplest example is the pendulum problem, where the position $x$ of the pendulum is constrained to lie on the circle of radius $L$ centered at the origin.\n",
    "These constraints are easy to eliminate by instead working with the angle $\\theta$.\n",
    "A more complicated example is a problem with rotational degrees of freedom, where the angular configuration $Q$ is a 3 $\\times$ 3 matrix.\n",
    "The constraint comes from the fact that this matrix has to be orthogonal:\n",
    "\n",
    "$$Q^\\top Q = I.$$\n",
    "\n",
    "We could play similar tricks to the case of the pendulum and use [Euler angles](https://en.wikipedia.org/wiki/Euler_angles), but these introduce [other problems](https://en.wikipedia.org/wiki/Gimbal_lock#Loss_of_a_degree_of_freedom_with_Euler_angles) when used for numerics.\n",
    "For this or other more complex problems, we'll instead enforce the constraints using a Lagrange multiplier $\\lambda$, and working with the constrained Hamiltonian\n",
    "\n",
    "$$H' = H - \\lambda\\cdot g(q).$$\n",
    "\n",
    "We're then left with a differential-algebraic equation:\n",
    "\n",
    "$$\\begin{align}\n",
    "\\dot q & = +\\frac{\\partial H}{\\partial p} \\\\\n",
    "\\dot p & = -\\frac{\\partial H}{\\partial q} + \\lambda\\cdot\\nabla g \\\\\n",
    "0 & = g(q).\n",
    "\\end{align}$$\n",
    "\n",
    "If you feel like I pulled this multiplier trick out of a hat, you might find it more illuminating to think back to the [Lagrangian](https://en.wikipedia.org/wiki/Lagrangian_mechanics#Lagrange_multipliers_and_constraints) formulation of mechanics, which corresponds more directly with optimization via the stationary action principle.\n",
    "Alternatively, you can view the Hamiltonian above as the limit of\n",
    "\n",
    "$$H_\\epsilon' = H + \\frac{|p_\\lambda|^2}{2\\epsilon} - \\lambda\\cdot g(q)$$\n",
    "\n",
    "as $\\epsilon \\to 0$, where $p_\\lambda$ is a momentum variable conjugate to $\\lambda$.\n",
    "This zero-mass limit is a [singular perturbation](https://en.wikipedia.org/wiki/Singular_perturbation), so actually building a practical algorithm from this formulation is pretty awful, but it can be pretty helpful conceptually.\n",
    "\n",
    "For now we'll assume that the Hamiltonian has the form\n",
    "\n",
    "$$H = \\frac{1}{2}p^*M^{-1}p + U(q)$$\n",
    "\n",
    "for some mass matrix $M$ and potential energy $U$.\n",
    "The 2nd-order splitting scheme to solve Hamilton's equations of motion in the absence of any constraints are\n",
    "\n",
    "$$\\begin{align}\n",
    "p_{n + \\frac{1}{2}} & = p_n - \\frac{\\delta t}{2}\\nabla U(q_n) \\\\\n",
    "q_{n + 1} & = q_n + \\delta t\\cdot M^{-1}p_{n + \\frac{1}{2}} \\\\\n",
    "p_{n + 1} & = p_{n + \\frac{1}{2}} - \\frac{\\delta t}{2}\\nabla U(q_{n + 1}).\n",
    "\\end{align}$$\n",
    "\n",
    "To enforce the constraints, we'll add some extra steps where we project back onto the surface or, in the case of the momenta, onto its cotangent space.\n",
    "In the first stage, we solve the system\n",
    "\n",
    "$$\\begin{align}\n",
    "p_{n + \\frac{1}{2}} & = p_n - \\frac{\\delta t}{2}\\left\\{\\nabla U(q_n) - \\lambda_{n + 1}\\cdot \\nabla g(q_n)\\right\\} \\\\\n",
    "q_{n + 1} & = q_n - \\delta t\\cdot M^{-1}p_{n + \\frac{1}{2}} \\\\\n",
    "0 & = g(q_{n + 1}).\n",
    "\\end{align}$$\n",
    "\n",
    "If we substitute the formula for $p_{n + 1/2}$ into the second equation and then substitute the resulting formula for $q_{n + 1}$ into the constraint $0 = g(q_{n + 1})$, we get a nonlinear system of equations for the new Lagrange multiplier $\\lambda_{n + 1}$ purely in terms of the current positions and momenta.\n",
    "Having solved this nonlinear system, we can then substitute the value of $\\lambda_{n + 1}$ to obtain the values of $p_{n + 1/2}$ and $q_{n + 1}$.\n",
    "Next, we compute the momentum at step $n + 1$, but subject to the constraint that it has to lie in the cotangent space of the surface:\n",
    "\n",
    "$$\\begin{align}\n",
    "p_{n + 1} & = p_{n + \\frac{1}{2}} - \\frac{\\delta t}{2}\\left\\{\\nabla U(q_{n + 1}) - \\mu_{n + 1}\\cdot \\nabla g(q_{n + 1})\\right\\} \\\\\n",
    "0 & = \\nabla g(q_{n + 1})\\cdot M^{-1}p_{n + 1}.\n",
    "\\end{align}$$\n",
    "\n",
    "Once again, we can substitute the first equation into the second to obtain a linear system for the momentum-space multiplier $\\mu$.\n",
    "Having solved for $\\mu$, we can then back-substitute into the first equation to get $p_{n + 1}$.\n",
    "This is the RATTLE algorithm.\n",
    "(I'm pulling heavily from chapter 7 of [Leimkuhler and Reich](https://doi.org/10.1017/CBO9780511614118) here if you want to see a comparison with other methods and proofs that it's symplectic.)\n",
    "\n",
    "\n",
    "\n",
    "### Surfaces\n",
    "\n",
    "Next we have to pick an example problem to work on.\n",
    "To start out, we'll assume that the potential energy for the problem is 0 and focus solely on the free motion of a particle on some interesting surface.\n",
    "The simplest surface we could look at is the sphere:\n",
    "\n",
    "$$g(x, y, z) = x^2 + y^2 + z^2 - R^2$$\n",
    "\n",
    "or the torus:\n",
    "\n",
    "$$g(x, y, z) = \\left(\\sqrt{x^2 + y^2} - R\\right)^2 + z^2 - r^2.$$\n",
    "\n",
    "Just for kicks, I'd like to instead look at motion on surfaces of genus 2 or higher.\n",
    "There are simple parametric equations for tracing out spheres and tori in terms of the trigonometric functions, so the machinery of explicitly enforcing constraints isn't really necessary.\n",
    "There is no such direct parameterization for higher-genus surfaces, so we'll actually need to be clever in defining the surface and in simulating motion on it.\n",
    "As an added bonus, the ability to trace out curves on the surface will give us a nice way of visualizing it.\n",
    "\n",
    "To come up with an implicit equation for a higher-genus surface, we'll start with an implicit equation for a 2D curve and inflate it into 3D.\n",
    "For example, the equation for the torus that we defined above is obtained by inflating the implicit equation $\\sqrt{x^2 + y^2} - R = 0$ for the circle in 2D.\n",
    "What we want to generate higher-genus surfaces is a *lemniscate*.\n",
    "An ellipse is defined as the set of points such that the sum of the distances to two foci is constant.\n",
    "Likewise, a lemniscate is defined as the set of points such that the *product* of the distances to two or more foci is constant.\n",
    "The [Bernoulli leminscate](https://en.wikipedia.org/wiki/Lemniscate_of_Bernoulli) is one such example, which traces out a figure-8 in 2D.\n",
    "The Bernoulli leminscate is the zero set of the polynomial\n",
    "\n",
    "$$f(x, y) = (x^2 + y^2)^2 - a^2(x^2 - y^2)$$\n",
    "\n",
    "and it also has the parametric equation\n",
    "\n",
    "$$\\begin{align}\n",
    "x & = a\\frac{\\sin t}{1 + \\cos^2t} \\\\\n",
    "y & = a\\frac{\\sin t\\cdot\\cos t}{1 + \\cos^2t}\n",
    "\\end{align}$$\n",
    "\n",
    "which gives us a simple way to visualize what we're starting with."
   ]
  },
  {
   "cell_type": "code",
   "execution_count": null,
   "metadata": {},
   "outputs": [],
   "source": [
    "import numpy as np\n",
    "from numpy import pi as π\n",
    "\n",
    "a = 1\n",
    "t = np.linspace(0, 2 * π, 256)\n",
    "xs = a * np.sin(t) / (1 + np.cos(t) ** 2)\n",
    "ys = a * np.sin(t) * np.cos(t) / (1 + np.cos(t) ** 2)\n",
    "\n",
    "import matplotlib.pyplot as plt\n",
    "fig, ax = plt.subplots()\n",
    "ax.set_aspect(\"equal\")\n",
    "ax.plot(xs, ys);"
   ]
  },
  {
   "cell_type": "markdown",
   "metadata": {},
   "source": [
    "We've loosely referred to the idea of inflating the zero-contour of a function $f(x, y)$ into 3D.\n",
    "The 3D function defining the desired implicit surface is\n",
    "\n",
    "$$g(x, y, z) = f(x, y)^2 + z^2 - r^2,$$\n",
    "\n",
    "where $r$ is a free parameter that we'll have to tune.\n",
    "I'm going to guess that $r < \\frac{a}{\\sqrt{2}}$ but it could be much less; beyond that we'll have to figure out what $r$ is by trial and error.\n",
    "\n",
    "The code below uses the [sympy](https://www.sympy.org/) software package to create a symbolic representation of the function $g$ defining our surface.\n",
    "Having a symbolic expression for $g$ allows us to evaluate it and its derivatives, but to actually visualize the surface we'll have to sample points on it somehow."
   ]
  },
  {
   "cell_type": "code",
   "execution_count": null,
   "metadata": {},
   "outputs": [],
   "source": [
    "import sympy\n",
    "x, y, z = sympy.symbols(\"x y z\")\n",
    "f = (x ** 2 + y ** 2) ** 2 - a ** 2 * (x ** 2 - y ** 2)\n",
    "\n",
    "r = a / 6\n",
    "g = f ** 2 + z ** 2 - r **2\n",
    "dg = sympy.derive_by_array(g, [x, y, z])"
   ]
  },
  {
   "cell_type": "markdown",
   "metadata": {},
   "source": [
    "Symbolically evaluating $g$ every time is expensive, so the code below uses the `lambdify` function from sympy to convert our symbolic expression into an ordinary Python function.\n",
    "I've added some additional wrappers so that we can pass in a numpy array of coordinates rather than the $x$, $y$, and $z$ values as separate arguments."
   ]
  },
  {
   "cell_type": "code",
   "execution_count": null,
   "metadata": {},
   "outputs": [],
   "source": [
    "g_fn = sympy.lambdify([x, y, z], g, modules=\"numpy\")\n",
    "def G(q):\n",
    "    return np.array([g_fn(*q)])\n",
    "\n",
    "dg_fn = sympy.lambdify([x, y, z], dg, modules=\"numpy\")\n",
    "def dG(q):\n",
    "    return np.array(dg_fn(*q)).reshape([1, 3])"
   ]
  },
  {
   "cell_type": "markdown",
   "metadata": {},
   "source": [
    "One of the first algorithms for constrained mechanical systems was called SHAKE, so naturally some clever bastard had to make one called RATTLE and there's probably a ROLL out there too.\n",
    "The code below implements the RATTLE algorithm.\n",
    "You can view this as analogous to the Stormer-Verlet method, which does a half-step of the momentum solve, a full step of the position solve, and finally another half-step of the momentum solve again.\n",
    "In the RATTLE algorithm, we have to exercise a bit of foresight in the initial momentum half-step and position full-step in order to calculate a Lagrange multiplier to project an arbitrary position back onto the zero-contour of $g$.\n",
    "Solving for the position multiplier is a true nonlinear equation, whereas the final momentum half-step is just a linear equation for the momentum and its multiplier, which we've written here as $\\mu$.\n",
    "Here we only have one constraint, so each multiplier is a scalar, which is a convenient simplification."
   ]
  },
  {
   "cell_type": "code",
   "execution_count": null,
   "metadata": {},
   "outputs": [],
   "source": [
    "import tqdm\n",
    "import scipy.linalg\n",
    "import scipy.optimize\n",
    "\n",
    "def trajectory(q, v, dt, num_steps, f, g, dg, progressbar=False):\n",
    "    qs = np.zeros((num_steps + 1,) + q.shape)\n",
    "    vs = np.zeros((num_steps + 1,) + q.shape)\n",
    "\n",
    "    g_0 = g(q)\n",
    "    λs = np.zeros((num_steps + 1,) + g_0.shape)\n",
    "    μs = np.zeros((num_steps + 1,) + g_0.shape)\n",
    "\n",
    "    def project_position(λ_0, q, v):\n",
    "        def fn(λ, q, v):\n",
    "            v_n = v + 0.5 * dt * (f(q) - λ @ dg(q))\n",
    "            q_n = q + dt * v_n\n",
    "            return g(q_n)\n",
    "\n",
    "        result = scipy.optimize.root(fn, λ_0, args=(q, v))\n",
    "        return result.x\n",
    "\n",
    "    def project_velocity(q, v):\n",
    "        J = dg(q)\n",
    "        # TODO: Don't solve the normal equations, you're making Anne G sad\n",
    "        A = J @ J.T\n",
    "        b = J @ v\n",
    "        return scipy.linalg.solve(A, b, assume_a=\"pos\")\n",
    "\n",
    "    qs[0] = q\n",
    "    μs[0] = project_velocity(q, v)\n",
    "    vs[0] = v - μs[0] @ dg(q)\n",
    "\n",
    "    iterator = (tqdm.trange if progressbar else range)(num_steps)\n",
    "    for t in iterator:\n",
    "        λs[t + 1] = project_position(λs[t], qs[t], vs[t])\n",
    "        v_mid = vs[t] + 0.5 * dt * (f(qs[t]) - λs[t + 1] @ dg(qs[t]))\n",
    "        qs[t + 1] = qs[t] + dt * v_mid\n",
    "\n",
    "        v_prop = v_mid + 0.5 * dt * f(qs[t + 1])\n",
    "        μs[t + 1] = project_velocity(qs[t + 1], v_prop)\n",
    "        vs[t + 1] = v_mid + 0.5 * dt * f(qs[t + 1]) - μs[t + 1] @ dg(qs[t + 1])\n",
    "\n",
    "    return qs, vs, λs, μs"
   ]
  },
  {
   "cell_type": "markdown",
   "metadata": {},
   "source": [
    "I'll add that this algorithm was exceedingly fiddly to implement and I had to debug about 5 or 6 times before I got it right.\n",
    "The sanity checking shown below was essential to making sure it was right."
   ]
  },
  {
   "cell_type": "code",
   "execution_count": null,
   "metadata": {},
   "outputs": [],
   "source": [
    "def potential(q):\n",
    "    return q[2]\n",
    "\n",
    "def force(q):\n",
    "    return np.array((0, 0, -1))"
   ]
  },
  {
   "cell_type": "code",
   "execution_count": null,
   "metadata": {},
   "outputs": [],
   "source": [
    "num_trajectories = 25\n",
    "θs = 2 * π * np.linspace(0, 1, num_trajectories)\n",
    "num_steps = 2000\n",
    "Qs = np.zeros((num_steps + 1, 3 * num_trajectories))\n",
    "Vs = np.zeros((num_steps + 1, 3 * num_trajectories))\n",
    "Λs = np.zeros((num_steps + 1, num_trajectories))\n",
    "for i, θ in tqdm.tqdm(enumerate(θs), total=num_trajectories):\n",
    "    q = np.array((0, 0, r))\n",
    "    v = np.array((np.cos(θ), np.sin(θ), 0))\n",
    "    dt = 1e-2\n",
    "    qs, vs, λs, μs = trajectory(q, v, dt, num_steps, force, G, dG)\n",
    "    Qs[:, 3 * i : 3 * (i + 1)] = qs\n",
    "    Vs[:, 3 * i : 3 * (i + 1)] = vs\n",
    "    Λs[:, i] = λs.flatten()"
   ]
  },
  {
   "cell_type": "markdown",
   "metadata": {},
   "source": [
    "As a sanity check, we'll evaluate the change in energy throughout the course of the simulation relative to the mean kinetic energy.\n",
    "The relative differences are on the order of 1%, which suggests that the method is doing a pretty good job.\n",
    "I re-ran this notebook with half the timestep and the energy deviation is cut by a factor of four, indicative of second-order convergence."
   ]
  },
  {
   "cell_type": "code",
   "execution_count": null,
   "metadata": {},
   "outputs": [],
   "source": [
    "fig, ax = plt.subplots()\n",
    "for i in range(num_trajectories):\n",
    "    qs, vs = Qs[:, 3 * i : 3 * (i + 1)], Vs[:, 3 * i : 3 * (i + 1)]\n",
    "    K = 0.5 * np.sum(vs ** 2, axis=1)\n",
    "    U = np.array([potential(q) for q in qs])\n",
    "    energies = K + U\n",
    "    ax.plot((energies - energies[0]) / np.mean(K))"
   ]
  },
  {
   "cell_type": "markdown",
   "metadata": {},
   "source": [
    "Finally, let's make a movie of the results."
   ]
  },
  {
   "cell_type": "code",
   "execution_count": null,
   "metadata": {},
   "outputs": [],
   "source": [
    "from mpl_toolkits import mplot3d\n",
    "from mpl_toolkits.mplot3d.art3d import Line3DCollection\n",
    "from matplotlib.animation import FuncAnimation\n",
    "\n",
    "\n",
    "def make_animation(\n",
    "    Qs, depth=25, duration=30.0, start_width=0.1, end_width=1.5, ax=None\n",
    "):\n",
    "    num_steps = Qs.shape[0]\n",
    "    num_particles = Qs.shape[1] // 3\n",
    "\n",
    "    widths = np.linspace(start_width, end_width, depth)\n",
    "    collections = []\n",
    "    for i in range(num_particles):\n",
    "        q_i = Qs[:depth, 3 * i : 3 * (i + 1)]\n",
    "        points = q_i.reshape(-1, 1, 3)\n",
    "        segments = np.concatenate([points[:-1], points[1:]], axis=1)\n",
    "        collection = Line3DCollection(segments, linewidths=widths)\n",
    "        collections.append(collection)\n",
    "        ax.add_collection(collection)\n",
    "\n",
    "    def update(step):\n",
    "        start = max(0, step - depth)\n",
    "        for i in range(num_particles):\n",
    "            q_i = Qs[step - depth : step, 3 * i : 3 * (i + 1)]\n",
    "            points = q_i.reshape(-1, 1, 3)\n",
    "            segments = np.concatenate([points[:-1], points[1:]], axis=1)\n",
    "            collections[i].set_segments(segments)\n",
    "\n",
    "    interval = 1e3 * duration / num_steps\n",
    "    frames = list(range(depth, num_steps))\n",
    "    return FuncAnimation(\n",
    "        ax.figure, update, frames=frames, interval=interval, blit=False\n",
    "    )"
   ]
  },
  {
   "cell_type": "markdown",
   "metadata": {},
   "source": [
    "My Riemannian geometry kung fu is weak is but I think that the [geodesic flow](https://en.wikipedia.org/wiki/Geodesic#Flow) on this surface is [ergodic](https://en.wikipedia.org/wiki/Ergodicity) (see these [notes](http://math.uchicago.edu/~may/REU2019/REUPapers/Valva.pdf))."
   ]
  },
  {
   "cell_type": "code",
   "execution_count": null,
   "metadata": {},
   "outputs": [],
   "source": [
    "%%capture\n",
    "\n",
    "fig = plt.figure()\n",
    "ax = fig.add_subplot(projection=\"3d\")\n",
    "ax.set_xlim((-a, a))\n",
    "ax.set_ylim((-a, a))\n",
    "ax.set_zlim((-a, a))\n",
    "ax.set_axis_off()\n",
    "\n",
    "animation = make_animation(Qs, depth=100, ax=ax)"
   ]
  },
  {
   "cell_type": "code",
   "execution_count": null,
   "metadata": {},
   "outputs": [],
   "source": [
    "from IPython.display import HTML\n",
    "HTML(animation.to_html5_video())"
   ]
  },
  {
   "cell_type": "markdown",
   "metadata": {},
   "source": [
    "It's also interesting to have a look at what the respective Lagrange multipliers for position and velocity are doing."
   ]
  },
  {
   "cell_type": "code",
   "execution_count": null,
   "metadata": {},
   "outputs": [],
   "source": [
    "fig, ax = plt.subplots()\n",
    "ts = np.linspace(0.0, num_steps * dt, num_steps + 1)\n",
    "ax.plot(ts, Λs[:, 6].reshape(-1));"
   ]
  },
  {
   "cell_type": "markdown",
   "metadata": {},
   "source": [
    "Note how the Lagrange multipliers aren't smooth -- they have pretty sharp transitions.\n",
    "If you think of the Lagrange multipliers as fictitious \"forces\" that push the trajectories back onto the constraint manifold, then their amplitude is probably some kind of indicator of the local curvature of the constraint surface."
   ]
  },
  {
   "cell_type": "markdown",
   "metadata": {},
   "source": [
    "### More interesting now\n",
    "\n",
    "This all worked well enough for a single particle on the surface.\n",
    "Now let's see what happens if we put several particles on the surface and make them interact.\n",
    "I'd like to find some potential that's repulsive at distances shorter than equilibrium, attractive at longer distances, and falls off to zero at infinity.\n",
    "We could use the Lennard-Jones potential shown in the last demo but the singularity at the origin is going to create more difficulty than necessary.\n",
    "Instead, I'll use a variant of the [Ricker wavelet](https://en.wikipedia.org/wiki/Ricker_wavelet), which is plotted below."
   ]
  },
  {
   "cell_type": "code",
   "execution_count": null,
   "metadata": {},
   "outputs": [],
   "source": [
    "r_e = a / 6\n",
    "U_e = 0.5\n",
    "r = sympy.symbols(\"r\")\n",
    "ρ = r / r_e\n",
    "potential = U_e / 2 * (1 - 3 * ρ ** 2) * sympy.exp(3 / 2 * (1 - ρ ** 2))"
   ]
  },
  {
   "cell_type": "code",
   "execution_count": null,
   "metadata": {},
   "outputs": [],
   "source": [
    "rs = np.linspace(0.0, 3 * r_e, 61)\n",
    "Us = sympy.lambdify(r, potential, modules=\"numpy\")(rs)\n",
    "\n",
    "fig, ax = plt.subplots()\n",
    "ax.set_xlabel(\"distance / equilibrium\")\n",
    "ax.set_ylabel(\"potential\")\n",
    "ax.plot(rs / r_e, Us);"
   ]
  },
  {
   "cell_type": "markdown",
   "metadata": {},
   "source": [
    "I'm using this potential just because it's convenient -- no one thinks there are real particles that act like this.\n",
    "\n",
    "Now that we're looking at a multi-particle system, we have to evaluate the constraint on every single particle.\n",
    "The derivative matrix has a block structure which a serious implementation would take advantage of."
   ]
  },
  {
   "cell_type": "code",
   "execution_count": null,
   "metadata": {},
   "outputs": [],
   "source": [
    "def G(q):\n",
    "    return np.array([g_fn(*q[3 * i: 3 * (i + 1)]) for i in range(len(q) // 3)])\n",
    "\n",
    "# TODO: Make it a sparse matrix\n",
    "def dG(q):\n",
    "    n = len(q) // 3\n",
    "    J = np.zeros((n, 3 * n))\n",
    "    for i in range(n):\n",
    "        q_i = q[3 * i: 3 * (i + 1)]\n",
    "        J[i, 3 * i: 3 * (i + 1)] = dg_fn(*q_i)\n",
    "\n",
    "    return J"
   ]
  },
  {
   "cell_type": "markdown",
   "metadata": {},
   "source": [
    "The code below calculates the total forces by summation over all pairs of particles.\n",
    "I added this silly extra variable `force_over_r` to avoid any annoying singularities at zero distance."
   ]
  },
  {
   "cell_type": "code",
   "execution_count": null,
   "metadata": {},
   "outputs": [],
   "source": [
    "force = sympy.diff(potential, r)\n",
    "force_over_r = sympy.lambdify(r, sympy.simplify(force / r), modules=\"numpy\")\n",
    "\n",
    "def F(q):\n",
    "    n = len(q) // 3\n",
    "    f = np.zeros_like(q)\n",
    "    for i in range(n):\n",
    "        q_i = q[3 * i: 3 * (i + 1)]\n",
    "        for j in range(i + 1, n):\n",
    "            q_j = q[3 * j: 3 * (j + 1)]\n",
    "            r_ij = q_i - q_j\n",
    "            r = np.sqrt(np.inner(r_ij, r_ij))\n",
    "            f_ij = force_over_r(r) * r_ij\n",
    "\n",
    "            f[3 * i: 3 * (i + 1)] += f_ij\n",
    "            f[3 * j: 3 * (j + 1)] -= f_ij\n",
    "\n",
    "    return f"
   ]
  },
  {
   "cell_type": "markdown",
   "metadata": {},
   "source": [
    "To initialize the system, we'll take every 100th point from one of the trajectories that we calculated above."
   ]
  },
  {
   "cell_type": "code",
   "execution_count": null,
   "metadata": {},
   "outputs": [],
   "source": [
    "skip = 100\n",
    "particle = 3\n",
    "q = Qs[::skip, 3 * particle : 3 * (particle + 1)].flatten()\n",
    "v = np.zeros_like(q)"
   ]
  },
  {
   "cell_type": "code",
   "execution_count": null,
   "metadata": {},
   "outputs": [],
   "source": [
    "dt = 1e-2\n",
    "N = 2000\n",
    "qs, vs, λs, μs = trajectory(q, v, dt, N, F, G, dG, progressbar=True)"
   ]
  },
  {
   "cell_type": "code",
   "execution_count": null,
   "metadata": {},
   "outputs": [],
   "source": [
    "%%capture\n",
    "\n",
    "fig = plt.figure()\n",
    "ax = fig.add_subplot(projection=\"3d\")\n",
    "ax.set_xlim((-a, a))\n",
    "ax.set_ylim((-a, a))\n",
    "ax.set_zlim((-a, a))\n",
    "ax.set_axis_off()\n",
    "\n",
    "animation = make_animation(qs, depth=100, ax=ax)"
   ]
  },
  {
   "cell_type": "code",
   "execution_count": null,
   "metadata": {},
   "outputs": [],
   "source": [
    "HTML(animation.to_html5_video())"
   ]
  },
  {
   "cell_type": "markdown",
   "metadata": {},
   "source": [
    "Some of the particles fall into each others' potential wells and become bound, developing oscillatory orbits, while others remain free.\n",
    "For two particles to bind, they have to have just the right momenta and relative positions; if they're moving too fast, they may scatter off of each other, but will ultimately fly off in opposite directions."
   ]
  },
  {
   "cell_type": "markdown",
   "metadata": {},
   "source": [
    "### Conclusion\n",
    "\n",
    "Enforcing constraints in solvers for Hamiltonian systems introduces several new difficulties.\n",
    "The basic second-order splitting scheme for unconstrained problems is pretty easy to implement and verify.\n",
    "While the RATTLE algorithm looks to be not much more complicated, it's very easy to introduce subtle off-by-one errors -- for example, accidentally evaluating the constraint derivative at the midpoint instead of the starting position.\n",
    "These mistakes manifest themselves as slightly too large deviations from energy conservation, but these deviations aren't necessarily large in any relative sense.\n",
    "The resulting scheme might still converge to the true solution, in which case the energy deviation will go to zero for any finite time interval.\n",
    "So measuring the reduction in the energy errors asymptotically as $\\delta t \\to 0$ probably won't catch this type of problem.\n",
    "It may be possible to instead calculate what the next-order term is in the Hamiltonian for the modified system using the Baker-Campbell-Hausdorff formula, but that may be pretty rough in the presence of constraints.\n",
    "\n",
    "The implementation may be fiddly and annoying, but it is still possible to preserve much of the symplectic structure when constraints are added.\n",
    "The fact that structure-preserving integrators exist at all shouldn't be taken as a given.\n",
    "For example, there don't appear to be any simple structure-preserving adaptive integration schemes; see chapter 9 of [Leimkuhler and Reich](https://doi.org/10.1017/CBO9780511614118).\n",
    "The shallow water equations are a Hamiltonian PDE and deriving symplectic schemes that include the necessary upwinding is [pretty hard](https://doi-org.offcampus.lib.washington.edu/10.1016/j.jcp.2019.109016).\n",
    "\n",
    "There are several respects in which the code I wrote above is sub-optimal.\n",
    "For the multi-particle simulation, the constraints are applied to each particle and consequently the constraint derivative matrix $J$ is very sparse and $J\\cdot J^\\top$ is diagonal.\n",
    "For expediency's sake, I just used a dense matrix, but this scales very poorly to more particles.\n",
    "A serious implementation would either represent $J$ as a sparse matrix or would go matrix-free by providing routines to calculate the product of $J$ or $J^\\top$ with a vector.\n",
    "I also implemented the projection of the momentum back onto the cotangent space by solving the normal equations, which is generally speaking a bad idea.\n",
    "The matrix $J\\cdot J^\\top$ was diagonal for our problem, so this approach will probably work out fine.\n",
    "For more complex problems, we may be better off solving a least-squares problem with the matrix $J^\\top$ using either the QR or singular value decomposition.\n",
    "\n",
    "Finally, I used a simple interaction potential just so we could see something interesting happen.\n",
    "The potential goes to a finite value at zero separation, which is a little unphysical.\n",
    "A much more serious deficiency was that the potential is defined using the particles' coordinates in 3D Cartesian space.\n",
    "Ideally, we would do everything in a way that relies as little on how the surface is embedded into Euclidean space as possible, which would mean using the *geodesic* distance instead."
   ]
  }
 ],
 "metadata": {
  "kernelspec": {
   "display_name": "firedrake",
   "language": "python",
   "name": "firedrake"
  },
  "language_info": {
   "codemirror_mode": {
    "name": "ipython",
    "version": 3
   },
   "file_extension": ".py",
   "mimetype": "text/x-python",
   "name": "python",
   "nbconvert_exporter": "python",
   "pygments_lexer": "ipython3",
   "version": "3.9.2"
  },
  "nikola": {
   "category": "",
   "date": "2021-11-12 16:30:53 UTC-08:00",
   "description": "",
   "link": "",
   "slug": "surface-billiards",
   "tags": "",
   "title": "Billiards on surfaces",
   "type": "text"
  }
 },
 "nbformat": 4,
 "nbformat_minor": 4
}
