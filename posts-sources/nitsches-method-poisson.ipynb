{
 "cells": [
  {
   "cell_type": "markdown",
   "metadata": {},
   "source": [
    "# or: robbing Peter to pay Paul\n",
    "\n",
    "In this post I'll describe a way to enforce essential boundary conditions when discretizing a PDE using the finite element method.\n",
    "We'll start out with a simple model problem -- finding the minimizer of the functional\n",
    "\n",
    "$$J(u) = \\int_\\Omega\\left(\\frac{1}{2}k|\\nabla u|^2 - fu\\right)dx$$\n",
    "\n",
    "for $u$, subject to the Dirichlet boundary condition\n",
    "\n",
    "$$u|_{\\partial\\Omega} = g.$$\n",
    "\n",
    "Minimizing this quadratic functional is equivalent to finding a weak solution of the Poisson equation.\n",
    "(If you want to think of this like a heat conduction problem, $k$ is the thermal conductivity, $f$ is the volumetric heating, and $g$ is the temperature of the surrounding medium.)\n",
    "\n",
    "In most circumstances you'd impose the Dirichlet boundary condition by changing entries of the matrix and right-hand side of the discretized linear system, but futzing with the linear system in this way is very error-prone.\n",
    "**Nitsche's method is a way to impose essential boundary conditions by instead modifying the variational principle.**\n",
    "\n",
    "For other problems, there's no good way to impose the essential boundary conditions at all.\n",
    "An interesting case for me is the Stokes equations for a slow-flowing viscous fluid:\n",
    "\n",
    "$$J(u, p) = \\int_\\Omega\\left(\\frac{1}{2}\\tau : \\dot\\varepsilon - p\\nabla\\cdot u - f\\cdot u\\right)dx$$\n",
    "\n",
    "where $u$ is the fluid velocity vector, $p$ the pressure, $\\dot\\varepsilon = (\\nabla u + \\nabla u^\\top) / 2$ is the strain rate tensor, and $\\tau = 2\\mu\\dot\\varepsilon$ the stress tensor.\n",
    "Lid-driven cavity flow, where the fluid velocity is set to some specified value at the upper side of the box, is a common benchmark problem.\n",
    "The case I'm interested in is where we instead have *friction* boundary conditions.\n",
    "Rather than set the fluid velocity on the boundary, we instead imagine that the fluid is not in perfect contact with its container and that the movement of the lid merely exerts a drag force.\n",
    "Translating the physics into math gives the following conditions:\n",
    "\n",
    "$$u\\cdot n = 0, \\quad (I - n\\otimes n)\\tau\\cdot n = -\\kappa(I - n\\otimes n)(u - u_\\Gamma)$$\n",
    "\n",
    "on the segment $\\Gamma$ of the domain boundary.\n",
    "These two conditions state that (1) the fluid flows tangential to the boundary and (2) the fluid slides through friction along the boundary, which is moving with speed $u_\\Gamma$.\n",
    "Friction BCs are a little unusual -- they're like a Dirichlet condition in the normal direction and a Robin condition in the tangential directions.\n",
    "For a curved boundary, we can't impose the normal condition directly and that's where Nitsche's method is a real life-saver."
   ]
  },
  {
   "cell_type": "markdown",
   "metadata": {},
   "source": [
    "### The old-fashioned way\n",
    "\n",
    "Before embarking on any funny business, let's see how to solve the variational problem with Dirichlet BCs in the usual way.\n",
    "First, we'll use the unit square as our domain, and we'll use basis functions of degree 2."
   ]
  },
  {
   "cell_type": "code",
   "execution_count": null,
   "metadata": {},
   "outputs": [],
   "source": [
    "import firedrake\n",
    "nx, ny = 32, 32\n",
    "mesh = firedrake.UnitSquareMesh(nx, ny, diagonal='crossed')\n",
    "p = 2\n",
    "Q = firedrake.FunctionSpace(mesh, family='CG', degree=p)"
   ]
  },
  {
   "cell_type": "markdown",
   "metadata": {},
   "source": [
    "We need to come up with some reasonable right-hand side $f$ and boundary data $g$.\n",
    "To generate the input data we'll create a Fourier series with random coefficients.\n",
    "On simple domains like the unit square, you can write down the solution analytically in terms of the coefficients, which makes for a nice sanity check.\n",
    "In order to guarantee that we can reproduce the results later if need be, we'll explicitly seed the random number generator rather than let the system seed it."
   ]
  },
  {
   "cell_type": "code",
   "execution_count": null,
   "metadata": {},
   "outputs": [],
   "source": [
    "import numpy as np\n",
    "from numpy import pi as π\n",
    "from numpy.random import default_rng\n",
    "\n",
    "x, y = firedrake.SpatialCoordinate(mesh)\n",
    "\n",
    "rng = default_rng(seed=0)\n",
    "def random_fourier_series(std_dev, num_modes, exponent):\n",
    "    from firedrake import sin, cos\n",
    "    A = std_dev * rng.standard_normal((num_modes, num_modes))\n",
    "    B = std_dev * rng.standard_normal((num_modes, num_modes))\n",
    "    expr = sum([(A[k, l] * sin(π * (k * x + l * y)) +\n",
    "                 B[k, l] * cos(π * (k * x + l * y)))\n",
    "                / (1 + (k**2 + l**2)**(exponent/2))\n",
    "                for k in range(num_modes)\n",
    "                for l in range(int(np.sqrt(num_modes**2 - k**2)))])\n",
    "    return firedrake.interpolate(expr, Q)"
   ]
  },
  {
   "cell_type": "code",
   "execution_count": null,
   "metadata": {},
   "outputs": [],
   "source": [
    "f = random_fourier_series(std_dev=1.0, num_modes=6, exponent=1)\n",
    "g = random_fourier_series(std_dev=.25, num_modes=5, exponent=1)"
   ]
  },
  {
   "cell_type": "code",
   "execution_count": null,
   "metadata": {},
   "outputs": [],
   "source": [
    "import matplotlib.pyplot as plt\n",
    "from mpl_toolkits import mplot3d\n",
    "fig = plt.figure()\n",
    "axes = fig.add_subplot(projection='3d')\n",
    "firedrake.trisurf(g, axes=axes);"
   ]
  },
  {
   "cell_type": "markdown",
   "metadata": {},
   "source": [
    "Now we'll form the action functional $J$ and solve for the minimizer.\n",
    "We have to pass the boundary conditions to the solver explicitly, and internally it will apply these boundary conditions to the solution.\n",
    "\n",
    "We've also specified that we want to use the sparse direct solver MUMPS for the linear system.\n",
    "For 2D problems with less than roughly 250,000 unknowns, it's pretty hard to beat direct methods.\n",
    "On top of that, the goal of the current exercise is to experimenting with different ways to enforce essential boundary conditions, and we should try to eliminate any other possible sources of variability in our solution.\n",
    "If we used an iterative method like CG, the difference between the solution we'll compute here and the one we'll obtain from Nitsche's method could end up being more a result of a bad preconditioner.\n",
    "Using direct methods eliminates that possibility."
   ]
  },
  {
   "cell_type": "code",
   "execution_count": null,
   "metadata": {},
   "outputs": [],
   "source": [
    "from firedrake import inner, grad, dx, ds\n",
    "u = g.copy(deepcopy=True)\n",
    "\n",
    "J = (0.5 * inner(grad(u), grad(u)) - f * u) * dx\n",
    "F = firedrake.derivative(J, u)\n",
    "\n",
    "parameters = {\n",
    "    'solver_parameters': {\n",
    "        'ksp_type': 'preonly',\n",
    "        'pc_type': 'lu',\n",
    "        'pc_factor_mat_solver_type': 'mumps'\n",
    "    }\n",
    "}\n",
    "bc = firedrake.DirichletBC(Q, g, 'on_boundary')\n",
    "firedrake.solve(F == 0, u, bc, **parameters)"
   ]
  },
  {
   "cell_type": "code",
   "execution_count": null,
   "metadata": {},
   "outputs": [],
   "source": [
    "fig = plt.figure()\n",
    "axes = fig.add_subplot(projection='3d')\n",
    "firedrake.trisurf(u, axes=axes);"
   ]
  },
  {
   "cell_type": "markdown",
   "metadata": {},
   "source": [
    "The function `firedrake.solve` takes the Dirichlet boundary conditions as an extra argument and makes all the necessary changes to the linear system for us.\n",
    "This strategy doesn't work out so well for more complex problems, as I pointed out above for the Stokes equations with friction boundary conditions.\n",
    "Nonetheless, we'll use the Poisson problem to demonstrate everything in the following.\n",
    "The fact that we can easily get a ground truth value by directly applying the Dirichlet BCs makes the results fairly easy to analyze after the fact.\n",
    "Then we'll use the intuition we've built up on this easy problem to attack harder ones."
   ]
  },
  {
   "cell_type": "markdown",
   "metadata": {},
   "source": [
    "### The penalty method\n",
    "\n",
    "The Poisson equation with Dirichlet boundary conditions can be viewed as a constrained optimization problem.\n",
    "A really blunt way of enforcing these constraints is to modify the variational principle so that departures from the Dirichlet boundary conditions are \"expensive\" and thus a minimizer will be pretty close to $g$ on the boundary.\n",
    "The modified variational principle is:\n",
    "\n",
    "$$J_\\gamma(u) = \\int_\\Omega\\left(\\frac{1}{2}k|\\nabla u|^2 - fu\\right)dx + \\int_{\\partial\\Omega}\\frac{\\gamma k}{2h}(u - g)^2ds.$$\n",
    "\n",
    "The extra factor of $h$ is a length scale which we need there to make all the physical units work out right, while $\\gamma$ is a dimensionless constant.\n",
    "The penalty method amounts to replacing the Dirichlet boundary condition with the Robin condition\n",
    "\n",
    "$$-k\\frac{\\partial u}{\\partial n} = \\gamma\\frac{k(u - g)}{h}.$$\n",
    "\n",
    "In the limit as $\\gamma \\to \\infty$, the minimizer of $J_\\gamma$ will approach the solution of the problem we were originally solving.\n",
    "\n",
    "For a numerical implementation we'll just take $\\gamma$ to be very large and hope for the best.\n",
    "In our case we'll use\n",
    "\n",
    "$$\\gamma = |\\Omega|^{1/d} / h$$\n",
    "\n",
    "where $|\\Omega|$ is the volume of the domain and $h$ is the diameter of a cell of the mesh."
   ]
  },
  {
   "cell_type": "code",
   "execution_count": null,
   "metadata": {},
   "outputs": [],
   "source": [
    "v = g.copy(deepcopy=True)\n",
    "\n",
    "h = firedrake.CellSize(mesh)\n",
    "area = firedrake.assemble(firedrake.Constant(1) * dx(mesh))\n",
    "γ = firedrake.Constant(np.sqrt(area)) / h\n",
    "J = (0.5 * inner(grad(v), grad(v)) - f * v) * dx + 0.5 * γ / h * (v - g)**2 * ds\n",
    "F = firedrake.derivative(J, v)\n",
    "\n",
    "firedrake.solve(F == 0, v, **parameters)"
   ]
  },
  {
   "cell_type": "code",
   "execution_count": null,
   "metadata": {},
   "outputs": [],
   "source": [
    "fig = plt.figure()\n",
    "axes = fig.add_subplot(projection='3d')\n",
    "firedrake.trisurf(v, axes=axes);"
   ]
  },
  {
   "cell_type": "markdown",
   "metadata": {},
   "source": [
    "The errors are largest around the boundary of the domain and the magnitudes are appreciably smaller than the spread of the solution itself."
   ]
  },
  {
   "cell_type": "code",
   "execution_count": null,
   "metadata": {},
   "outputs": [],
   "source": [
    "δu = firedrake.interpolate(u - v, Q)\n",
    "\n",
    "fig = plt.figure()\n",
    "axes = fig.add_subplot(projection='3d')\n",
    "firedrake.trisurf(δu, cmap='RdBu', axes=axes);"
   ]
  },
  {
   "cell_type": "markdown",
   "metadata": {},
   "source": [
    "For comparison later, we'll calculate the relative difference between the exact solution and the solution obtained from the penalty method:"
   ]
  },
  {
   "cell_type": "code",
   "execution_count": null,
   "metadata": {},
   "outputs": [],
   "source": [
    "penalty_error = firedrake.norm(u - v) / firedrake.norm(u)\n",
    "print(penalty_error)"
   ]
  },
  {
   "cell_type": "markdown",
   "metadata": {},
   "source": [
    "All told this involved very little extra work compared to adding the boundary conditions the traditional way.\n",
    "There are a number of disadvantages that ultimately make this method undesirable though, most of which can be gleaned from exercise 3.2.2 in Ciarlet's book.\n",
    "We used a penalty parameter $\\gamma$ that scaled like $h^{-1}$ as the mesh is refined (this is in addition to the factor of $h^{-1}$ that was necessary to get the units right).\n",
    "If the finite element space is asymptotically $\\mathscr{O}(h^p)$ accurate, this scaling gives solutions that are only $\\mathscr{O}(h^{p/2})$ accurate.\n",
    "The penalty method effectively negates the greatest advantage of finite element analysis, namely the quasi-optimal accuracy of the solution.\n",
    "\n",
    "With this scaling, the condition number growth of the linear systems as the mesh is refined is even worse than for the stiffness matrix of the original problem.\n",
    "In two dimensions, we can partially side-step this issue by solving the linear system with a direct factorization.\n",
    "Direct methods fare much worse in three dimensions, where iterative methods are a virtual necessity for even modest problem sizes.\n",
    "The poor conditioning of the penalized problem makes iterative methods take much longer to converge."
   ]
  },
  {
   "cell_type": "markdown",
   "metadata": {},
   "source": [
    "### The Lagrange multiplier method\n",
    "\n",
    "The penalty method is easy to implement, but it can wreck both the accuracy of the solution we obtain and the condition number of the linear system we have to solve.\n",
    "Instead, we might try to enforce the BC directly by introducing a Lagrange multiplier field $\\lambda$ defined on the boundary of the domain.\n",
    "The Lagrangian is defined as\n",
    "\n",
    "$$L(u, \\lambda) = \\int_\\Omega\\left(\\frac{1}{2}k|\\nabla u|^2 - fu\\right)dx + \\int_{\\partial\\Omega}\\lambda(u - g)ds.$$\n",
    "\n",
    "We could then solve for $u$ and $\\lambda$ simultaneously using, say, the Uzawa algorithm.\n",
    "\n",
    "Unfortunately this approach goes all to hell when we try to discretize it.\n",
    "The nice part about finite element analysis for the Poisson and related equations is that questions about accuracy of the solution all boil down to approximation theory.\n",
    "You can use just about any discretization so long as the finite element spaces can approximate $H^1$ in the limit.\n",
    "All this nice math hinges on the fact that the Poisson equation is positive-definite, but when we introduce a Lagrange multiplier we end up instead with a saddle-point problem.\n",
    "You can't use just any discretization for a saddle-point problem and there are criteria called the [Ladyzhenskaya-Babuška-Brezzi](https://en.wikipedia.org/wiki/Ladyzhenskaya%E2%80%93Babu%C5%A1ka%E2%80%93Brezzi_condition) condition that tell us when we do (or do not) have a stable discretization.\n",
    "(The LBB condition is why you need to use Taylor-Hood elements or bubble functions when solving the Stokes equations.)\n",
    "\n",
    "Ivo Babuška himself proposed this Lagrange multiplier approach for boundary conditions in the 70s but left open the question of which finite element to use for $\\lambda$.\n",
    "Juhani Pitkäranta, in a series of three papers in the 80s, went and solved this problem and found that the stability conditions on the elements for $\\lambda$ are so strict as to be almost impossible to implement.\n",
    "So far as I know, no common FEA packages implement them.\n",
    "\n",
    "There's still something valuable we can learn from the Lagrange multiplier approach, despite the fact that it isn't practical to use numerically.\n",
    "Let $u$ and $\\lambda$ be the extremum of the Lagrangian $L$; the two fields solve the weak PDE\n",
    "\n",
    "$$0 = \\int_\\Omega\\left(k\\nabla u\\cdot\\nabla v - fv\\right)dx + \\int_{\\partial\\Omega}\\lambda v\\; ds$$\n",
    "\n",
    "for all $v$ in $H^1$.\n",
    "Now suppose that the input data are nice enough for elliptic regularity to apply.\n",
    "We can push the gradient of $v$ over on $u$:\n",
    "\n",
    "$$\\ldots = -\\int_\\Omega\\left(\\nabla\\cdot k\\nabla u + f\\right)v\\; dx + \\int_{\\partial\\Omega}\\left(\\lambda + k\\frac{\\partial u}{\\partial n}\\right)v\\; ds.$$\n",
    "\n",
    "In order for this quantity to be 0 for any $v$, regardless of its boundary values, we need for\n",
    "\n",
    "$$\\lambda = -k\\frac{\\partial u}{\\partial n}.$$\n",
    "\n",
    "In other words, **the Lagrange multiplier is equal to the boundary flux of the solution.**\n",
    "This is going to be lead us, by of the augmented Lagrangian method, to Nitsche's method."
   ]
  },
  {
   "cell_type": "markdown",
   "metadata": {},
   "source": [
    "### The augmented Lagrangian method\n",
    "\n",
    "In the limit as $\\gamma$ gets large, the solution of the penalty method approaches the true solution to the constrained problem.\n",
    "With a bit of extra analysis it's possible to establish a relation between the penalty and Lagrange multiplier methods.\n",
    "In the limit as $\\gamma \\to \\infty$, we actually recover what the Lagrange multiplier is from the penalty method:\n",
    "\n",
    "$$\\lambda = -\\lim_{\\gamma\\to\\infty}\\gamma k(u - g)/h.$$\n",
    "\n",
    "(You probably have to be careful about whether $h \\to 0$ or $\\gamma \\to \\infty$ first but let's... not think about that too hard.)\n",
    "This suggests some kind of alternative where we use the departure from the constraints to guess the right value of the Lagrange multiplier in the hopes of achieving faster convergence.\n",
    "When you run with this idea you get the augmented Lagrangian method.\n",
    "\n",
    "The dumbest description I can think of the augmented Lagrangian method is that you take the penalty method and the Lagrange multiplier method and smash them together:\n",
    "\n",
    "$$L_\\gamma(u, \\lambda) = \\int_\\Omega\\left(\\frac{1}{2}k|\\nabla u|^2 - fu\\right)dx + \\int_{\\partial\\Omega}\\lambda(u - g)ds + \\int_{\\partial\\Omega}\\frac{\\gamma k}{2h}(u - g)^2ds.$$\n",
    "\n",
    "When $u$ satisfies the constraints, the penalty term is exactly 0.\n",
    "You can think of this modification as adding an extra term to the Lagrangian that doesn't modify the location of the extremum, but which does alter the curvature far from it in a way that's particularly advantageous.\n",
    "\n",
    "The payoff for adopting this approach is that we can get a solution $u$ that exactly satisfies the constraints but without taking $\\gamma \\to \\infty$.\n",
    "Consequently we don't blow up the condition number like we do for the penalty method.\n",
    "On top of that, there's a simple and convergent iterative procedure to update both $\\gamma$ and $\\lambda$ for which we only solve a positive-definite linear system at each step.\n",
    "\n",
    "For the penalty method, you get the best accuracy by making $\\gamma$ asymptotic to some power of $h^{-1}$.\n",
    "At this point it would be tempting to try and carry out the same analysis for the augmented Lagrangian method.\n",
    "Instead, we'll use the fact that $\\lambda$ is equal to the boundary flux in equilibrium to eliminate this variable entirely, leading us to"
   ]
  },
  {
   "cell_type": "markdown",
   "metadata": {},
   "source": [
    "### Nitsche's method\n",
    "\n",
    "The variational principle for Nitsche's method is obtained by substituting the analytical expression for the Lagrange multiplier $\\lambda$ into the augmented Lagrangian:\n",
    "\n",
    "$$J_\\gamma(u) = \\int_\\Omega\\left(\\frac{1}{2}k|\\nabla u|^2 - fu\\right)dx - \\int_{\\partial\\Omega}k\\frac{\\partial u}{\\partial n}(u - g)ds + \\int_{\\partial\\Omega}\\frac{\\gamma k}{2h}(u - g)^2ds.$$\n",
    "\n",
    "The extra terms are both 0 at a solution of the original variational problem with the boundary conditions we specified.\n",
    "So a critical point of $J_\\gamma$ is also a solution, but I say critical point because we haven't proved yet that this functional is convex.\n",
    "Whether or not it's convex will hinge on our choice of the penalty parameter $\\gamma$, and with a little elbow grease we can figure out exactly how big the penalty needs to be.\n",
    "\n",
    "We want to show that the Nitsche functional has the same positivity properties as the original functional.\n",
    "This means showing that its second derivative is a strictly positive-definite operator, in other words that\n",
    "\n",
    "$$\\langle d^2J_\\gamma\\cdot v, v\\rangle = \\int_\\Omega k|\\nabla v|^2dx - 2\\int_{\\partial\\Omega}k\\frac{\\partial v}{\\partial n}v\\; ds + \\int_{\\partial\\Omega}\\frac{\\gamma k}{h}v^2ds > 0$$\n",
    "\n",
    "any $v$ in $H^1$.\n",
    "For our purposes, proving that the Hessian of $J_\\gamma$ is positive-definite is easiest because it's twice-differentiable.\n",
    "There are several other definitions of convexity that can be easier to work from depending on the scenario, like if the functional isn't differentiable everywhere.\n",
    "The important point is that convexity guarantees the existence and uniqueness of a solution.\n",
    "From there we can prove the norm-equivalence properties that make finite element analysis possible."
   ]
  },
  {
   "cell_type": "markdown",
   "metadata": {},
   "source": [
    "#### A first (failing) attempt\n",
    "\n",
    "The middle term of the last equation is clearly the troublesome part, while the remaining two terms are manifestly positive.\n",
    "As a first guess, we'll try using Young's inequality:\n",
    "\n",
    "$$2ab \\le a^2 + b^2.$$\n",
    "\n",
    "By applying this to the middle term, we can break it up into a sum of two boundary integrals that hopefully can be controlled:\n",
    "\n",
    "$$2\\int_{\\partial\\Omega}k\\frac{\\partial v}{\\partial n}v\\; ds \\le \\int_{\\partial\\Omega}k\\left(\\frac{\\partial v}{\\partial n}\\right)^2ds + \\int_{\\partial\\Omega}kv^2\\; ds.$$\n",
    "\n",
    "The second term of the last equation looks like something that we can control with the boundary penalty, but the first term is a little harder to crack.\n",
    "If we know that $v$ is in $H^1(\\Omega)$, then the Sobolev trace inequality tells us that $v|_{\\partial\\Omega}$ is in the [Slobodeckij space](https://en.wikipedia.org/wiki/Sobolev_space#Sobolev%E2%80%93Slobodeckij_spaces) $H^{1/2}(\\partial\\Omega)$.\n",
    "We can then show that $\\partial v/\\partial n$ is in the dual space $H^{-1/2}(\\partial\\Omega)$, but to control the boundary flux norm in the last equation we would at the very least need that it's in $L^2(\\partial\\Omega)$.\n",
    "That might be true but only if we assume a greater degree of regularity from the get-go.\n",
    "You could also guess that the last expression is a load of bunk because the physical units don't come out right!"
   ]
  },
  {
   "cell_type": "markdown",
   "metadata": {},
   "source": [
    "#### Inverse inequalities\n",
    "\n",
    "Using Young's inequality isn't totally far off, we just need to apply a slightly different form of it.\n",
    "Before doing that, however, I need to introduce a finite element **inverse inequality**.\n",
    "Inverse inequalities apply only to polynomials and not to all of $H^1$.\n",
    "These results are still useful to us because the basis functions in finite element analysis are polynomials.\n",
    "Moreover, we'll assume that the domain $\\Omega$ has been subdivided into a regular mesh of elements $\\{E_i\\}$ where each $E_i$ is a triangle or tetrahedron.\n",
    "\n",
    "What's interesting about inverse inequalities is that they control things in the opposite direction from what you expect.\n",
    "For example, the Poincaré inequality states that, if $v$ is in $H^1$ and $v|_{\\partial\\Omega} = 0$, then\n",
    "\n",
    "$$\\int_\\Omega v^2dx \\le C\\int_\\Omega|\\nabla v|^2dx.$$\n",
    "\n",
    "The corresponding inverse inequality states that, if $v$ is a polynomial of degree $p$ on a simplex $E$, then\n",
    "\n",
    "$$\\int_E|\\nabla v|^2dx \\le h^{-2}C(d, p, E)\\int_E v^2dx$$\n",
    "\n",
    "where $h$ is the radius of the simplex $E$ and $C$ is a constant that depends on the dimension $d$, the polynomial degree $p$, and the shape regularity of $E$, but not on $v$.\n",
    "This inequality does not imply the ridiculous conclusion that the $H^1$ norm can be bounded by the $L^2$ norm as we refine a finite element mesh. \n",
    "The factors $h^{-2}$ would blow up as the cells get smaller and smaller.\n",
    "\n",
    "The particular inverse inequality that we'll need states that, if $v$ is a polynomial of degree $p$, then its square norm on the boundary can be controlled by the norm over the interior:\n",
    "\n",
    "$$\\int_{\\partial E}v^2ds \\le C(d, p)\\cdot\\frac{|\\partial E|}{|E|}\\cdot\\int_E v^2dx$$\n",
    "\n",
    "where $|E|$, $|\\partial E|$ are respectively the volume of the simplex and the area of its boundary.\n",
    "Using a bit of trigonometry we can show that, for a triangle with shortest side length $h$ and smallest angle $\\theta$,\n",
    "\n",
    "$$\\frac{|E|}{|\\partial E|} \\ge \\sin\\theta\\cdot\\tan\\theta/2\\cdot h/2.$$\n",
    "\n",
    "We can calculate $\\theta$ explicitly by looping over all the triangles of the mesh, or we can rely on the fact that nowadays mesh generators guarantee that the minimum angle is greater than, say, $\\pi / 12$.\n",
    "\n",
    "The usual approach to proving these inverse inequalities (for example, in Ciarlet's book) is to note that the space of polynomials up to a given  degree is finite-dimensional and that all norms on finite-dimensional vector spaces are equivalent.\n",
    "This proof strategy does not, however, give any clue as to what the constant $C$ might be.\n",
    "You can figure out exactly what the constant is for piecewise linear finite elements on triangles, but it would be a lot nicer if we could compute a sharp bound that would work for any degree.\n",
    "In a wonderfully readable paper from 2003, Warburton and Hesthaven showed that, for a polynomial $u$ of degree $p$ on a simplex $E$ in $d$ dimensions,\n",
    "\n",
    "$$\\int_{\\partial E}u^2ds \\le \\frac{(p + 1)(p + d)}{d}\\cdot\\frac{|\\partial E|}{|E|}\\cdot\\int_Eu^2dx.$$\n",
    "\n",
    "The proof relies on the fact that orthogonal polynomials on a simplex can be expressed in terms of Jacobi polynomials.\n",
    "\n",
    "We're more interested in controlling the gradient of $v$ on the boundary rather than the values of $v$ itself.\n",
    "We can still use the boundary inverse inequality by noting that $\\nabla v$ is a polynomial of one lower degree and with $d$ components:\n",
    "\n",
    "$$\\int_{\\partial E}\\left(\\frac{\\partial v}{\\partial n}\\right)^2ds \\le d\\cdot C(d, p - 1)\\cdot\\frac{|\\partial E|}{|E|}\\cdot\\int_E|\\nabla v|^2dx \\ldots$$\n",
    "\n",
    "and by applying both the trigonometric bound for the surface-to-volume ratio and the explicit formula for the constant $C$ we get that\n",
    "\n",
    "$$\\ldots \\le 2p\\cdot(p + d - 1)\\cdot\\csc\\theta\\cot\\theta/2\\cdot h^{-1}\\cdot \\int_E|\\nabla v|^2dx.$$\n",
    "\n",
    "The extra factor of $h$ is what we were missing before when we tried to apply Young's inequality.\n",
    "From now on we'll write the constant in the last inequality as $C(d, p, \\theta)$.\n",
    "The important point to note is that $C(d, p, \\theta)$ increses to infinity as $\\theta$ approaches 0, so the more regular the mesh the better."
   ]
  },
  {
   "cell_type": "markdown",
   "metadata": {},
   "source": [
    "#### The Peter-Paul inequality\n",
    "\n",
    "The inverse inequality suggests that we can indeed control the norm of the boundary flux, but we need to sneak in an extra factor of $h$ in order to be able to use it.\n",
    "That's where the famous \"Young's inequality with $\\epsilon$\" comes in.\n",
    "This inequality is also called the **Peter-Paul inequality** after the English expression \"robbing Peter to pay Paul\"; the expression dates from the middle ages when the assets and properties of St. Peter's Cathedral in London were siphoned off to pay for the repairs and upkeep of St. Paul's Cathedral.\n",
    "\n",
    "Historical anecdotes aside, the Peter-Paul inequality is:\n",
    "\n",
    "$$2ab \\le \\underbrace{\\epsilon^{-1}a^2}_{\\text{Peter}} + \\underbrace{\\epsilon b^2}_{\\text{Paul}}.$$\n",
    "\n",
    "where $\\epsilon$ is an arbitrary positive number.\n",
    "If we make $\\epsilon$ very small then we can control one term at the expense of making the other very large.\n",
    "We'll take $\\epsilon$ to also include a factor of $h$, and use it to break up the troublesome term in the Nitsche functional:\n",
    "\n",
    "$$2\\int_{\\partial\\Omega}k\\frac{\\partial v}{\\partial n}v\\; ds \\le \\epsilon\\int_{\\partial\\Omega}hk\\left(\\frac{\\partial v}{\\partial n}\\right)^2ds + \\epsilon^{-1}\\int_{\\partial\\Omega}\\frac{k}{h}v^2\\; ds.$$\n",
    "\n",
    "We haven't decided what $\\epsilon$ needs to be yet; it relates to the constant $C$ in the inverse inequality.\n",
    "I should also be more specific about $h$.\n",
    "Assuming that $\\Omega$ has been divided into triangles $\\{E_i\\}$, we'll define $h$ to be equal to\n",
    "\n",
    "$$h = \\sum_i \\text{diameter}(E_i)\\cdot \\mathbb{1}_{E_i}$$\n",
    "\n",
    "where $\\mathbb{1}_A$ is the indicator function of the set $A$.\n",
    "In other words the function $h$ gives the local element diameter.\n",
    "The important point here is that $h$ depends on position and consequently needs to live inside the integrals and not out.\n",
    "\n",
    "Now that we have the extra factor of $h$ we can apply the inverse inequality.\n",
    "There's a little extra work to account for the presence of the nonhomogeneous conductivity coefficient $k$ in our variational problem.\n",
    "For the problem to be well-posed we need that $k$ is bounded above and below by positive constants.\n",
    "From the original form of the inverse inequality, we can then take a few extra steps to arrive at the following:\n",
    "\n",
    "$$\\int_{\\partial\\Omega}kh\\left(\\frac{\\partial v}{\\partial n}\\right)^2ds \\le C(d, p, \\min\\theta)\\cdot\\frac{\\max_\\Omega k}{\\min_\\Omega k}\\cdot\\int_\\Omega k|\\nabla v|^2dx.$$\n",
    "\n",
    "We could pull the ratio of the maximum of $k$ to the minimum inside the integral and calculate it over each cell instead over the whole domain if we needed an even tighter inequality.\n",
    "For example if there were large contrasts in $k$ over the whole domain but not over a single element then that could be a big improvement.\n",
    "Likewise, we could also pull the constants $C(d, p, \\theta)$ inside the integral, which we would then express as a sum over the intersections of $\\partial\\Omega$ with each cell.\n",
    "For highly anisotropic meshes, it might be worthwhile to keep the constants inside the sum, but in the interest of simplicity we'll leave this as-is.\n",
    "\n",
    "The last inequality tells us exactly how small $\\epsilon$ needs to be:\n",
    "\n",
    "$$\\epsilon = \\alpha\\cdot C(d, p, \\min\\theta)^{-1}\\cdot\\frac{\\min_\\Omega k}{\\max_\\Omega k}$$\n",
    "\n",
    "for some constant $\\alpha$ such that $0 < \\alpha < 1$.\n",
    "When we go to compute things we'll take $\\alpha = 1/2$, but for now we'll leave it arbitrary.\n",
    "Finally, we can put everything together:\n",
    "\n",
    "$$\\begin{align}\n",
    "\\langle d^2J_\\gamma\\cdot v, v\\rangle & = \\int_{\\Omega}k|\\nabla v|^2dx - 2\\int_{\\partial\\Omega}k\\frac{\\partial v}{\\partial n}v\\;ds + \\int_{\\partial\\Omega}\\frac{\\gamma k}{h}v^2ds\n",
    "\\\\ \n",
    "& \\underset{\\text{Peter-Paul}}{\\ge} \\int_{\\Omega}k|\\nabla v|^2dx - \\epsilon\\int_{\\partial\\Omega}hk\\left(\\frac{\\partial v}{\\partial n}\\right)^2ds + \\int_{\\partial\\Omega}\\frac{(\\gamma - \\epsilon^{-1})k}{h}v^2ds \\\\\n",
    "& \\underset{\\text{inverse ineq.}}{\\ge} (1 - \\alpha)\\int_{\\Omega}k|\\nabla v|^2dx + \\int_{\\partial\\Omega}\\frac{(\\gamma - \\epsilon^{-1})k}{h}v^2ds.\n",
    "\\end{align}$$\n",
    "\n",
    "The last inequality now tells us how big we need to take the penalty parameter $\\gamma$:\n",
    "\n",
    "$$\\gamma > \\epsilon^{-1} = \\alpha^{-1}C(d, p, \\min\\theta)\\frac{\\max_\\Omega k}{\\min_\\Omega k}.$$\n",
    "\n",
    "Again for definiteness sake we can set $\\gamma = \\alpha^{-1}\\epsilon^{-1}$ when we go to compute things.\n",
    "\n",
    "Let's recap things a bit.\n",
    "First, we broke up the troublesome middle term using the Peter-Paul inequality.\n",
    "This middle term gets broken up into the square norm of a boundary flux and the square norm of a boundary value.\n",
    "We can control the boundary flux in terms of the square norm of the interior flux by using a finite element inverse inequality.\n",
    "In order to \"pay Paul\", we wedge in an extra factor of $h$ in Young's inequality.\n",
    "But we can't pay Paul without \"robbing Peter\" when we weight the boundary value integral by $h^{-1}$.\n",
    "After that a judicious choice of the penalty parameter $\\gamma$ ensures that everything is positive, which implies convexity and therefore well-posedness."
   ]
  },
  {
   "cell_type": "markdown",
   "metadata": {},
   "source": [
    "### Demonstration\n",
    "\n",
    "Almost all the pieces that we need to implement this are part of UFL.\n",
    "The only extra factor is determining the shape regularity of each triangle."
   ]
  },
  {
   "cell_type": "code",
   "execution_count": null,
   "metadata": {},
   "outputs": [],
   "source": [
    "from numpy.linalg import norm\n",
    "\n",
    "coords = mesh.coordinates.dat.data_ro\n",
    "cells = mesh.coordinates.cell_node_map().values\n",
    "\n",
    "θ = np.inf\n",
    "for cell in cells:\n",
    "    for k in range(3):\n",
    "        x, y, z = coords[np.roll(cell, k)]\n",
    "        ζ, ξ = y - x, z - x\n",
    "        angle = np.arccos(np.inner(ζ, ξ) / (norm(ζ) * norm(ξ)))\n",
    "        θ = min(angle, θ)\n",
    "        \n",
    "print(\"Minimum angle: {} * π\".format(θ / π))"
   ]
  },
  {
   "cell_type": "markdown",
   "metadata": {},
   "source": [
    "From here we can easily define the modified variational principle for Nitsche's method.\n",
    "We've chosen $\\alpha = 1/2$ in this case, in which case the boundary penalty gets weighted by $\\alpha^{-2}$."
   ]
  },
  {
   "cell_type": "code",
   "execution_count": null,
   "metadata": {},
   "outputs": [],
   "source": [
    "v = g.copy(deepcopy=True)\n",
    "\n",
    "h = firedrake.CellSize(mesh)\n",
    "n = firedrake.FacetNormal(mesh)\n",
    "\n",
    "J_interior = (0.5 * inner(grad(v), grad(v)) - f * v) * dx\n",
    "J_flux = -inner(grad(v), n) * (v - g) * ds\n",
    "J_penalty = 0.5 * (v - g)**2 / h * ds\n",
    "\n",
    "α = 1/2\n",
    "C = p * (p + 1)\n",
    "γ = firedrake.Constant(C / α**2 / (np.sin(θ) * np.tan(θ/2)))\n",
    "J = J_interior + J_flux + γ * J_penalty\n",
    "\n",
    "F = firedrake.derivative(J, v)\n",
    "firedrake.solve(F == 0, v, **parameters)"
   ]
  },
  {
   "cell_type": "code",
   "execution_count": null,
   "metadata": {},
   "outputs": [],
   "source": [
    "fig = plt.figure()\n",
    "axes = fig.add_subplot(projection='3d')\n",
    "firedrake.trisurf(v, axes=axes);"
   ]
  },
  {
   "cell_type": "markdown",
   "metadata": {},
   "source": [
    "The error is smaller than that of the pure penalty method by a factor of 1000!\n",
    "On top of that, we were able to achieve this improvement with a penalty $\\gamma$ that's a constant as the mesh is refined.\n",
    "For the pure penalty method, $\\gamma$ scales like $h^{-1}$, which makes the condition number for the linear system much worse as the mesh is refined.\n",
    "Nitsche's method, by contrast, has the same asymptotic condition number growth as the original problem."
   ]
  },
  {
   "cell_type": "code",
   "execution_count": null,
   "metadata": {},
   "outputs": [],
   "source": [
    "nitsche_error = firedrake.norm(u - v) / firedrake.norm(u)\n",
    "print(nitsche_error / penalty_error)"
   ]
  },
  {
   "cell_type": "markdown",
   "metadata": {},
   "source": [
    "Having a sharp estimate for the constant in the inverse inequality enabled us to set the penalty parameter without any guesswork or hand-tuning.\n",
    "Most of the papers I've found on Nitsche's method completely gloss over this point, but I think the ability to set parameters like this with no intervention on the part of an end user is essential if your goal is to deliver code to domain scientists.\n",
    "Say you're developing a package for modeling groundwater flow; you should not go expecting hydrologists to know or care about the details of how you implemented the boundary conditions, they should just work."
   ]
  }
 ],
 "metadata": {
  "kernelspec": {
   "display_name": "firedrake",
   "language": "python",
   "name": "firedrake"
  },
  "language_info": {
   "codemirror_mode": {
    "name": "ipython",
    "version": 3
   },
   "file_extension": ".py",
   "mimetype": "text/x-python",
   "name": "python",
   "nbconvert_exporter": "python",
   "pygments_lexer": "ipython3",
   "version": "3.8.3"
  },
  "nikola": {
   "category": "",
   "date": "2019-10-22 11:39:14 UTC-07:00",
   "description": "",
   "link": "",
   "slug": "nitsches-method",
   "tags": "",
   "title": "Nitsche's method",
   "type": "text"
  }
 },
 "nbformat": 4,
 "nbformat_minor": 2
}
