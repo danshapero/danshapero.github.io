{
 "cells": [
  {
   "cell_type": "markdown",
   "metadata": {},
   "source": [
    "In previous posts, we've shown how to solve inverse problems to estimate the coefficients $q$ in a PDE from measured values of the solution $u$.\n",
    "The computational problem that we aimed to solve was to minimize the functional\n",
    "\n",
    "$$J(u, q) = E(u) + R(q)$$\n",
    "\n",
    "where $E$ is a *misfit* functional and $R$ the *regularization* functional.\n",
    "The solution was subject to a constraint\n",
    "\n",
    "$$F(u, q) = 0$$\n",
    "\n",
    "where $F$ is some partial differential equation.\n",
    "Provided that $F$ is nice enough we can calculate derivatives of this functional using the adjoint method and then apply some sort of descent method.\n",
    "Another important fact we'll use below is that the PDE has a solution operator $G(q)$.\n",
    "We can then think of this in terms of a *reduced* objective functional, which in a gross abuse of notation we'll also write as $J$:\n",
    "\n",
    "$$J(q) = E(G(q)) + R(q).$$\n",
    "\n",
    "We can also give this problem a statistical interpretation.\n",
    "The functional\n",
    "\n",
    "$$\\pi(q) = Z^{-1}e^{-J(q)}$$\n",
    "\n",
    "is the Bayesian posterior density after having taken the measurements given the prior information that $R(q)$ averages to some value.\n",
    "(The scalar $Z$ is a normalizing constant that we effectively cannot calculate.)\n",
    "The *maximum a posteriori* or MAP estimator is the value of $q$ that maximizes the posterior density.\n",
    "But maximizing the posterior density is the same as minimizing its negative logarithm.\n",
    "This gets us right back to our original problem of minimizing the objective functional $J$.\n",
    "\n",
    "Computing the most likely value of the parameters given the observations provides valuable information when the measurement errors are normally distributed and when the forward map $G$ is linear or only mildly nonlinear.\n",
    "For many problems, however, the measurement errors are not normal or the forward map is not approximately linear.\n",
    "The MAP estimator might still be useful, but it also might not be all that informative and it might not even exist.\n",
    "\n",
    "In this post, I'll describe a procedure by which we can instead draw random samples from the posterior distribution.\n",
    "Assuming that our sampling procedure is ergodic, we can approximate expectations of an arbitrary functional $f$ as a weighted sum:\n",
    "\n",
    "$$\\langle f\\rangle = \\int f(q)\\,\\mathrm{d}\\pi(q) \\approx \\frac{1}{N}\\sum_n f(q_n).$$\n",
    "\n",
    "It doesn't make sense to seek the most likely value of the parameters when there are many local maxima of the posterior density or when the posterior is so flat near the maximum that it can't be located with reasonable accuracy.\n",
    "In this circumstance, we're better off accepting the uncertainty for what it is and factoring it into what we do with our answer(s).\n",
    "\n",
    "The classic approach for sampling from the posterior distribution is the [Metropolis algorithm](https://en.wikipedia.org/wiki/Metropolis%E2%80%93Hastings_algorithm), a form of Markov-chain Monte Carlo that I'll assume you're familiar with.\n",
    "One of the challenges in using this algorithm is that it scales poorly to dimensions much more than 10 or 12, and if you're doing PDE problems the dimensions are often in the thousands.\n",
    "Here we'll try here an approach called the [Metropolis-adjusted Langevin](https://en.wikipedia.org/wiki/Metropolis-adjusted_Langevin_algorithm) algorithm or MALA.\n",
    "The key innovation of MALA is to incorporate drift towards higher-probability regions of parameter space into the proposal density.\n",
    "To be more specific, consider the [Itô diffusion](https://en.wikipedia.org/wiki/It%C3%B4_diffusion)\n",
    "\n",
    "$$\\dot q = \\frac{1}{2}M^{-1}\\mathrm{d}\\log \\pi(q) + M^{-\\frac{1}{2}}\\dot B,$$\n",
    "\n",
    "where $M$ is some symmetric and positive-definite linear operator and $B$ is standard Brownian motion.\n",
    "Under a few reasonable hypotheses on $\\pi$, the limiting distribution of this process is $\\pi$.\n",
    "Of course we can't in general solve this SDE exactly, but we can discretize and I'll describe how below."
   ]
  },
  {
   "cell_type": "markdown",
   "metadata": {},
   "source": [
    "### Generating the exact data\n",
    "\n",
    "We'll use the same input data and exact solution as the previous demo -- a random trigonometric polynomial for the boundary data and a spike in the conductivity to make it depart appreciably from the equivalent solution for homogeneous data."
   ]
  },
  {
   "cell_type": "code",
   "execution_count": null,
   "metadata": {},
   "outputs": [],
   "source": [
    "import firedrake\n",
    "Lx = firedrake.Constant(1.0)\n",
    "Ly = firedrake.Constant(1.0)\n",
    "nx, ny = 32, 32\n",
    "mesh = firedrake.RectangleMesh(nx, ny, float(Lx), float(Ly), diagonal='crossed')\n",
    "Q = firedrake.FunctionSpace(mesh, 'CG', 2)\n",
    "V = firedrake.FunctionSpace(mesh, 'CG', 2)"
   ]
  },
  {
   "cell_type": "code",
   "execution_count": null,
   "metadata": {},
   "outputs": [],
   "source": [
    "import numpy as np\n",
    "from numpy import random, pi as π\n",
    "from firedrake import sin, cos, Constant\n",
    "x = firedrake.SpatialCoordinate(mesh)\n",
    "\n",
    "def random_fourier_series(std_dev, num_modes, exponent, seed=1):\n",
    "    rng = random.default_rng(seed=seed)\n",
    "    A = std_dev * rng.standard_normal((num_modes, num_modes))\n",
    "    B = std_dev * rng.standard_normal((num_modes, num_modes))\n",
    "    \n",
    "    expr = Constant(0)\n",
    "    for k in range(num_modes):\n",
    "        for l in range(int(np.sqrt(num_modes**2 - k**2))):\n",
    "            ϕ = π * (k * x[0] / Lx + l * x[1] / Ly)\n",
    "            Z = 1 + (k**2 + l**2)**(exponent / 2)\n",
    "            a_kl = Constant(A[k, l] / Z)\n",
    "            b_kl = Constant(B[k, l] / Z)\n",
    "            expr = expr + a_kl * sin(ϕ) + b_kl * cos(ϕ)\n",
    "    \n",
    "    return expr"
   ]
  },
  {
   "cell_type": "code",
   "execution_count": null,
   "metadata": {},
   "outputs": [],
   "source": [
    "from firedrake import Function\n",
    "g = Function(V).interpolate(random_fourier_series(1.0, 6, 1, seed=1))"
   ]
  },
  {
   "cell_type": "code",
   "execution_count": null,
   "metadata": {},
   "outputs": [],
   "source": [
    "from firedrake import inner, min_value, max_value, Constant\n",
    "a = -Constant(8.)\n",
    "r = Constant(1/4)\n",
    "y = Constant((0.4, 0.5))\n",
    "expr = a * max_value(0, 1 - inner(x - y, x - y) / r**2)\n",
    "q_true = Function(Q).interpolate(expr)"
   ]
  },
  {
   "cell_type": "code",
   "execution_count": null,
   "metadata": {},
   "outputs": [],
   "source": [
    "firedrake.trisurf(q_true);"
   ]
  },
  {
   "cell_type": "code",
   "execution_count": null,
   "metadata": {},
   "outputs": [],
   "source": [
    "b = Constant(6.)\n",
    "R = Constant(1/4)\n",
    "η = Constant((0.7, 0.5))\n",
    "expr = b * max_value(0, 1 - inner(x - η, x - η) / R**2)\n",
    "f = Function(V).interpolate(expr)"
   ]
  },
  {
   "cell_type": "code",
   "execution_count": null,
   "metadata": {},
   "outputs": [],
   "source": [
    "from firedrake import exp, grad, dx, ds\n",
    "k = Constant(1.)\n",
    "h = Constant(10.)\n",
    "u_true = firedrake.Function(V)\n",
    "v = firedrake.TestFunction(V)\n",
    "F = (\n",
    "    (k * exp(q_true) * inner(grad(u_true), grad(v)) - f * v) * dx +\n",
    "    h * (u_true - g) * v * ds\n",
    ")"
   ]
  },
  {
   "cell_type": "code",
   "execution_count": null,
   "metadata": {},
   "outputs": [],
   "source": [
    "opts = {\n",
    "    'solver_parameters': {\n",
    "        'ksp_type': 'preonly',\n",
    "        'pc_type': 'lu',\n",
    "        'pc_factor_mat_solver_type': 'mumps'\n",
    "    }\n",
    "}\n",
    "firedrake.solve(F == 0, u_true, **opts)"
   ]
  },
  {
   "cell_type": "code",
   "execution_count": null,
   "metadata": {},
   "outputs": [],
   "source": [
    "firedrake.trisurf(u_true);"
   ]
  },
  {
   "cell_type": "markdown",
   "metadata": {},
   "source": [
    "### Generating the observational data\n",
    "\n",
    "In the inverse problem tutorial, we only had to generate a single realization of spatial white noise.\n",
    "Here we'll have to generate many realizations, so we'll wrap this up into a class that will store all the data structures we need.\n",
    "We'll also abstract a bit over what the covariance operator is.\n",
    "In the inverse problem tutorial we used the mass matrix as the covariance operator, and we will do that again here to generate the observational data.\n",
    "As we'll see later, we'll also use this to generate the random noise used in the sampling algorithm, which will have non-trivial spatial correlations.\n",
    "The important thing that the code below does is to apply the inverse of only one of the Cholesky factors instead of both.\n",
    "We had to use the PETSc API to do this, since it isn't natively supported at the Firedrake level and arguably it shouldn't be."
   ]
  },
  {
   "cell_type": "code",
   "execution_count": null,
   "metadata": {},
   "outputs": [],
   "source": [
    "from firedrake import assemble\n",
    "from firedrake.petsc import PETSc\n",
    "area = assemble(Constant(1) * dx(mesh))\n",
    "\n",
    "class NoiseGenerator:\n",
    "    def __init__(\n",
    "        self,\n",
    "        function_space,\n",
    "        covariance=None,\n",
    "        generator=random.default_rng()\n",
    "    ):\n",
    "        if covariance is None:\n",
    "            ϕ = firedrake.TrialFunction(function_space)\n",
    "            ψ = firedrake.TestFunction(function_space)\n",
    "            covariance = inner(ϕ, ψ) * dx\n",
    "\n",
    "        M = assemble(covariance, mat_type='aij').M.handle\n",
    "        ksp = PETSc.KSP().create()\n",
    "        ksp.setOperators(M)\n",
    "        ksp.setUp()\n",
    "        \n",
    "        pc = ksp.pc\n",
    "        pc.setType(pc.Type.CHOLESKY)\n",
    "        pc.setFactorSolverType(PETSc.Mat.SolverType.PETSC)\n",
    "        pc.setFactorSetUpSolverType()\n",
    "        L = pc.getFactorMatrix()\n",
    "        pc.setUp()\n",
    "        \n",
    "        self.rng = generator\n",
    "        self.function_space = function_space\n",
    "        self.preconditioner = pc\n",
    "        self.cholesky_factor = L\n",
    "        \n",
    "        self.rhs = firedrake.Function(self.function_space)\n",
    "        self.noise = firedrake.Function(self.function_space)\n",
    "\n",
    "    def __call__(self):\n",
    "        z, ξ = self.rhs, self.noise\n",
    "        N = len(z.dat.data_ro[:])\n",
    "        z.dat.data[:] = self.rng.standard_normal(N)\n",
    "\n",
    "        L = self.cholesky_factor\n",
    "        with z.dat.vec_ro as Z:\n",
    "            with ξ.dat.vec as Ξ:\n",
    "                L.solveBackward(Z, Ξ)\n",
    "                Ξ *= np.sqrt(area / N)\n",
    "                \n",
    "        return ξ.copy(deepcopy=True)"
   ]
  },
  {
   "cell_type": "code",
   "execution_count": null,
   "metadata": {},
   "outputs": [],
   "source": [
    "white_noise_generator = NoiseGenerator(\n",
    "    function_space=V,\n",
    "    generator=random.default_rng(seed=1066)\n",
    ")"
   ]
  },
  {
   "cell_type": "code",
   "execution_count": null,
   "metadata": {},
   "outputs": [],
   "source": [
    "û = u_true.dat.data_ro[:]\n",
    "signal = û.max() - û.min()\n",
    "signal_to_noise = 50\n",
    "σ = firedrake.Constant(signal / signal_to_noise)\n",
    "\n",
    "u_obs = u_true.copy(deepcopy=True)\n",
    "ξ = white_noise_generator()\n",
    "u_obs += σ * ξ"
   ]
  },
  {
   "cell_type": "code",
   "execution_count": null,
   "metadata": {},
   "outputs": [],
   "source": [
    "firedrake.trisurf(u_obs);"
   ]
  },
  {
   "cell_type": "markdown",
   "metadata": {},
   "source": [
    "### Sampling\n",
    "\n",
    "The sampling procedure that we'll use works by approximating paths of an Itô diffusion.\n",
    "Many of the papers you'll come across on MALA or on diffusion processes assume a constant volatility matrix or inverse covariance of the added noise.\n",
    "I've included a factor $M$, which we'll refer to as a *preconditioning* matrix.\n",
    "The kinds of posterior distributions we encounter in data assimilation properties are often highly anisotropic in parameter space.\n",
    "Making a good choice of preconditioning operator is a virtual necessity if for efficiently sampling from the posterior.\n",
    "\n",
    "The theoretically optimal choice is to $M$ to be the second derivative or Hessian of the negative log-posterior.\n",
    "Pyadjoint can apply a Hessian action for us, and we can then use the conjugate gradient method with an appropriate preconditioner to solve for the drift.\n",
    "But to calculate the diffusion we need an inverse *square root* of the Hessian operator, and that will require us to call in to SLEPc.\n",
    "\n",
    "The worst thing we could do is nothing because of the mesh-dependence problems that I described in the previous post on inverse problems.\n",
    "The finite element mass matrix is the absolute least you can do without committing a criminal offense -- it represents the map from the dual of $L^2$ back to $L^2$ itself.\n",
    "\n",
    "To do better than just the mass matrix, we can try to come up with a linear operator that will roughly recover the spectral asymptotics of the Hessian but which we can more easily express as a sparse matrix -- the Hessian will be dense.\n",
    "Then we can just reuse the noise sampler class that I wrote above to compute the Cholesky factorization and generate random variables with this operator as its inverse covariance matrix.\n",
    "Here we'll use an operator $M$ with the weak form\n",
    "\n",
    "$$\\langle M\\phi, \\psi\\rangle = \\int_\\Omega\\left(\\phi\\cdot\\psi + \\ell^2\\nabla\\phi\\cdot\\nabla\\psi\\right)dx$$\n",
    "\n",
    "where $\\ell$ is some length scale, which I'll take to be the diameter of the domain.\n",
    "If the parameters $q$ live in the Sobolev space $H^1(\\Omega)$, then $M$ is the canonical map from $H^1(\\Omega)$ to its dual.\n",
    "The length scale $\\ell$ is there to make the units work out right."
   ]
  },
  {
   "cell_type": "code",
   "execution_count": null,
   "metadata": {},
   "outputs": [],
   "source": [
    "ϕ, ψ = firedrake.TestFunction(Q), firedrake.TrialFunction(Q)\n",
    "ℓ = firedrake.sqrt(Lx * Ly)\n",
    "M = (ϕ * ψ + ℓ**2 * inner(grad(ϕ), grad(ψ))) * dx\n",
    "\n",
    "diffusion_generator = NoiseGenerator(\n",
    "    function_space=Q,\n",
    "    covariance=M,\n",
    "    generator=random.default_rng(1453),\n",
    ")"
   ]
  },
  {
   "cell_type": "markdown",
   "metadata": {},
   "source": [
    "We'll again start with the very blunt initial guess that the log-conductivity is 0 to initialize the problem."
   ]
  },
  {
   "cell_type": "code",
   "execution_count": null,
   "metadata": {},
   "outputs": [],
   "source": [
    "q = firedrake.Function(Q)\n",
    "u = firedrake.Function(V)\n",
    "F = (\n",
    "    (k * exp(q) * inner(grad(u), grad(v)) - f * v) * dx +\n",
    "    h * (u - g) * v * ds\n",
    ")\n",
    "firedrake.solve(F == 0, u, **opts)"
   ]
  },
  {
   "cell_type": "markdown",
   "metadata": {},
   "source": [
    "As I alluded to earlier, our proposal distribution for the MCMC algorithm is based on integrating the SDE\n",
    "\n",
    "$$\\dot q = -\\frac{1}{2}M^{-1}\\mathrm{d}J(q) + M^{-\\frac{1}{2}}\\dot B$$\n",
    "\n",
    "where $B$ is standard Brownian motion.\n",
    "The Euler-Maruyama scheme to integrate this equation for a single step of length $\\delta t$ is\n",
    "\n",
    "$$q^* = q - \\frac{\\delta t}{2}M^{-1}\\mathrm{d}J(q) + \\delta t^{\\frac{1}{2}}M^{-\\frac{1}{2}}\\delta B.$$\n",
    "\n",
    "But a naive integration of the SDE may have a different limiting distribution from the SDE itself, and it may even diverge.\n",
    "To fix this problem, we'll use a Metropolis-style accept/reject step.\n",
    "Having generated a proposal $q^*$, we'll accept it with probability\n",
    "\n",
    "$$\\alpha = \\min\\left\\{1, \\frac{\\pi(q^*)\\cdot\\rho(q^*\\to q)}{\\pi(q)\\cdot\\rho(q\\to q^*)}\\right\\}$$\n",
    "\n",
    "where $\\pi$ is the posterior density and $\\rho$ is the transition density.\n",
    "We don't know the normalizing factor in the posterior density, but by taking the ratio of the two this factor cancels:\n",
    "\n",
    "$$\\ln\\frac{\\pi(q^*)}{\\pi(q)} = J(q) - J(q^*).$$\n",
    "\n",
    "In the classic random walk Metropolis-Hastings algorithm, the ratio of the transition density from the current state to the proposed state usually cancels because the transition density is symmetric -- the chance of going from $q$ to $q^*$ is equal to the chance of going from $q^*$ back to $q$.\n",
    "The algorithm that we're using here lacks this symmetry because of the gradient flow term in the proposal density.\n",
    "The transition density can be written as:\n",
    "\n",
    "$$\\rho(q \\to q^*) = Z^{-1}\\exp\\left\\{-\\frac{1}{2\\tau}\\left\\|q^* - q + \\frac{1}{2}\\tau M^{-1}dJ(q)\\right\\|_M^2\\right\\}$$\n",
    "\n",
    "Once again, the normalizing factor $Z$ is not directly computable but we're only interested in ratios:\n",
    "\n",
    "$$2\\tau\\ln\\frac{\\rho(q^* \\to q)}{\\rho(q \\to q^*)} = \\left\\|q^* - q + \\frac{1}{2}\\tau M^{-1}dJ(q)\\right\\|_M^2 - \\left\\|q - q^* + \\frac{1}{2}\\tau M^{-1}dJ(q^*)\\right\\|_M^2$$\n",
    "\n",
    "This means that we need variables to store both the parameter guess, the PDE solution, and the derivative of the log-posterior at both the current state and the proposal at every stage of the iteration."
   ]
  },
  {
   "cell_type": "code",
   "execution_count": null,
   "metadata": {},
   "outputs": [],
   "source": [
    "from firedrake.adjoint import Control, ReducedFunctional\n",
    "\n",
    "α = Constant(1e-1)\n",
    "drift_solver = firedrake.LinearSolver(assemble(M), **opts)\n",
    "z = firedrake.Function(Q)\n",
    "z_n = firedrake.Function(Q)\n",
    "q_n = firedrake.Function(Q)\n",
    "u_n = firedrake.Function(V)\n",
    "\n",
    "firedrake.adjoint.continue_annotation()\n",
    "\n",
    "J = 0.5 * (\n",
    "    ((u - u_obs) / σ)**2 +\n",
    "    α**2 * inner(grad(q), grad(q))\n",
    ") * dx\n",
    "\n",
    "q̂ = Control(q)\n",
    "Ĵ = ReducedFunctional(assemble(J), q̂)\n",
    "dĴ_dq = Ĵ.derivative(options={\"riesz_representation\": None})\n",
    "drift_solver.solve(z, dĴ_dq)"
   ]
  },
  {
   "cell_type": "markdown",
   "metadata": {},
   "source": [
    "I've tuned the step length for the Euler-Maruyama integration to get a good accept/reject ratio and (as we'll see later) to get a good decorrelation time."
   ]
  },
  {
   "cell_type": "code",
   "execution_count": null,
   "metadata": {},
   "outputs": [],
   "source": [
    "τ = firedrake.Constant(5 / 6)"
   ]
  },
  {
   "cell_type": "markdown",
   "metadata": {},
   "source": [
    "At the end of the loop I've also added a call to clear the tape for adjoint annotation.\n",
    "If you don't clear the tape, the simulation can eat up more and more memory as it goes on."
   ]
  },
  {
   "cell_type": "code",
   "execution_count": null,
   "metadata": {},
   "outputs": [],
   "source": [
    "from firedrake import sqrt, replace, energy_norm\n",
    "import firedrake.adjoint\n",
    "import tqdm\n",
    "\n",
    "us = []\n",
    "qs = []\n",
    "Js = []\n",
    "\n",
    "rng = random.default_rng(seed=42)\n",
    "\n",
    "num_accepted = 0\n",
    "num_rejected = 0\n",
    "\n",
    "num_samples = 3000\n",
    "progress = tqdm.trange(num_samples)\n",
    "for sample in progress:\n",
    "    δB = diffusion_generator()\n",
    "    q_n = Function(Q).interpolate(q - 0.5 * τ * z + sqrt(τ) * δB)\n",
    "    F_n = replace(F, {q: q_n, u: u_n})\n",
    "    firedrake.solve(F_n == 0, u_n, **opts)\n",
    "    \n",
    "    J_n = replace(J, {q: q_n, u: u_n})\n",
    "    q̂ = Control(q_n)\n",
    "    Ĵ = ReducedFunctional(assemble(J_n), q̂)\n",
    "    dĴ_dq = Ĵ.derivative(options={\"riesz_representation\": None})\n",
    "    drift_solver.solve(z_n, dĴ_dq)\n",
    "\n",
    "    δln_π = float(assemble(J - J_n))\n",
    "    δq = Function(Q).interpolate(q_n - q + 0.5 * τ * z)\n",
    "    δq_n = Function(Q).interpolate(q - q_n + 0.5 * τ * z_n)\n",
    "    δln_ρ = float(\n",
    "        assemble(energy_norm(M, δq) - energy_norm(M, δq_n)) / (2 * τ)\n",
    "    )\n",
    "    alpha = np.exp(δln_ρ + δln_π)\n",
    "    roll = rng.uniform(0, 1)\n",
    "    accept = roll > 1 - alpha\n",
    "    num_accepted += accept\n",
    "    num_rejected += not accept\n",
    "    progress.set_description(\n",
    "        f'Accepted, rejected: {num_accepted}, {num_rejected} |'\n",
    "    )\n",
    "\n",
    "    if accept:\n",
    "        q.assign(q_n)\n",
    "        u.assign(u_n)\n",
    "        z.assign(z_n)\n",
    "\n",
    "    qs.append(q.copy(deepcopy=True))\n",
    "    us.append(u.copy(deepcopy=True))\n",
    "    Js.append(float(assemble(J_n)))\n",
    "    \n",
    "    firedrake.adjoint.get_working_tape().clear_tape()"
   ]
  },
  {
   "cell_type": "markdown",
   "metadata": {},
   "source": [
    "This run took only a few minutes, but I've overheard statistics grad students talk about Monte Carlo simulations runing overnight or even for several days.\n",
    "Geyer's introduction to the [Handbook of Markov Chain Monte Carlo](https://www.mcmchandbook.net) -- which I highly recommend reading, it's available for free from the book website -- implies that overnight is a bare minimum to show due dilligence.\n",
    "\n",
    "Another nice feature of this algorithm is that it's easy to run several chains in parallel.\n",
    "We haven't done this here, but comparing results across many chains is common to several approaches for a posteriori sanity checking.\n",
    "\n",
    "Now that we have our samples, it's time to actually analyze the results and do something with them."
   ]
  },
  {
   "cell_type": "markdown",
   "metadata": {},
   "source": [
    "### Burn-in\n",
    "\n",
    "The probability distribution of the samples eventually converges to the posterior density, but in the initial stages of the chain, the distribution can be very far off from the limiting value.\n",
    "We can see that by plotting the values of the negative log posterior (or the objective functional if you're still in the optimization frame of mind)."
   ]
  },
  {
   "cell_type": "code",
   "execution_count": null,
   "metadata": {},
   "outputs": [],
   "source": [
    "import matplotlib.pyplot as plt\n",
    "fig, axes = plt.subplots()\n",
    "axes.plot(Js);"
   ]
  },
  {
   "cell_type": "markdown",
   "metadata": {},
   "source": [
    "The objective functional decreases almost monotonically for the first 200 steps or so; the chain is effectively doing deterministic gradient descent towards a more probable region of parameter space.\n",
    "This phenomenon is referred to as the *burn-in*.\n",
    "It's common to discard all of the samples from the burn-in phase.\n",
    "From here on out we'll forget these iterations entirely."
   ]
  },
  {
   "cell_type": "code",
   "execution_count": null,
   "metadata": {},
   "outputs": [],
   "source": [
    "num_burn_steps = 200\n",
    "qs = qs[num_burn_steps:]"
   ]
  },
  {
   "cell_type": "markdown",
   "metadata": {},
   "source": [
    "We could have avoided this ad-hoc, manual step by taking a few iterations of an optimization procedure to approximate the maximizer of the posterior distribution and starting the Markov chain from there.\n",
    "\n",
    "The trace plot we showed above helps us diagnose where burn-in occurs, but doesn't give a very good idea of the distribution of $J$ values.\n",
    "For that we can make a histogram."
   ]
  },
  {
   "cell_type": "code",
   "execution_count": null,
   "metadata": {},
   "outputs": [],
   "source": [
    "fig, axes = plt.subplots()\n",
    "axes.hist(Js, 30)\n",
    "axes.set_xlabel('$J$ value')\n",
    "axes.set_ylabel('count');"
   ]
  },
  {
   "cell_type": "markdown",
   "metadata": {},
   "source": [
    "The histogram shows some signs of bimodality, which is definitely worth investigating.\n",
    "There might be a local maximum of the probability distribution separate from the true mode.\n",
    "\n",
    "Having tossed the initial deterministic junk, we can take a guess at what the posterior mean of the distribution is."
   ]
  },
  {
   "cell_type": "code",
   "execution_count": null,
   "metadata": {},
   "outputs": [],
   "source": [
    "q_avg = firedrake.Function(Q)\n",
    "q_avg.dat.data[:] = np.mean(\n",
    "    np.array([q.dat.data_ro[:] for q in qs]), axis=0\n",
    ")"
   ]
  },
  {
   "cell_type": "markdown",
   "metadata": {},
   "source": [
    "Note how similar this looks to the maximum a posteriori estimate that we obtained in the previous demo."
   ]
  },
  {
   "cell_type": "code",
   "execution_count": null,
   "metadata": {},
   "outputs": [],
   "source": [
    "firedrake.trisurf(q_avg);"
   ]
  },
  {
   "cell_type": "markdown",
   "metadata": {},
   "source": [
    "### Sample size\n",
    "\n",
    "After we've discarded the samples from the burn-in phase, the successive states of the Markov chain are still correlated and this begs the question of how many independent samples we actually obtained.\n",
    "Assessing the *effective sample size* turns out to be surprisingly subtle.\n",
    "The idealized, mathematical definition of the effective sample size, assuming that we could calculate the correlations exactly, is\n",
    "\n",
    "$$N_{\\text{eff}} = \\frac{N}{1 + 2\\sum_{k = 1}^\\infty r_k}$$\n",
    "\n",
    "where $r_k$ is the [autocorrelation](https://en.wikipedia.org/wiki/Autocorrelation) at lag $k$.\n",
    "Let's suppose for now that we're only interested in calculating the effective number of samples of the negative log-posterior $J$.\n",
    "This is a scalar quantity so it's much cheaper to compute on, which is good because our first few attempts are going to go down in flames.\n",
    "The autocorrelation is defined as\n",
    "\n",
    "$$r_k = \\langle (J(q_{i + k}) - \\mu)(J(q_i) - \\mu)\\rangle / \\sigma^2$$\n",
    "\n",
    "where $\\mu$ and $\\sigma$ are the mean and standard deviation of $J$.\n",
    "We could try to approximate the autocorrelation from the samples themselves."
   ]
  },
  {
   "cell_type": "code",
   "execution_count": null,
   "metadata": {},
   "outputs": [],
   "source": [
    "Js = Js[num_burn_steps:]\n",
    "J_avg = np.mean(Js)\n",
    "J_std = np.sqrt(np.mean((Js - J_avg)**2))\n",
    "print(f'Mean, standard deviation of J: {J_avg:5.3f}, {J_std:5.3f}')\n",
    "\n",
    "autocorr = np.zeros_like(Js)\n",
    "autocorr[0] = 1.0\n",
    "for k in range(1, len(Js)):\n",
    "    autocorr[k] = np.mean(\n",
    "        (Js[:-k] - J_avg) * (Js[k:] - J_avg)\n",
    "    ) / J_std**2"
   ]
  },
  {
   "cell_type": "markdown",
   "metadata": {},
   "source": [
    "The empirical autocorrelation goes totally bonkers at large lags because there aren't enough samples spaced that far apart to adequately estimate the value of the autocorrelation function."
   ]
  },
  {
   "cell_type": "code",
   "execution_count": null,
   "metadata": {},
   "outputs": [],
   "source": [
    "fig, axes = plt.subplots()\n",
    "axes.plot(autocorr)\n",
    "axes.set_ylabel('autocorrelation')\n",
    "axes.set_xlabel('lag');"
   ]
  },
  {
   "cell_type": "markdown",
   "metadata": {},
   "source": [
    "Just to really drive home how nonsensical this is, let's calculate the denominator in the expression for the effective sample size."
   ]
  },
  {
   "cell_type": "code",
   "execution_count": null,
   "metadata": {},
   "outputs": [],
   "source": [
    "1 + 2 * np.sum(autocorr[1:])"
   ]
  },
  {
   "cell_type": "markdown",
   "metadata": {},
   "source": [
    "wat.\n",
    "\n",
    "We could try an alternative formula instead that weights every autocorrelation value by $1 / N$.\n",
    "This weighting is guaranteed to produce a positive-definite autocorrelation function (see this [SO answer](https://stats.stackexchange.com/a/294410)), unlike the form I used above.\n",
    "Feels a little ad-hoc to me but ok?"
   ]
  },
  {
   "cell_type": "code",
   "execution_count": null,
   "metadata": {},
   "outputs": [],
   "source": [
    "autocorr = np.zeros_like(Js)\n",
    "autocorr[0] = 1.0\n",
    "N = len(Js)\n",
    "for k in range(1, N):\n",
    "    autocorr[k] = np.sum(\n",
    "        (Js[:-k] - J_avg) * (Js[k:] - J_avg)\n",
    "    ) / J_std**2 / N"
   ]
  },
  {
   "cell_type": "markdown",
   "metadata": {},
   "source": [
    "Slightly less horrific-looking."
   ]
  },
  {
   "cell_type": "code",
   "execution_count": null,
   "metadata": {},
   "outputs": [],
   "source": [
    "fig, axes = plt.subplots()\n",
    "axes.plot(autocorr)\n",
    "axes.set_xlabel('lag')\n",
    "axes.set_ylabel('autocorrelation');"
   ]
  },
  {
   "cell_type": "markdown",
   "metadata": {},
   "source": [
    "Now let's see what the correlation time is."
   ]
  },
  {
   "cell_type": "code",
   "execution_count": null,
   "metadata": {},
   "outputs": [],
   "source": [
    "1 + 2 * np.sum(autocorr[1:])"
   ]
  },
  {
   "cell_type": "markdown",
   "metadata": {},
   "source": [
    "This would imply that we have a few quadrillion independent samples which, again, I find to be highly suspect.\n",
    "\n",
    "I hope by this point you're convinced that estimating the effective sample size from the samples themselves is very not trivial.\n",
    "I'll refer you to a great paper called [A Comparison of Methods for Computing Autocorrelation Time](https://arxiv.org/abs/1011.0175) by Madeleine Thompson.\n",
    "One of the methods she tested is to use *batch means* and this is what we'll use below.\n",
    "The idea of batch means is to divide the $n$ samples into $m$ batches, and to compare the overall sample variance with the variance of the batch means.\n",
    "For the method to converge, the number of batches and the size of each batch has to go to infinity.\n",
    "A common choice is to take $m = \\sqrt{n}$, or some other power."
   ]
  },
  {
   "cell_type": "code",
   "execution_count": null,
   "metadata": {},
   "outputs": [],
   "source": [
    "batch_size = int(np.sqrt(N / 2))\n",
    "num_batches = int(N / batch_size)\n",
    "batch_means = np.zeros(num_batches)\n",
    "for index in range(num_batches):\n",
    "    batch_means[index] = np.mean(\n",
    "        Js[index * batch_size: (index + 1) * batch_size]\n",
    "    )\n",
    "    \n",
    "batch_std = np.sqrt(np.mean((batch_means - J_avg)**2))\n",
    "correlation_time = batch_size * batch_std / J_std\n",
    "\n",
    "print(f\"\"\"\n",
    "    batch size:     {batch_size}\n",
    "    total std dev:  {J_std:5.3f}\n",
    "    batch std dev:  {batch_std:5.3f}\n",
    "    corr time:      {correlation_time:5.3f}\n",
    "\"\"\")"
   ]
  },
  {
   "cell_type": "markdown",
   "metadata": {},
   "source": [
    "This suggests that about one out of every 12 Monte Carlo samples is effectively independent, which is pretty good.\n",
    "We might be able to improve this further by tuning the stepsize or by using a better choice of preconditioner $M$.\n",
    "\n",
    "There are other ways to estimate effective sample size and the Thompson paper I linked above does a nice comparison of them on several example problems.\n",
    "Nonetheless, I'm surprised to have found only one paper that compared them.\n",
    "It's been cited about 50 times but never published in a peer-reviewed journal.\n",
    "I'm also surprised to have come across so many papers that don't report how they computed the effective sample size or even what it was for their simulation.\n",
    "\n",
    "A few other subtle points are worth mentioning here too.\n",
    "The effective sample size can differ depending on exactly what quantity you're measuring.\n",
    "For example, let's see what the effective sample size is for the cosine of the angle between the estimated parameter and the true value."
   ]
  },
  {
   "cell_type": "code",
   "execution_count": null,
   "metadata": {},
   "outputs": [],
   "source": [
    "from firedrake import norm\n",
    "def angle(p, q):\n",
    "    cos_θ = float(assemble(p * q * dx) / (norm(p) * norm(q)))\n",
    "    return np.arccos(cos_θ)\n",
    "\n",
    "angles = np.array([angle(q, q_true) for q in qs])\n",
    "angles_avg = np.mean(angles)\n",
    "angles_std = np.sqrt(np.mean((angles - angles_avg)**2))\n",
    "print(f'Mean, stddev of ∠(q, q_true): {angles_avg:5.3f}, {angles_std:5.3f}')"
   ]
  },
  {
   "cell_type": "code",
   "execution_count": null,
   "metadata": {},
   "outputs": [],
   "source": [
    "batch_means = np.zeros(num_batches)\n",
    "for index in range(num_batches):\n",
    "    batch_means[index] = np.mean(\n",
    "        angles[index * batch_size: (index + 1) * batch_size]\n",
    "    )\n",
    "    \n",
    "batch_std = np.sqrt(np.mean((batch_means - angles_avg)**2))\n",
    "correlation_time = batch_size * batch_std / angles_std\n",
    "\n",
    "print(f\"\"\"\n",
    "    batch size:     {batch_size}\n",
    "    total std dev:  {angles_std:5.3f}\n",
    "    batch std dev:  {batch_std:5.3f}\n",
    "    corr time:      {correlation_time:5.3f}\n",
    "\"\"\")"
   ]
  },
  {
   "cell_type": "markdown",
   "metadata": {},
   "source": [
    "We have just a bit more effective samples of the angle between $q$ and the true value as we do of $J(q)$.\n",
    "\n",
    "A second and perhaps more surprising fact is that, if the autocorrelation function really is negative, you can have more effective samples than total samples.\n",
    "It's possible to specially design the proposal distribution to make the autocorrelation function at odd lags negative; this is the idea behind [antithetic updates](https://doi.org/10.1007/978-1-4612-2920-9_10).\n",
    "There's a nice discussion of the unintuitive behaviors of effective sample size [here](https://golem.ph.utexas.edu/category/2014/12/effective_sample_size.html)."
   ]
  },
  {
   "cell_type": "markdown",
   "metadata": {},
   "source": [
    "### Reflection\n",
    "\n",
    "I've worked on inverse problems for several years from a purely optimization point of view.\n",
    "I knew about Monte Carlo approaches, but I'd written them off for a while because I had the impression that they scale very badly to high dimensions.\n",
    "So I was very happy to hear about approaches like MALA or Hamiltonian Monte Carlo that overcome the dimensionality curse.\n",
    "I'd spent a lot of time beating my head against the wall trying (and failing) to implement more robust optimization algorithms and preconditioners to solve an inverse problem that doesn't even have a unique solution.\n",
    "So I find it more appealing on a philosophical level to confront the possible non-uniqueness head-on by sampling directly from the posterior distribution.\n",
    "This isn't to say that MCMC sampling is a cakewalk.\n",
    "Here I touched on how estimating the effective sample size is a poorly-documented but necessary part of the workflow.\n",
    "Things get worse when you consider the likelihood of sampling distinct regions of parameter space that are separated by a large potential barrier.\n",
    "Even with these faults, I find the sampling approach to be a big improvement both in implementation feasibility and in what you can learn from the results over the optimization approach."
   ]
  }
 ],
 "metadata": {
  "kernelspec": {
   "display_name": "firedrake",
   "language": "python",
   "name": "firedrake"
  },
  "language_info": {
   "codemirror_mode": {
    "name": "ipython",
    "version": 3
   },
   "file_extension": ".py",
   "mimetype": "text/x-python",
   "name": "python",
   "nbconvert_exporter": "python",
   "pygments_lexer": "ipython3",
   "version": "3.11.9"
  },
  "nikola": {
   "category": "",
   "date": "2021-01-18 19:45:59 UTC-08:00",
   "description": "",
   "link": "",
   "slug": "langevin-mcmc",
   "tags": "",
   "title": "Langevin Monte Carlo",
   "type": "text"
  }
 },
 "nbformat": 4,
 "nbformat_minor": 4
}
