{
 "cells": [
  {
   "cell_type": "markdown",
   "id": "84550623-33c8-43b6-8d48-7bc10f4ad6d1",
   "metadata": {},
   "source": [
    "# Mantle convection, again\n",
    "\n",
    "Here I'll show some more useful things based on the mantle convection demo from [The FEniCS Book](https://fenicsproject.org/book/) and [van Keken et al (1997)](https://doi.org/10.1029/97JB01353).\n",
    "\n",
    "The variables to be solved for are the mantle velocity $u$, pressure $p$, and temperature $T$.\n",
    "The extensive quantity for heat transport is the internal energy density $G = \\rho c_p T$ where $\\rho$, $c_p$ are the mass density and the specific heat at constant pressure.\n",
    "The flux of heat when there is bulk movement of the medium at a velocity $u$ is $F = \\rho c_p T u - k\\nabla T.$\n",
    "The variational form for heat flow is\n",
    "$$\\int_\\Omega\\left\\{\\partial_t(\\rho c_p T)\\phi - \\rho c_p Tu\\cdot\\nabla\\phi + k\\nabla T\\cdot\\nabla\\phi - Q\\phi\\right\\}dx = 0$$\n",
    "for all test functions $\\phi$."
   ]
  },
  {
   "cell_type": "markdown",
   "id": "090fdfc8-1059-45d6-93ed-7c0589d0fd0a",
   "metadata": {},
   "source": [
    "### Initial condition\n",
    "\n",
    "Here I'm wrapping up the creation of the initial condition into a function so that we can call it repeatedly, possible on different meshes."
   ]
  },
  {
   "cell_type": "code",
   "execution_count": null,
   "id": "vanilla-mineral",
   "metadata": {},
   "outputs": [],
   "source": [
    "import firedrake\n",
    "from firedrake import Constant, sqrt, exp, min_value, max_value\n",
    "import numpy as np\n",
    "from numpy import pi as π\n",
    "\n",
    "def clamp(z, zmin, zmax):\n",
    "    return min_value(Constant(zmax), max_value(Constant(zmin), z))\n",
    "\n",
    "def switch(z):\n",
    "    return exp(z) / (exp(z) + exp(-z))\n",
    "\n",
    "def initial_temperature(x, Ra, ϵ):\n",
    "    q = Lx**(7 / 3) / (1 + Lx**4)**(2 / 3) * (Ra / (2 * np.sqrt(π)))**(2/3)\n",
    "    Q = 2 * sqrt(Lx / (π * q))\n",
    "    T_u = 0.5 * switch((1 - x[1]) / 2 * sqrt(q / (x[0] + ϵ)))\n",
    "    T_l = 1 - 0.5 * switch(x[1] / 2 * sqrt(q / (Lx - x[0] + ϵ)))\n",
    "    T_r = 0.5 + Q / (2 * np.sqrt(π)) * sqrt(q / (x[1] + 1)) * exp(-x[0]**2 * q / (4 * x[1] + 4))\n",
    "    T_s = 0.5 - Q / (2 * np.sqrt(π)) * sqrt(q / (2 - x[1])) * exp(-(Lx - x[0])**2 * q / (8 - 4 * x[1]))\n",
    "    return clamp(T_u + T_l + T_r + T_s - Constant(1.5), 0, 1)"
   ]
  },
  {
   "cell_type": "markdown",
   "id": "596bc715-be8c-417e-b406-9b19d8149a74",
   "metadata": {},
   "source": [
    "### Geometry\n",
    "\n",
    "Now we'll do something new: create a *mesh hierarchy*.\n",
    "Rather than start with a relatively refined mesh, we'll instead start with a coarser one."
   ]
  },
  {
   "cell_type": "code",
   "execution_count": null,
   "id": "b0d3119f-ad46-44ef-b817-58d45f3423a5",
   "metadata": {},
   "outputs": [],
   "source": [
    "Lx, Ly = Constant(2.0), Constant(1.0)\n",
    "ny = 32\n",
    "nx = int(float(Lx / Ly)) * ny\n",
    "mesh = firedrake.RectangleMesh(\n",
    "    nx, ny, float(Lx), float(Ly), diagonal=\"crossed\"\n",
    ")"
   ]
  },
  {
   "cell_type": "markdown",
   "id": "awful-captain",
   "metadata": {},
   "source": [
    "### Problem setup\n",
    "\n",
    "We'll once again wrap up the procedures to create the variational forms into python functions."
   ]
  },
  {
   "cell_type": "code",
   "execution_count": null,
   "id": "e3c3d560-9d9a-4bfa-9364-c9b5b14d9ec3",
   "metadata": {},
   "outputs": [],
   "source": [
    "pressure_space = firedrake.FunctionSpace(mesh, \"CG\", 1)\n",
    "velocity_space = firedrake.VectorFunctionSpace(mesh, \"CG\", 2)\n",
    "temperature_space = firedrake.FunctionSpace(mesh, \"CG\", 1)\n",
    "\n",
    "Ra = Constant(1e6)\n",
    "ϵ = Constant(1 / nx)\n",
    "x = firedrake.SpatialCoordinate(mesh)\n",
    "expr = initial_temperature(x, Ra, ϵ)\n",
    "T_0 = firedrake.Function(temperature_space).interpolate(clamp(expr, 0, 1))\n",
    "\n",
    "Z = velocity_space * pressure_space * temperature_space\n",
    "z = firedrake.Function(Z)\n",
    "z.sub(2).assign(T_0);"
   ]
  },
  {
   "cell_type": "code",
   "execution_count": null,
   "id": "1050d9f1-4908-4d68-9036-7ec7eb24cdeb",
   "metadata": {},
   "outputs": [],
   "source": [
    "from firedrake import inner, sym, grad, div, dx, as_vector\n",
    "from irksome import Dt\n",
    "\n",
    "μ = Constant(1)\n",
    "def ε(u):\n",
    "    return sym(grad(u))\n",
    "\n",
    "u, p, T = firedrake.split(z)\n",
    "v, q, ϕ = firedrake.TestFunctions(z.function_space())\n",
    "\n",
    "τ = 2 * μ * ε(u)\n",
    "g = as_vector((0, -1))\n",
    "f = -Ra * T * g\n",
    "F_momentum = (inner(τ, ε(v)) - q * div(u) - p * div(v) - inner(f, v)) * dx\n",
    "\n",
    "ρ, c, k = Constant(1), Constant(1), Constant(1)\n",
    "F_energy = (ρ * c * Dt(T) * ϕ - ρ * c * T * inner(u, grad(ϕ)) + k * inner(grad(T), grad(ϕ))) * dx\n",
    "\n",
    "F = F_momentum + F_energy"
   ]
  },
  {
   "cell_type": "code",
   "execution_count": null,
   "id": "8cd5e6b2-38cb-4a79-8fcf-96ceef4147eb",
   "metadata": {},
   "outputs": [],
   "source": [
    "velocity_bc = firedrake.DirichletBC(Z.sub(0), as_vector((0, 0)), \"on_boundary\")\n",
    "\n",
    "lower_temp_bc = firedrake.DirichletBC(Z.sub(2), 1, [3])\n",
    "upper_temp_bc = firedrake.DirichletBC(Z.sub(2), 0, [4])\n",
    "bcs = [velocity_bc, lower_temp_bc, upper_temp_bc]\n",
    "\n",
    "basis = firedrake.VectorSpaceBasis(constant=True, comm=firedrake.COMM_WORLD)\n",
    "nullspace = firedrake.MixedVectorSpaceBasis(Z, [Z.sub(0), basis])"
   ]
  },
  {
   "cell_type": "code",
   "execution_count": null,
   "id": "124206eb-8a84-4959-8e73-d00758949fd5",
   "metadata": {},
   "outputs": [],
   "source": [
    "import irksome\n",
    "\n",
    "method = irksome.BackwardEuler()\n",
    "\n",
    "parameters = {\n",
    "    \"bcs\": bcs,\n",
    "    \"nullspace\": [(1, basis)],\n",
    "    \"solver_parameters\": {\n",
    "        \"snes_type\": \"newtontr\",\n",
    "        \"ksp_type\": \"gmres\",\n",
    "        \"pc_type\": \"lu\",\n",
    "        \"pc_factor_mat_solver_type\": \"mumps\",\n",
    "    },\n",
    "}\n",
    "\n",
    "t = Constant(0.0)\n",
    "δt = Constant(1e-4)\n",
    "solver = irksome.TimeStepper(F, method, t, δt, z, **parameters)"
   ]
  },
  {
   "cell_type": "code",
   "execution_count": null,
   "id": "60703905-68e8-409f-a6d5-c4e7ef0478de",
   "metadata": {},
   "outputs": [],
   "source": [
    "from tqdm.notebook import trange\n",
    "\n",
    "final_time = 0.25\n",
    "num_steps = int(final_time / float(δt))\n",
    "zs = [z.copy(deepcopy=True)]\n",
    "\n",
    "for step in trange(num_steps):\n",
    "    solver.advance()\n",
    "    zs.append(z.copy(deepcopy=True))"
   ]
  }
 ],
 "metadata": {
  "kernelspec": {
   "display_name": "firedrake",
   "language": "python",
   "name": "firedrake"
  },
  "language_info": {
   "codemirror_mode": {
    "name": "ipython",
    "version": 3
   },
   "file_extension": ".py",
   "mimetype": "text/x-python",
   "name": "python",
   "nbconvert_exporter": "python",
   "pygments_lexer": "ipython3",
   "version": "3.12.8"
  },
  "nikola": {
   "category": "",
   "date": "2025-03-30 12:56:40 UTC-07:00",
   "description": "",
   "link": "",
   "slug": "mantle-convection-again",
   "tags": "",
   "title": "Mantle convection, again",
   "type": "text"
  }
 },
 "nbformat": 4,
 "nbformat_minor": 5
}
