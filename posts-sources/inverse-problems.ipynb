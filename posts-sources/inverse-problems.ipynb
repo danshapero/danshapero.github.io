{
 "cells": [
  {
   "cell_type": "markdown",
   "metadata": {},
   "source": [
    "In previous posts, we've seen how to solve elliptic PDE, sometimes with constraints, assuming we know everything about the coefficients and other input data.\n",
    "Some problems in geophysics and engineering involve going backwards.\n",
    "We have direct measurements of some field that we know is the solution of a PDE, and from that data we want to estimate what the coefficients were.\n",
    "This is what's called an *inverse problem*.\n",
    "For example, knowing the inflow rate of groundwater and the degree to which the soil and bedrock are porous, we can calculate what the hydraulic head will be by solving the Poisson equation; this is the forward problem.\n",
    "The inverse problem would be to estimate the porosity from measurements of the hydraulic head.\n",
    "\n",
    "We've already seen many of the techniques that we'll use to solve inverse problems and in this post I'll demonstrate them.\n",
    "Inverse problems can be expressed through PDE-constrained optimization, and the biggest challenge is calculating the gradient of the objective functional with respect to the input parameters.\n",
    "There's a systematic and practical algorithm to do this called the [adjoint method](https://journals.ametsoc.org/bams/article/78/11/2577/55799/What-Is-an-Adjoint-Model).\n",
    "The UFL language for variational forms preserves enough of the high-level semantics of what problem you're solving, and consequently it's possible to generate all of the code necessary to implement the adjoint method solely from the code for the weak form.\n",
    "The package [pyadjoint](http://www.dolfin-adjoint.org/en/latest/) does this and even won a Wilkinson Prize for numerical software.\n",
    "In the following, I'll use pyadjoint to both calculate derivatives and solve optimization problems, but it's instructive to roll your own adjoint method and solvers if you haven't done it before."
   ]
  },
  {
   "cell_type": "markdown",
   "metadata": {},
   "source": [
    "### The problem\n",
    "\n",
    "Suppose that the physics we're interested in can be described by the Poisson problem.\n",
    "We want to estimate is the conductivity coefficient and we have measurements of the solution $u$.\n",
    "Rather than solve for the conductivity $K$ itself, I'll instead assume that the field $q$ that we want to infer is the logarithm of the conductivity:\n",
    "\n",
    "$$K = ke^q,$$\n",
    "\n",
    "where $k$ is some real constant.\n",
    "The reason for this change of variables is to guarantee that the conductivity is positive, a necessary condition which can be challenging to enforce through other means.\n",
    "For our problem, we'll include some internal sources $f$.\n",
    "By way of boundary conditions, we'll assume that the solution is adjusts with some exchange coefficient $h$ to an external field $g$ (these are *Robin* boundary conditions).\n",
    "The weak form of this equation is\n",
    "\n",
    "$$\\begin{align}\n",
    "\\langle F(u, q), v\\rangle = & \\int_\\Omega\\left(ke^q\\nabla u\\cdot\\nabla v - fv\\right)dx \\\\\n",
    "& \\qquad\\qquad + \\int_{\\partial\\Omega}h(u - g)v\\, ds\n",
    "\\end{align}$$\n",
    "\n",
    "I'll assume that we know the sources, external field, and exchange coefficient accurately.\n",
    "The quantity that we want to minimize is the mean-square misfit of the solution $u$ with some observations $u^o$:\n",
    "\n",
    "$$E(u) = \\frac{1}{2}\\int_\\Omega\\left(\\frac{u - u^o}{\\sigma}\\right)^2dx,$$\n",
    "\n",
    "where $\\sigma$ is the standard deviation of the measurement errors in $u^o$.\n",
    "For realistic problems we might want to consider more robust measures of solution quality, like the 1-norm, but for demonstrative purposes the square norm is perfectly fine.\n",
    "\n",
    "To make our problem as realistic as possible, we'll create a set of synthetic observations that's been polluted from the true value with random noise.\n",
    "The presence of noise introduces an additional challenge.\n",
    "The map from the parameters $q$ to the observations $u$ involves solving an elliptic PDE and thus tends to give an output field $u$ that is smoother than the input field $q$.\n",
    "(You can actually write down an analytical form of the linearization of this map that makes the smoothing property evident.)\n",
    "For many practical problems, however, the measurement errors are spatial white noise, which have equal power at all frequencies.\n",
    "If we put white noise through the inverse of a smoothing operator, we'll end up amplifying the high-frequency modes and the estimated field $q$ will be polluted with spurious osillations.\n",
    "To remove these unphysical features, we'll also include some metric of how oscillatory the inferred field is, which in our case will be\n",
    "\n",
    "$$R(q) = \\frac{1}{2}\\int_\\Omega|\\nabla q|^2dx.$$\n",
    "\n",
    "This is called the **regularization functional**.\n",
    "Depending on the problem you may want to use a different regularization functional, and at the end of this post I'll give an example of when you might want to do that."
   ]
  },
  {
   "cell_type": "markdown",
   "metadata": {},
   "source": [
    "### All together now\n",
    "\n",
    "The quantity we want to minimize is the functional\n",
    "\n",
    "$$J(u, q) = E(u) + \\alpha^2 R(q),$$\n",
    "\n",
    "subject to the constraint that $u$ and $q$ are related by the PDE, which we'll write in abstract form as $F(u, q) = 0$.\n",
    "The parameter $\\alpha$ is a length scale that determines how much we want to regularize the inferred field.\n",
    "Making a good choice of $\\alpha$ is a bit of an art form best left for another day; in the following demonstration I'll pick a reasonable value and leave it at that.\n",
    "The adjoint method furnishes us with a way to calculate the derivative of $J$, which will be an essential ingredient in any minimization algorithm.\n",
    "\n",
    "To be more explicit about enforcing those constraints, we can introduce a Lagrange multiplier $\\lambda$.\n",
    "We would then seek a critical point of the Lagrangian\n",
    "\n",
    "$$L(u, q, \\lambda) = E(u) + \\alpha^2 R(q) + \\langle F(u, q), \\lambda\\rangle.$$\n",
    "\n",
    "By first solving for $u$ and then for the adjoint state $\\lambda$, we can effectively calculate the derivative of our original objective with respect to the parameters $q$.\n",
    "Under the hood, this is exactly what pyadjoint and (more generally) reverse-mode automatic differentiation does.\n",
    "The interface that pyadjoint presents to us hides the existence of a Lagrange multiplier and instead gives us only a *reduced* functional $\\hat J(q)$."
   ]
  },
  {
   "cell_type": "markdown",
   "metadata": {},
   "source": [
    "### Generating the exact data\n",
    "\n",
    "First, we'll need to make a domain and some synthetic input data, which consist of:\n",
    "\n",
    "* the sources $f$\n",
    "* the external field $g$\n",
    "* the exchange coefficient $h$\n",
    "* the true log-conductivity field $q$\n",
    "\n",
    "We have to be careful about what kind of data we use in order to make the problem interesting and instructive.\n",
    "Ideally, the the true log-conductivity field will give a solution that's very different from some kind of blunt, spatially constant initial guess.\n",
    "To do this, we'll first make the external field $g$ a random trigonometric polynomial."
   ]
  },
  {
   "cell_type": "code",
   "execution_count": null,
   "metadata": {},
   "outputs": [],
   "source": [
    "import firedrake\n",
    "mesh = firedrake.UnitSquareMesh(32, 32, diagonal='crossed')\n",
    "Q = firedrake.FunctionSpace(mesh, family='CG', degree=2)\n",
    "V = firedrake.FunctionSpace(mesh, family='CG', degree=2)"
   ]
  },
  {
   "cell_type": "code",
   "execution_count": null,
   "metadata": {},
   "outputs": [],
   "source": [
    "import numpy as np\n",
    "from numpy import random, pi as π\n",
    "x = firedrake.SpatialCoordinate(mesh)\n",
    "\n",
    "rng = random.default_rng(seed=1)\n",
    "def random_fourier_series(std_dev, num_modes, exponent):\n",
    "    from firedrake import sin, cos\n",
    "    A = std_dev * rng.standard_normal((num_modes, num_modes))\n",
    "    B = std_dev * rng.standard_normal((num_modes, num_modes))\n",
    "    return sum([(A[k, l] * sin(π * (k * x[0] + l * x[1])) +\n",
    "                 B[k, l] * cos(π * (k * x[0] + l * x[1])))\n",
    "                / (1 + (k**2 + l**2)**(exponent/2))\n",
    "                for k in range(num_modes)\n",
    "                for l in range(int(np.sqrt(num_modes**2 - k**2)))])"
   ]
  },
  {
   "cell_type": "code",
   "execution_count": null,
   "metadata": {},
   "outputs": [],
   "source": [
    "g = firedrake.Function(V).interpolate(random_fourier_series(1.0, 6, 1))"
   ]
  },
  {
   "cell_type": "code",
   "execution_count": null,
   "metadata": {},
   "outputs": [],
   "source": [
    "import matplotlib.pyplot as plt\n",
    "firedrake.trisurf(g);"
   ]
  },
  {
   "cell_type": "markdown",
   "metadata": {},
   "source": [
    "Next, we'll make the medium much more insulating (lower conductivity) near the center of the domain.\n",
    "This part of the medium will tend to soak up any sources much more readily than the rest."
   ]
  },
  {
   "cell_type": "code",
   "execution_count": null,
   "metadata": {},
   "outputs": [],
   "source": [
    "from firedrake import inner, min_value, max_value, Constant\n",
    "a = -Constant(8.)\n",
    "r = Constant(1/4)\n",
    "ξ = Constant((0.4, 0.5))\n",
    "expr = a * max_value(0, 1 - inner(x - ξ, x - ξ) / r**2)\n",
    "q_true = firedrake.Function(Q).interpolate(expr)"
   ]
  },
  {
   "cell_type": "code",
   "execution_count": null,
   "metadata": {},
   "outputs": [],
   "source": [
    "firedrake.trisurf(q_true);"
   ]
  },
  {
   "cell_type": "markdown",
   "metadata": {},
   "source": [
    "In order to make the effect most pronounced, we'll stick a blob of sources right next to this insulating patch."
   ]
  },
  {
   "cell_type": "code",
   "execution_count": null,
   "metadata": {},
   "outputs": [],
   "source": [
    "b = Constant(6.)\n",
    "R = Constant(1/4)\n",
    "η = Constant((0.7, 0.5))\n",
    "expr = b * max_value(0, 1 - inner(x - η, x - η) / R**2)\n",
    "f = firedrake.Function(V).interpolate(expr)"
   ]
  },
  {
   "cell_type": "code",
   "execution_count": null,
   "metadata": {},
   "outputs": [],
   "source": [
    "firedrake.trisurf(f);"
   ]
  },
  {
   "cell_type": "markdown",
   "metadata": {},
   "source": [
    "Once we pick a baseline value $k$ of the conductivity and the exchange coefficient $h$, we can compute the true solution.\n",
    "We'll take the exchange coefficient somewhat arbitrarily to be 10 in this unit system because it makes the results look nice enough."
   ]
  },
  {
   "cell_type": "code",
   "execution_count": null,
   "metadata": {},
   "outputs": [],
   "source": [
    "from firedrake import exp, grad, dx, ds\n",
    "k = Constant(1.)\n",
    "h = Constant(10.)\n",
    "u_true = firedrake.Function(V)\n",
    "v = firedrake.TestFunction(V)\n",
    "F = (\n",
    "    (k * exp(q_true) * inner(grad(u_true), grad(v)) - f * v) * dx +\n",
    "    h * (u_true - g) * v * ds\n",
    ")"
   ]
  },
  {
   "cell_type": "code",
   "execution_count": null,
   "metadata": {},
   "outputs": [],
   "source": [
    "opts = {\n",
    "    'solver_parameters': {\n",
    "        'ksp_type': 'preonly',\n",
    "        'pc_type': 'lu',\n",
    "        'pc_factor_mat_solver_type': 'mumps'\n",
    "    }\n",
    "}\n",
    "firedrake.solve(F == 0, u_true, **opts)"
   ]
  },
  {
   "cell_type": "code",
   "execution_count": null,
   "metadata": {},
   "outputs": [],
   "source": [
    "firedrake.trisurf(u_true);"
   ]
  },
  {
   "cell_type": "markdown",
   "metadata": {},
   "source": [
    "The true value of $u$ has a big hot spot in the insulating region, just as we expect."
   ]
  },
  {
   "cell_type": "markdown",
   "metadata": {},
   "source": [
    "### Generating the observational data\n",
    "\n",
    "For realistic problems, what we observe is the true solution plus some random noise $\\xi$:\n",
    "\n",
    "$$u_\\text{obs} = u_\\text{true} + \\xi.$$\n",
    "\n",
    "The ratio of the variance $\\sigma$ of the noise to some scale of the solution, e.g. $\\max_\\Omega u_\\text{true} - \\min_\\Omega u_\\text{true}$, will determine the degree of accuracy that we can expect in the inferred field.\n",
    "\n",
    "To make this experiment more realistic, we'll synthesize some observations by adding random noise to the true solution.\n",
    "We'll assume that the noise is spatially white, i.e. the covariance of the measurement errors is\n",
    "\n",
    "$$\\mathbb{E}[\\xi(x)\\xi(y)] = \\sigma^2\\delta(x - y)$$\n",
    "\n",
    "where $\\delta$ is the Dirac delta distribution.\n",
    "A naive approach would be to add a vector of normal random variables to the finite element expansion coefficients of the true solution, but this will fail for a subtle reason.\n",
    "Suppose that, at every point, the measurement errors $\\xi$ are normal with mean 0 and variance $\\sigma$.\n",
    "Letting $\\mathbb{E}$ denote statistical expectation, we should then have by Fubini's theorem that\n",
    "\n",
    "$$\\mathbb{E}\\left[\\int_\\Omega\\xi(x)^2dx\\right] = \\int_\\Omega\\mathbb{E}[\\xi(x)^2]dx = \\sigma^2\\cdot|\\Omega|.$$\n",
    "\n",
    "The naive approach to synthesizing the noise will give us the wrong value of the area-averaged variance."
   ]
  },
  {
   "cell_type": "code",
   "execution_count": null,
   "metadata": {},
   "outputs": [],
   "source": [
    "ξ = firedrake.Function(V)\n",
    "n = len(ξ.dat.data_ro)\n",
    "ξ.dat.data[:] = rng.standard_normal(n)\n",
    "\n",
    "firedrake.assemble(ξ**2 * dx)"
   ]
  },
  {
   "cell_type": "markdown",
   "metadata": {},
   "source": [
    "The \"right\" thing to do is:\n",
    "\n",
    "1. Compute the finite element mass matrix $M$\n",
    "2. Compute the Cholesky factorization $M = LL^*$\n",
    "3. Generate a standard normal random vector $z$\n",
    "4. The finite element expansion coefficients for the noise vector are\n",
    "\n",
    "$$\\hat\\xi = \\sigma\\sqrt{\\frac{|\\Omega|}{n}}L^{-*}z.$$\n",
    "\n",
    "You can show that this works out correctly by remembering that\n",
    "\n",
    "$$\\int_\\Omega\\xi^2dx = \\hat\\xi^*M\\hat\\xi.$$\n",
    "\n",
    "We'll have to do a bit of hacking with PETSc data structures directly in order to pull out one of the Cholesky factors of the mass matrix."
   ]
  },
  {
   "cell_type": "code",
   "execution_count": null,
   "metadata": {},
   "outputs": [],
   "source": [
    "from firedrake.petsc import PETSc\n",
    "ϕ, ψ = firedrake.TrialFunction(V), firedrake.TestFunction(V)\n",
    "m = inner(ϕ, ψ) * dx\n",
    "M = firedrake.assemble(m, mat_type='aij').M.handle\n",
    "ksp = PETSc.KSP().create()\n",
    "ksp.setOperators(M)\n",
    "ksp.setUp()\n",
    "pc = ksp.pc\n",
    "pc.setType(pc.Type.CHOLESKY)\n",
    "pc.setFactorSolverType(PETSc.Mat.SolverType.PETSC)\n",
    "pc.setFactorSetUpSolverType()\n",
    "L = pc.getFactorMatrix()\n",
    "pc.setUp()"
   ]
  },
  {
   "cell_type": "markdown",
   "metadata": {},
   "source": [
    "Since our domain is the unit square, it has an area of 1, but for good measure I'll include this just to show the correct thing to do."
   ]
  },
  {
   "cell_type": "code",
   "execution_count": null,
   "metadata": {},
   "outputs": [],
   "source": [
    "area = firedrake.assemble(Constant(1) * dx(mesh))"
   ]
  },
  {
   "cell_type": "code",
   "execution_count": null,
   "metadata": {},
   "outputs": [],
   "source": [
    "z = firedrake.Function(V)\n",
    "z.dat.data[:] = rng.standard_normal(n)\n",
    "with z.dat.vec_ro as Z:\n",
    "    with ξ.dat.vec as Ξ:\n",
    "        L.solveBackward(Z, Ξ)\n",
    "        Ξ *= np.sqrt(area / n)"
   ]
  },
  {
   "cell_type": "markdown",
   "metadata": {},
   "source": [
    "The error statistics are within spitting distance of the correct value of 1."
   ]
  },
  {
   "cell_type": "code",
   "execution_count": null,
   "metadata": {},
   "outputs": [],
   "source": [
    "firedrake.assemble(ξ**2 * dx) / area"
   ]
  },
  {
   "cell_type": "markdown",
   "metadata": {},
   "source": [
    "The answer isn't exactly equal to one, but averaged over a large number of trials or with a larger mesh it will approach it.\n",
    "Finally, we can make the \"observed\" data.\n",
    "We'll use a signal-to-noise ratio of 50, but it's worth tweaking this value and seeing how the inferred parameters change."
   ]
  },
  {
   "cell_type": "code",
   "execution_count": null,
   "metadata": {},
   "outputs": [],
   "source": [
    "û = u_true.dat.data_ro[:]\n",
    "signal = û.max() - û.min()\n",
    "signal_to_noise = 50\n",
    "σ = firedrake.Constant(signal / signal_to_noise)\n",
    "\n",
    "u_obs = u_true.copy(deepcopy=True)\n",
    "u_obs += σ * ξ"
   ]
  },
  {
   "cell_type": "markdown",
   "metadata": {},
   "source": [
    "The high-frequency noise you can see in the plot below is exactly what makes regularization necessary."
   ]
  },
  {
   "cell_type": "code",
   "execution_count": null,
   "metadata": {},
   "outputs": [],
   "source": [
    "firedrake.trisurf(u_obs);"
   ]
  },
  {
   "cell_type": "markdown",
   "metadata": {},
   "source": [
    "### Calculating derivatives\n",
    "\n",
    "Now we can import firedrake-adjoint.\n",
    "Under the hood, this will initialize the right data structures to calculate derivatives using the adjoint method, and we can even take a peek at those data structures."
   ]
  },
  {
   "cell_type": "code",
   "execution_count": null,
   "metadata": {},
   "outputs": [],
   "source": [
    "import firedrake.adjoint\n",
    "firedrake.adjoint.continue_annotation()"
   ]
  },
  {
   "cell_type": "markdown",
   "metadata": {},
   "source": [
    "We'll start with a fairly neutral initial guess that the log-conductivity $q$ is identically 0."
   ]
  },
  {
   "cell_type": "code",
   "execution_count": null,
   "metadata": {},
   "outputs": [],
   "source": [
    "q = firedrake.Function(Q)\n",
    "u = firedrake.Function(V)\n",
    "F = (\n",
    "    (k * exp(q) * inner(grad(u), grad(v)) - f * v) * dx +\n",
    "    h * (u - g) * v * ds\n",
    ")\n",
    "firedrake.solve(F == 0, u, **opts)"
   ]
  },
  {
   "cell_type": "markdown",
   "metadata": {},
   "source": [
    "The computed solution with a constant conductivity doesn't have the gigantic spike in the insulating region, so it's very easy to tell them apart.\n",
    "When the differences are really obvious it makes it easier to benchmark a putative solution procedure."
   ]
  },
  {
   "cell_type": "code",
   "execution_count": null,
   "metadata": {},
   "outputs": [],
   "source": [
    "firedrake.trisurf(u);"
   ]
  },
  {
   "cell_type": "markdown",
   "metadata": {},
   "source": [
    "Just to give a sense of how different the initial value of the observed field is from the true value, we can calculate the relative difference in the 2-norm:"
   ]
  },
  {
   "cell_type": "code",
   "execution_count": null,
   "metadata": {},
   "outputs": [],
   "source": [
    "print(firedrake.norm(u - u_true) / firedrake.norm(u_true))"
   ]
  },
  {
   "cell_type": "markdown",
   "metadata": {},
   "source": [
    "Now we can start having some fun with Firedrake's adjoint capabilities.\n",
    "A lot of what we're going to do can seem like magic and I often find it a little bewildering to have no idea what's going on under the hood.\n",
    "Much of this machinery works by overloading functionality within Firedrake and recording operations to a *tape*.\n",
    "The tape can then in effect be played backwards to perform reverse-mode automatic differentiation.\n",
    "You can access the tape explicitly from the Firedrake adjoint API, which conveniently provides functions to visualise the tape using [graphviz](https://graphviz.org/) or [NetworkX](https://networkx.org).\n",
    "The plot below shows the overall connectivity of the structure of the tape; you can query the nodes using NetworkX to get a better idea of what each one represents.\n",
    "This tape will grow and grow as we calculate more things and it's a common failure mode for an adjoint calculation to eat up all the system memory if you're not careful."
   ]
  },
  {
   "cell_type": "code",
   "execution_count": null,
   "metadata": {},
   "outputs": [],
   "source": [
    "import networkx\n",
    "tape = firedrake.adjoint.get_working_tape()\n",
    "graph = tape.create_graph(backend='networkx')\n",
    "fig, ax = plt.subplots()\n",
    "networkx.draw_kamada_kawai(graph, ax=ax);"
   ]
  },
  {
   "cell_type": "markdown",
   "metadata": {},
   "source": [
    "Hopefully this gives you some sense of how all this machinery works at a lower level.\n",
    "For more details you can see the [dolfin-adjoint](http://www.dolfin-adjoint.org/en/latest/) documentation, which has loads of commentary on both the math and the code by its author, Patrick Farrell.\n",
    "\n",
    "To start on solving the inverse problem, we're going to declare that $q$ is the *control variable*, i.e. it's the thing that want to optimize over, as opposed to the field $u$ that we can observe."
   ]
  },
  {
   "cell_type": "code",
   "execution_count": null,
   "metadata": {},
   "outputs": [],
   "source": [
    "q̂ = firedrake.adjoint.Control(q)"
   ]
  },
  {
   "cell_type": "markdown",
   "metadata": {},
   "source": [
    "Next we'll create the objective functional, which measures both the degree to which our computed solution $u$ differs from the true solution and the oscillations in our guess $q$.\n",
    "Normally, we might create a symbolic variable (a Firedrake `Form` type) that represents this functional.\n",
    "If we wanted to get an actual number out of this symbolic object, we would then call `assemble`.\n",
    "So it might stick out as unusual that we're assembling the form right away here."
   ]
  },
  {
   "cell_type": "code",
   "execution_count": null,
   "metadata": {},
   "outputs": [],
   "source": [
    "α = Constant(5e-2)\n",
    "J = firedrake.assemble(\n",
    "    0.5 * ((u - u_obs) / σ)**2 * dx +\n",
    "    0.5 * α**2 * inner(grad(q), grad(q)) * dx\n",
    ")"
   ]
  },
  {
   "cell_type": "markdown",
   "metadata": {},
   "source": [
    "In fact there's a bit of magic going under the hood; `J` isn't really a floating point number, but a more complex object defined within the pyadjoint package.\n",
    "The provenance of how this number is calculated is tracked through the adjoint tape."
   ]
  },
  {
   "cell_type": "code",
   "execution_count": null,
   "metadata": {},
   "outputs": [],
   "source": [
    "print(type(J))"
   ]
  },
  {
   "cell_type": "markdown",
   "metadata": {},
   "source": [
    "We can get an actual number out of this object by casting it to a `float`."
   ]
  },
  {
   "cell_type": "code",
   "execution_count": null,
   "metadata": {},
   "outputs": [],
   "source": [
    "print(float(J))"
   ]
  },
  {
   "cell_type": "markdown",
   "metadata": {},
   "source": [
    "The advantage of having this extra layer of indirection is that, as the control variable $q$ changes, so does $J$ and firedrake-adjoint will track the sensitivity under the hood for you.\n",
    "The next step is to somehow wire up this functional with the information that $u$ isn't really an independent variable, but rather a function of the control $q$.\n",
    "This is what the `ReducedFunctional` class does for us."
   ]
  },
  {
   "cell_type": "code",
   "execution_count": null,
   "metadata": {},
   "outputs": [],
   "source": [
    "Ĵ = firedrake.adjoint.ReducedFunctional(J, q̂)"
   ]
  },
  {
   "cell_type": "markdown",
   "metadata": {},
   "source": [
    "The reduced functional has a method to calculate its derivative with respect to the control variable."
   ]
  },
  {
   "cell_type": "code",
   "execution_count": null,
   "metadata": {},
   "outputs": [],
   "source": [
    "dĴ_dq = Ĵ.derivative()"
   ]
  },
  {
   "cell_type": "markdown",
   "metadata": {},
   "source": [
    "This method call is hiding some subtleties that are worth unpacking.\n",
    "The reduced functional $\\hat J$ is a differentiable mapping of the function space $Q$ into the real numbers.\n",
    "The derivative $d\\hat J/dq$ at a particular value of the control variable is an element of the dual space $Q^*$.\n",
    "As mathematicians, we grow accustomed to thinking of Hilbert spaces as being isometric to their duals.\n",
    "It's easy to forget that isometric does not mean identical; the mapping between primal and dual can be non-trivial.\n",
    "For example, suppose $Q$ is the Sobolev space $H^1(\\Omega)$.\n",
    "The dual space $H^{-1}(\\Omega)$ is isometric to the primal, *but* to evaluate the mapping between them, we have to solve an elliptic PDE.\n",
    "\n",
    "The Sobolev space $H^1(\\Omega)$ is a relatively tame one in the grand scheme of things.\n",
    "Real problems might involve controls in Banach spaces with no inner product structure at all.\n",
    "For example, the conductivity coefficient has to be bounded and positive, so we're probably looking in some cone in the space $L^\\infty(\\Omega)$.\n",
    "In general, conductivity fields can be discontinuous, although not wildly so.\n",
    "We might then want to look in the intersection of $L^\\infty$ with the space [$BV(\\Omega)$](https://en.wikipedia.org/wiki/Bounded_variation) of functions whose first derivatives are finite signed measures.\n",
    "\n",
    "Nonetheless, the discretization via finite elements can obscure the distinction between the primal and dual spaces.\n",
    "The control $q$ and the derivative $d\\hat J/dq$ contain within them a wad of data that happens to look the same: an array of floating point numbers, the size of which is equal to the number of vertices + the number of edges of the mesh for our P2 discretization.\n",
    "What's confusing is that these numbers don't mean the same thing.\n",
    "The array living under $q$ represents its coefficients in the finite element basis for the space $Q$, while the array for $d\\hat J/dq$ represents its coefficients in the *dual* basis.\n",
    "To get the action of $d\\hat J/dq$ on some perturbation field $\\phi$, we take the (Euclidean) dot product of the wads of data living underneath them.\n",
    "This is in distinct contrast to getting the inner product in, say, $L^2(\\Omega)$ of $\\phi$ with another function $\\psi$, where the inner product is instead calculated using the finite element mass matrix.\n",
    "\n",
    "So, where does that leave us?\n",
    "We need some way of mapping the dual space $Q^*$ back to the primal.\n",
    "This mapping is referred to in the literature as the **Riesz map** after the Riesz representation theorem.\n",
    "The laziest way we could possibly do so is to multiply $d\\hat J/dq$ by the inverse of the finite element mass matrix.\n",
    "Maybe we should instead use a 2nd-order elliptic operator; we assumed that the controls live in an $H^1$-conforming space.\n",
    "But for illustrative purposes the mass matrix will do fine.\n",
    "\n",
    "Under the hood, Firedrake automatically applies the mass matrix inverse for you.\n",
    "Let's try and peel back a layer of abstraction here.\n",
    "What if I want access to the raw value of the derivative, which really does live in the dual space?\n",
    "To access that, you can pass another option when you calculate derivatives.\n",
    "We can see the difference in the return types."
   ]
  },
  {
   "cell_type": "code",
   "execution_count": null,
   "metadata": {},
   "outputs": [],
   "source": [
    "print(type(dĴ_dq))\n",
    "print(type(Ĵ.derivative(options={\"riesz_representation\": None})))"
   ]
  },
  {
   "cell_type": "markdown",
   "metadata": {},
   "source": [
    "The second object is not a `Function` but rather a `Cofunction`, an element of the dual space.\n",
    "\n",
    "Keeping track of which quantities live in the primal space and which live in the dual space is one of the challenging parts of solving PDE-constrained optimization problems.\n",
    "Most publications on numerical optimization assume the problem is posed over Euclidean space.\n",
    "In that setting, there's no distinction between primal and dual.\n",
    "You can see this bias reflected in software packages that purport to solve numerical optimization problems.\n",
    "Almost none of them have support for supplying a matrix other than the identity that defines the dual pairing.\n",
    "The fact that a Sobolev space isn't identical to its dual has some unsettling consequences.\n",
    "For starters, the gradient descent method doesn't make sense over Sobolev spaces.\n",
    "If you can rely on the built-in optimization routines from pyadjoint, you'll largely be insulated from this problem.\n",
    "But if you've read this far there's a good chance that you'll have to roll your own solvers at some point in your life.\n",
    "To paraphrase the warning at gate of Plato's academy, let none ignorant of duality enter there."
   ]
  },
  {
   "cell_type": "markdown",
   "metadata": {},
   "source": [
    "### Solving the inverse problem\n",
    "\n",
    "Ok, screed over.\n",
    "Pyadjoint has an interface to the optimization package TAO which we can use to find a minimizer.\n",
    "Let's see how well we can recover the log-conductivity field.\n",
    "Here we're doing a bit of extra work to capture the output from TAO so that we can see how fast it converges."
   ]
  },
  {
   "cell_type": "code",
   "execution_count": null,
   "metadata": {},
   "outputs": [],
   "source": [
    "from tempfile import NamedTemporaryFile\n",
    "from firedrake.adjoint import MinimizationProblem\n",
    "from pyadjoint import TAOSolver\n",
    "\n",
    "with NamedTemporaryFile(suffix=\".txt\") as output_file:\n",
    "    inverse_problem = MinimizationProblem(Ĵ)\n",
    "    tao_options = {\n",
    "        \"tao_type\": \"ntr\",\n",
    "        \"tao_gatol\": 1e-5,\n",
    "        \"tao_monitor\": output_file.name,\n",
    "    }\n",
    "    inverse_solver = TAOSolver(\n",
    "        inverse_problem,\n",
    "        tao_options,\n",
    "        convert_options={\"riesz_representation\": \"L2\"},\n",
    "    )\n",
    "    q_opt = inverse_solver.solve()\n",
    "\n",
    "    convergence_log = output_file.read()"
   ]
  },
  {
   "cell_type": "markdown",
   "metadata": {},
   "source": [
    "Here I've done a bit of parsing of the text output."
   ]
  },
  {
   "cell_type": "code",
   "execution_count": null,
   "metadata": {},
   "outputs": [],
   "source": [
    "lines = convergence_log.decode().split(\"\\n\")[1:-1]\n",
    "function_vals = [float(line.split(\", \")[1][len(\"Function value: \"):]) for line in lines]\n",
    "gradient_vals = [float(line.split(\", \")[2][len(\"Residual: \"):]) for line in lines]"
   ]
  },
  {
   "cell_type": "markdown",
   "metadata": {},
   "source": [
    "The objective value convergences monotonically to the true minimum.\n",
    "The jagged curve is typical of trust region methods."
   ]
  },
  {
   "cell_type": "code",
   "execution_count": null,
   "metadata": {},
   "outputs": [],
   "source": [
    "fig, ax = plt.subplots()\n",
    "ax.set_xlabel(\"Iteration count\")\n",
    "ax.set_ylabel(\"Objective value\")\n",
    "ax.plot(function_vals);"
   ]
  },
  {
   "cell_type": "markdown",
   "metadata": {},
   "source": [
    "The objective gradient stays about the same magnitude for 40 iterations.\n",
    "After that it plummets.\n",
    "Note how the objective value decreases monotonically but the norm of the gradient does not."
   ]
  },
  {
   "cell_type": "code",
   "execution_count": null,
   "metadata": {},
   "outputs": [],
   "source": [
    "fig, ax = plt.subplots()\n",
    "ax.set_yscale(\"log\")\n",
    "ax.set_xlabel(\"Iteration count\")\n",
    "ax.set_ylabel(\"Gradient norm\")\n",
    "ax.plot(gradient_vals);"
   ]
  },
  {
   "cell_type": "markdown",
   "metadata": {},
   "source": [
    "Now let's look at the computed log-conductivity.\n",
    "The optimization procedure has correctly identified the drop in the conductivity of the medium to within our smoothness constraints."
   ]
  },
  {
   "cell_type": "code",
   "execution_count": null,
   "metadata": {},
   "outputs": [],
   "source": [
    "firedrake.trisurf(q_opt);"
   ]
  },
  {
   "cell_type": "markdown",
   "metadata": {},
   "source": [
    "Nonetheless, it's clear in the eyeball norm that the inferred field doesn't completely match the true one."
   ]
  },
  {
   "cell_type": "code",
   "execution_count": null,
   "metadata": {},
   "outputs": [],
   "source": [
    "firedrake.norm(q_opt - q_true) / firedrake.norm(q_true)"
   ]
  },
  {
   "cell_type": "markdown",
   "metadata": {},
   "source": [
    "What's a little shocking is the degree to which the computed state matches observations despite these departures.\n",
    "If we plot the computed $u$, it looks very similar to the true value."
   ]
  },
  {
   "cell_type": "code",
   "execution_count": null,
   "metadata": {},
   "outputs": [],
   "source": [
    "q.assign(q_opt)\n",
    "firedrake.solve(F == 0, u, **opts)"
   ]
  },
  {
   "cell_type": "code",
   "execution_count": null,
   "metadata": {},
   "outputs": [],
   "source": [
    "firedrake.trisurf(u);"
   ]
  },
  {
   "cell_type": "markdown",
   "metadata": {},
   "source": [
    "Moreover, if we compute the model-data misfit and weight it by the standard deviation of the measurement errors, we get a value that's roughly around 1/2."
   ]
  },
  {
   "cell_type": "code",
   "execution_count": null,
   "metadata": {},
   "outputs": [],
   "source": [
    "firedrake.assemble(0.5 * ((u - u_obs) / σ)**2 * dx)"
   ]
  },
  {
   "cell_type": "markdown",
   "metadata": {},
   "source": [
    "This value is about what we would expect from statistical estimation theory.\n",
    "Assuming $u$ is an unbiased estimator for the true value of the observable state, the quantity $((u - u^o) / \\sigma)^2$ is a $\\chi^2$ random variable.\n",
    "When we integrate over the whole domain and divide by the area (in this case 1), we're effectively summing over independent $\\chi^2$ variables and so we should get a value around 1/2.\n",
    "\n",
    "Recall that we used a measurement error $\\sigma$ that was about 2\\% of the true signal, which is pretty small.\n",
    "You can have an awfully good signal-to-noise ratio and yet only be able to infer the conductivity field to within a relative error of 1/4.\n",
    "These kinds of synthetic experiments are really invaluable for getting some perspective on how good of a result you can expect."
   ]
  }
 ],
 "metadata": {
  "kernelspec": {
   "display_name": "firedrake",
   "language": "python",
   "name": "firedrake"
  },
  "language_info": {
   "codemirror_mode": {
    "name": "ipython",
    "version": 3
   },
   "file_extension": ".py",
   "mimetype": "text/x-python",
   "name": "python",
   "nbconvert_exporter": "python",
   "pygments_lexer": "ipython3",
   "version": "3.11.9"
  },
  "nikola": {
   "category": "",
   "date": "2020-08-17 19:45:59 UTC-08:00",
   "description": "",
   "link": "",
   "slug": "inverse-problems",
   "tags": "",
   "title": "Inverse problems",
   "type": "text"
  }
 },
 "nbformat": 4,
 "nbformat_minor": 4
}
