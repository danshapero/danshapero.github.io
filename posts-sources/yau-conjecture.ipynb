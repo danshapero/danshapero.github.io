{
 "cells": [
  {
   "cell_type": "markdown",
   "metadata": {},
   "source": [
    "In the last post we looked at the distribution of eigenvalues of the Laplace operator; this time we'll look at eigenfunctions.\n",
    "As a reminder, a function $\\phi$ and a real number $\\lambda$ are an eigenfunction and eigenvalue of the Laplace operator on a domain $\\Omega$ if\n",
    "\n",
    "$$-\\Delta\\phi = \\lambda^2\\phi$$\n",
    "\n",
    "together with the Dirichlet boundary condition $\\phi|_{\\partial\\Omega} = 0$.\n",
    "I'm using a slightly different convention that emphasizes the positivity of the Laplace operator, and which gives the eigenvalues $\\lambda$ units of an inverse length.\n",
    "\n",
    "The eigenfunctions grow more and more oscillatory for larger values of $\\lambda$ and there are number of results that quantify this idea.\n",
    "A classical result is the *Courant nodal domain theorem*.\n",
    "The nodal domain theorem states that the zero set of the $n$-th eigenfunction of the Laplace operator divides the domain into at most $n$ regions, although the number of nodal domains can be less than $n$.\n",
    "Highly symmetric domains like the sphere or the torus provide interesting cases because, for these kinds of domains, you tend to get very degenerate eigenspaces.\n",
    "The Courant nodal domain theorem only gives a kind of upper bound on how oscillatory the eigenfunctions get, not a lower bound.\n",
    "\n",
    "To refine the concept a bit further, we'll do a little experiment to verify the *Yau conjecture*.\n",
    "The Yau conjecture states that, as $\\lambda \\to \\infty$, the area of the nodal set of $\\phi_\\lambda$ is bounded above and below a multiple of $\\lambda$:\n",
    "\n",
    "$$c\\lambda \\le \\text{area}(\\{\\phi_\\lambda = 0\\}) \\le C\\lambda.$$\n",
    "\n",
    "Donnelly and Fefferman proved the Yau conjecture for analytic manifolds (with and without boundary) in 1990.\n",
    "For smooth manifolds, Logunov announced a [proof](https://arxiv.org/abs/1605.02589) of the lower bound in May of 2019, but as far as I know the upper bound hasn't been resolved yet."
   ]
  },
  {
   "cell_type": "code",
   "execution_count": null,
   "metadata": {},
   "outputs": [],
   "source": [
    "import numpy as np\n",
    "from numpy import pi as π\n",
    "def add_ellipse(geometry, x, y, a, b, N, lcar):\n",
    "    θs = np.array([2 * π * n / N for n in range(N)])\n",
    "    xs, ys = x + a * np.cos(θs), y + b * np.sin(θs)\n",
    "    points = [geometry.add_point([x, y, 0], lcar=lcar) for x, y in zip(xs, ys)]\n",
    "    lines = [geometry.add_line(points[n], points[(n + 1) % N])\n",
    "             for n in range(N)]\n",
    "    \n",
    "    geometry.add_physical(lines)\n",
    "    line_loop = geometry.add_line_loop(lines)\n",
    "    return line_loop"
   ]
  },
  {
   "cell_type": "code",
   "execution_count": null,
   "metadata": {},
   "outputs": [],
   "source": [
    "import pygmsh\n",
    "geometry = pygmsh.built_in.Geometry()\n",
    "\n",
    "outer_line_loop = add_ellipse(geometry, x=0, y=0, a=2, b=1, N=256, lcar=1/4)\n",
    "inner_loops = [\n",
    "    add_ellipse(geometry, x=0, y=1/2, a=1/8, b=1/8, N=128, lcar=1/4),\n",
    "    add_ellipse(geometry, x=1/2, y=1/4, a=3/16, b=3/16, N=128, lcar=1/4),\n",
    "    add_ellipse(geometry, x=1, y=-1/4, a=1/4, b=1/4, N=192, lcar=1/4)\n",
    "]\n",
    "\n",
    "plane_surface = geometry.add_plane_surface(outer_line_loop, inner_loops)\n",
    "geometry.add_physical(plane_surface)\n",
    "\n",
    "with open('ellipse.geo', 'w') as geo_file:\n",
    "    geo_file.write(geometry.get_code())"
   ]
  },
  {
   "cell_type": "code",
   "execution_count": null,
   "metadata": {},
   "outputs": [],
   "source": [
    "!gmsh -2 -format msh2 -v 0 -o ellipse.msh ellipse.geo"
   ]
  },
  {
   "cell_type": "code",
   "execution_count": null,
   "metadata": {},
   "outputs": [],
   "source": [
    "import firedrake\n",
    "mesh = firedrake.Mesh('ellipse.msh')"
   ]
  },
  {
   "cell_type": "code",
   "execution_count": null,
   "metadata": {},
   "outputs": [],
   "source": [
    "import matplotlib.pyplot as plt\n",
    "fig, axes = plt.subplots()\n",
    "firedrake.triplot(mesh, axes=axes)\n",
    "axes.set_aspect('equal')\n",
    "axes.legend();"
   ]
  },
  {
   "cell_type": "code",
   "execution_count": null,
   "metadata": {},
   "outputs": [],
   "source": [
    "Q = firedrake.FunctionSpace(mesh, family='CG', degree=2)\n",
    "ϕ = firedrake.TestFunction(Q)\n",
    "ψ = firedrake.TrialFunction(Q)\n",
    "\n",
    "from firedrake import inner, grad, dx\n",
    "a = inner(grad(ϕ), grad(ψ)) * dx\n",
    "m = ϕ * ψ * dx\n",
    "\n",
    "bc = firedrake.DirichletBC(Q, 0, 'on_boundary')\n",
    "A = firedrake.assemble(a, bcs=bc).M.handle\n",
    "M = firedrake.assemble(m).M.handle"
   ]
  },
  {
   "cell_type": "markdown",
   "metadata": {},
   "source": [
    "Setting up the eigensolver is the same as before."
   ]
  },
  {
   "cell_type": "code",
   "execution_count": null,
   "metadata": {},
   "outputs": [],
   "source": [
    "from petsc4py import PETSc\n",
    "opts = PETSc.Options()\n",
    "opts.setValue('eps_gen_hermitian', None)\n",
    "opts.setValue('eps_target_real', None)\n",
    "opts.setValue('eps_smallest_real', None)\n",
    "opts.setValue('st_type', 'sinvert')\n",
    "opts.setValue('st_ksp_type', 'cg')\n",
    "opts.setValue('st_pc-type', 'jacobi')\n",
    "opts.setValue('eps_tol', 1e-8)"
   ]
  },
  {
   "cell_type": "code",
   "execution_count": null,
   "metadata": {},
   "outputs": [],
   "source": [
    "from slepc4py import SLEPc\n",
    "num_values = 250\n",
    "eigensolver = SLEPc.EPS().create(comm=firedrake.COMM_WORLD)\n",
    "eigensolver.setDimensions(num_values)\n",
    "eigensolver.setOperators(A, M)\n",
    "eigensolver.setFromOptions()\n",
    "eigensolver.solve()"
   ]
  },
  {
   "cell_type": "code",
   "execution_count": null,
   "metadata": {},
   "outputs": [],
   "source": [
    "num_converged = eigensolver.getConverged()\n",
    "print(num_converged)"
   ]
  },
  {
   "cell_type": "markdown",
   "metadata": {},
   "source": [
    "Now we need to use a bit of trickery to calculate the area of the zero contours:\n",
    "\n",
    "$$\\text{area}(\\{\\phi_\\lambda = 0\\}) = \\int_{\\{\\phi_\\lambda = 0\\}}ds.$$\n",
    "\n",
    "Firedrake doesn't have built-in support for integrating over interior contours of a domain that aren't already predefined when the mesh was generated, so we'll have to do something a little indirect.\n",
    "To evaluate this integral, I'll use the fact that the gradient of a smooth function is always perpendicular to its level sets.\n",
    "In particular, if $\\nu$ is the unit outward normal vector to the super-level set $\\{\\phi_\\lambda \\ge 0\\}$ and $u$ is any vector field such that $u \\cdot \\nu = 1$ along the region $\\{\\phi_\\lambda = 0\\}$, then\n",
    "\n",
    "$$\\int_{\\{\\phi_\\lambda = 0\\}}ds = \\int_{\\{\\phi_\\lambda = 0\\}}u\\cdot\\nu\\; ds = \\int_{\\{\\phi_\\lambda \\ge 0\\}}\\nabla\\cdot u\\; dx.$$\n",
    "\n",
    "Now we know that\n",
    "\n",
    "$$\\nu = -\\frac{\\nabla\\phi_\\lambda}{|\\nabla\\phi_\\lambda|},$$\n",
    "\n",
    "so it's enough to take\n",
    "\n",
    "$$u = -\\frac{\\nabla\\phi_\\lambda}{|\\nabla\\phi_\\lambda|}.$$\n",
    "\n",
    "This vector field is well-defined except at critical points of the eigenfunction.\n",
    "If we wanted to be extra careful we could include a fudge factor somewhere in the denominator, but that doesn't seem to be necessary to get a sensible answer."
   ]
  },
  {
   "cell_type": "code",
   "execution_count": null,
   "metadata": {},
   "outputs": [],
   "source": [
    "from firedrake import sqrt, div, dS\n",
    "ϕ = firedrake.Function(Q)\n",
    "sign = firedrake.conditional(ϕ >= 0, 1, 0) - firedrake.conditional(ϕ <= 0, 1, 0)\n",
    "u = -grad(ϕ) / sqrt(inner(grad(ϕ), grad(ϕ))) * sign\n",
    "ν = firedrake.FacetNormal(mesh)\n",
    "J = 0.5 * div(u) * dx\n",
    "\n",
    "lengths = np.zeros(num_values)\n",
    "for index in range(num_values):\n",
    "    Vr, Vi = A.getVecs()\n",
    "    λ = eigensolver.getEigenpair(index, Vr, Vi)\n",
    "    ϕ.vector()[:] = Vr\n",
    "    lengths[index] = firedrake.assemble(J)"
   ]
  },
  {
   "cell_type": "code",
   "execution_count": null,
   "metadata": {},
   "outputs": [],
   "source": [
    "Es = np.array([eigensolver.getEigenvalue(k) for k in range(num_values)]).real\n",
    "λs = np.sqrt(Es)"
   ]
  },
  {
   "cell_type": "markdown",
   "metadata": {},
   "source": [
    "The plot of the wavenumber against the lengths of the nodal sets looks pretty close to linear in the eyeball norm!"
   ]
  },
  {
   "cell_type": "code",
   "execution_count": null,
   "metadata": {},
   "outputs": [],
   "source": [
    "area = firedrake.assemble(firedrake.Constant(1) * dx(mesh))\n",
    "\n",
    "import matplotlib.pyplot as plt\n",
    "fig, axes = plt.subplots()\n",
    "axes.plot(λs, lengths, label='nodal set length')\n",
    "axes.plot(λs, λs * area / π, label='lower bound')\n",
    "axes.legend()\n",
    "axes.set_xlabel('$\\lambda$')\n",
    "axes.set_ylabel('area($\\{\\phi_\\lambda = 0\\}$)');"
   ]
  },
  {
   "cell_type": "markdown",
   "metadata": {},
   "source": [
    "I made a bit of a wild guess here for what the lower bound $c$ is.\n",
    "The area of the nodal sets has units of length${}^{d - 1}$ and the eigenvalues $\\lambda$ have units of length${}^{-1}$.\n",
    "So for the constants $c, C$ to be dimensionally correct, they would need to have units of length${}^d$, which suggests that they're proportional to the volume of the domain.\n",
    "I get a pretty reasonable lower bound by dividing by $\\pi$, which of course happens to be the volume of the unit disk in $\\mathbb{R}^2$.\n",
    "It would be a fun experiment to see how well this holds up for other domains or higher dimensions."
   ]
  }
 ],
 "metadata": {
  "kernelspec": {
   "display_name": "firedrake",
   "language": "python",
   "name": "firedrake"
  },
  "language_info": {
   "codemirror_mode": {
    "name": "ipython",
    "version": 3
   },
   "file_extension": ".py",
   "mimetype": "text/x-python",
   "name": "python",
   "nbconvert_exporter": "python",
   "pygments_lexer": "ipython3",
   "version": "3.8.3"
  },
  "nikola": {
   "category": "",
   "date": "2019-11-03 20:55:04 UTC-08:00",
   "description": "",
   "link": "",
   "slug": "yau-conjecture",
   "tags": "",
   "title": "Yau's Conjecture",
   "type": "text"
  }
 },
 "nbformat": 4,
 "nbformat_minor": 2
}
