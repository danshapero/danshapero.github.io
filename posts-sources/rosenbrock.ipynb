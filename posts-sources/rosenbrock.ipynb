{
 "cells": [
  {
   "cell_type": "markdown",
   "metadata": {},
   "source": [
    "In the previous demo, we looked at a few spatial and temporal discretizations of the nonlinear shallow water equations.\n",
    "One of the challenging parts about solving systems of hyperbolic PDE like the shallow water equations is choosing a timestep that satisfies the Courant-Friedrichs-Lewy condition.\n",
    "You can pick a good timestep ahead of time for a linear autonomous system.\n",
    "A nonlinear system, on the other hand, might wander into weird parts of phase space where the characteristic wave speeds are much higher.\n",
    "You might be able to pick a good timestep from the outset, but it's likely to be overly conservative and waste loads of compute time.\n",
    "The tyranny of the CFL condition is the reason why it's such a common grumble among practitioners that ocean models explode if you look at them sideways.\n",
    "\n",
    "All of the timestepping schemes we used in the previous demo were Runge-Kutta methods, which look something like this:\n",
    "\n",
    "$$z_{n + 1} = z_n + \\delta t\\cdot \\sum_ib_ik_i$$\n",
    "\n",
    "where $b_i$ are weights and the stages $k_i$ are defined as\n",
    "\n",
    "$$k_i = f\\left(z_n + \\delta t\\sum_ja_{ij}k_j\\right).$$\n",
    "\n",
    "For the method to be explicit, we would need that $a_{ij} = 0$ if $j \\ge i$.\n",
    "You can find all the conditions for a Runge-Kutta method to have a certain order of accuracy in time in books like Hairer and Wanner.\n",
    "\n",
    "Implicit Runge-Kutta schemes can eliminate many of the frustrating stability issues that occur with explicit schemes.\n",
    "Implicit methods can use timesteps that far exceed the CFL-stable timestep.\n",
    "But they introduce the added complexity of having to solve a nonlinear system at every timestep.\n",
    "What globalization strategy will you use for Newton's method?\n",
    "What preconditioner will you use in solving the associated linear systems?\n",
    "These are all decisions you didn't have to make before.\n",
    "It's possible to reduce some of the pain and suffering by using schemes for which $a_{ii}$ can be nonzero but $a_{ij} = 0$ if $j > 0$ -- these are the *diagonally-implicit* Runge-Kutta schemes.\n",
    "Rather than have to solve a gigantic nonlinear system for all of the stages $k_i$ at once, you only have to solve a sequence of nonlinear systems for each stage.\n",
    "\n",
    "The idea behind Rosenbrock methods is to **perform only a single iteration of Newton's method** for the nonlinear system defining the Runge-Kutta stages, rather than actually solve that system to convergence.\n",
    "There are two heuristic justifications for Rosenbrock schemes.\n",
    "First, a scheme like implicit Euler is only first-order accurate in time anyway, so there isn't much reason to do a really accurate nonlinear system solve as part of a fairly crude timestepping scheme.\n",
    "Second, for a timestep that isn't too much larger than the characteristic timescale of the problem, the current system state is probably either in the quadratic convergence basin for Newton's method or at least fairly close.\n",
    "\n",
    "More general Rosenbrock schemes follow from this idea.\n",
    "The best reference I've found is one of the original papers on the subject, [Kaps and Rentrop (1979)](https://doi.org/10.1007/BF01396495).\n",
    "This paper shows more general schemes in this family, derives the order conditions for the various weights and parameters, and perhaps most importantly derives an embedded Rosenbrock scheme that can be used for adaptive timestep control.\n",
    "Here we'll show one of the most basic schemes, which comes from taking a single Newton step for the implicit midpoint rule."
   ]
  },
  {
   "cell_type": "markdown",
   "metadata": {},
   "source": [
    "### Setup\n",
    "\n",
    "All of this is copied from the previous demo, so I'll give only cursory explanations."
   ]
  },
  {
   "cell_type": "code",
   "execution_count": null,
   "metadata": {},
   "outputs": [],
   "source": [
    "import firedrake\n",
    "from firedrake import Constant\n",
    "g = Constant(9.81)\n",
    "I = firedrake.Identity(2)"
   ]
  },
  {
   "cell_type": "markdown",
   "metadata": {},
   "source": [
    "The following functions compute symbolic representations of the various shallow water fluxes."
   ]
  },
  {
   "cell_type": "code",
   "execution_count": null,
   "metadata": {},
   "outputs": [],
   "source": [
    "from firedrake import inner, grad, dx\n",
    "def cell_flux(z):\n",
    "    Z = z.function_space()\n",
    "    h, q = firedrake.split(z)\n",
    "    ϕ, v = firedrake.TestFunctions(Z)\n",
    "    \n",
    "    f_h = -inner(q, grad(ϕ)) * dx\n",
    "\n",
    "    F = outer(q, q) / h + 0.5 * g * h**2 * I\n",
    "    f_q = -inner(F, grad(v)) * dx\n",
    "\n",
    "    return f_h + f_q"
   ]
  },
  {
   "cell_type": "code",
   "execution_count": null,
   "metadata": {},
   "outputs": [],
   "source": [
    "from firedrake import avg, outer, dS\n",
    "def central_facet_flux(z):\n",
    "    Z = z.function_space()\n",
    "    h, q = firedrake.split(z)\n",
    "    ϕ, v = firedrake.TestFunctions(Z)\n",
    "    \n",
    "    mesh = z.ufl_domain()\n",
    "    n = firedrake.FacetNormal(mesh)\n",
    "\n",
    "    f_h = inner(avg(q), ϕ('+') * n('+') + ϕ('-') * n('-')) * dS\n",
    "\n",
    "    F = outer(q, q) / h + 0.5 * g * h**2 * I\n",
    "    f_q = inner(avg(F), outer(v('+'), n('+')) + outer(v('-'), n('-'))) * dS\n",
    "    \n",
    "    return f_h + f_q"
   ]
  },
  {
   "cell_type": "code",
   "execution_count": null,
   "metadata": {},
   "outputs": [],
   "source": [
    "from firedrake import sqrt, max_value\n",
    "def lax_friedrichs_facet_flux(z):\n",
    "    Z = z.function_space()\n",
    "    h, q = firedrake.split(z)\n",
    "    ϕ, v = firedrake.TestFunctions(Z)\n",
    "    \n",
    "    mesh = h.ufl_domain()\n",
    "    n = firedrake.FacetNormal(mesh)\n",
    "    \n",
    "    c = abs(inner(q / h, n)) + sqrt(g * h)\n",
    "    α = avg(c)\n",
    "    \n",
    "    f_h = -α * (h('+') - h('-')) * (ϕ('+') - ϕ('-')) * dS\n",
    "    f_q = -α * inner(q('+') - q('-'), v('+') - v('-')) * dS\n",
    "\n",
    "    return f_h + f_q"
   ]
  },
  {
   "cell_type": "code",
   "execution_count": null,
   "metadata": {},
   "outputs": [],
   "source": [
    "def topographic_forcing(z, b):\n",
    "    Z = z.function_space()\n",
    "    h = firedrake.split(z)[0]\n",
    "    v = firedrake.TestFunctions(Z)[1]\n",
    "\n",
    "    return -g * h * inner(grad(b), v) * dx"
   ]
  },
  {
   "cell_type": "markdown",
   "metadata": {},
   "source": [
    "For an explicit time discretization and a DG method in space, we can use an ILU preconditioner with a block Jacobi inner preconditioner and this will exactly invert the DG mass matrix."
   ]
  },
  {
   "cell_type": "code",
   "execution_count": null,
   "metadata": {},
   "outputs": [],
   "source": [
    "block_parameters = {\n",
    "    'ksp_type': 'preonly',\n",
    "    'pc_type': 'ilu',\n",
    "    'sub_pc_type': 'bjacobi'\n",
    "}\n",
    "\n",
    "parameters = {\n",
    "    'solver_parameters': {\n",
    "        'ksp_type': 'preonly',\n",
    "        'pc_type': 'fieldsplit',\n",
    "        'fieldsplit_0': block_parameters,\n",
    "        'fieldsplit_1': block_parameters\n",
    "    }\n",
    "}"
   ]
  },
  {
   "cell_type": "code",
   "execution_count": null,
   "metadata": {},
   "outputs": [],
   "source": [
    "from firedrake import (\n",
    "    NonlinearVariationalProblem as Problem,\n",
    "    NonlinearVariationalSolver as Solver\n",
    ")\n",
    "\n",
    "class SSPRK3:\n",
    "    def __init__(self, state, equation):\n",
    "        z = state.copy(deepcopy=True)\n",
    "        dt = firedrake.Constant(1.0)\n",
    "        \n",
    "        num_stages = 3\n",
    "        zs = [state.copy(deepcopy=True) for stage in range(num_stages)]\n",
    "        Fs = [equation(z), equation(zs[0]), equation(zs[1])]\n",
    "        \n",
    "        Z = z.function_space()\n",
    "        w = firedrake.TestFunction(Z)\n",
    "        forms = [\n",
    "            inner(zs[0] - z, w) * dx - dt * Fs[0],\n",
    "            inner(zs[1] - (3 * z + zs[0]) / 4, w) * dx - dt / 4 * Fs[1],\n",
    "            inner(zs[2] - (z + 2 * zs[1]) / 3, w) * dx - 2 * dt / 3 * Fs[2]\n",
    "        ]\n",
    "        \n",
    "        problems = [Problem(form, zk) for form, zk in zip(forms, zs)]\n",
    "        solvers = [Solver(problem, **parameters) for problem in problems]\n",
    "        \n",
    "        self.state = z\n",
    "        self.stages = zs\n",
    "        self.timestep = dt\n",
    "        self.solvers = solvers\n",
    "    \n",
    "    def step(self, timestep):\n",
    "        self.timestep.assign(timestep)\n",
    "        for solver in self.solvers:\n",
    "            solver.solve()\n",
    "        self.state.assign(self.stages[-1])"
   ]
  },
  {
   "cell_type": "markdown",
   "metadata": {},
   "source": [
    "We'll create some auxiliary functions to actually run the simulation and create an animation of it."
   ]
  },
  {
   "cell_type": "code",
   "execution_count": null,
   "metadata": {},
   "outputs": [],
   "source": [
    "import tqdm\n",
    "\n",
    "def run_simulation(solver, final_time, num_steps, output_freq):\n",
    "    hs, qs = [], []\n",
    "    qs = []\n",
    "    pbar = tqdm.trange(num_steps)\n",
    "    for step in pbar:\n",
    "        if step % output_freq == 0:\n",
    "            h, q = solver.state.split()\n",
    "            hmin, hmax = h.dat.data_ro.min(), h.dat.data_ro.max()\n",
    "            pbar.set_description(f'{hmin:5.3f}, {hmax:5.3f}')\n",
    "            hs.append(h.copy(deepcopy=True))\n",
    "            qs.append(q.copy(deepcopy=True))\n",
    "\n",
    "        solver.step(timestep)\n",
    "    \n",
    "    return hs, qs"
   ]
  },
  {
   "cell_type": "code",
   "execution_count": null,
   "metadata": {},
   "outputs": [],
   "source": [
    "import matplotlib.pyplot as plt\n",
    "from matplotlib.animation import FuncAnimation\n",
    "from IPython.display import HTML\n",
    "\n",
    "def make_animation(hs, b, timestep, output_freq, **kwargs):\n",
    "    fig, axes = plt.subplots()\n",
    "    axes.set_aspect('equal')\n",
    "    axes.set_xlim((0.0, Lx))\n",
    "    axes.set_ylim((0.0, Ly))\n",
    "    axes.get_xaxis().set_visible(False)\n",
    "    axes.get_yaxis().set_visible(False)\n",
    "    η = firedrake.project(hs[0] + b, hs[0].function_space())\n",
    "    colors = firedrake.tripcolor(\n",
    "        hs[0], num_sample_points=1, axes=axes, **kwargs\n",
    "    )\n",
    "    \n",
    "    def animate(h):\n",
    "        η.project(h + b)\n",
    "        colors.set_array(η.dat.data_ro[:])\n",
    "\n",
    "    interval = 1e3 * output_freq * timestep\n",
    "    animation = FuncAnimation(fig, animate, frames=hs, interval=interval)\n",
    "    \n",
    "    plt.close(fig)\n",
    "    return HTML(animation.to_html5_video())"
   ]
  },
  {
   "cell_type": "markdown",
   "metadata": {},
   "source": [
    "### Rosenbrock scheme\n",
    "\n",
    "The implementation of the Rosenbrock scheme is fairly similar to the other timestepping methods we've shown before, but we have an extra term in the variational problem describing the linearization of the dynamics.\n",
    "We're also making the initializer take some extra arguments for solver parameters.\n",
    "When we were using explicit schemes, there was really only one sane choice of solver parameters because the matrix we had to invert was just a DG mass matrix.\n",
    "Here, the choice of iterative solvers and preconditioners can become much more involved, as we'll show later."
   ]
  },
  {
   "cell_type": "code",
   "execution_count": null,
   "metadata": {},
   "outputs": [],
   "source": [
    "from firedrake import derivative\n",
    "class Rosenbrock:\n",
    "    def __init__(self, state, equation, solver_parameters=None):\n",
    "        z = state.copy(deepcopy=True)\n",
    "        F = equation(z)\n",
    "        \n",
    "        z_n = z.copy(deepcopy=True)\n",
    "        Z = z.function_space()\n",
    "        w = firedrake.TestFunction(Z)\n",
    "\n",
    "        dt = firedrake.Constant(1.0)\n",
    "\n",
    "        dF = derivative(F, z, z_n - z)\n",
    "        problem = Problem(\n",
    "            inner(z_n - z, w) * dx - dt / 2 * dF - dt * F,\n",
    "            z_n\n",
    "        )\n",
    "        solver = Solver(problem, solver_parameters=solver_parameters)\n",
    "\n",
    "        self.state = z\n",
    "        self.next_state = z_n\n",
    "        self.timestep = dt\n",
    "        self.solver = solver\n",
    "        \n",
    "    def step(self, timestep):\n",
    "        self.timestep.assign(timestep)\n",
    "        self.solver.solve()\n",
    "        self.state.assign(self.next_state)"
   ]
  },
  {
   "cell_type": "markdown",
   "metadata": {},
   "source": [
    "### Demonstration\n",
    "\n",
    "We'll use the same input data and function spaces as before -- BDFM(2) for the momentum and DG(1) for the thickness."
   ]
  },
  {
   "cell_type": "code",
   "execution_count": null,
   "metadata": {},
   "outputs": [],
   "source": [
    "nx, ny = 32, 32\n",
    "Lx, Ly = 20., 20.\n",
    "mesh = firedrake.PeriodicRectangleMesh(\n",
    "    nx, ny, Lx, Ly, diagonal='crossed'\n",
    ")\n",
    "\n",
    "x = firedrake.SpatialCoordinate(mesh)\n",
    "lx = 5.\n",
    "y = Constant((lx, lx))\n",
    "r = Constant(2.5)\n",
    "\n",
    "h_0 = Constant(1.)\n",
    "δh = Constant(1/16)\n",
    "h_expr = h_0 + δh * max_value(0, 1 - inner(x - y, x - y) / r**2)\n",
    "\n",
    "y = Constant((3 * lx, 3 * lx))\n",
    "δb = Constant(1/4)\n",
    "b = δb * max_value(0, 1 - inner(x - y, x - y) / r**2)"
   ]
  },
  {
   "cell_type": "code",
   "execution_count": null,
   "metadata": {},
   "outputs": [],
   "source": [
    "DG1 = firedrake.FunctionSpace(mesh, family='DG', degree=1)\n",
    "BDFM2 = firedrake.FunctionSpace(mesh, family='BDFM', degree=2)\n",
    "Z = DG1 * BDFM2"
   ]
  },
  {
   "cell_type": "code",
   "execution_count": null,
   "metadata": {},
   "outputs": [],
   "source": [
    "z0 = firedrake.Function(Z)\n",
    "z0.sub(0).project(h_expr - b);"
   ]
  },
  {
   "cell_type": "code",
   "execution_count": null,
   "metadata": {},
   "outputs": [],
   "source": [
    "def F(z):\n",
    "    return (\n",
    "        cell_flux(z) +\n",
    "        central_facet_flux(z) +\n",
    "        lax_friedrichs_facet_flux(z) -\n",
    "        topographic_forcing(z, b)\n",
    "    )"
   ]
  },
  {
   "cell_type": "markdown",
   "metadata": {},
   "source": [
    "##### SSPRK(3)\n",
    "\n",
    "To get a baseline solution, we'll use the SSPRK(3) scheme from before."
   ]
  },
  {
   "cell_type": "code",
   "execution_count": null,
   "metadata": {},
   "outputs": [],
   "source": [
    "solver = SSPRK3(z0, F)"
   ]
  },
  {
   "cell_type": "code",
   "execution_count": null,
   "metadata": {},
   "outputs": [],
   "source": [
    "final_time = 10.0\n",
    "timestep = 5e-3\n",
    "num_steps = int(final_time / timestep)\n",
    "output_freq = 10\n",
    "hs, qs = run_simulation(solver, final_time, num_steps, output_freq)"
   ]
  },
  {
   "cell_type": "code",
   "execution_count": null,
   "metadata": {},
   "outputs": [],
   "source": [
    "make_animation(\n",
    "    hs, b, timestep, output_freq, shading='gouraud', vmin=0.96, vmax=1.04\n",
    ")"
   ]
  },
  {
   "cell_type": "code",
   "execution_count": null,
   "metadata": {},
   "outputs": [],
   "source": [
    "energies_ssprk3 = [\n",
    "    firedrake.assemble(\n",
    "        0.5 * (inner(q, q) / h + g * (h + b)**2) * dx\n",
    "    )\n",
    "    for h, q in zip(hs, qs)\n",
    "]\n",
    "\n",
    "fig, axes = plt.subplots()\n",
    "axes.plot(energies_ssprk3);"
   ]
  },
  {
   "cell_type": "markdown",
   "metadata": {},
   "source": [
    "So that we have a number to compare against for later, we can calculate the total energy drift from the beginning to the end of the simulation:"
   ]
  },
  {
   "cell_type": "code",
   "execution_count": null,
   "metadata": {},
   "outputs": [],
   "source": [
    "energies_ssprk3[-1] - energies_ssprk3[0]"
   ]
  },
  {
   "cell_type": "markdown",
   "metadata": {},
   "source": [
    "##### Rosenbrock\n",
    "\n",
    "Now let's see how the new scheme scheme fares."
   ]
  },
  {
   "cell_type": "code",
   "execution_count": null,
   "metadata": {},
   "outputs": [],
   "source": [
    "solver = Rosenbrock(z0, F)"
   ]
  },
  {
   "cell_type": "markdown",
   "metadata": {},
   "source": [
    "We can use a much longer timestep than we could with explicit methods."
   ]
  },
  {
   "cell_type": "code",
   "execution_count": null,
   "metadata": {},
   "outputs": [],
   "source": [
    "final_time = 10.0\n",
    "timestep = 50e-3\n",
    "num_steps = int(final_time / timestep)\n",
    "output_freq = 1\n",
    "hs, qs = run_simulation(solver, final_time, num_steps, output_freq)"
   ]
  },
  {
   "cell_type": "markdown",
   "metadata": {},
   "source": [
    "A subtle but interesting feature you can see in this animation is that the spurious wave emanating from the bump at the bed has a much smaller magnitude with the Rosenbrock scheme than with any of the explicit schemes."
   ]
  },
  {
   "cell_type": "code",
   "execution_count": null,
   "metadata": {},
   "outputs": [],
   "source": [
    "make_animation(\n",
    "    hs, b, timestep, output_freq, shading='gouraud', vmin=0.96, vmax=1.04\n",
    ")"
   ]
  },
  {
   "cell_type": "markdown",
   "metadata": {},
   "source": [
    "The energy drift is cut by a factor of 5 compared to using an explicit scheme.\n",
    "On top of that, we were able to achieve it using much larger timesteps than were CFL-stable before, and as a consequence the overall time for the simulation is shorter."
   ]
  },
  {
   "cell_type": "code",
   "execution_count": null,
   "metadata": {},
   "outputs": [],
   "source": [
    "energies_rosenbrock = [\n",
    "    firedrake.assemble(\n",
    "        0.5 * (inner(q, q) / h + g * (h + b)**2) * dx\n",
    "    )\n",
    "    for h, q in zip(hs, qs)\n",
    "]\n",
    "\n",
    "fig, axes = plt.subplots()\n",
    "axes.plot(energies_rosenbrock);"
   ]
  },
  {
   "cell_type": "code",
   "execution_count": null,
   "metadata": {},
   "outputs": [],
   "source": [
    "energies_rosenbrock[-1] - energies_rosenbrock[0]"
   ]
  },
  {
   "cell_type": "markdown",
   "metadata": {},
   "source": [
    "**FIXME**: the statement above was from the last time I updated this in ~2022.\n",
    "The results from SSPRK3 got better and from Rosenbrock worse on a more recent Firedrake install.\n",
    "I should probably investigate this and figure out what's different."
   ]
  },
  {
   "cell_type": "markdown",
   "metadata": {},
   "source": [
    "### Conclusion\n",
    "\n",
    "In the previous post, we showed some of the difficulties associated with solving the shallow water equations.\n",
    "The two biggest problems we ran into were getting a CFL-stable timestep and controlling energy drift.\n",
    "Rosenbrock schemes almost eliminate stability problems and decimate the drift as well.\n",
    "While they are substantially more expensive for a single timestep, there are a lot of gains to be had by using a better preconditioner.\n",
    "On top of that, we can gain other efficiencies by approximating the linearized dynamics with a matrix that's easier to invert."
   ]
  }
 ],
 "metadata": {
  "kernelspec": {
   "display_name": "firedrake",
   "language": "python",
   "name": "firedrake"
  },
  "language_info": {
   "codemirror_mode": {
    "name": "ipython",
    "version": 3
   },
   "file_extension": ".py",
   "mimetype": "text/x-python",
   "name": "python",
   "nbconvert_exporter": "python",
   "pygments_lexer": "ipython3",
   "version": "3.7.4"
  },
  "nikola": {
   "category": "",
   "date": "2020-12-22 10:32:00 UTC-07:00",
   "description": "",
   "link": "",
   "slug": "rosenbrock",
   "tags": "",
   "title": "Rosenbrock schemes",
   "type": "text"
  }
 },
 "nbformat": 4,
 "nbformat_minor": 4
}
