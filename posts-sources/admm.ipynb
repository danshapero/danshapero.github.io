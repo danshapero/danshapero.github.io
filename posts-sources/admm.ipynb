{
 "cells": [
  {
   "cell_type": "markdown",
   "metadata": {},
   "source": [
    "In the [previous post](/posts/total-variation/), I showed how to use Moreau-Yosida regularization for inverse problems with non-smooth regularization functionals.\n",
    "Specifically, we were looking at the total variation functional\n",
    "\n",
    "$$R(q) = \\alpha\\int_\\Omega|\\nabla q|dx$$\n",
    "\n",
    "as a regularizer, which promotes solutions that are piecewise constant on sets with relatively nice-looking boundary curves.\n",
    "Rather than try to minimize this functional directly, we instead used a smooth approximation, which in many cases is good enough.\n",
    "The smooth approximation is based on penalty-type methods, and one distinct disadvantage of penalty methods is that they tend to wreck the conditioning of the problem.\n",
    "This poor conditioning manifests itself as a multiple order-of-magnitude imbalance in the different terms in the objective.\n",
    "To minimize the objective accurately, say through a line search procedure, you have to do so with an accuracy that matches the magnitude of the smallest term.\n",
    "\n",
    "In another previous post on [Nitsche's method](/posts/nitsches-method/), I looked at how the pure quadratic penalty method compared to the *augmented Lagrangian* method for imposing Dirichlet boundary conditions.\n",
    "Here we'll proceed in a similar vein: what happens if we go from using a pure penalty method to using an augmented Lagrangian scheme?\n",
    "\n",
    "### Generating the exact data\n",
    "\n",
    "We'll use the exact same problem as in the previous post on total variation regularization -- a random Fourier series for the boundary data, a quadratic blob for the forcing, and a discontinuous conductivity coefficient."
   ]
  },
  {
   "cell_type": "code",
   "execution_count": null,
   "metadata": {},
   "outputs": [],
   "source": [
    "import firedrake\n",
    "mesh = firedrake.UnitSquareMesh(32, 32, diagonal='crossed')\n",
    "Q = firedrake.FunctionSpace(mesh, 'CG', 2)\n",
    "V = firedrake.FunctionSpace(mesh, 'CG', 2)"
   ]
  },
  {
   "cell_type": "code",
   "execution_count": null,
   "metadata": {},
   "outputs": [],
   "source": [
    "import numpy as np\n",
    "from numpy import random, pi as π\n",
    "x = firedrake.SpatialCoordinate(mesh)\n",
    "\n",
    "rng = random.default_rng(seed=1)\n",
    "def random_fourier_series(std_dev, num_modes, exponent):\n",
    "    from firedrake import sin, cos\n",
    "    A = std_dev * rng.standard_normal((num_modes, num_modes))\n",
    "    B = std_dev * rng.standard_normal((num_modes, num_modes))\n",
    "    return sum([(A[k, l] * sin(π * (k * x[0] + l * x[1])) +\n",
    "                 B[k, l] * cos(π * (k * x[0] + l * x[1])))\n",
    "                / (1 + (k**2 + l**2)**(exponent/2))\n",
    "                for k in range(num_modes)\n",
    "                for l in range(int(np.sqrt(num_modes**2 - k**2)))])"
   ]
  },
  {
   "cell_type": "code",
   "execution_count": null,
   "metadata": {},
   "outputs": [],
   "source": [
    "from firedrake import Function\n",
    "g = Function(V).interpolate(random_fourier_series(1.0, 6, 1))"
   ]
  },
  {
   "cell_type": "code",
   "execution_count": null,
   "metadata": {},
   "outputs": [],
   "source": [
    "from firedrake import inner, max_value, conditional, Constant\n",
    "a = -Constant(4.5)\n",
    "r = Constant(1/4)\n",
    "ξ = Constant((0.4, 0.5))\n",
    "q_true = Function(Q).interpolate(a * conditional(inner(x - ξ, x - ξ) < r**2, 1, 0))"
   ]
  },
  {
   "cell_type": "code",
   "execution_count": null,
   "metadata": {},
   "outputs": [],
   "source": [
    "firedrake.trisurf(q_true);"
   ]
  },
  {
   "cell_type": "code",
   "execution_count": null,
   "metadata": {},
   "outputs": [],
   "source": [
    "b = Constant(6.)\n",
    "R = Constant(1/4)\n",
    "η = Constant((0.7, 0.5))\n",
    "f = Function(V).interpolate(b * max_value(0, 1 - inner(x - η, x - η) / R**2))"
   ]
  },
  {
   "cell_type": "code",
   "execution_count": null,
   "metadata": {},
   "outputs": [],
   "source": [
    "from firedrake import exp, grad, dx, ds\n",
    "k = Constant(1.)\n",
    "h = Constant(10.)\n",
    "u_true = Function(V)\n",
    "v = firedrake.TestFunction(V)\n",
    "F = (\n",
    "    (k * exp(q_true) * inner(grad(u_true), grad(v)) - f * v) * dx +\n",
    "    h * (u_true - g) * v * ds\n",
    ")"
   ]
  },
  {
   "cell_type": "code",
   "execution_count": null,
   "metadata": {},
   "outputs": [],
   "source": [
    "opts = {\n",
    "    'solver_parameters': {\n",
    "        'ksp_type': 'preonly',\n",
    "        'pc_type': 'lu',\n",
    "        'pc_factor_mat_solver_type': 'mumps',\n",
    "    },\n",
    "}\n",
    "firedrake.solve(F == 0, u_true, **opts)"
   ]
  },
  {
   "cell_type": "code",
   "execution_count": null,
   "metadata": {},
   "outputs": [],
   "source": [
    "firedrake.trisurf(u_true);"
   ]
  },
  {
   "cell_type": "markdown",
   "metadata": {},
   "source": [
    "### Generating the observational data\n",
    "\n",
    "To create the synthetic observations, we'll once again need to call out directly to PETSc to get a random field with the right error statistics when using a higher-order finite element approximation."
   ]
  },
  {
   "cell_type": "code",
   "execution_count": null,
   "metadata": {},
   "outputs": [],
   "source": [
    "ξ = Function(V)\n",
    "n = len(ξ.dat.data_ro)\n",
    "ξ.dat.data[:] = rng.standard_normal(n)"
   ]
  },
  {
   "cell_type": "code",
   "execution_count": null,
   "metadata": {},
   "outputs": [],
   "source": [
    "from firedrake import assemble\n",
    "from firedrake.petsc import PETSc\n",
    "ϕ, ψ = firedrake.TrialFunction(V), firedrake.TestFunction(V)\n",
    "m = inner(ϕ, ψ) * dx\n",
    "M = assemble(m, mat_type='aij').M.handle\n",
    "ksp = PETSc.KSP().create()\n",
    "ksp.setOperators(M)\n",
    "ksp.setUp()\n",
    "pc = ksp.pc\n",
    "pc.setType(pc.Type.CHOLESKY)\n",
    "pc.setFactorSolverType(PETSc.Mat.SolverType.PETSC)\n",
    "pc.setFactorSetUpSolverType()\n",
    "L = pc.getFactorMatrix()\n",
    "pc.setUp()"
   ]
  },
  {
   "cell_type": "code",
   "execution_count": null,
   "metadata": {},
   "outputs": [],
   "source": [
    "area = assemble(Constant(1) * dx(mesh))"
   ]
  },
  {
   "cell_type": "code",
   "execution_count": null,
   "metadata": {},
   "outputs": [],
   "source": [
    "z = Function(V)\n",
    "z.dat.data[:] = rng.standard_normal(n)\n",
    "with z.dat.vec_ro as Z:\n",
    "    with ξ.dat.vec as Ξ:\n",
    "        L.solveBackward(Z, Ξ)\n",
    "        Ξ *= np.sqrt(area / n)"
   ]
  },
  {
   "cell_type": "code",
   "execution_count": null,
   "metadata": {},
   "outputs": [],
   "source": [
    "û = u_true.dat.data_ro[:]\n",
    "signal = û.max() - û.min()\n",
    "signal_to_noise = 50\n",
    "σ = firedrake.Constant(signal / signal_to_noise)\n",
    "\n",
    "u_obs = u_true.copy(deepcopy=True)\n",
    "u_obs += σ * ξ"
   ]
  },
  {
   "cell_type": "markdown",
   "metadata": {},
   "source": [
    "### Solution via ADMM\n",
    "\n",
    "To motivate ADMM, it helps to understand the augmented Lagrangian method.\n",
    "There are two basic ways to solve equality-constrained optimization problems: the Lagrange multiplier method and the penalty method.\n",
    "The augmented Lagrangian method uses both a Lagrange multiplier and a quadratic penalty, which astonishingly works much better than either the pure Lagrange multiplier or penalty methods.\n",
    "ADMM is based on using the augmented Lagrangian method with a consensus constraint to split out non-smooth problems.\n",
    "Specifically, we want to find a minimizer of the functional\n",
    "\n",
    "$$J(q) = E(G(q) - u^o) + \\alpha\\int_\\Omega|\\nabla q|\\, dx$$\n",
    "\n",
    "where $E$ is the model-data misfit and $G$ is the solution operator for the problem\n",
    "\n",
    "$$F(u, q) = 0.$$\n",
    "\n",
    "If $F$ is continuously differentiable with respect to both of its arguments and the linearization with respect to $u$ is invertible, then the implicit function theorem in Banach spaces tells us that such a solution operator $u = G(q)$ exists.\n",
    "Minimizing this functional $J(q)$ is more challenging than the case where we used the $H^1$-norm to regularize the problem because the total variation functional is non-smooth.\n",
    "In the previous post, we showed how to work around this challenge by using Moreau-Yosida regularization.\n",
    "You can motivate Moreau-Yosida regularization by introducing an auxiliary vector field $v$ and imposing the constraint that $v = \\nabla q$ by a quadratic penalty method.\n",
    "We can then solve for $v$ exactly because we know analytically what the proximal operator for the 1-norm is.\n",
    "The resulting functional upon eliminating $v$ is the Moreau-Yosida regularized form.\n",
    "\n",
    "The idea behind ADMM is to instead use an augmented Lagrangian -- combining both the classical method of Lagrange multipliers with the quadratic penalty method -- to enforce the constraint that $v = \\nabla q$.\n",
    "This gives us the augmented Lagrangian\n",
    "\n",
    "$$\\begin{align}\n",
    "L_\\rho(q, v, \\mu) & = E(G(q) - u^o) + \\alpha\\int_\\Omega|v|\\, dx \\\\\n",
    "& \\qquad + \\rho\\alpha^2\\int_\\Omega\\left(\\mu\\cdot(\\nabla q - v) + \\frac{1}{2}|\\nabla q - v|^2\\right)dx.\n",
    "\\end{align}$$\n",
    "\n",
    "If you've seen ADMM before, you might notice that we've scaled the penalty parameter a bit.\n",
    "We put in an extra factor of $\\alpha^2$ with the penalty term $\\|\\nabla q - v\\|^2$ and an extra factor of $\\rho\\alpha^2$ with the Lagrange multiplier $\\mu$ so that it has the same units as both $\\nabla q$ and $v$.\n",
    "In order to highlight the connection with Moreau-Yosida regularization, we'll do a slight rearrangement by completing the square:\n",
    "\n",
    "$$\\begin{align}\n",
    "L_\\rho(q, v, \\mu) & = E(G(q) - u^o) + \\alpha\\int_\\Omega|v|\\, dx \\\\\n",
    "& \\qquad + \\frac{\\rho\\alpha^2}{2}\\int_\\Omega\\left\\{|\\nabla q + \\mu - v|^2 - |\\mu|^2\\right\\}dx.\n",
    "\\end{align}$$\n",
    "\n",
    "If we look at the parts of the Lagrangian involving only $v$, we get something that looks a lot like Moreau-Yosida regularization of the $L^1$ norm, only the argument to be evaluated at is $\\nabla q + \\mu$.\n",
    "Likewise, if we look at the parts of the Lagrangian involving only $q$, we have something that looks exactly like $H^1$ regularization, only with the regularization centered around $v - \\mu$ instead of around 0.\n",
    "\n",
    "Each iteration of the method will proceed in three steps:\n",
    "\n",
    "1. Minimize $L_\\rho$ with respect to $q$ only.\n",
    "This step is very similar to using the squared $H^1$-norm for regularization but for the fact that we're not regularizing around 0, but rather around $v - \\mu$.\n",
    "2. Minimize $L_\\rho$ with respect to $v$:\n",
    "$$v \\leftarrow \\text{soft threshold}_{\\rho\\alpha}(\\nabla q + \\mu)$$\n",
    "3. Perform a gradient ascent step for $\\mu$:\n",
    "$$\\mu \\leftarrow \\mu + \\nabla q - v$$\n",
    "\n",
    "The final gradient ascent step for $\\mu$ seemed a little bit mysterious to me at first.\n",
    "Ultimately the whole problem is a saddle point problem for $\\mu$, so intuitively it made sense to me that gradient ascent would move you in the right direction.\n",
    "I still felt in my gut that you should have to do some more sophisticated kind of update for $\\mu$.\n",
    "So I fell down a deep rabbit hole trying to understanding why the augmented Lagrangian method actually works.\n",
    "The usual references like Nocedal and Wright are deafeningly silent on this issue; the only source I could find that gave a decent explanation was [Nonlinear Programming](http://www.athenasc.com/nonlinbook.html) by Bertsekas.\n",
    "You could just believe me that step 3 is the right thing to do, but the reasons why are not at all trivial!"
   ]
  },
  {
   "cell_type": "code",
   "execution_count": null,
   "metadata": {},
   "outputs": [],
   "source": [
    "from firedrake.adjoint import (\n",
    "    Control, ReducedFunctional, MinimizationProblem, ROLSolver\n",
    ")"
   ]
  },
  {
   "cell_type": "markdown",
   "metadata": {},
   "source": [
    "First, we'll solve the forward problem with our blunt initial guess for the solution.\n",
    "Under the hood, pyadjoint will tape this operation, thus allowing us to correctly calculate the derivative of the objective functional later."
   ]
  },
  {
   "cell_type": "code",
   "execution_count": null,
   "metadata": {},
   "outputs": [],
   "source": [
    "firedrake.adjoint.continue_annotation()\n",
    "q = Function(Q)\n",
    "u = Function(V)\n",
    "F = (\n",
    "    (k * exp(q) * inner(grad(u), grad(v)) - f * v) * dx +\n",
    "    h * (u - g) * v * ds\n",
    ")\n",
    "forward_problem = firedrake.NonlinearVariationalProblem(F, u)\n",
    "forward_solver = firedrake.NonlinearVariationalSolver(forward_problem, **opts)\n",
    "forward_solver.solve()"
   ]
  },
  {
   "cell_type": "code",
   "execution_count": null,
   "metadata": {},
   "outputs": [],
   "source": [
    "firedrake.trisurf(u);"
   ]
  },
  {
   "cell_type": "markdown",
   "metadata": {},
   "source": [
    "These variables will store the values of the auxiliary field $v$ and the multiplier $\\mu$ that enforces the constraint $v = \\nabla q$.\n",
    "An interesting question that I haven't seen addressed anywhere in the literature on total variation regularization is what finite element basis to use for $v$ and $\\mu$.\n",
    "Here we're using the usual continuous Lagrange basis of degree 1, which seems to work.\n",
    "I've also tried this with discontinuous basis functions and hte estimates for $v$ and $\\mu$ seem to have oscillatory garbage.\n",
    "I have a hunch that some bases won't work because they fail to satisfy the [LBB](https://en.wikipedia.org/wiki/Ladyzhenskaya%E2%80%93Babu%C5%A1ka%E2%80%93Brezzi_condition) conditions.\n",
    "I have another hunch that it would be fun to repeat this experiment with some kind of H(curl)-conforming element for $v$ and $\\mu$, but for now we'll just stick with CG(1)."
   ]
  },
  {
   "cell_type": "code",
   "execution_count": null,
   "metadata": {},
   "outputs": [],
   "source": [
    "Δ = firedrake.VectorFunctionSpace(mesh, 'CG', 1)\n",
    "v = Function(Δ)\n",
    "μ = Function(Δ)"
   ]
  },
  {
   "cell_type": "markdown",
   "metadata": {},
   "source": [
    "At first, $v$ and $\\mu$ are zero.\n",
    "So when we start the iteration, the first value of $q$ that we'll compute is just what we would have found had we used $H^1$-regularization.\n",
    "We'll start with the ADMM penalty of $\\rho = 1$ and we'll use the same regularization penalty of $\\alpha = 1 / 20$ that we used in the previous demo."
   ]
  },
  {
   "cell_type": "code",
   "execution_count": null,
   "metadata": {},
   "outputs": [],
   "source": [
    "α = Constant(5e-2)\n",
    "ρ = Constant(1.0)"
   ]
  },
  {
   "cell_type": "markdown",
   "metadata": {},
   "source": [
    "Next we'll execute a few steps of the ADMM algorithm.\n",
    "I picked the number of iterations out of a hat.\n",
    "You should use an actual stopping criterion if you care about doing this right."
   ]
  },
  {
   "cell_type": "code",
   "execution_count": null,
   "metadata": {},
   "outputs": [],
   "source": [
    "rol_options = {\n",
    "    \"Step\": {\n",
    "        \"Type\": \"Line Search\",\n",
    "        \"Line Search\": {\"Descent Method\": {\"Type\": \"Quasi-Newton Step\"}},\n",
    "    },\n",
    "    \"Status Test\": {\n",
    "        \"Gradient Tolerance\": 1e-4,\n",
    "        \"Step Tolerance\": 1e-4,\n",
    "        \"Iteration Limit\": 500,\n",
    "    },\n",
    "    \"General\": {\n",
    "        \"Print Verbosity\": 0,\n",
    "        \"Secant\": {\"Type\": \"Limited-Memory BFGS\", \"Maximum Storage\": 10},\n",
    "    },\n",
    "}"
   ]
  },
  {
   "cell_type": "code",
   "execution_count": null,
   "metadata": {},
   "outputs": [],
   "source": [
    "from firedrake import sqrt\n",
    "from tqdm.notebook import trange\n",
    "\n",
    "qs = [q.copy(deepcopy=True)]\n",
    "vs = [v.copy(deepcopy=True)]\n",
    "μs = [μ.copy(deepcopy=True)]\n",
    "\n",
    "num_steps = 15\n",
    "for step in trange(num_steps):\n",
    "    # Step 1: Solve the inverse problem for q.\n",
    "    J = assemble(\n",
    "        0.5 * ((u - u_obs) / σ)**2 * dx +\n",
    "        0.5 * ρ * α**2 * inner(grad(q) + μ - v, grad(q) + μ - v) * dx\n",
    "    )\n",
    "\n",
    "    q̂ = Control(q)\n",
    "    Ĵ = ReducedFunctional(J, q̂)\n",
    "    inverse_problem = MinimizationProblem(Ĵ)\n",
    "    inverse_solver = ROLSolver(inverse_problem, rol_options, inner_product=\"L2\")\n",
    "    q_opt = inverse_solver.solve()\n",
    "    q.assign(q_opt)\n",
    "    forward_solver.solve()\n",
    "\n",
    "    # Step 2: soft thresholding for v.\n",
    "    z = grad(q) + μ\n",
    "    expr = conditional(\n",
    "        (ρ * α) ** 2 * inner(z, z) < 1,\n",
    "        Constant((0, 0)),\n",
    "        (1 - 1 / (ρ * α * sqrt(inner(z, z)))) * z\n",
    "    )\n",
    "    v.project(expr)\n",
    "\n",
    "    # Step 3: gradient ascent for μ.\n",
    "    μ.project(μ + grad(q) - v)\n",
    "\n",
    "    qs.append(q.copy(deepcopy=True))\n",
    "    vs.append(v.copy(deepcopy=True))\n",
    "\n",
    "firedrake.adjoint.pause_annotation()"
   ]
  },
  {
   "cell_type": "markdown",
   "metadata": {},
   "source": [
    "The resulting computed value of $q$ does a great job capturing all of the sharp edges in $q$, despite the fact that we use a penalty parameter of $\\rho = 1$.\n",
    "When we used the pure penalty method in the previous demo, we had to take the penalty parameter to be on the order of 400.\n",
    "The inverse solver took much longer to converge and we still missed some of the edges."
   ]
  },
  {
   "cell_type": "code",
   "execution_count": null,
   "metadata": {},
   "outputs": [],
   "source": [
    "import matplotlib.pyplot as plt\n",
    "fig, axes = plt.subplots()\n",
    "colors = firedrake.tripcolor(q, axes=axes)\n",
    "fig.colorbar(colors);"
   ]
  },
  {
   "cell_type": "markdown",
   "metadata": {},
   "source": [
    "The split variable $v$ matches the gradient of $q$ quite well."
   ]
  },
  {
   "cell_type": "code",
   "execution_count": null,
   "metadata": {},
   "outputs": [],
   "source": [
    "fig, axes = plt.subplots()\n",
    "colors = firedrake.tripcolor(v, axes=axes)\n",
    "fig.colorbar(colors);"
   ]
  },
  {
   "cell_type": "markdown",
   "metadata": {},
   "source": [
    "Finally, let's look at the relative changes in successive iterates of $q$ in the 1-norm at each step in order to get an idea of how fast the method converges."
   ]
  },
  {
   "cell_type": "code",
   "execution_count": null,
   "metadata": {},
   "outputs": [],
   "source": [
    "δs = [\n",
    "    assemble(abs(q2 - q1) * dx) / assemble(abs(q2) * dx)\n",
    "    for q1, q2 in zip(qs[:-1], qs[1:])\n",
    "]"
   ]
  },
  {
   "cell_type": "code",
   "execution_count": null,
   "metadata": {},
   "outputs": [],
   "source": [
    "fig, axes = plt.subplots()\n",
    "axes.set_yscale('log')\n",
    "axes.set_ylabel('Relative change in $q$')\n",
    "axes.set_xlabel('Iteration')\n",
    "axes.plot(δs);"
   ]
  },
  {
   "cell_type": "markdown",
   "metadata": {},
   "source": [
    "Some iterations seem to hardly advance the solution at all, but when taken in aggregate this looks like the typical convergence of a first-order method."
   ]
  },
  {
   "cell_type": "markdown",
   "metadata": {},
   "source": [
    "### Discussion\n",
    "\n",
    "Much like the pure penalty method, the alternating direction method of multipliers offers a way to solve certain classes of non-smooth optimization problem by instead solving a sequence of smooth ones.\n",
    "ADMM, by introducing an explicit Lagrange multiplier estimate to enforce the consensus constraint, offers much faster convergence than the pure penalty method and the size of the penalty parameter does not need to go off to infinity.\n",
    "As a consequence, each of the smooth optimization problems that we have to solve has much better conditioning.\n",
    "\n",
    "For this test case, we were able to take the penalty parameter $\\rho$ to be equal to 1 from the outset and still obtain a good convergence rate.\n",
    "For more involved problems it's likely that we would instead have to test for convergence with a given value of $\\rho$ and increase it by some factor greater than 1 if need be.\n",
    "Scaling this penalty parameter by an appropriate power of the regularization parameter $\\alpha$ ahead of time makes it dimensionless.\n",
    "This property is especially advantageous for realistic problems but it requires you to know something about the objective you're minimizing.\n",
    "\n",
    "There are obvious grid imprinting artifacts in the solution that we computed.\n",
    "To remedy this undesirable feature, we could use a mesh adaptation strategy that would refine (preferably anisotropically) along any sharp gradients in $q$.\n",
    "\n",
    "Finally, we motivated ADMM by assuming that we could take an $L^2$-norm difference of $v$ and $\\nabla q$.\n",
    "The idealized, infinite-dimensional version of the problem assumes only that $q$ lives in the space $BV(\\Omega)$ of functions of bounded variation.\n",
    "The gradient of such a function is a finite, signed Borel measure, and thus may not live in $L^2$ at all.\n",
    "[Hintermüller et al. (2014)](https://doi.org/10.1088/0266-5611/30/5/055014) gives an alternative formulation based on the dual problem, which has the right coercivity properties for Moreau-Yosida regularization to make sense.\n",
    "It's possible that the form I presented here falls afoul of some subtle functional analysis and that the solutions exhibit strong mesh dependence under refinement.\n",
    "Alternatively, it's possible that, while $v$ and $\\nabla q$ only live in the space of finite signed measures and thus are not square integrable, their difference $\\nabla q - v$ does live in $L^2$.\n",
    "Investigating this more will have to wait for another day."
   ]
  }
 ],
 "metadata": {
  "kernelspec": {
   "display_name": "firedrake",
   "language": "python",
   "name": "firedrake"
  },
  "language_info": {
   "codemirror_mode": {
    "name": "ipython",
    "version": 3
   },
   "file_extension": ".py",
   "mimetype": "text/x-python",
   "name": "python",
   "nbconvert_exporter": "python",
   "pygments_lexer": "ipython3",
   "version": "3.11.9"
  },
  "nikola": {
   "category": "",
   "date": "2021-04-28 15:36:39 UTC-07:00",
   "description": "",
   "link": "",
   "slug": "admm",
   "tags": "",
   "title": "ADMM",
   "type": "text"
  }
 },
 "nbformat": 4,
 "nbformat_minor": 4
}
